{
 "cells": [
  {
   "cell_type": "markdown",
   "id": "b679b64a-fde4-492c-a2be-78c1c68ba2fa",
   "metadata": {},
   "source": [
    "# Is Black-Box Modeling the Future of Macroeconomic Forecasting?"
   ]
  },
  {
   "cell_type": "markdown",
   "id": "2ab38521-f505-40c5-b56d-e4d0b36f6f9d",
   "metadata": {},
   "source": [
    "Sahil Nisar (sn3028@nyu.edu)\n",
    "\n",
    "Suniya Raza (sr5748@nyu.edu)\n",
    "\n",
    "Vinicius Moreira (vgm236@nyu.edu)\n",
    "\n",
    "Graduate School of Arts and Science (GSAS) at New York University (NYU)\n",
    "\n",
    "2022"
   ]
  },
  {
   "cell_type": "markdown",
   "id": "2accd4f7-2b08-411a-9016-ff9b99614eca",
   "metadata": {},
   "source": [
    "PLACEHOLDER FOR SUMMARY"
   ]
  },
  {
   "cell_type": "code",
   "execution_count": 22,
   "id": "98bb378e-82a2-46a6-97c5-609e595e2251",
   "metadata": {},
   "outputs": [],
   "source": [
    "#Packages\n",
    "import fredapi as fa\n",
    "import pandas as pd\n",
    "import numpy as np\n",
    "from sklearn.decomposition import PCA\n",
    "import statsmodels.api as sm\n",
    "import matplotlib.pyplot as plt\n",
    "import sklearn\n",
    "import math\n",
    "from statsmodels.tsa.api import ExponentialSmoothing, SimpleExpSmoothing, Holt\n",
    "from pandas.plotting import autocorrelation_plot\n",
    "from statsmodels.tsa.stattools import adfuller\n",
    "from statsmodels.tsa.api import VAR\n",
    "from statsmodels.tsa.stattools import adfuller\n",
    "from statsmodels.tools.eval_measures import rmse, aic\n",
    "\n",
    "%matplotlib inline"
   ]
  },
  {
   "cell_type": "markdown",
   "id": "cdd6165c-13b8-4cb1-a886-b4c11cb4dfcf",
   "metadata": {
    "tags": []
   },
   "source": [
    "## 1. Introduction "
   ]
  },
  {
   "cell_type": "markdown",
   "id": "df091dc1-9a9f-4229-9690-120feb0cb3ec",
   "metadata": {},
   "source": [
    "Forecasting macroeconomic and financial variables has always been a challenge, especially since this requires forecasters to make discretionary choices about the data and methodology. Even though most choices have their basis in economic intuition and judgment, there is a high possibility that the assumptions made could be flawed. This concern has been aggravated especially due to the inability of traditional methods to accurately perform during unprecedented times such as the global financial crises in 2008 or the recent COVID-19 pandemic. The predictors and models that have proved to be useful for predictions in normal times have failed to generate appropriate insights during the time of crises. "
   ]
  },
  {
   "cell_type": "markdown",
   "id": "5b46fb7f-e480-453d-9b40-f7d90aaf5e3d",
   "metadata": {},
   "source": [
    "Machine Learning (ML) techniques on the other hand, automate most of the choices regarding model selection and specifications, allowing the algorithm to learn from the data without any programmer explicitly specifying every step in the model. The ability of Machine Learning techniques to identify the non-linearities that exist in data series as well as how variables interact with each other, has contributed to the predictive power of these models. In today’s world, machine learning algorithms are successfully and widely used for sales forecasting, predicting stock prices, designing banking softwares to detect frauds and by search engines to make personalized recommendations based on search history. The discretionary nature of traditional forecasting models as well as the high predictive power of ML techniques has led macroeconomic forecasters to turn their attention to the development and application of Machine Learning techniques to forecast the macroeconomic variables. Moreover, with increased availability of “big data” in economics, the development of machine learning techniques for macroeconomic forecasting is turning out to be promising."
   ]
  },
  {
   "cell_type": "markdown",
   "id": "485a6bcc-3887-410d-a8a5-8e6f7302b1c7",
   "metadata": {},
   "source": [
    "While the formulation of the machine learning techniques dates to the 1950’s, its application to macroeconomics is still in the development phase. This has a lot to do with the fact that the predictive power of the ML algorithms is contingent on the availability of data. The frequency with which most of the key macroeconomic variables are reported is quarterly, and that limits the number of observations available to make good predictions using the ML algorithms. To put things in perspective, the data on stock prices is updated in real time which means that the available observations are in abundance. However, with the evolution of time, enough data has accumulated to make use of ML for macroeconomic forecasting."
   ]
  },
  {
   "cell_type": "markdown",
   "id": "2324d591-e1dc-4e48-85dd-20904593caaf",
   "metadata": {},
   "source": [
    "In this paper, we aim to provide a comparative analysis of the traditional time series models with the machine learning models to forecast the US Gross Domestic Product (GDP) growth rate. GDP is the total amount of goods and services produced within the confines of the country in the specified period. It is generally considered to be a good proxy for the wealth of the economy and hence drives a lot of decision-making processes (Provost and Fawcett, 2013). This makes GDP forecasting a key and a relevant issue in macroeconomics. In this research, we aim to study varying classical time series and machine learning algorithms and apply them to forecast US real GDP growth rate. The goal is to assess the performance of each of these models and understand which model provides the best and robust forecast in the specified setting. "
   ]
  },
  {
   "cell_type": "markdown",
   "id": "8ca693e9-c237-455a-8fe2-16cd729bb4b2",
   "metadata": {},
   "source": [
    "For the classical time series models, we have mainly used the Auto-Regressive (AR), Moving-Average (MA), Auto-Regressive-Integrated-Moving-Average (ARIMA) and Seasonal ARIMAX (SARIMAX). For the Machine Learning models, we have used the K-Nearest Neighbor (KNN), Random Forest, Neural Networks, Principal Component Analysis (PCA) and the Dynamic Factor Model. Finally, to assess the performance of the models we have used the Root Mean Squared Error (RMSE). We are particularly interested in observing the accuracy of the estimates provided by each of our models for the specified forecasting horizon. "
   ]
  },
  {
   "cell_type": "markdown",
   "id": "7fb7611c-a565-4ddb-abde-197689321167",
   "metadata": {},
   "source": [
    "\n",
    "The rest of the paper is organized as follows: Section 2 dives deeper into the existing literature available on the application of machine learning in macro forecasting, Section 3 provides some insights into the summary statistics of the data used, Section 4 lays out our forecasting methods and specifications, Section 5 demonstrates our empirical results and analysis, Section 6 talks about the limitations of our models and Section 6 concludes."
   ]
  },
  {
   "cell_type": "markdown",
   "id": "c6c249f4-665f-45fe-9fe9-b0d5692fd7b3",
   "metadata": {},
   "source": [
    "Further details and code of the models and transformation used can be found in this GitHub link: https://github.com/vgm236/Special_Project_Moreira_Raza-Nisar."
   ]
  },
  {
   "cell_type": "markdown",
   "id": "562b62d8-6e65-4ee9-a9a1-a02055049d18",
   "metadata": {},
   "source": [
    "## 2. Literature Review"
   ]
  },
  {
   "cell_type": "markdown",
   "id": "7fb65ed6-e114-45ef-9877-557b76976816",
   "metadata": {},
   "source": [
    "The intersection of Machine Learning (ML) with econometrics has recently gained prominence in macroeconomic application, especially due to the increase in the availability of large datasets. Even though only recently there has been a surge in the number of studies which apply ML techniques for macroeconomic forecasting (cite), machine learning does have a long history in macro-econometrics. "
   ]
  },
  {
   "cell_type": "markdown",
   "id": "2fa0e5ef-4870-4628-82ae-d8be5ae0232a",
   "metadata": {},
   "source": [
    "A 1993 study tested the adequacy of using linear models for forecasting time series by using a popular ML model, Neural Networks to check for neglected non-linearities in time series. The results showed that neural network test performs as well or better than standard tests and helps prove the presence of non-linearities in data series (Lee et al. (1993)). Swanson and White also use Artificial Neural Networks and other linear models to evaluate how useful these approaches are to predict nine macroeconomic variables (Swanson and White (1997)). "
   ]
  },
  {
   "cell_type": "markdown",
   "id": "dc8787d8-8ecb-4d4d-b29e-709871a1d76a",
   "metadata": {},
   "source": [
    "A 1999 working paper has also tested the forecasting performance of neural network model in predicting GDP at 1-quarter and 4-qaurter forecast horizons, with only the 4-quarter horizon results showing statistically significant forecasting accuracy over linear model counterparts (Tkacz and Hu (1999-2003), cite ). Similarly, another paper focused on using neural networks to forecast Canada’s real GDP growth and concluded that for both in-sample and out-of-sample periods, this model performed better than the traditional linear regression models. However, in this case the author was unable to prove that the improvement in forecasting accuracy was statistically significant (Gonzalez, 2000-2007, cite). "
   ]
  },
  {
   "cell_type": "markdown",
   "id": "286b77bc-e9d6-4e3a-8ce7-616c5a5cac29",
   "metadata": {},
   "source": [
    "In recent years, the interest in neural networks has increased because of its potential to identify and reproduce linear and non-linear relationships among a set of variables. A recent paper by researchers at the Federal Reserve Bank of Kansas City has explored the potential of deep neural networks in improving the forecasting accuracy of macroeconomic variables, despite the existence of limited data. The results show that the model outperforms benchmark models at forecasting civilian unemployment at short horizons (Cook et all, 2017). In our research, we aim to explore this ML technique using recent data of GDP growth rates, especially in context to shocks such as the financial crises and the COVID-19 pandemic. "
   ]
  },
  {
   "cell_type": "markdown",
   "id": "33f47f2c-47f8-4e0f-80c7-d30b390295d8",
   "metadata": {},
   "source": [
    "Another technique, the non-parametric K Nearest Neighbor (KNN) is one of the oldest and most researched ML models and is known for its consistency property (Stone(1977)). KNN has the ability to identify repeated patterns within time series and is widely used in financial time series modeling (Ban et all (2013)). KNN has gained popularity in predicting macroeconomic variables, since it retains its consistency properties even in cases of limited past information i.e., few data points. As compared to other artificial intelligence methods, which require a minimum number of observations to perform adequately, KNN application is not severely hindered by this limitation ((Diebold and Nason, 1990). A recent research paper compares GDP forecasts from KNN model with results from basic time series models such as Autoregressive (AR), Autoregressive Integrated Moving Average (ARIMA), Seasonal AR and ARIMA and AR and ARIMA with covariates. The study concludes that KNN captures the self-predictive ability of GDP better than other traditional models (Maccarrone et all, 2021, cite). These results are promising, especially since the data used covers the financial crisis and pandemic time period. Another paper compares KNN technique with two other ML techniques, the Random Forest and Extreme Gradient Boosting for predicting inflation in Costa Rica and concludes that KNN outperforms these models based on forecast accuracy (Rodriguez-Vargas, 2020). "
   ]
  },
  {
   "cell_type": "markdown",
   "id": "fac5d111-8f39-4602-9c16-70c859e41155",
   "metadata": {},
   "source": [
    "Random Forest algorithms are widely used in medical research and biological studies. This technique is known for its prediction accuracy and robustness since it can handle a very large number of input variables without overfitting. However, it is not as widely used in macroeconomic forecasting yet. Baiu and D’Elia (2011) have used Random Forest model to forecast the quarterly GDP growth rate for the Euro region and concluded that while RF fails to outperform standard AR model in predicting growth rate, it can be used as a tool to select the most relevant predictive variables."
   ]
  },
  {
   "cell_type": "markdown",
   "id": "441e1fc5-0947-4aad-8614-1e286d561925",
   "metadata": {},
   "source": [
    "Principal Component Analysis(PCA) is a machine learning technique used specifically when there is a large amount of data available. Large datasets not only make computation hard but also make it difficult to interpret. PCA tends to reduce the dimensionality of such datasets, while at the same time ensuring that the information loss is minimum. The way it achieves that is by creating new uncorrelated variables in order to attain maximum variance. PCA essentially reduces the problem to solving eigenvalues and eigenvectors. Stock and Watson have proved that under the general conditions on the error terms, principal components of X (explanatory variables) are a consistent estimator of the true latent factors. In their research, Stock and Watson tried to forecast the Federal Reserve Board’s Index of Industrial Production using the PCA approach and found that the model outperforms univariate AR and VAR models (Stock and Watson, 2002). "
   ]
  },
  {
   "cell_type": "markdown",
   "id": "ab8ec6e8-dbaf-4d13-bda1-9e97b144e5e7",
   "metadata": {},
   "source": [
    "Alternatively, another variation of the PCA is the dynamic factor models (DFMs). DFM’s have gained prominence over the last decade mainly because of their ability to model sequential datasets consistently, specially when the number of series exceeds the number of time series observations. DFM’s were first introduced by Geweke (1977) as an addendum to time series factor models which were mainly developed for cross-sectional data. The idea of DFM’s is similar to the PCA, except that they introduce the dynamic part to it. Sargent and Sims (1977)’s work has extensively examined the macroeconomic variables using the dynamic factor model and have found that the models have the potential to explain a large variation in them (Stock and Watson, 2010). \n"
   ]
  },
  {
   "cell_type": "markdown",
   "id": "5d1c21cd-be19-45cd-b47f-2fca0fd2004b",
   "metadata": {},
   "source": [
    "Classical time series forecasting models such as AR, MA, ARIMAX and SARIMAX have always remained the go to models for the forecasters mainly because they are structured. However, with the advancement of machine learning techniques, the classical time series forecasting models are now becoming benchmark models to which the other non-traditional models of forecasting are compared. Classical time series models mainly rely on assumptions about the distribution of the error terms and linear relationship between the dependent and independent variables. Some complex time series models modify these assumptions somewhat, but the structure is still imposed. ARIMAX model accounts for the stationarity of the data and makes use of other explanatory variables and SARIMAX accounts for the seasonality on top of ARIMAX. "
   ]
  },
  {
   "cell_type": "markdown",
   "id": "927abdfb-b4a3-40f2-a3c1-84500e9e8c62",
   "metadata": {},
   "source": [
    "One of the advantages of classical time series models over machine learning models is that they provide a useful interpretation because of the parametrization as opposed to ML. On the other hand, multivariate time series models tend to increase the complexity mainly because of the non-linearity. According to Banerjee and Marcellino, univariate linear models tend to be often more robust than their multivariate counterparts (Banerjee and Marcellino, 2006).  However, this doesn’t imply that multivariate models are not useful. For the purpose of our analysis, we will be using the combination of both univariate and multivariate time series models. The idea is to use the classical time series models as a benchmark because they have been regarded as the gold standard for forecasting and have been widely used for over many years for macroeconomic forecasting."
   ]
  },
  {
   "cell_type": "markdown",
   "id": "f2ebf4f2-2174-4d5e-bc05-feeb3b343aac",
   "metadata": {},
   "source": [
    "## 3. Data and Summary Statistics"
   ]
  },
  {
   "cell_type": "markdown",
   "id": "075757f9-f723-4a0f-8b1b-008cc30506b1",
   "metadata": {},
   "source": [
    "### 3.1 Data description"
   ]
  },
  {
   "cell_type": "markdown",
   "id": "f6477252-66b3-4d59-a3d5-bed2ead89930",
   "metadata": {},
   "source": [
    "The source of the data used in this paper is the Fred, a database created and maintained by the Research Department at the Federal Reserve Bank of St. Louis. The database consists of hundreds of thousands of economic data time series from scores of national, international, public, and private sources. Our models will be univariate and multi-variate, in which case we will use the monthly variables for the US, and their transformations, to predict the US GDP growth. We got eleven monthly data series and one quarterly data series, the GDP. All of these series are seasonally adjusted. "
   ]
  },
  {
   "cell_type": "markdown",
   "id": "ee74cdfd-2bb1-4b53-a7c2-96e8f2fc51be",
   "metadata": {},
   "source": [
    "The series labeled \"payroll\" is the Total Nonfarm Payroll, a measure of the number of U.S. workers in the economy that excludes proprietors, private household employees, unpaid volunteers, farm employees, and the unincorporated self-employed. This measure accounts for approximately 80 percent of the workers who contribute to Gross Domestic Product (GDP). The Bureau of Labor Statistics (BLS) adjusts the data to offset the seasonal effects to show non-seasonal changes.\n",
    "\n",
    "The series labeled \"job_openings\" is the Total Nonfarm Job Openings, which measures all jobs that are not filled on the last business day of the month. A job is considered open if a specific position exists and there is work available for it, the job can be started within 30 days, and there is active recruiting for the position. Total Nonfarm Job Openings are measured by the Job Openings and Labor Turnover Survey (JOLTS) and published by the Bureau of Labor Statistics (BLS)."
   ]
  },
  {
   "cell_type": "markdown",
   "id": "6b5e7857-77ab-448c-8271-c9d343d6bcb0",
   "metadata": {},
   "source": [
    "The series named \"quits\" measures the employees who left voluntarily, with the exception of retirements or transfers to other locations. This numbers is divided by the total employment to return the quits rate. \n",
    "\n",
    "For \"ip\" we collect the industrial production of the US, the Board of Governors of the Federal Reserve System. It measures real output for all facilities located in the United States manufacturing, mining, and electric, and gas utilities (excluding those in U.S. territories). The series is determined from 312 individual series based on the 2007 North American Industrial Classification System (NAICS) codes.\n",
    "\n",
    "On \"vehicle_sales\" is the vehicle sales data for the US, also seasonally adjusted, and published by the U.S. Bureau of Economic Analysis. The seasonally adjusted series includes auto (all passenger cars, including station wagons) and truck sales data."
   ]
  },
  {
   "cell_type": "markdown",
   "id": "f6c0128c-126e-48a5-af96-8d9f7c9ec71e",
   "metadata": {},
   "source": [
    "We classify as \"retail\" the Advance Retail and Food Services Sales, deflated using the Consumer Price Index for All Urban Consumers. As the other series, it is also seasonally adjusted.\n",
    "\n",
    "Also, for \"wholesale_inventories\" which measures the inventories of wholesalers, not including retailers. The estimates are based on data from three surveys: the Monthly Retail Trade Survey, the Monthly Wholesale Trade Survey, and the Manufacturers' Shipments, Inventories, and Orders Survey.\n",
    "\n",
    "We use sentiment data as well, with the \"consumer_sentiment\" data is the Consumer Sentiment indicator measured by the University of Michigan. To calculate the Index of Consumer Sentiment (ICS), the University computes the relative scores (the percent giving favorable replies minus the percent giving unfavorable replies, plus 100) for each of the five index questions, including current financial conditions, expectations of financial conditions, expectations of business conditions, expectations of unemployment and conditions to buy households items."
   ]
  },
  {
   "cell_type": "markdown",
   "id": "f0a27caf-933e-47f1-b843-3b53c25300a5",
   "metadata": {},
   "source": [
    "We label as \"construction_spending\" measures the total dollar value of construction work done in the United States (including 50 states and the District of Columbia). Composite estimates are based on mail-out/mail-back and interview surveys of selected construction projects and building owners, and estimates developed or compiled from other Census Bureau, federal agency, and private data sources.\n",
    "\n",
    "For \"new_orders\" indicates the new orders of manufacturing products. This data comes from the Manufacturers' Shipments, Inventories, and Orders (M3) survey, which provides broad-based monthly statistical data on current economic conditions and indications of future production commitments in the manufacturing sector.\n",
    "\n",
    "Finally, for New Privately-Owned Housing we label as \"housing_starts.\" As provided by the Census, start occurs when excavation begins for the footings or foundation of a building. All housing units in a multifamily building are defined as being started when this excavation begins. Beginning with data for September 1992, estimates of housing starts include units in structures being totally rebuilt on an existing foundation."
   ]
  },
  {
   "cell_type": "markdown",
   "id": "7e65e173-e767-490f-b513-de17faa3a6fb",
   "metadata": {},
   "source": [
    "The only originally quarterly data used is the GDP series, which we unsurprisingly label as \"gdp\" for all models in this study. Gross domestic product (GDP), the featured measure of U.S. output, is the market value of the goods and services produced by labor and property located in the United States.For more information, see the Guide to the National Income and Product Accounts of the United States (NIPA) and the Bureau of Economic Analysis."
   ]
  },
  {
   "cell_type": "markdown",
   "id": "99ab5d43-413b-4de3-afb6-85065f4351c9",
   "metadata": {},
   "source": [
    "### 3.2 Summary Statistics"
   ]
  },
  {
   "cell_type": "code",
   "execution_count": 2,
   "id": "fbfb4b69-f1b2-41d1-805b-6efbe19a2794",
   "metadata": {
    "tags": []
   },
   "outputs": [],
   "source": [
    "# Access Fred\n",
    "fred = fa.Fred(api_key='b64520b0097cdfbc83e22960ad3fcdd8 ')\n",
    "\n",
    "# Getting series (quartery)\n",
    "gdp = fred.get_series('GDP').rename(\"GDP\")\n",
    "\n",
    "# Getting series (monthly)\n",
    "payroll = fred.get_series('PAYEMS').rename(\"payroll\")\n",
    "job_openings = fred.get_series('JTSJOL').rename(\"job_openings\")\n",
    "quits = fred.get_series('JTSQUR').rename(\"quits\")\n",
    "retail = fred.get_series('RSXFS').rename(\"retail\")\n",
    "ip = fred.get_series('INDPRO').rename(\"ip\")\n",
    "vehicle_sales = fred.get_series('TOTALSA').rename(\"vehicle_sales\")\n",
    "wholesale_inventories = fred.get_series('WHLSLRIMSA').rename(\"wholesale_inventories\")\n",
    "consumer_sentiment = fred.get_series('UMCSENT').rename(\"consumer_sentiment\")\n",
    "construction_spending = fred.get_series('TTLCONS').rename(\"construction_spending\")\n",
    "new_orders = fred.get_series('DGORDER').rename(\"new_orders\")\n",
    "housing_starts = fred.get_series('HOUST').rename(\"housing_starts\")\n",
    "\n",
    "# List of data\n",
    "list_monthly = [payroll, job_openings, ip, vehicle_sales, quits, retail, wholesale_inventories, consumer_sentiment, construction_spending, new_orders, housing_starts]\n",
    "\n",
    "# Monthly DataFrame\n",
    "monthly = pd.concat(list_monthly, axis=1).dropna()"
   ]
  },
  {
   "cell_type": "markdown",
   "id": "44c4afa6-8cea-47ca-90af-f5c41540ed3c",
   "metadata": {},
   "source": [
    "The data is seasonally adjusted, and therefore won't require transformations of such kind. However, the all the data series used are in levels and an investigation of stationarity is required. We show below the summary statistics of the data series and a chart for each of them. \n",
    "\n",
    "Then, we use the Augmented Dickey-Fuller test to check for stationarity in the set of data. None of the eleven series used pass the test at a 10% level. In this sense, a transformation of these series is required. We perform the same transformation for all of them: we will use log differences - the continuous equivalent of a percentage change - from now on. "
   ]
  },
  {
   "cell_type": "code",
   "execution_count": 3,
   "id": "88c4ef4b-3478-41a5-bd93-1612099e78ec",
   "metadata": {},
   "outputs": [
    {
     "data": {
      "text/html": [
       "<div>\n",
       "<style scoped>\n",
       "    .dataframe tbody tr th:only-of-type {\n",
       "        vertical-align: middle;\n",
       "    }\n",
       "\n",
       "    .dataframe tbody tr th {\n",
       "        vertical-align: top;\n",
       "    }\n",
       "\n",
       "    .dataframe thead th {\n",
       "        text-align: right;\n",
       "    }\n",
       "</style>\n",
       "<table border=\"1\" class=\"dataframe\">\n",
       "  <thead>\n",
       "    <tr style=\"text-align: right;\">\n",
       "      <th></th>\n",
       "      <th>payroll</th>\n",
       "      <th>job_openings</th>\n",
       "      <th>ip</th>\n",
       "      <th>vehicle_sales</th>\n",
       "      <th>quits</th>\n",
       "      <th>retail</th>\n",
       "      <th>wholesale_inventories</th>\n",
       "      <th>consumer_sentiment</th>\n",
       "      <th>construction_spending</th>\n",
       "      <th>new_orders</th>\n",
       "      <th>housing_starts</th>\n",
       "    </tr>\n",
       "  </thead>\n",
       "  <tbody>\n",
       "    <tr>\n",
       "      <th>count</th>\n",
       "      <td>255.000000</td>\n",
       "      <td>255.000000</td>\n",
       "      <td>255.000000</td>\n",
       "      <td>255.000000</td>\n",
       "      <td>255.000000</td>\n",
       "      <td>255.000000</td>\n",
       "      <td>255.000000</td>\n",
       "      <td>255.000000</td>\n",
       "      <td>2.550000e+02</td>\n",
       "      <td>255.000000</td>\n",
       "      <td>255.000000</td>\n",
       "    </tr>\n",
       "    <tr>\n",
       "      <th>mean</th>\n",
       "      <td>137896.482353</td>\n",
       "      <td>4881.929412</td>\n",
       "      <td>96.870191</td>\n",
       "      <td>15.949416</td>\n",
       "      <td>1.964314</td>\n",
       "      <td>361238.380392</td>\n",
       "      <td>491485.733333</td>\n",
       "      <td>84.059216</td>\n",
       "      <td>1.089204e+06</td>\n",
       "      <td>211769.529412</td>\n",
       "      <td>1277.698039</td>\n",
       "    </tr>\n",
       "    <tr>\n",
       "      <th>std</th>\n",
       "      <td>6681.601392</td>\n",
       "      <td>1838.401365</td>\n",
       "      <td>4.894543</td>\n",
       "      <td>2.317720</td>\n",
       "      <td>0.352970</td>\n",
       "      <td>76374.464473</td>\n",
       "      <td>138074.360927</td>\n",
       "      <td>11.402520</td>\n",
       "      <td>2.343568e+05</td>\n",
       "      <td>29396.272599</td>\n",
       "      <td>460.107860</td>\n",
       "    </tr>\n",
       "    <tr>\n",
       "      <th>min</th>\n",
       "      <td>129698.000000</td>\n",
       "      <td>2232.000000</td>\n",
       "      <td>84.201800</td>\n",
       "      <td>8.961000</td>\n",
       "      <td>1.200000</td>\n",
       "      <td>249845.000000</td>\n",
       "      <td>293159.000000</td>\n",
       "      <td>55.300000</td>\n",
       "      <td>7.583760e+05</td>\n",
       "      <td>146323.000000</td>\n",
       "      <td>478.000000</td>\n",
       "    </tr>\n",
       "    <tr>\n",
       "      <th>25%</th>\n",
       "      <td>131969.000000</td>\n",
       "      <td>3553.000000</td>\n",
       "      <td>92.746900</td>\n",
       "      <td>15.032000</td>\n",
       "      <td>1.700000</td>\n",
       "      <td>303957.000000</td>\n",
       "      <td>376982.500000</td>\n",
       "      <td>75.050000</td>\n",
       "      <td>8.641825e+05</td>\n",
       "      <td>185653.500000</td>\n",
       "      <td>934.000000</td>\n",
       "    </tr>\n",
       "    <tr>\n",
       "      <th>50%</th>\n",
       "      <td>136520.000000</td>\n",
       "      <td>4373.000000</td>\n",
       "      <td>98.285400</td>\n",
       "      <td>16.761000</td>\n",
       "      <td>2.000000</td>\n",
       "      <td>341787.000000</td>\n",
       "      <td>476187.000000</td>\n",
       "      <td>86.700000</td>\n",
       "      <td>1.069010e+06</td>\n",
       "      <td>219108.000000</td>\n",
       "      <td>1238.000000</td>\n",
       "    </tr>\n",
       "    <tr>\n",
       "      <th>75%</th>\n",
       "      <td>143151.000000</td>\n",
       "      <td>5856.500000</td>\n",
       "      <td>100.949750</td>\n",
       "      <td>17.508000</td>\n",
       "      <td>2.200000</td>\n",
       "      <td>406128.000000</td>\n",
       "      <td>606267.000000</td>\n",
       "      <td>93.300000</td>\n",
       "      <td>1.252838e+06</td>\n",
       "      <td>232521.000000</td>\n",
       "      <td>1639.000000</td>\n",
       "    </tr>\n",
       "    <tr>\n",
       "      <th>max</th>\n",
       "      <td>152504.000000</td>\n",
       "      <td>11448.000000</td>\n",
       "      <td>104.165900</td>\n",
       "      <td>22.055000</td>\n",
       "      <td>3.000000</td>\n",
       "      <td>582698.000000</td>\n",
       "      <td>818209.000000</td>\n",
       "      <td>103.800000</td>\n",
       "      <td>1.728565e+06</td>\n",
       "      <td>304221.000000</td>\n",
       "      <td>2273.000000</td>\n",
       "    </tr>\n",
       "  </tbody>\n",
       "</table>\n",
       "</div>"
      ],
      "text/plain": [
       "             payroll  job_openings          ip  vehicle_sales       quits  \\\n",
       "count     255.000000    255.000000  255.000000     255.000000  255.000000   \n",
       "mean   137896.482353   4881.929412   96.870191      15.949416    1.964314   \n",
       "std      6681.601392   1838.401365    4.894543       2.317720    0.352970   \n",
       "min    129698.000000   2232.000000   84.201800       8.961000    1.200000   \n",
       "25%    131969.000000   3553.000000   92.746900      15.032000    1.700000   \n",
       "50%    136520.000000   4373.000000   98.285400      16.761000    2.000000   \n",
       "75%    143151.000000   5856.500000  100.949750      17.508000    2.200000   \n",
       "max    152504.000000  11448.000000  104.165900      22.055000    3.000000   \n",
       "\n",
       "              retail  wholesale_inventories  consumer_sentiment  \\\n",
       "count     255.000000             255.000000          255.000000   \n",
       "mean   361238.380392          491485.733333           84.059216   \n",
       "std     76374.464473          138074.360927           11.402520   \n",
       "min    249845.000000          293159.000000           55.300000   \n",
       "25%    303957.000000          376982.500000           75.050000   \n",
       "50%    341787.000000          476187.000000           86.700000   \n",
       "75%    406128.000000          606267.000000           93.300000   \n",
       "max    582698.000000          818209.000000          103.800000   \n",
       "\n",
       "       construction_spending     new_orders  housing_starts  \n",
       "count           2.550000e+02     255.000000      255.000000  \n",
       "mean            1.089204e+06  211769.529412     1277.698039  \n",
       "std             2.343568e+05   29396.272599      460.107860  \n",
       "min             7.583760e+05  146323.000000      478.000000  \n",
       "25%             8.641825e+05  185653.500000      934.000000  \n",
       "50%             1.069010e+06  219108.000000     1238.000000  \n",
       "75%             1.252838e+06  232521.000000     1639.000000  \n",
       "max             1.728565e+06  304221.000000     2273.000000  "
      ]
     },
     "execution_count": 3,
     "metadata": {},
     "output_type": "execute_result"
    }
   ],
   "source": [
    "# Describe the summary statistics\n",
    "monthly.describe()"
   ]
  },
  {
   "cell_type": "code",
   "execution_count": 28,
   "id": "d18d79f3-d371-4c76-9c1f-6461f926a4c6",
   "metadata": {},
   "outputs": [
    {
     "ename": "IndexError",
     "evalue": "index 11 is out of bounds for axis 0 with size 11",
     "output_type": "error",
     "traceback": [
      "\u001b[1;31m---------------------------------------------------------------------------\u001b[0m",
      "\u001b[1;31mIndexError\u001b[0m                                Traceback (most recent call last)",
      "\u001b[1;32m<ipython-input-28-9f38ea150ec9>\u001b[0m in \u001b[0;36m<module>\u001b[1;34m\u001b[0m\n\u001b[0;32m      2\u001b[0m \u001b[0mfig\u001b[0m\u001b[1;33m,\u001b[0m \u001b[0maxes\u001b[0m \u001b[1;33m=\u001b[0m \u001b[0mplt\u001b[0m\u001b[1;33m.\u001b[0m\u001b[0msubplots\u001b[0m\u001b[1;33m(\u001b[0m\u001b[0mnrows\u001b[0m\u001b[1;33m=\u001b[0m\u001b[1;36m4\u001b[0m\u001b[1;33m,\u001b[0m \u001b[0mncols\u001b[0m\u001b[1;33m=\u001b[0m\u001b[1;36m3\u001b[0m\u001b[1;33m,\u001b[0m \u001b[0mdpi\u001b[0m\u001b[1;33m=\u001b[0m\u001b[1;36m120\u001b[0m\u001b[1;33m,\u001b[0m \u001b[0mfigsize\u001b[0m\u001b[1;33m=\u001b[0m\u001b[1;33m(\u001b[0m\u001b[1;36m26\u001b[0m\u001b[1;33m,\u001b[0m\u001b[1;36m12\u001b[0m\u001b[1;33m)\u001b[0m\u001b[1;33m)\u001b[0m\u001b[1;33m\u001b[0m\u001b[1;33m\u001b[0m\u001b[0m\n\u001b[0;32m      3\u001b[0m \u001b[1;32mfor\u001b[0m \u001b[0mi\u001b[0m\u001b[1;33m,\u001b[0m \u001b[0max\u001b[0m \u001b[1;32min\u001b[0m \u001b[0menumerate\u001b[0m\u001b[1;33m(\u001b[0m\u001b[0maxes\u001b[0m\u001b[1;33m.\u001b[0m\u001b[0mflatten\u001b[0m\u001b[1;33m(\u001b[0m\u001b[1;33m)\u001b[0m\u001b[1;33m)\u001b[0m\u001b[1;33m:\u001b[0m\u001b[1;33m\u001b[0m\u001b[1;33m\u001b[0m\u001b[0m\n\u001b[1;32m----> 4\u001b[1;33m     \u001b[0mdata\u001b[0m \u001b[1;33m=\u001b[0m \u001b[0mmonthly\u001b[0m\u001b[1;33m[\u001b[0m\u001b[0mmonthly\u001b[0m\u001b[1;33m.\u001b[0m\u001b[0mcolumns\u001b[0m\u001b[1;33m[\u001b[0m\u001b[0mi\u001b[0m\u001b[1;33m]\u001b[0m\u001b[1;33m]\u001b[0m\u001b[1;33m\u001b[0m\u001b[1;33m\u001b[0m\u001b[0m\n\u001b[0m\u001b[0;32m      5\u001b[0m     \u001b[0max\u001b[0m\u001b[1;33m.\u001b[0m\u001b[0mplot\u001b[0m\u001b[1;33m(\u001b[0m\u001b[0mdata\u001b[0m\u001b[1;33m,\u001b[0m \u001b[0mcolor\u001b[0m\u001b[1;33m=\u001b[0m\u001b[1;34m'red'\u001b[0m\u001b[1;33m,\u001b[0m \u001b[0mlinewidth\u001b[0m\u001b[1;33m=\u001b[0m\u001b[1;36m1\u001b[0m\u001b[1;33m)\u001b[0m\u001b[1;33m\u001b[0m\u001b[1;33m\u001b[0m\u001b[0m\n\u001b[0;32m      6\u001b[0m     \u001b[1;31m# Decorations\u001b[0m\u001b[1;33m\u001b[0m\u001b[1;33m\u001b[0m\u001b[1;33m\u001b[0m\u001b[0m\n",
      "\u001b[1;32m~\\anaconda3\\lib\\site-packages\\pandas\\core\\indexes\\base.py\u001b[0m in \u001b[0;36m__getitem__\u001b[1;34m(self, key)\u001b[0m\n\u001b[0;32m   4295\u001b[0m         \u001b[1;32mif\u001b[0m \u001b[0mis_scalar\u001b[0m\u001b[1;33m(\u001b[0m\u001b[0mkey\u001b[0m\u001b[1;33m)\u001b[0m\u001b[1;33m:\u001b[0m\u001b[1;33m\u001b[0m\u001b[1;33m\u001b[0m\u001b[0m\n\u001b[0;32m   4296\u001b[0m             \u001b[0mkey\u001b[0m \u001b[1;33m=\u001b[0m \u001b[0mcom\u001b[0m\u001b[1;33m.\u001b[0m\u001b[0mcast_scalar_indexer\u001b[0m\u001b[1;33m(\u001b[0m\u001b[0mkey\u001b[0m\u001b[1;33m,\u001b[0m \u001b[0mwarn_float\u001b[0m\u001b[1;33m=\u001b[0m\u001b[1;32mTrue\u001b[0m\u001b[1;33m)\u001b[0m\u001b[1;33m\u001b[0m\u001b[1;33m\u001b[0m\u001b[0m\n\u001b[1;32m-> 4297\u001b[1;33m             \u001b[1;32mreturn\u001b[0m \u001b[0mgetitem\u001b[0m\u001b[1;33m(\u001b[0m\u001b[0mkey\u001b[0m\u001b[1;33m)\u001b[0m\u001b[1;33m\u001b[0m\u001b[1;33m\u001b[0m\u001b[0m\n\u001b[0m\u001b[0;32m   4298\u001b[0m \u001b[1;33m\u001b[0m\u001b[0m\n\u001b[0;32m   4299\u001b[0m         \u001b[1;32mif\u001b[0m \u001b[0misinstance\u001b[0m\u001b[1;33m(\u001b[0m\u001b[0mkey\u001b[0m\u001b[1;33m,\u001b[0m \u001b[0mslice\u001b[0m\u001b[1;33m)\u001b[0m\u001b[1;33m:\u001b[0m\u001b[1;33m\u001b[0m\u001b[1;33m\u001b[0m\u001b[0m\n",
      "\u001b[1;31mIndexError\u001b[0m: index 11 is out of bounds for axis 0 with size 11"
     ]
    },
    {
     "data": {
      "image/png": "[encoded data removed]",
      "text/plain": [
       "<Figure size 3120x1440 with 12 Axes>"
      ]
     },
     "metadata": {
      "needs_background": "light"
     },
     "output_type": "display_data"
    }
   ],
   "source": [
    "# Plot\n",
    "fig, axes = plt.subplots(nrows=4, ncols=3, dpi=120, figsize=(26,12))\n",
    "for i, ax in enumerate(axes.flatten()):\n",
    "    data = monthly[monthly.columns[i]]\n",
    "    ax.plot(data, color='red', linewidth=1)\n",
    "    # Decorations\n",
    "    ax.set_title(monthly.columns[i])\n",
    "    ax.xaxis.set_ticks_position('none')\n",
    "    ax.yaxis.set_ticks_position('none')\n",
    "    ax.spines[\"top\"].set_alpha(0)\n",
    "    ax.tick_params(labelsize=6)\n",
    "\n",
    "plt.tight_layout();"
   ]
  },
  {
   "cell_type": "code",
   "execution_count": 4,
   "id": "ddfc2ff5-3316-4129-81ce-032016f95dff",
   "metadata": {},
   "outputs": [
    {
     "data": {
      "text/html": [
       "<div>\n",
       "<style scoped>\n",
       "    .dataframe tbody tr th:only-of-type {\n",
       "        vertical-align: middle;\n",
       "    }\n",
       "\n",
       "    .dataframe tbody tr th {\n",
       "        vertical-align: top;\n",
       "    }\n",
       "\n",
       "    .dataframe thead th {\n",
       "        text-align: right;\n",
       "    }\n",
       "</style>\n",
       "<table border=\"1\" class=\"dataframe\">\n",
       "  <thead>\n",
       "    <tr style=\"text-align: right;\">\n",
       "      <th></th>\n",
       "      <th>ADF Fuller test</th>\n",
       "    </tr>\n",
       "  </thead>\n",
       "  <tbody>\n",
       "    <tr>\n",
       "      <th>payroll</th>\n",
       "      <td>-0.918527</td>\n",
       "    </tr>\n",
       "    <tr>\n",
       "      <th>job_openings</th>\n",
       "      <td>0.904821</td>\n",
       "    </tr>\n",
       "    <tr>\n",
       "      <th>quits</th>\n",
       "      <td>-1.083210</td>\n",
       "    </tr>\n",
       "    <tr>\n",
       "      <th>retail</th>\n",
       "      <td>1.564151</td>\n",
       "    </tr>\n",
       "    <tr>\n",
       "      <th>ip</th>\n",
       "      <td>-1.957387</td>\n",
       "    </tr>\n",
       "    <tr>\n",
       "      <th>vehicle_sales</th>\n",
       "      <td>-2.592540</td>\n",
       "    </tr>\n",
       "    <tr>\n",
       "      <th>wholesale_inventories</th>\n",
       "      <td>1.113354</td>\n",
       "    </tr>\n",
       "    <tr>\n",
       "      <th>consumer_sentiment</th>\n",
       "      <td>-2.279565</td>\n",
       "    </tr>\n",
       "    <tr>\n",
       "      <th>construction_spending</th>\n",
       "      <td>0.974425</td>\n",
       "    </tr>\n",
       "    <tr>\n",
       "      <th>new_orders</th>\n",
       "      <td>-1.831629</td>\n",
       "    </tr>\n",
       "    <tr>\n",
       "      <th>housing_starts</th>\n",
       "      <td>-1.427559</td>\n",
       "    </tr>\n",
       "    <tr>\n",
       "      <th>10% threshold</th>\n",
       "      <td>-2.573096</td>\n",
       "    </tr>\n",
       "  </tbody>\n",
       "</table>\n",
       "</div>"
      ],
      "text/plain": [
       "                       ADF Fuller test\n",
       "payroll                      -0.918527\n",
       "job_openings                  0.904821\n",
       "quits                        -1.083210\n",
       "retail                        1.564151\n",
       "ip                           -1.957387\n",
       "vehicle_sales                -2.592540\n",
       "wholesale_inventories         1.113354\n",
       "consumer_sentiment           -2.279565\n",
       "construction_spending         0.974425\n",
       "new_orders                   -1.831629\n",
       "housing_starts               -1.427559\n",
       "10% threshold                -2.573096"
      ]
     },
     "execution_count": 4,
     "metadata": {},
     "output_type": "execute_result"
    }
   ],
   "source": [
    "# Run ADF tests for all series\n",
    "adf_payroll = adfuller(monthly[\"payroll\"])\n",
    "adf_job_openings = adfuller(monthly[\"job_openings\"])\n",
    "adf_quits = adfuller(monthly[\"quits\"])\n",
    "adf_retail = adfuller(monthly[\"retail\"])\n",
    "adf_ip = adfuller(monthly[\"ip\"])\n",
    "adf_vehicle_sales = adfuller(monthly[\"vehicle_sales\"])\n",
    "adf_wholesale_inventories = adfuller(monthly[\"wholesale_inventories\"])\n",
    "adf_consumer_sentiment = adfuller(monthly[\"consumer_sentiment\"])\n",
    "adf_construction_spending = adfuller(monthly[\"construction_spending\"])\n",
    "adf_new_orders = adfuller(monthly[\"new_orders\"])\n",
    "adf_housing_starts = adfuller(monthly[\"housing_starts\"])\n",
    "\n",
    "# List of data\n",
    "list_adf = [adf_payroll[0], adf_job_openings[0], adf_quits[0], adf_retail[0], adf_ip[0], adf_vehicle_sales[0], adf_wholesale_inventories[0], adf_consumer_sentiment[0], adf_construction_spending[0], adf_new_orders[0], adf_housing_starts[0], -2.573095980841316]\n",
    "\n",
    "# DataFrame with ADF tests\n",
    "adf = pd.DataFrame(list_adf, index=[\"payroll\", \"job_openings\", \"quits\", \"retail\", \"ip\", \"vehicle_sales\", \"wholesale_inventories\", \"consumer_sentiment\", \"construction_spending\", \"new_orders\", \"housing_starts\", \"10% threshold\"], columns={\"ADF Fuller test\"})\n",
    "\n",
    "adf"
   ]
  },
  {
   "cell_type": "markdown",
   "id": "b76eba55-2930-495e-b9d0-223d9d62ce6e",
   "metadata": {},
   "source": [
    "Also, in some of the model alternatives, we can only use the quarterly data. In this sense, to turn the monthly series into quarterly, we perform the following transformations. First, we calculate the quarterly average of each variable and create a quarterly series for them. After this proceeding is done, we perform the log differences for the quarterly series. For GDP, we only need to run the log differences as the series is already quarterly by construction.\n",
    "\n",
    "Below, we show the quarterly series."
   ]
  },
  {
   "cell_type": "code",
   "execution_count": 5,
   "id": "ecfca828-6497-4185-8e1d-65c2900bb02f",
   "metadata": {
    "tags": []
   },
   "outputs": [],
   "source": [
    "# Normalized DataFrame\n",
    "normalized_monthly=np.log(monthly).diff()*100"
   ]
  },
  {
   "cell_type": "code",
   "execution_count": 6,
   "id": "5b0ab789-c0a3-4231-a340-1f9a177cc3f3",
   "metadata": {
    "tags": []
   },
   "outputs": [
    {
     "data": {
      "text/html": [
       "<div>\n",
       "<style scoped>\n",
       "    .dataframe tbody tr th:only-of-type {\n",
       "        vertical-align: middle;\n",
       "    }\n",
       "\n",
       "    .dataframe tbody tr th {\n",
       "        vertical-align: top;\n",
       "    }\n",
       "\n",
       "    .dataframe thead th {\n",
       "        text-align: right;\n",
       "    }\n",
       "</style>\n",
       "<table border=\"1\" class=\"dataframe\">\n",
       "  <thead>\n",
       "    <tr style=\"text-align: right;\">\n",
       "      <th></th>\n",
       "      <th>GDP</th>\n",
       "      <th>payroll</th>\n",
       "      <th>job_openings</th>\n",
       "      <th>ip</th>\n",
       "      <th>vehicle_sales</th>\n",
       "      <th>quits</th>\n",
       "      <th>retail</th>\n",
       "      <th>wholesale_inventories</th>\n",
       "      <th>consumer_sentiment</th>\n",
       "      <th>construction_spending</th>\n",
       "      <th>new_orders</th>\n",
       "      <th>housing_starts</th>\n",
       "    </tr>\n",
       "    <tr>\n",
       "      <th>index</th>\n",
       "      <th></th>\n",
       "      <th></th>\n",
       "      <th></th>\n",
       "      <th></th>\n",
       "      <th></th>\n",
       "      <th></th>\n",
       "      <th></th>\n",
       "      <th></th>\n",
       "      <th></th>\n",
       "      <th></th>\n",
       "      <th></th>\n",
       "      <th></th>\n",
       "    </tr>\n",
       "  </thead>\n",
       "  <tbody>\n",
       "    <tr>\n",
       "      <th>2001Q1</th>\n",
       "      <td>0.329925</td>\n",
       "      <td>0.009543</td>\n",
       "      <td>-2.207236</td>\n",
       "      <td>-0.500511</td>\n",
       "      <td>2.044262</td>\n",
       "      <td>1.481725</td>\n",
       "      <td>-0.043913</td>\n",
       "      <td>-0.015097</td>\n",
       "      <td>-2.423394</td>\n",
       "      <td>0.672596</td>\n",
       "      <td>-1.159559</td>\n",
       "      <td>1.238665</td>\n",
       "    </tr>\n",
       "    <tr>\n",
       "      <th>2001Q2</th>\n",
       "      <td>1.222357</td>\n",
       "      <td>-0.112685</td>\n",
       "      <td>-2.932212</td>\n",
       "      <td>-0.486808</td>\n",
       "      <td>0.414847</td>\n",
       "      <td>-1.481725</td>\n",
       "      <td>0.488294</td>\n",
       "      <td>0.015636</td>\n",
       "      <td>0.398339</td>\n",
       "      <td>1.095764</td>\n",
       "      <td>-1.089457</td>\n",
       "      <td>0.950674</td>\n",
       "    </tr>\n",
       "    <tr>\n",
       "      <th>2001Q3</th>\n",
       "      <td>-0.009247</td>\n",
       "      <td>-0.133298</td>\n",
       "      <td>-2.293757</td>\n",
       "      <td>-0.412019</td>\n",
       "      <td>-2.166557</td>\n",
       "      <td>-1.550667</td>\n",
       "      <td>-0.552672</td>\n",
       "      <td>-0.487928</td>\n",
       "      <td>-4.133730</td>\n",
       "      <td>-0.721291</td>\n",
       "      <td>-2.395150</td>\n",
       "      <td>-1.542906</td>\n",
       "    </tr>\n",
       "    <tr>\n",
       "      <th>2001Q4</th>\n",
       "      <td>0.587485</td>\n",
       "      <td>-0.200189</td>\n",
       "      <td>-3.393049</td>\n",
       "      <td>-0.315040</td>\n",
       "      <td>0.203067</td>\n",
       "      <td>-1.626339</td>\n",
       "      <td>0.882632</td>\n",
       "      <td>-0.793410</td>\n",
       "      <td>2.736980</td>\n",
       "      <td>0.485141</td>\n",
       "      <td>0.239002</td>\n",
       "      <td>0.127796</td>\n",
       "    </tr>\n",
       "    <tr>\n",
       "      <th>2002Q1</th>\n",
       "      <td>1.147515</td>\n",
       "      <td>-0.067508</td>\n",
       "      <td>-0.594519</td>\n",
       "      <td>0.478147</td>\n",
       "      <td>1.275027</td>\n",
       "      <td>-1.709776</td>\n",
       "      <td>0.066198</td>\n",
       "      <td>-0.371882</td>\n",
       "      <td>2.494388</td>\n",
       "      <td>-0.202176</td>\n",
       "      <td>0.510080</td>\n",
       "      <td>1.537136</td>\n",
       "    </tr>\n",
       "    <tr>\n",
       "      <th>...</th>\n",
       "      <td>...</td>\n",
       "      <td>...</td>\n",
       "      <td>...</td>\n",
       "      <td>...</td>\n",
       "      <td>...</td>\n",
       "      <td>...</td>\n",
       "      <td>...</td>\n",
       "      <td>...</td>\n",
       "      <td>...</td>\n",
       "      <td>...</td>\n",
       "      <td>...</td>\n",
       "      <td>...</td>\n",
       "    </tr>\n",
       "    <tr>\n",
       "      <th>2020Q3</th>\n",
       "      <td>8.184244</td>\n",
       "      <td>0.948176</td>\n",
       "      <td>2.421341</td>\n",
       "      <td>1.585079</td>\n",
       "      <td>7.227744</td>\n",
       "      <td>4.886782</td>\n",
       "      <td>1.413136</td>\n",
       "      <td>0.394046</td>\n",
       "      <td>0.967471</td>\n",
       "      <td>0.558379</td>\n",
       "      <td>4.300963</td>\n",
       "      <td>4.293566</td>\n",
       "    </tr>\n",
       "    <tr>\n",
       "      <th>2020Q4</th>\n",
       "      <td>1.591087</td>\n",
       "      <td>0.202960</td>\n",
       "      <td>2.204496</td>\n",
       "      <td>0.922760</td>\n",
       "      <td>0.115547</td>\n",
       "      <td>2.900379</td>\n",
       "      <td>-0.259720</td>\n",
       "      <td>0.525904</td>\n",
       "      <td>0.124147</td>\n",
       "      <td>1.010769</td>\n",
       "      <td>1.546522</td>\n",
       "      <td>4.574551</td>\n",
       "    </tr>\n",
       "    <tr>\n",
       "      <th>2021Q1</th>\n",
       "      <td>2.576810</td>\n",
       "      <td>0.449365</td>\n",
       "      <td>6.689897</td>\n",
       "      <td>0.295912</td>\n",
       "      <td>2.663042</td>\n",
       "      <td>2.668090</td>\n",
       "      <td>4.477619</td>\n",
       "      <td>1.142129</td>\n",
       "      <td>1.691184</td>\n",
       "      <td>0.968967</td>\n",
       "      <td>1.648741</td>\n",
       "      <td>1.260241</td>\n",
       "    </tr>\n",
       "    <tr>\n",
       "      <th>2021Q2</th>\n",
       "      <td>3.138917</td>\n",
       "      <td>0.291137</td>\n",
       "      <td>4.998801</td>\n",
       "      <td>0.437010</td>\n",
       "      <td>-4.320419</td>\n",
       "      <td>2.470266</td>\n",
       "      <td>-0.511995</td>\n",
       "      <td>1.187594</td>\n",
       "      <td>0.234743</td>\n",
       "      <td>0.654577</td>\n",
       "      <td>1.077530</td>\n",
       "      <td>-1.340610</td>\n",
       "    </tr>\n",
       "    <tr>\n",
       "      <th>2021Q3</th>\n",
       "      <td>2.008565</td>\n",
       "      <td>0.370847</td>\n",
       "      <td>2.668090</td>\n",
       "      <td>-0.202931</td>\n",
       "      <td>-7.612052</td>\n",
       "      <td>1.169711</td>\n",
       "      <td>0.119586</td>\n",
       "      <td>1.095171</td>\n",
       "      <td>-5.360014</td>\n",
       "      <td>0.689639</td>\n",
       "      <td>0.473982</td>\n",
       "      <td>-2.225127</td>\n",
       "    </tr>\n",
       "  </tbody>\n",
       "</table>\n",
       "<p>83 rows × 12 columns</p>\n",
       "</div>"
      ],
      "text/plain": [
       "             GDP   payroll  job_openings        ip  vehicle_sales     quits  \\\n",
       "index                                                                         \n",
       "2001Q1  0.329925  0.009543     -2.207236 -0.500511       2.044262  1.481725   \n",
       "2001Q2  1.222357 -0.112685     -2.932212 -0.486808       0.414847 -1.481725   \n",
       "2001Q3 -0.009247 -0.133298     -2.293757 -0.412019      -2.166557 -1.550667   \n",
       "2001Q4  0.587485 -0.200189     -3.393049 -0.315040       0.203067 -1.626339   \n",
       "2002Q1  1.147515 -0.067508     -0.594519  0.478147       1.275027 -1.709776   \n",
       "...          ...       ...           ...       ...            ...       ...   \n",
       "2020Q3  8.184244  0.948176      2.421341  1.585079       7.227744  4.886782   \n",
       "2020Q4  1.591087  0.202960      2.204496  0.922760       0.115547  2.900379   \n",
       "2021Q1  2.576810  0.449365      6.689897  0.295912       2.663042  2.668090   \n",
       "2021Q2  3.138917  0.291137      4.998801  0.437010      -4.320419  2.470266   \n",
       "2021Q3  2.008565  0.370847      2.668090 -0.202931      -7.612052  1.169711   \n",
       "\n",
       "          retail  wholesale_inventories  consumer_sentiment  \\\n",
       "index                                                         \n",
       "2001Q1 -0.043913              -0.015097           -2.423394   \n",
       "2001Q2  0.488294               0.015636            0.398339   \n",
       "2001Q3 -0.552672              -0.487928           -4.133730   \n",
       "2001Q4  0.882632              -0.793410            2.736980   \n",
       "2002Q1  0.066198              -0.371882            2.494388   \n",
       "...          ...                    ...                 ...   \n",
       "2020Q3  1.413136               0.394046            0.967471   \n",
       "2020Q4 -0.259720               0.525904            0.124147   \n",
       "2021Q1  4.477619               1.142129            1.691184   \n",
       "2021Q2 -0.511995               1.187594            0.234743   \n",
       "2021Q3  0.119586               1.095171           -5.360014   \n",
       "\n",
       "        construction_spending  new_orders  housing_starts  \n",
       "index                                                      \n",
       "2001Q1               0.672596   -1.159559        1.238665  \n",
       "2001Q2               1.095764   -1.089457        0.950674  \n",
       "2001Q3              -0.721291   -2.395150       -1.542906  \n",
       "2001Q4               0.485141    0.239002        0.127796  \n",
       "2002Q1              -0.202176    0.510080        1.537136  \n",
       "...                       ...         ...             ...  \n",
       "2020Q3               0.558379    4.300963        4.293566  \n",
       "2020Q4               1.010769    1.546522        4.574551  \n",
       "2021Q1               0.968967    1.648741        1.260241  \n",
       "2021Q2               0.654577    1.077530       -1.340610  \n",
       "2021Q3               0.689639    0.473982       -2.225127  \n",
       "\n",
       "[83 rows x 12 columns]"
      ]
     },
     "execution_count": 6,
     "metadata": {},
     "output_type": "execute_result"
    }
   ],
   "source": [
    "#Adjusting index\n",
    "normalized_monthly = normalized_monthly.reset_index()\n",
    "normalized_monthly.set_index('index')\n",
    "\n",
    "#Turning into quarterly\n",
    "quarterly = normalized_monthly.groupby(pd.PeriodIndex(normalized_monthly['index'], freq='Q')).mean().reset_index()\n",
    "\n",
    "# Adjust the gdp data series\n",
    "df_gdp = pd.DataFrame(gdp).loc[(pd.DataFrame(gdp).index >= '2000-10-01') & (pd.DataFrame(gdp).index <= '2021-10-01')].reset_index().rename(columns={\"index\": \"old_index\"})\n",
    "df_gdp['GDP'] = np.log(df_gdp['GDP']).diff()*100\n",
    "\n",
    "# Add on a single dataframe\n",
    "quarterly_all = pd.concat([df_gdp, quarterly], axis=1).drop('old_index', axis=1).set_index('index')\n",
    "quarterly_all = quarterly_all.dropna()[:-1]\n",
    "\n",
    "# Finally, we've got the data\n",
    "quarterly_all"
   ]
  },
  {
   "cell_type": "markdown",
   "id": "1ebbdc01-daa2-41cc-b81a-537c83ca76bb",
   "metadata": {},
   "source": [
    "## 4. Forecasting methods"
   ]
  },
  {
   "cell_type": "markdown",
   "id": "6a0cdfd6-11d0-4eb9-93cc-0f157f3ac1f8",
   "metadata": {
    "tags": []
   },
   "source": [
    "#### 4.1 Univariate Models"
   ]
  },
  {
   "cell_type": "markdown",
   "id": "826bd822-88f5-4539-9a44-aa980299463b",
   "metadata": {},
   "source": [
    "**Trailing 3-period average**: \n",
    "\n",
    "This simple estimator plays the role of a naïve benchmark. It is an average of three periods, which can be 3-months or 3-quarters, depending on the variable used in our analysis.\n",
    "\n",
    "\\begin{align*}\n",
    "  \\hat{\\mu}_{t+1} &= \\frac{1}{T}\\sum^{t=3}_{t=1} {\\hat\\mu_t}\\\\\n",
    "  &\\text{where } \\hat{\\mu}_{t} \\text{is the independent variable}\\\\\n",
    "\\end{align*}"
   ]
  },
  {
   "cell_type": "markdown",
   "id": "0d7cba34-69fb-4ad0-a1a9-5fcf4225fff3",
   "metadata": {},
   "source": [
    "**Exponential Smoothing**: \n",
    "\n",
    "A weighted average of lagged values, with weights decaying exponentially the longer the lag. Exponential smoothing takes into account all past data, whereas moving average only takes into account $k$ past data points.\n",
    "\n",
    "\n",
    "$$ X_{t+1} = \\alpha X_{t} + \\alpha (1- \\alpha) X_{t-1} + \\alpha (1- \\alpha)^2 X_{t-2} + {...} $$\n",
    "\n",
    "\n",
    "where $0 \\le \\alpha \\le 1 $ is the smoothing parameter. You choose how many lags to use. We will use four lags here."
   ]
  },
  {
   "cell_type": "markdown",
   "id": "055e2f8b-1942-4190-aff3-f229d77a876a",
   "metadata": {},
   "source": [
    "**ARIMA**: \n",
    "\n",
    "A stochastic process $ \\{X_t\\} $ is called an *autoregressive moving\n",
    "average process*, or ARMA($ p,q $), if it can be written as\n",
    "\n",
    "\n",
    "<a id='equation-arma'></a>\n",
    "$$\n",
    "X_t = \\phi_1 X_{t-1} + \\cdots + \\phi_p X_{t-p} +\n",
    "    \\epsilon_t + \\theta_1 \\epsilon_{t-1} + \\cdots + \\theta_q \\epsilon_{t-q}\n",
    "$$\n",
    "\n",
    "where $ \\{ \\epsilon_t \\} $ is white noise.\n",
    "\n",
    "In what follows we **always assume** that the roots of the polynomial $ \\phi(z) $ lie outside the unit circle in the complex plane.\n",
    "\n",
    "This condition is sufficient to guarantee that the ARMA($ p,q $) process is covariance stationary.\n",
    "\n",
    "In fact, it implies that the process falls within the class of general linear processes.\n",
    "\n",
    "We define an ARIMA(p, d, q) model as the mixture of an AR(p) and MA(q) model with differencing (to help make the process stationary)"
   ]
  },
  {
   "cell_type": "markdown",
   "id": "6dad0ccd-512e-4b79-b47e-1db356dfda13",
   "metadata": {},
   "source": [
    "#### 4.2 Linear Regression and Machine Learning Models"
   ]
  },
  {
   "cell_type": "markdown",
   "id": "6de3c35f-7578-4bad-bc9c-18f2f8c21892",
   "metadata": {},
   "source": [
    "**Simple Linear Regression (OLS):**\n",
    "\n",
    "he most common technique to estimate a linear relationship between variables is Ordinary Least Squares (OLS). OLS model is solved by finding the parameters that minimize the sum of squared residuals.\n",
    "\n",
    "The model can be defined, in the matrix form, as:\n",
    "\n",
    "$$\n",
    "y = X\\beta + u\n",
    "$$\n",
    "\n",
    "To solve for the unknown parameter $ \\beta $, we want to minimize\n",
    "the sum of squared residuals\n",
    "\n",
    "$$\n",
    "\\underset{\\hat{\\beta}}{\\min} \\hat{u}'\\hat{u}\n",
    "$$\n",
    "\n",
    "Rearranging the first equation and substituting into the second\n",
    "equation, we can write\n",
    "\n",
    "$$\n",
    "\\underset{\\hat{\\beta}}{\\min} \\ (Y - X\\hat{\\beta})' (Y - X\\hat{\\beta})\n",
    "$$\n",
    "\n",
    "Solving this optimization problem gives the solution for the\n",
    "$ \\hat{\\beta} $ coefficients\n",
    "\n",
    "$$\n",
    "\\hat{\\beta} = (X'X)^{-1}X'y\n",
    "$$"
   ]
  },
  {
   "cell_type": "markdown",
   "id": "99dd5b16-78f6-4f58-8d8a-d489e18876c0",
   "metadata": {},
   "source": [
    "**Ridge / Lasso / Elastic Net:**\n",
    "\n",
    "These models are very closely related to traditional OLS, but they focus on regularization of parameters to avoid overfitting.\n",
    "\n",
    "The Lasso model generates predictions using but optimizes over a slightly different loss function:\n",
    "\n",
    "$$\n",
    "\\underset{\\hat{\\beta}}{\\min} \\ (Y - X\\hat{\\beta})' (Y - X\\hat{\\beta}) + \\alpha\\hat{\\beta}\n",
    "$$\n",
    "\n",
    "where $ \\alpha $ is the regularization parameter. The additional term penalizes large coefficients and in practice, effectively sets coefficients to zero for features that are not informative about the target.\n",
    "\n",
    "\n",
    "Ridge regressions places a particular form of constraint on the parameters $\\beta$, which is chosen to minimize the penalized sum of squares:\n",
    "\n",
    "$$\n",
    "\\underset{\\hat{\\beta}}{\\min} \\ (Y - X\\hat{\\beta})' (Y - X\\hat{\\beta}) + \\lambda\\hat{\\beta}'\\hat{\\beta}\n",
    "$$\n",
    "\n",
    "This means that if the $\\beta$ take on large values, the optimization function is penalized, but not zero (only reducing the impact of \"irrelevant\" features of the model).\n",
    "\n",
    "The elastic net algorithm uses a weighted combination of Ridge and Lasso forms of regularization. "
   ]
  },
  {
   "cell_type": "markdown",
   "id": "bea7d516-57b4-476d-917c-b936a10d8928",
   "metadata": {},
   "source": [
    "#### 4.3 More Complex Econometric Methods"
   ]
  },
  {
   "cell_type": "markdown",
   "id": "9e02b7f9-1a46-4410-a9ed-5b81ac24243f",
   "metadata": {},
   "source": [
    "**Vector autoregressions (VARs):**\n",
    "\n",
    "The Vector Autoregression models (VARs) are an extension of the AR model described before, in a multi-variate form used when two or more time series can influence each other. This parametric model is built as an equation that includes the variable's lagged (past) values, the lagged values of the other variables in the model, and an error term. \n",
    "\n",
    "An important part of the VAR models, as it is for the AR version, is the order of the model - the number of lags one wants to include in its model. In the example below we represent as an infinity of lags. However, on the data analysis it would be required that we perform a lag criterion test, such as AIC, PIC and SIC."
   ]
  },
  {
   "cell_type": "markdown",
   "id": "e9efcebe-a04d-4f5e-b02c-859d582ffda1",
   "metadata": {},
   "source": [
    "In the example of equation below, we describe an VAR model where the $X_t$ an the independent variable, which we are interested in modeling, $X_{t-T}$ are the lags of the independent variable. In the meantime, $Y_{t-T}$ is a matrix that represents all the lagged explanatory variables used in the model. Again $ \\{ \\epsilon_t \\} $ is white noise."
   ]
  },
  {
   "cell_type": "markdown",
   "id": "80cb23ff-73fb-4102-bc27-387c03b5b1f7",
   "metadata": {},
   "source": [
    "<a id='equation-VAR'></a>\n",
    "$$\n",
    "X_t = \\phi_1 X_{t-1} + \\cdots + \\phi_p X_{t-p} + \\phi_1 Y_{t-1} + \\cdots + \\phi_p Y_{t-p} +\n",
    "    \\epsilon_t\n",
    "$$"
   ]
  },
  {
   "cell_type": "markdown",
   "id": "996dff66-f05c-4c64-b6fc-c3f23e4bf155",
   "metadata": {},
   "source": [
    "**Dynamic Factor Model:**\n",
    "\n",
    "In a dynamic factor model, we model a potentially large number of macroeconomic series as being driven by a much smaller number of latent factors, which are estimated, which involves a principal component analysis. \n",
    "\n",
    "Principal component analysis is an unsupervised algorithm, based on feature correlation, used for dimensionality reduction. The premise is simply to take data of higher dimensions, and reduce to a lower dimension.\n",
    "\n",
    "Often times, in higher dimensional data, it isn't possible to create visual representations of relationships between variables. Through applying PCA, it then becomes possible to reduce the dimensions of the data and display variable relationships. This tool also allows easier visualization and noise filtering, among other applications.\n",
    "\n",
    "The PCA must be used when three conditions apply:\n",
    "\n",
    "1. Reduce the number of variables\n",
    "2. Ensure that each variable is independent of one another\n",
    "3. Assume that the interpretation of the independent variables is less important"
   ]
  },
  {
   "cell_type": "markdown",
   "id": "3254e313-e94f-49ed-a36e-fc8e5b7aefc5",
   "metadata": {},
   "source": [
    "How does a PCA work?\n",
    "\n",
    "a. Calculate a matrix that summarizes how the variables are related one another (the covariance matrix).\n",
    "\n",
    "b. Then separate it between direction (eigenvectors) and magnitude (eigenvalues)\n",
    "\n",
    "c. By projecting the data into a smaller space, we reduce dimension, but keep the original variables in our model\n",
    "\n",
    "Mathematically, the first principal component is the direction in space along which projections have the largest variance. The second principal component is the direction which maximizes variance among all directions orthogonal to the first. The k-th component is the variance-maximizing direction orthogonal to the previous k-1 components.\n",
    "\n",
    "With those principal components, we use them as explanatory variables in an OLS."
   ]
  },
  {
   "cell_type": "markdown",
   "id": "06c28134-4e74-4e3e-9102-880dcd6af678",
   "metadata": {},
   "source": [
    "For our specific case, we use a state space model to try and explain the GDP data we observe by using only one unobserved factor, extracted from a series of monthly data.\n",
    "\n",
    "Define our state space model as:\n",
    "\n",
    "\\begin{align*}\n",
    "  \\lambda_{t} &= A \\lambda_{t-1} + \\eta_t \\\\\n",
    "  p_{i, t} &= G_i \\lambda_t + \\varepsilon_{i, t} \\\\\n",
    "  \\eta_t &\\sim N(0, I) \\\\\n",
    "  \\varepsilon_t &\\sim N(0, \\Sigma)\n",
    "\\end{align*}\n",
    "\n",
    "Note: If we stack our $p_{i, t}$ values, we wind up with\n",
    "\n",
    "$$P_t = G \\lambda_t + \\varepsilon_t$$\n",
    "\n",
    "where $G \\equiv \\begin{bmatrix} G_1 \\\\ G_2 \\\\ \\vdots \\\\ G_I \\end{bmatrix}$, $\\varepsilon_t \\equiv \\begin{bmatrix} \\varepsilon_1 \\\\ \\varepsilon_2 \\\\ \\vdots \\\\ \\varepsilon_I \\end{bmatrix}$"
   ]
  },
  {
   "cell_type": "markdown",
   "id": "ec1c2ddd-f719-4789-a983-c285867f4519",
   "metadata": {
    "tags": []
   },
   "source": [
    "#### 4.4 Nonlinear Algorithms\n"
   ]
  },
  {
   "cell_type": "markdown",
   "id": "8599892c-c67f-4613-b4b0-7bdafd87ac39",
   "metadata": {},
   "source": [
    "**Random Forest:**\n",
    "\n",
    "Description"
   ]
  },
  {
   "cell_type": "markdown",
   "id": "cf6c59f1-30cb-4e41-a68d-e3216147cd76",
   "metadata": {},
   "source": [
    "**Gradient Boosted Decision Trees:**\n",
    "\n",
    "Description"
   ]
  },
  {
   "cell_type": "markdown",
   "id": "a514e687-2a6e-4f3a-839d-2217a61593f8",
   "metadata": {},
   "source": [
    "**K-Nearest Neighbors:**\n",
    "\n",
    "Description"
   ]
  },
  {
   "cell_type": "markdown",
   "id": "6b118452-6857-4898-8091-6d4b73d27d13",
   "metadata": {},
   "source": [
    "**Support Vector Regression:**\n",
    "\n",
    "Description"
   ]
  },
  {
   "cell_type": "markdown",
   "id": "a46ea259-328a-40fb-becf-6b35822f0a29",
   "metadata": {},
   "source": [
    "#### 3.5 Neural Networks"
   ]
  },
  {
   "cell_type": "markdown",
   "id": "fa9e8f88-db50-4ef8-be8f-dcea92939a11",
   "metadata": {},
   "source": [
    "**Dense:**\n",
    "\n",
    "Description"
   ]
  },
  {
   "cell_type": "markdown",
   "id": "31bb8bf5-1775-4f07-9317-d5e6ab3dc56b",
   "metadata": {},
   "source": [
    "**LSTM:**\n",
    "\n",
    "Description"
   ]
  },
  {
   "cell_type": "markdown",
   "id": "bf23602f-bd86-42da-9aa6-b7044d29ae34",
   "metadata": {},
   "source": [
    "## 5. Empirical Results"
   ]
  },
  {
   "cell_type": "markdown",
   "id": "bd26094b-1d20-45f1-9c3e-315748f4133f",
   "metadata": {},
   "source": [
    "Explain what we do -- TODO"
   ]
  },
  {
   "cell_type": "markdown",
   "id": "7794a278-42b4-420e-868a-753e9375cbc6",
   "metadata": {},
   "source": [
    "#### 5.1 Trailing 3-period average (application):"
   ]
  },
  {
   "cell_type": "markdown",
   "id": "5d778dec-b927-4f05-8cf9-a7802cf6a793",
   "metadata": {},
   "source": [
    "Now, we move to estimate the benchmark of a simple trailing 3-period average predicting future GDP."
   ]
  },
  {
   "cell_type": "code",
   "execution_count": 7,
   "id": "b4750de9-064b-42a4-adee-9362419122af",
   "metadata": {},
   "outputs": [
    {
     "data": {
      "text/plain": [
       "<matplotlib.legend.Legend at 0x1a366e066d0>"
      ]
     },
     "execution_count": 7,
     "metadata": {},
     "output_type": "execute_result"
    },
    {
     "data": {
      "image/png": "[encoded data removed]",
      "text/plain": [
       "<Figure size 432x288 with 1 Axes>"
      ]
     },
     "metadata": {
      "needs_background": "light"
     },
     "output_type": "display_data"
    }
   ],
   "source": [
    "# Define the three month trailing average\n",
    "df_gdp[\"3m_avg\"] = (df_gdp[\"GDP\"].shift(1).rolling(3).sum()/3)\n",
    "\n",
    "### in plot method we set the label and color of the curve.\n",
    "df_gdp['GDP'].plot(label='GDP', color='blue')\n",
    "\n",
    "df_gdp['3m_avg'].plot(label='Lagged 3-month average', color='orange')\n",
    "  \n",
    "# adding title to the plot\n",
    "plt.title('GDP growth and 3-month average')\n",
    "  \n",
    "# adding Label to the x-axis\n",
    "plt.xlabel('Years')\n",
    "  \n",
    "# adding legend to the curve\n",
    "plt.legend()"
   ]
  },
  {
   "cell_type": "code",
   "execution_count": 8,
   "id": "747568dd-bb6e-4e8f-a02e-37b2133099c1",
   "metadata": {},
   "outputs": [
    {
     "name": "stdout",
     "output_type": "stream",
     "text": [
      "Out-of-Sample RMSE is : 2.4083075618421033\n"
     ]
    }
   ],
   "source": [
    "trailing_rmse = math.sqrt(sklearn.metrics.mean_squared_error(df_gdp['GDP'][40:], df_gdp['3m_avg'][40:]))\n",
    "\n",
    "print(f\"Out-of-Sample RMSE is : {trailing_rmse}\")"
   ]
  },
  {
   "cell_type": "markdown",
   "id": "42fff172-571d-45bd-beed-7c1907c69337",
   "metadata": {},
   "source": [
    "#### 5.2 Exponential Smoothing (application):"
   ]
  },
  {
   "cell_type": "markdown",
   "id": "24b4510c-52be-4e12-8e71-b73fcbddc180",
   "metadata": {},
   "source": [
    "Explain briefly"
   ]
  },
  {
   "cell_type": "code",
   "execution_count": 9,
   "id": "6c035d9d-fc8a-4d27-b2e3-7da5fce8c62b",
   "metadata": {},
   "outputs": [
    {
     "data": {
      "text/plain": [
       "<matplotlib.legend.Legend at 0x1a366f49d90>"
      ]
     },
     "execution_count": 9,
     "metadata": {},
     "output_type": "execute_result"
    },
    {
     "data": {
      "image/png": "[encoded data removed]",
      "text/plain": [
       "<Figure size 432x288 with 1 Axes>"
      ]
     },
     "metadata": {
      "needs_background": "light"
     },
     "output_type": "display_data"
    }
   ],
   "source": [
    "# Define the three month trailing average\n",
    "df_gdp[\"exponential\"] = 0.5*df_gdp[\"GDP\"].shift(1) + (1-0.5)*0.5*df_gdp[\"GDP\"].shift(2) + (1-0.5)*(0.5**2)*df_gdp[\"GDP\"].shift(3)\n",
    "\n",
    "### in plot method we set the label and color of the curve.\n",
    "df_gdp['GDP'].plot(label='GDP', color='blue')\n",
    "\n",
    "df_gdp[\"exponential\"].plot(label='Exponential Smoothing (3-month)', color='orange')\n",
    "  \n",
    "# adding title to the plot\n",
    "plt.title('GDP growth and Exponential Smoothing (3-month)')\n",
    "  \n",
    "# adding Label to the x-axis\n",
    "plt.xlabel('Years')\n",
    "  \n",
    "# adding legend to the curve\n",
    "plt.legend()"
   ]
  },
  {
   "cell_type": "code",
   "execution_count": 10,
   "id": "b6efd727-a8a8-442a-ab6f-b2c5c1138fe1",
   "metadata": {},
   "outputs": [
    {
     "name": "stdout",
     "output_type": "stream",
     "text": [
      "Out-of-Sample RMSE is : 2.509512751787306\n"
     ]
    }
   ],
   "source": [
    "exponential_rmse = math.sqrt(sklearn.metrics.mean_squared_error(df_gdp['GDP'][40:], df_gdp[\"exponential\"][40:]))\n",
    "\n",
    "print(f\"Out-of-Sample RMSE is : {exponential_rmse}\")"
   ]
  },
  {
   "cell_type": "markdown",
   "id": "49b7f072-8d3b-41e5-b9ca-233079c8a0ad",
   "metadata": {},
   "source": [
    "#### 5.3 ARIMA models (application):"
   ]
  },
  {
   "cell_type": "markdown",
   "id": "09b2bfcc-adcd-4780-98ae-e76fd81e3bdd",
   "metadata": {},
   "source": [
    "explain TODO"
   ]
  },
  {
   "cell_type": "code",
   "execution_count": 11,
   "id": "eb0c40f3-6fef-4611-9b2f-0444aceac006",
   "metadata": {},
   "outputs": [
    {
     "data": {
      "text/plain": [
       "<AxesSubplot:xlabel='Lag', ylabel='Autocorrelation'>"
      ]
     },
     "execution_count": 11,
     "metadata": {},
     "output_type": "execute_result"
    },
    {
     "data": {
      "image/png": "[encoded data removed]",
      "text/plain": [
       "<Figure size 432x288 with 1 Axes>"
      ]
     },
     "metadata": {
      "needs_background": "light"
     },
     "output_type": "display_data"
    }
   ],
   "source": [
    "autocorrelation_plot(df_gdp[\"GDP\"][1:])"
   ]
  },
  {
   "cell_type": "markdown",
   "id": "e3827160-859a-4a72-842f-60cff02fc72f",
   "metadata": {},
   "source": [
    "#### 5.4 OLS models (application):"
   ]
  },
  {
   "cell_type": "markdown",
   "id": "8a941419-3b8f-4067-a003-10fe3e546158",
   "metadata": {},
   "source": [
    "explain briefly"
   ]
  },
  {
   "cell_type": "code",
   "execution_count": null,
   "id": "70117c8c-b9df-4058-8453-f9200e264219",
   "metadata": {},
   "outputs": [],
   "source": []
  },
  {
   "cell_type": "code",
   "execution_count": null,
   "id": "48211717-7b82-41ff-af3a-e5a3aa2adbda",
   "metadata": {},
   "outputs": [],
   "source": []
  },
  {
   "cell_type": "code",
   "execution_count": null,
   "id": "a5788816-6656-4c18-bc2d-066be252f807",
   "metadata": {},
   "outputs": [],
   "source": []
  },
  {
   "cell_type": "markdown",
   "id": "81f2c5f4-7bb2-428b-b6e2-f0ffea711fb1",
   "metadata": {},
   "source": [
    "#### 5.5 Elastic Net models (application):"
   ]
  },
  {
   "cell_type": "markdown",
   "id": "459e1dc8-dacc-4a73-9927-10078b550d40",
   "metadata": {},
   "source": [
    "explain briefly\n"
   ]
  },
  {
   "cell_type": "code",
   "execution_count": null,
   "id": "687af9aa-2afb-4e3e-970c-9b48fae1ac57",
   "metadata": {},
   "outputs": [],
   "source": []
  },
  {
   "cell_type": "code",
   "execution_count": null,
   "id": "e4c53c7b-b93e-4dc0-93af-134dbf18a5c9",
   "metadata": {},
   "outputs": [],
   "source": []
  },
  {
   "cell_type": "markdown",
   "id": "ef333054-1ef9-4470-a272-c7d2816e6d80",
   "metadata": {},
   "source": [
    "#### 5.6 VAR models (application):"
   ]
  },
  {
   "cell_type": "markdown",
   "id": "e6e0e3db-6731-43a1-a23f-39bd9167d806",
   "metadata": {},
   "source": [
    "explain briefly"
   ]
  },
  {
   "cell_type": "code",
   "execution_count": null,
   "id": "8484d524-07d5-4fe2-bcb0-b7ea973f02e3",
   "metadata": {},
   "outputs": [],
   "source": []
  },
  {
   "cell_type": "code",
   "execution_count": null,
   "id": "e2c08e64-6e7a-4884-989d-482dd058c604",
   "metadata": {},
   "outputs": [],
   "source": []
  },
  {
   "cell_type": "code",
   "execution_count": null,
   "id": "5c1c2811-cb90-4f7b-9a9a-e9ad75b29a2e",
   "metadata": {},
   "outputs": [],
   "source": []
  },
  {
   "cell_type": "code",
   "execution_count": null,
   "id": "5a798ca5-cb02-4009-9c49-1d3a21eea210",
   "metadata": {},
   "outputs": [],
   "source": []
  },
  {
   "cell_type": "markdown",
   "id": "999e21be-15a8-4f70-bcb4-c4fcb65d8a03",
   "metadata": {},
   "source": [
    "#### 5.4 Dynamic Factor Model (application):"
   ]
  },
  {
   "cell_type": "markdown",
   "id": "c7d1e667-adc8-4900-b08e-7d849be1491d",
   "metadata": {},
   "source": [
    "Placeholder"
   ]
  },
  {
   "cell_type": "code",
   "execution_count": 12,
   "id": "1ed5ae2e-f72c-4fdd-8c6c-eef01a06f1cd",
   "metadata": {},
   "outputs": [
    {
     "name": "stdout",
     "output_type": "stream",
     "text": [
      "EM start iterations, llf=-3530.5\n",
      "EM iteration 10, llf=-3450.3, convergence criterion=3.8119e-05\n",
      "EM iteration 20, llf=-3449.7, convergence criterion=1.0243e-05\n",
      "EM iteration 30, llf=-3449.4, convergence criterion=4.5627e-06\n",
      "EM iteration 40, llf=-3449.3, convergence criterion=2.581e-06\n",
      "EM iteration 50, llf=-3449.3, convergence criterion=1.687e-06\n",
      "EM iteration 60, llf=-3449.2, convergence criterion=1.2151e-06\n",
      "EM converged at iteration 68, llf=-3449.2, convergence criterion=9.8307e-07 < tolerance=1e-06\n"
     ]
    }
   ],
   "source": [
    "# Remove the index to run the algorithm\n",
    "normalized_monthly_adjust = normalized_monthly.set_index('index')\n",
    "normalized_data = normalized_monthly_adjust.reset_index(drop=True)\n",
    "\n",
    "# Build and fit dynamic factor model using an EM algorithm\n",
    "mod = sm.tsa.DynamicFactorMQ(normalized_data, factors=1, factor_orders=3)\n",
    "\n",
    "res = mod.fit(disp=10)"
   ]
  },
  {
   "cell_type": "code",
   "execution_count": 13,
   "id": "e2231d45-de2c-4a80-b9de-4b7a57458db1",
   "metadata": {},
   "outputs": [
    {
     "data": {
      "text/html": [
       "<table class=\"simpletable\">\n",
       "<caption>Dynamic Factor Results</caption>\n",
       "<tr>\n",
       "  <th>Dep. Variable:</th>   <td>\"payroll\", and 10 more</td>  <th>  No. Observations:  </th>    <td>255</td>   \n",
       "</tr>\n",
       "<tr>\n",
       "  <th>Model:</th>            <td>Dynamic Factor Model</td>   <th>  Log Likelihood     </th> <td>-3449.177</td>\n",
       "</tr>\n",
       "<tr>\n",
       "  <th></th>                 <td>+ 1 factors in 1 blocks</td> <th>  AIC                </th> <td>6972.354</td> \n",
       "</tr>\n",
       "<tr>\n",
       "  <th></th>                  <td>+ AR(1) idiosyncratic</td>  <th>  BIC                </th> <td>7103.381</td> \n",
       "</tr>\n",
       "<tr>\n",
       "  <th>Date:</th>               <td>Sat, 07 May 2022</td>     <th>  HQIC               </th> <td>7025.058</td> \n",
       "</tr>\n",
       "<tr>\n",
       "  <th>Time:</th>                   <td>15:27:39</td>         <th>  EM Iterations      </th>    <td>68</td>    \n",
       "</tr>\n",
       "<tr>\n",
       "  <th>Sample:</th>                     <td>0</td>            <th>                     </th>     <td> </td>    \n",
       "</tr>\n",
       "<tr>\n",
       "  <th></th>                         <td> - 255</td>          <th>                     </th>     <td> </td>    \n",
       "</tr>\n",
       "<tr>\n",
       "  <th>Covariance Type:</th>      <td>Not computed</td>       <th>                     </th>     <td> </td>    \n",
       "</tr>\n",
       "</table>\n",
       "<table class=\"simpletable\">\n",
       "<caption>Observation equation:</caption>\n",
       "<tr>\n",
       "    <th>Factor loadings:</th>      <th>0</th>   <th>   idiosyncratic: AR(1)</th> <th>var.</th>\n",
       "</tr>\n",
       "<tr>\n",
       "         <td>payroll</td>        <td>-0.43</td>          <td>-0.11</td>          <td>0.31</td>\n",
       "</tr>\n",
       "<tr>\n",
       "      <td>job_openings</td>      <td>-0.25</td>          <td>-0.46</td>          <td>0.64</td>\n",
       "</tr>\n",
       "<tr>\n",
       "           <td>ip</td>           <td>-0.44</td>          <td>0.01</td>           <td>0.24</td>\n",
       "</tr>\n",
       "<tr>\n",
       "      <td>vehicle_sales</td>     <td>-0.31</td>          <td>-0.29</td>          <td>0.67</td>\n",
       "</tr>\n",
       "<tr>\n",
       "          <td>quits</td>         <td>-0.24</td>          <td>-0.45</td>          <td>0.66</td>\n",
       "</tr>\n",
       "<tr>\n",
       "         <td>retail</td>         <td>-0.43</td>          <td>-0.05</td>          <td>0.44</td>\n",
       "</tr>\n",
       "<tr>\n",
       "  <td>wholesale_inventories</td> <td>-0.08</td>          <td>0.60</td>           <td>0.64</td>\n",
       "</tr>\n",
       "<tr>\n",
       "   <td>consumer_sentiment</td>   <td>-0.14</td>          <td>-0.04</td>          <td>0.94</td>\n",
       "</tr>\n",
       "<tr>\n",
       "  <td>construction_spending</td> <td>-0.19</td>          <td>0.40</td>           <td>0.76</td>\n",
       "</tr>\n",
       "<tr>\n",
       "       <td>new_orders</td>       <td>-0.26</td>          <td>-0.42</td>          <td>0.68</td>\n",
       "</tr>\n",
       "<tr>\n",
       "     <td>housing_starts</td>     <td>-0.28</td>          <td>-0.43</td>          <td>0.66</td>\n",
       "</tr>\n",
       "</table>\n",
       "<table class=\"simpletable\">\n",
       "<caption>Transition: Factor block 0</caption>\n",
       "<tr>\n",
       "  <th></th>  <th>L1.0</th> <th>L2.0</th>  <th>L3.0</th>  <th>   error variance</th>\n",
       "</tr>\n",
       "<tr>\n",
       "  <td>0</td> <td>0.21</td> <td>-0.17</td> <td>-0.02</td>       <td>3.15</td>       \n",
       "</tr>\n",
       "</table><br/><br/>Warnings:<br/>[1] Covariance matrix not calculated."
      ],
      "text/plain": [
       "<class 'statsmodels.iolib.summary.Summary'>\n",
       "\"\"\"\n",
       "                               Dynamic Factor Results                              \n",
       "===================================================================================\n",
       "Dep. Variable:      \"payroll\", and 10 more   No. Observations:                  255\n",
       "Model:                Dynamic Factor Model   Log Likelihood               -3449.177\n",
       "                   + 1 factors in 1 blocks   AIC                           6972.354\n",
       "                     + AR(1) idiosyncratic   BIC                           7103.381\n",
       "Date:                     Sat, 07 May 2022   HQIC                          7025.058\n",
       "Time:                             15:27:39   EM Iterations                       68\n",
       "Sample:                                  0                                         \n",
       "                                     - 255                                         \n",
       "Covariance Type:              Not computed                                         \n",
       "                       Observation equation:                       \n",
       "===================================================================\n",
       "     Factor loadings:          0    idiosyncratic: AR(1)       var.\n",
       "-------------------------------------------------------------------\n",
       "              payroll      -0.43                   -0.11       0.31\n",
       "         job_openings      -0.25                   -0.46       0.64\n",
       "                   ip      -0.44                    0.01       0.24\n",
       "        vehicle_sales      -0.31                   -0.29       0.67\n",
       "                quits      -0.24                   -0.45       0.66\n",
       "               retail      -0.43                   -0.05       0.44\n",
       "wholesale_inventories      -0.08                    0.60       0.64\n",
       "   consumer_sentiment      -0.14                   -0.04       0.94\n",
       "construction_spending      -0.19                    0.40       0.76\n",
       "           new_orders      -0.26                   -0.42       0.68\n",
       "       housing_starts      -0.28                   -0.43       0.66\n",
       "                  Transition: Factor block 0                 \n",
       "=============================================================\n",
       "                 L1.0       L2.0       L3.0    error variance\n",
       "-------------------------------------------------------------\n",
       "         0       0.21      -0.17      -0.02              3.15\n",
       "=============================================================\n",
       "\n",
       "Warnings:\n",
       "[1] Covariance matrix not calculated.\n",
       "\"\"\""
      ]
     },
     "execution_count": 13,
     "metadata": {},
     "output_type": "execute_result"
    }
   ],
   "source": [
    "# Summary of the model with factor loadings\n",
    "res.summary()"
   ]
  },
  {
   "cell_type": "code",
   "execution_count": 14,
   "id": "2dc1ed2b-7e0d-4561-9ad6-3e7a3025aa3f",
   "metadata": {},
   "outputs": [
    {
     "data": {
      "text/html": [
       "<div>\n",
       "<style scoped>\n",
       "    .dataframe tbody tr th:only-of-type {\n",
       "        vertical-align: middle;\n",
       "    }\n",
       "\n",
       "    .dataframe tbody tr th {\n",
       "        vertical-align: top;\n",
       "    }\n",
       "\n",
       "    .dataframe thead th {\n",
       "        text-align: right;\n",
       "    }\n",
       "</style>\n",
       "<table border=\"1\" class=\"dataframe\">\n",
       "  <thead>\n",
       "    <tr style=\"text-align: right;\">\n",
       "      <th></th>\n",
       "      <th>GDP</th>\n",
       "      <th>level_0</th>\n",
       "      <th>payroll</th>\n",
       "      <th>job_openings</th>\n",
       "      <th>ip</th>\n",
       "      <th>vehicle_sales</th>\n",
       "      <th>quits</th>\n",
       "      <th>retail</th>\n",
       "      <th>wholesale_inventories</th>\n",
       "      <th>consumer_sentiment</th>\n",
       "      <th>construction_spending</th>\n",
       "      <th>new_orders</th>\n",
       "      <th>housing_starts</th>\n",
       "      <th>dfm</th>\n",
       "    </tr>\n",
       "    <tr>\n",
       "      <th>index</th>\n",
       "      <th></th>\n",
       "      <th></th>\n",
       "      <th></th>\n",
       "      <th></th>\n",
       "      <th></th>\n",
       "      <th></th>\n",
       "      <th></th>\n",
       "      <th></th>\n",
       "      <th></th>\n",
       "      <th></th>\n",
       "      <th></th>\n",
       "      <th></th>\n",
       "      <th></th>\n",
       "      <th></th>\n",
       "    </tr>\n",
       "  </thead>\n",
       "  <tbody>\n",
       "    <tr>\n",
       "      <th>2020Q3</th>\n",
       "      <td>8.184244</td>\n",
       "      <td>236.0</td>\n",
       "      <td>0.948176</td>\n",
       "      <td>2.421341</td>\n",
       "      <td>1.585079</td>\n",
       "      <td>7.227744</td>\n",
       "      <td>4.886782</td>\n",
       "      <td>1.413136</td>\n",
       "      <td>0.394046</td>\n",
       "      <td>0.967471</td>\n",
       "      <td>0.558379</td>\n",
       "      <td>4.300963</td>\n",
       "      <td>4.293566</td>\n",
       "      <td>-2.070344</td>\n",
       "    </tr>\n",
       "    <tr>\n",
       "      <th>2020Q4</th>\n",
       "      <td>1.591087</td>\n",
       "      <td>239.0</td>\n",
       "      <td>0.202960</td>\n",
       "      <td>2.204496</td>\n",
       "      <td>0.922760</td>\n",
       "      <td>0.115547</td>\n",
       "      <td>2.900379</td>\n",
       "      <td>-0.259720</td>\n",
       "      <td>0.525904</td>\n",
       "      <td>0.124147</td>\n",
       "      <td>1.010769</td>\n",
       "      <td>1.546522</td>\n",
       "      <td>4.574551</td>\n",
       "      <td>-0.743871</td>\n",
       "    </tr>\n",
       "    <tr>\n",
       "      <th>2021Q1</th>\n",
       "      <td>2.576810</td>\n",
       "      <td>242.0</td>\n",
       "      <td>0.449365</td>\n",
       "      <td>6.689897</td>\n",
       "      <td>0.295912</td>\n",
       "      <td>2.663042</td>\n",
       "      <td>2.668090</td>\n",
       "      <td>4.477619</td>\n",
       "      <td>1.142129</td>\n",
       "      <td>1.691184</td>\n",
       "      <td>0.968967</td>\n",
       "      <td>1.648741</td>\n",
       "      <td>1.260241</td>\n",
       "      <td>-1.649417</td>\n",
       "    </tr>\n",
       "    <tr>\n",
       "      <th>2021Q2</th>\n",
       "      <td>3.138917</td>\n",
       "      <td>245.0</td>\n",
       "      <td>0.291137</td>\n",
       "      <td>4.998801</td>\n",
       "      <td>0.437010</td>\n",
       "      <td>-4.320419</td>\n",
       "      <td>2.470266</td>\n",
       "      <td>-0.511995</td>\n",
       "      <td>1.187594</td>\n",
       "      <td>0.234743</td>\n",
       "      <td>0.654577</td>\n",
       "      <td>1.077530</td>\n",
       "      <td>-1.340610</td>\n",
       "      <td>-0.345888</td>\n",
       "    </tr>\n",
       "    <tr>\n",
       "      <th>2021Q3</th>\n",
       "      <td>2.008565</td>\n",
       "      <td>248.0</td>\n",
       "      <td>0.370847</td>\n",
       "      <td>2.668090</td>\n",
       "      <td>-0.202931</td>\n",
       "      <td>-7.612052</td>\n",
       "      <td>1.169711</td>\n",
       "      <td>0.119586</td>\n",
       "      <td>1.095171</td>\n",
       "      <td>-5.360014</td>\n",
       "      <td>0.689639</td>\n",
       "      <td>0.473982</td>\n",
       "      <td>-2.225127</td>\n",
       "      <td>0.200541</td>\n",
       "    </tr>\n",
       "  </tbody>\n",
       "</table>\n",
       "</div>"
      ],
      "text/plain": [
       "             GDP  level_0   payroll  job_openings        ip  vehicle_sales  \\\n",
       "index                                                                        \n",
       "2020Q3  8.184244    236.0  0.948176      2.421341  1.585079       7.227744   \n",
       "2020Q4  1.591087    239.0  0.202960      2.204496  0.922760       0.115547   \n",
       "2021Q1  2.576810    242.0  0.449365      6.689897  0.295912       2.663042   \n",
       "2021Q2  3.138917    245.0  0.291137      4.998801  0.437010      -4.320419   \n",
       "2021Q3  2.008565    248.0  0.370847      2.668090 -0.202931      -7.612052   \n",
       "\n",
       "           quits    retail  wholesale_inventories  consumer_sentiment  \\\n",
       "index                                                                   \n",
       "2020Q3  4.886782  1.413136               0.394046            0.967471   \n",
       "2020Q4  2.900379 -0.259720               0.525904            0.124147   \n",
       "2021Q1  2.668090  4.477619               1.142129            1.691184   \n",
       "2021Q2  2.470266 -0.511995               1.187594            0.234743   \n",
       "2021Q3  1.169711  0.119586               1.095171           -5.360014   \n",
       "\n",
       "        construction_spending  new_orders  housing_starts       dfm  \n",
       "index                                                                \n",
       "2020Q3               0.558379    4.300963        4.293566 -2.070344  \n",
       "2020Q4               1.010769    1.546522        4.574551 -0.743871  \n",
       "2021Q1               0.968967    1.648741        1.260241 -1.649417  \n",
       "2021Q2               0.654577    1.077530       -1.340610 -0.345888  \n",
       "2021Q3               0.689639    0.473982       -2.225127  0.200541  "
      ]
     },
     "execution_count": 14,
     "metadata": {},
     "output_type": "execute_result"
    }
   ],
   "source": [
    "# Add factor to the dataframe of all series\n",
    "factor = res.factors[\"smoothed\"].rename({\"0\": \"dfm\"}, axis='columns')\n",
    "\n",
    "normalized_with_factors = pd.concat([normalized_monthly.reset_index(), factor], axis=1).set_index('index')\n",
    "\n",
    "#Adjusting index\n",
    "normalized_with_factors = normalized_with_factors.reset_index()\n",
    "normalized_with_factors.set_index('index')\n",
    "\n",
    "# Put data on a quarterly basis\n",
    "quarterly = normalized_with_factors.groupby(pd.PeriodIndex(normalized_with_factors['index'], freq='Q')).mean().reset_index()\n",
    "\n",
    "# Adjust the gdp data series\n",
    "df_gdp = pd.DataFrame(gdp).loc[(pd.DataFrame(gdp).index >= '2000-10-01') & (pd.DataFrame(gdp).index <= '2021-10-01')].reset_index().rename(columns={\"index\": \"old_index\"})\n",
    "\n",
    "df_gdp['GDP'] = np.log(df_gdp['GDP']).diff()*100\n",
    "\n",
    "# Add on a single dataframe\n",
    "quarterly_all_factor = pd.concat([df_gdp, quarterly], axis=1).drop('old_index', axis=1).set_index('index')\n",
    "quarterly_all_factor = quarterly_all_factor.dropna()[:-1]\n",
    "\n",
    "# Finally, we've got the data\n",
    "quarterly_all_factor.tail()\n"
   ]
  },
  {
   "cell_type": "code",
   "execution_count": 15,
   "id": "5be94e38-167f-4a31-8ea1-7447c1beb328",
   "metadata": {},
   "outputs": [
    {
     "data": {
      "text/html": [
       "<table class=\"simpletable\">\n",
       "<caption>OLS Regression Results</caption>\n",
       "<tr>\n",
       "  <th>Dep. Variable:</th>           <td>GDP</td>       <th>  R-squared:         </th> <td>   0.476</td>\n",
       "</tr>\n",
       "<tr>\n",
       "  <th>Model:</th>                   <td>OLS</td>       <th>  Adj. R-squared:    </th> <td>   0.469</td>\n",
       "</tr>\n",
       "<tr>\n",
       "  <th>Method:</th>             <td>Least Squares</td>  <th>  F-statistic:       </th> <td>   73.53</td>\n",
       "</tr>\n",
       "<tr>\n",
       "  <th>Date:</th>             <td>Sat, 07 May 2022</td> <th>  Prob (F-statistic):</th> <td>5.50e-13</td>\n",
       "</tr>\n",
       "<tr>\n",
       "  <th>Time:</th>                 <td>15:27:39</td>     <th>  Log-Likelihood:    </th> <td> -130.07</td>\n",
       "</tr>\n",
       "<tr>\n",
       "  <th>No. Observations:</th>      <td>    83</td>      <th>  AIC:               </th> <td>   264.1</td>\n",
       "</tr>\n",
       "<tr>\n",
       "  <th>Df Residuals:</th>          <td>    81</td>      <th>  BIC:               </th> <td>   269.0</td>\n",
       "</tr>\n",
       "<tr>\n",
       "  <th>Df Model:</th>              <td>     1</td>      <th>                     </th>     <td> </td>   \n",
       "</tr>\n",
       "<tr>\n",
       "  <th>Covariance Type:</th>      <td>nonrobust</td>    <th>                     </th>     <td> </td>   \n",
       "</tr>\n",
       "</table>\n",
       "<table class=\"simpletable\">\n",
       "<tr>\n",
       "    <td></td>       <th>coef</th>     <th>std err</th>      <th>t</th>      <th>P>|t|</th>  <th>[0.025</th>    <th>0.975]</th>  \n",
       "</tr>\n",
       "<tr>\n",
       "  <th>dfm</th>   <td>   -1.5685</td> <td>    0.183</td> <td>   -8.575</td> <td> 0.000</td> <td>   -1.932</td> <td>   -1.205</td>\n",
       "</tr>\n",
       "<tr>\n",
       "  <th>const</th> <td>    0.9935</td> <td>    0.129</td> <td>    7.707</td> <td> 0.000</td> <td>    0.737</td> <td>    1.250</td>\n",
       "</tr>\n",
       "</table>\n",
       "<table class=\"simpletable\">\n",
       "<tr>\n",
       "  <th>Omnibus:</th>       <td>82.444</td> <th>  Durbin-Watson:     </th> <td>   2.653</td>\n",
       "</tr>\n",
       "<tr>\n",
       "  <th>Prob(Omnibus):</th> <td> 0.000</td> <th>  Jarque-Bera (JB):  </th> <td>1593.869</td>\n",
       "</tr>\n",
       "<tr>\n",
       "  <th>Skew:</th>          <td>-2.668</td> <th>  Prob(JB):          </th> <td>    0.00</td>\n",
       "</tr>\n",
       "<tr>\n",
       "  <th>Kurtosis:</th>      <td>23.794</td> <th>  Cond. No.          </th> <td>    1.42</td>\n",
       "</tr>\n",
       "</table><br/><br/>Notes:<br/>[1] Standard Errors assume that the covariance matrix of the errors is correctly specified."
      ],
      "text/plain": [
       "<class 'statsmodels.iolib.summary.Summary'>\n",
       "\"\"\"\n",
       "                            OLS Regression Results                            \n",
       "==============================================================================\n",
       "Dep. Variable:                    GDP   R-squared:                       0.476\n",
       "Model:                            OLS   Adj. R-squared:                  0.469\n",
       "Method:                 Least Squares   F-statistic:                     73.53\n",
       "Date:                Sat, 07 May 2022   Prob (F-statistic):           5.50e-13\n",
       "Time:                        15:27:39   Log-Likelihood:                -130.07\n",
       "No. Observations:                  83   AIC:                             264.1\n",
       "Df Residuals:                      81   BIC:                             269.0\n",
       "Df Model:                           1                                         \n",
       "Covariance Type:            nonrobust                                         \n",
       "==============================================================================\n",
       "                 coef    std err          t      P>|t|      [0.025      0.975]\n",
       "------------------------------------------------------------------------------\n",
       "dfm           -1.5685      0.183     -8.575      0.000      -1.932      -1.205\n",
       "const          0.9935      0.129      7.707      0.000       0.737       1.250\n",
       "==============================================================================\n",
       "Omnibus:                       82.444   Durbin-Watson:                   2.653\n",
       "Prob(Omnibus):                  0.000   Jarque-Bera (JB):             1593.869\n",
       "Skew:                          -2.668   Prob(JB):                         0.00\n",
       "Kurtosis:                      23.794   Cond. No.                         1.42\n",
       "==============================================================================\n",
       "\n",
       "Notes:\n",
       "[1] Standard Errors assume that the covariance matrix of the errors is correctly specified.\n",
       "\"\"\""
      ]
     },
     "execution_count": 15,
     "metadata": {},
     "output_type": "execute_result"
    }
   ],
   "source": [
    "# Regression of factor model\n",
    "quarterly_all_factor = sm.add_constant(quarterly_all_factor)\n",
    "regression_factor = sm.OLS(quarterly_all_factor['GDP'],quarterly_all_factor[['dfm', 'const']], missing='drop').fit()\n",
    "regression_factor.summary()"
   ]
  },
  {
   "cell_type": "code",
   "execution_count": 16,
   "id": "8e45cc5d-7c72-4201-8681-56fe664134f8",
   "metadata": {},
   "outputs": [
    {
     "data": {
      "text/html": [
       "<div>\n",
       "<style scoped>\n",
       "    .dataframe tbody tr th:only-of-type {\n",
       "        vertical-align: middle;\n",
       "    }\n",
       "\n",
       "    .dataframe tbody tr th {\n",
       "        vertical-align: top;\n",
       "    }\n",
       "\n",
       "    .dataframe thead th {\n",
       "        text-align: right;\n",
       "    }\n",
       "</style>\n",
       "<table border=\"1\" class=\"dataframe\">\n",
       "  <thead>\n",
       "    <tr style=\"text-align: right;\">\n",
       "      <th></th>\n",
       "      <th>const</th>\n",
       "      <th>GDP</th>\n",
       "      <th>level_0</th>\n",
       "      <th>payroll</th>\n",
       "      <th>job_openings</th>\n",
       "      <th>ip</th>\n",
       "      <th>vehicle_sales</th>\n",
       "      <th>quits</th>\n",
       "      <th>retail</th>\n",
       "      <th>wholesale_inventories</th>\n",
       "      <th>consumer_sentiment</th>\n",
       "      <th>construction_spending</th>\n",
       "      <th>new_orders</th>\n",
       "      <th>housing_starts</th>\n",
       "      <th>dfm</th>\n",
       "      <th>Predict</th>\n",
       "    </tr>\n",
       "    <tr>\n",
       "      <th>index</th>\n",
       "      <th></th>\n",
       "      <th></th>\n",
       "      <th></th>\n",
       "      <th></th>\n",
       "      <th></th>\n",
       "      <th></th>\n",
       "      <th></th>\n",
       "      <th></th>\n",
       "      <th></th>\n",
       "      <th></th>\n",
       "      <th></th>\n",
       "      <th></th>\n",
       "      <th></th>\n",
       "      <th></th>\n",
       "      <th></th>\n",
       "      <th></th>\n",
       "    </tr>\n",
       "  </thead>\n",
       "  <tbody>\n",
       "    <tr>\n",
       "      <th>2001Q1</th>\n",
       "      <td>1.0</td>\n",
       "      <td>0.329925</td>\n",
       "      <td>2.0</td>\n",
       "      <td>0.009543</td>\n",
       "      <td>-2.207236</td>\n",
       "      <td>-0.500511</td>\n",
       "      <td>2.044262</td>\n",
       "      <td>1.481725</td>\n",
       "      <td>-0.043913</td>\n",
       "      <td>-0.015097</td>\n",
       "      <td>-2.423394</td>\n",
       "      <td>0.672596</td>\n",
       "      <td>-1.159559</td>\n",
       "      <td>1.238665</td>\n",
       "      <td>0.495542</td>\n",
       "      <td>0.216234</td>\n",
       "    </tr>\n",
       "    <tr>\n",
       "      <th>2001Q2</th>\n",
       "      <td>1.0</td>\n",
       "      <td>1.222357</td>\n",
       "      <td>5.0</td>\n",
       "      <td>-0.112685</td>\n",
       "      <td>-2.932212</td>\n",
       "      <td>-0.486808</td>\n",
       "      <td>0.414847</td>\n",
       "      <td>-1.481725</td>\n",
       "      <td>0.488294</td>\n",
       "      <td>0.015636</td>\n",
       "      <td>0.398339</td>\n",
       "      <td>1.095764</td>\n",
       "      <td>-1.089457</td>\n",
       "      <td>0.950674</td>\n",
       "      <td>0.467943</td>\n",
       "      <td>0.259524</td>\n",
       "    </tr>\n",
       "    <tr>\n",
       "      <th>2001Q3</th>\n",
       "      <td>1.0</td>\n",
       "      <td>-0.009247</td>\n",
       "      <td>8.0</td>\n",
       "      <td>-0.133298</td>\n",
       "      <td>-2.293757</td>\n",
       "      <td>-0.412019</td>\n",
       "      <td>-2.166557</td>\n",
       "      <td>-1.550667</td>\n",
       "      <td>-0.552672</td>\n",
       "      <td>-0.487928</td>\n",
       "      <td>-4.133730</td>\n",
       "      <td>-0.721291</td>\n",
       "      <td>-2.395150</td>\n",
       "      <td>-1.542906</td>\n",
       "      <td>0.922908</td>\n",
       "      <td>-0.454095</td>\n",
       "    </tr>\n",
       "    <tr>\n",
       "      <th>2001Q4</th>\n",
       "      <td>1.0</td>\n",
       "      <td>0.587485</td>\n",
       "      <td>11.0</td>\n",
       "      <td>-0.200189</td>\n",
       "      <td>-3.393049</td>\n",
       "      <td>-0.315040</td>\n",
       "      <td>0.203067</td>\n",
       "      <td>-1.626339</td>\n",
       "      <td>0.882632</td>\n",
       "      <td>-0.793410</td>\n",
       "      <td>2.736980</td>\n",
       "      <td>0.485141</td>\n",
       "      <td>0.239002</td>\n",
       "      <td>0.127796</td>\n",
       "      <td>0.373323</td>\n",
       "      <td>0.407937</td>\n",
       "    </tr>\n",
       "    <tr>\n",
       "      <th>2002Q1</th>\n",
       "      <td>1.0</td>\n",
       "      <td>1.147515</td>\n",
       "      <td>14.0</td>\n",
       "      <td>-0.067508</td>\n",
       "      <td>-0.594519</td>\n",
       "      <td>0.478147</td>\n",
       "      <td>1.275027</td>\n",
       "      <td>-1.709776</td>\n",
       "      <td>0.066198</td>\n",
       "      <td>-0.371882</td>\n",
       "      <td>2.494388</td>\n",
       "      <td>-0.202176</td>\n",
       "      <td>0.510080</td>\n",
       "      <td>1.537136</td>\n",
       "      <td>-0.042986</td>\n",
       "      <td>1.060922</td>\n",
       "    </tr>\n",
       "  </tbody>\n",
       "</table>\n",
       "</div>"
      ],
      "text/plain": [
       "        const       GDP  level_0   payroll  job_openings        ip  \\\n",
       "index                                                                \n",
       "2001Q1    1.0  0.329925      2.0  0.009543     -2.207236 -0.500511   \n",
       "2001Q2    1.0  1.222357      5.0 -0.112685     -2.932212 -0.486808   \n",
       "2001Q3    1.0 -0.009247      8.0 -0.133298     -2.293757 -0.412019   \n",
       "2001Q4    1.0  0.587485     11.0 -0.200189     -3.393049 -0.315040   \n",
       "2002Q1    1.0  1.147515     14.0 -0.067508     -0.594519  0.478147   \n",
       "\n",
       "        vehicle_sales     quits    retail  wholesale_inventories  \\\n",
       "index                                                              \n",
       "2001Q1       2.044262  1.481725 -0.043913              -0.015097   \n",
       "2001Q2       0.414847 -1.481725  0.488294               0.015636   \n",
       "2001Q3      -2.166557 -1.550667 -0.552672              -0.487928   \n",
       "2001Q4       0.203067 -1.626339  0.882632              -0.793410   \n",
       "2002Q1       1.275027 -1.709776  0.066198              -0.371882   \n",
       "\n",
       "        consumer_sentiment  construction_spending  new_orders  housing_starts  \\\n",
       "index                                                                           \n",
       "2001Q1           -2.423394               0.672596   -1.159559        1.238665   \n",
       "2001Q2            0.398339               1.095764   -1.089457        0.950674   \n",
       "2001Q3           -4.133730              -0.721291   -2.395150       -1.542906   \n",
       "2001Q4            2.736980               0.485141    0.239002        0.127796   \n",
       "2002Q1            2.494388              -0.202176    0.510080        1.537136   \n",
       "\n",
       "             dfm   Predict  \n",
       "index                       \n",
       "2001Q1  0.495542  0.216234  \n",
       "2001Q2  0.467943  0.259524  \n",
       "2001Q3  0.922908 -0.454095  \n",
       "2001Q4  0.373323  0.407937  \n",
       "2002Q1 -0.042986  1.060922  "
      ]
     },
     "execution_count": 16,
     "metadata": {},
     "output_type": "execute_result"
    }
   ],
   "source": [
    "# Merge with predict series\n",
    "quarterly_predict = quarterly_all_factor.reset_index()\n",
    "regression_fit = pd.DataFrame(regression_factor.predict(), columns = ['Predict'])\n",
    "quarterly_predict = pd.concat([quarterly_predict, regression_fit], axis=1).set_index('index')\n",
    "quarterly_predict.head()"
   ]
  },
  {
   "cell_type": "code",
   "execution_count": 17,
   "id": "5b0523c9-2e2f-407b-893b-7395c1afb556",
   "metadata": {},
   "outputs": [
    {
     "data": {
      "text/plain": [
       "<matplotlib.legend.Legend at 0x1a3669e73a0>"
      ]
     },
     "execution_count": 17,
     "metadata": {},
     "output_type": "execute_result"
    },
    {
     "data": {
      "image/png": "[encoded data removed]",
      "text/plain": [
       "<Figure size 432x288 with 1 Axes>"
      ]
     },
     "metadata": {
      "needs_background": "light"
     },
     "output_type": "display_data"
    }
   ],
   "source": [
    "### in plot method we set the label and color of the curve.\n",
    "quarterly_predict['GDP'].plot(label='GDP', color='blue')\n",
    "quarterly_predict['Predict'].plot(label='Nowcaster (in-sample)', color='orange')\n",
    "  \n",
    "# adding title to the plot\n",
    "plt.title('GDP growth and Nowcaster')\n",
    "  \n",
    "# adding Label to the x-axis\n",
    "plt.xlabel('Years')\n",
    "  \n",
    "# adding legend to the curve\n",
    "plt.legend()"
   ]
  },
  {
   "cell_type": "code",
   "execution_count": 18,
   "id": "903a51a1-bc6b-4730-8032-53954f57d9e2",
   "metadata": {},
   "outputs": [
    {
     "data": {
      "text/html": [
       "<table class=\"simpletable\">\n",
       "<caption>OLS Regression Results</caption>\n",
       "<tr>\n",
       "  <th>Dep. Variable:</th>           <td>GDP</td>       <th>  R-squared:         </th> <td>   0.632</td>\n",
       "</tr>\n",
       "<tr>\n",
       "  <th>Model:</th>                   <td>OLS</td>       <th>  Adj. R-squared:    </th> <td>   0.623</td>\n",
       "</tr>\n",
       "<tr>\n",
       "  <th>Method:</th>             <td>Least Squares</td>  <th>  F-statistic:       </th> <td>   65.33</td>\n",
       "</tr>\n",
       "<tr>\n",
       "  <th>Date:</th>             <td>Sat, 07 May 2022</td> <th>  Prob (F-statistic):</th> <td>8.87e-10</td>\n",
       "</tr>\n",
       "<tr>\n",
       "  <th>Time:</th>                 <td>15:27:39</td>     <th>  Log-Likelihood:    </th> <td> -28.157</td>\n",
       "</tr>\n",
       "<tr>\n",
       "  <th>No. Observations:</th>      <td>    40</td>      <th>  AIC:               </th> <td>   60.31</td>\n",
       "</tr>\n",
       "<tr>\n",
       "  <th>Df Residuals:</th>          <td>    38</td>      <th>  BIC:               </th> <td>   63.69</td>\n",
       "</tr>\n",
       "<tr>\n",
       "  <th>Df Model:</th>              <td>     1</td>      <th>                     </th>     <td> </td>   \n",
       "</tr>\n",
       "<tr>\n",
       "  <th>Covariance Type:</th>      <td>nonrobust</td>    <th>                     </th>     <td> </td>   \n",
       "</tr>\n",
       "</table>\n",
       "<table class=\"simpletable\">\n",
       "<tr>\n",
       "    <td></td>       <th>coef</th>     <th>std err</th>      <th>t</th>      <th>P>|t|</th>  <th>[0.025</th>    <th>0.975]</th>  \n",
       "</tr>\n",
       "<tr>\n",
       "  <th>dfm</th>   <td>   -0.9063</td> <td>    0.112</td> <td>   -8.083</td> <td> 0.000</td> <td>   -1.133</td> <td>   -0.679</td>\n",
       "</tr>\n",
       "<tr>\n",
       "  <th>const</th> <td>    1.1064</td> <td>    0.081</td> <td>   13.584</td> <td> 0.000</td> <td>    0.942</td> <td>    1.271</td>\n",
       "</tr>\n",
       "</table>\n",
       "<table class=\"simpletable\">\n",
       "<tr>\n",
       "  <th>Omnibus:</th>       <td> 0.029</td> <th>  Durbin-Watson:     </th> <td>   1.807</td>\n",
       "</tr>\n",
       "<tr>\n",
       "  <th>Prob(Omnibus):</th> <td> 0.986</td> <th>  Jarque-Bera (JB):  </th> <td>   0.178</td>\n",
       "</tr>\n",
       "<tr>\n",
       "  <th>Skew:</th>          <td> 0.054</td> <th>  Prob(JB):          </th> <td>   0.915</td>\n",
       "</tr>\n",
       "<tr>\n",
       "  <th>Kurtosis:</th>      <td> 2.691</td> <th>  Cond. No.          </th> <td>    1.49</td>\n",
       "</tr>\n",
       "</table><br/><br/>Notes:<br/>[1] Standard Errors assume that the covariance matrix of the errors is correctly specified."
      ],
      "text/plain": [
       "<class 'statsmodels.iolib.summary.Summary'>\n",
       "\"\"\"\n",
       "                            OLS Regression Results                            \n",
       "==============================================================================\n",
       "Dep. Variable:                    GDP   R-squared:                       0.632\n",
       "Model:                            OLS   Adj. R-squared:                  0.623\n",
       "Method:                 Least Squares   F-statistic:                     65.33\n",
       "Date:                Sat, 07 May 2022   Prob (F-statistic):           8.87e-10\n",
       "Time:                        15:27:39   Log-Likelihood:                -28.157\n",
       "No. Observations:                  40   AIC:                             60.31\n",
       "Df Residuals:                      38   BIC:                             63.69\n",
       "Df Model:                           1                                         \n",
       "Covariance Type:            nonrobust                                         \n",
       "==============================================================================\n",
       "                 coef    std err          t      P>|t|      [0.025      0.975]\n",
       "------------------------------------------------------------------------------\n",
       "dfm           -0.9063      0.112     -8.083      0.000      -1.133      -0.679\n",
       "const          1.1064      0.081     13.584      0.000       0.942       1.271\n",
       "==============================================================================\n",
       "Omnibus:                        0.029   Durbin-Watson:                   1.807\n",
       "Prob(Omnibus):                  0.986   Jarque-Bera (JB):                0.178\n",
       "Skew:                           0.054   Prob(JB):                        0.915\n",
       "Kurtosis:                       2.691   Cond. No.                         1.49\n",
       "==============================================================================\n",
       "\n",
       "Notes:\n",
       "[1] Standard Errors assume that the covariance matrix of the errors is correctly specified.\n",
       "\"\"\""
      ]
     },
     "execution_count": 18,
     "metadata": {},
     "output_type": "execute_result"
    }
   ],
   "source": [
    "# Now, we run with the train sample from 2000 to 2010\n",
    "quarterly_restrict = quarterly_all_factor[:-43]\n",
    "regression_factor_train = sm.OLS(quarterly_restrict['GDP'], quarterly_restrict[['dfm', 'const']]).fit()\n",
    "regression_factor_train.summary()"
   ]
  },
  {
   "cell_type": "code",
   "execution_count": 19,
   "id": "8583bfbd-06db-4614-bcf1-df53931be7cf",
   "metadata": {},
   "outputs": [
    {
     "data": {
      "text/plain": [
       "<matplotlib.legend.Legend at 0x1a366ac94c0>"
      ]
     },
     "execution_count": 19,
     "metadata": {},
     "output_type": "execute_result"
    },
    {
     "data": {
      "image/png": "[encoded data removed]",
      "text/plain": [
       "<Figure size 432x288 with 1 Axes>"
      ]
     },
     "metadata": {
      "needs_background": "light"
     },
     "output_type": "display_data"
    }
   ],
   "source": [
    "### in plot method we set the label and color of the curve.\n",
    "quarterly_predict['GDP'][40:].plot(label='GDP', color='blue')\n",
    "\n",
    "out_of_sample_teste = -0.93*quarterly_predict['dfm'] + 1.1081\n",
    "out_of_sample_teste[40:].plot(label='Nowcaster (out-of-sample)', color='red')\n",
    "\n",
    "quarterly_predict['Predict'][40:].plot(label='Nowcaster (in-sample)', color='orange')\n",
    "  \n",
    "# adding title to the plot\n",
    "plt.title('GDP growth and Nowcaster')\n",
    "  \n",
    "# adding Label to the x-axis\n",
    "plt.xlabel('Years')\n",
    "  \n",
    "# adding legend to the curve\n",
    "plt.legend()"
   ]
  },
  {
   "cell_type": "code",
   "execution_count": 20,
   "id": "4fb3d09b-403f-4be3-b6b1-7f33f985f3e3",
   "metadata": {},
   "outputs": [
    {
     "name": "stdout",
     "output_type": "stream",
     "text": [
      "Out-of-Sample RMSE is : 1.6717869752834398\n",
      "In-Sample RMSE is : 1.457240485316347\n"
     ]
    }
   ],
   "source": [
    "dfm_rmse_out_sample = math.sqrt(sklearn.metrics.mean_squared_error(quarterly_predict['GDP'][40:], out_of_sample_teste[40:]))\n",
    "dfm_rmse_in_sample = math.sqrt(sklearn.metrics.mean_squared_error(quarterly_predict['GDP'][40:], quarterly_predict['Predict'][40:]))\n",
    "\n",
    "print(f\"Out-of-Sample RMSE is : {dfm_rmse_out_sample}\")\n",
    "print(f\"In-Sample RMSE is : {dfm_rmse_in_sample}\")"
   ]
  },
  {
   "cell_type": "markdown",
   "id": "a6514574-2d55-4fd5-bb4d-ae9fc9f17332",
   "metadata": {},
   "source": [
    "## 6. Conclusion"
   ]
  },
  {
   "cell_type": "code",
   "execution_count": null,
   "id": "4613effb-ddbe-4647-b24c-ec06cc4bbcee",
   "metadata": {},
   "outputs": [],
   "source": []
  },
  {
   "cell_type": "code",
   "execution_count": null,
   "id": "27d16ed3-1b21-48dd-b671-a0e4f3b65172",
   "metadata": {},
   "outputs": [],
   "source": []
  },
  {
   "cell_type": "code",
   "execution_count": null,
   "id": "01f5956d-34d8-4535-b23d-93fd7a13131c",
   "metadata": {},
   "outputs": [],
   "source": []
  },
  {
   "cell_type": "markdown",
   "id": "1a41b0c9-3fea-48c2-8de3-1e3ab3bc1fe7",
   "metadata": {},
   "source": [
    "## 7. References"
   ]
  },
  {
   "cell_type": "markdown",
   "id": "fc21434a-36bf-4cdb-b76e-a3229dea6d3b",
   "metadata": {},
   "source": [
    "References (make this more professional)"
   ]
  },
  {
   "cell_type": "markdown",
   "id": "e1f2e31a-c92f-428e-a187-4780b10ad839",
   "metadata": {},
   "source": [
    "https://machinelearningmastery.com/exponential-smoothing-for-time-series-forecasting-in-python/\n",
    "\n",
    "https://python-advanced.quantecon.org/arma.html\n",
    "\n",
    "https://www.bounteous.com/insights/2020/09/15/forecasting-time-series-model-using-python-part-two/\n",
    "\n",
    "Towards Science: A One-Stop Shop for Principal Component Analysis (https://towardsdatascience.com/a-one-stop-shop-for-principal-component-analysis-5582fb7e0a9c).\n",
    "\n",
    "In Depth: Principal Component Analysis (https://jakevdp.github.io/PythonDataScienceHandbook/05.09-principal-component-analysis.html).\n",
    "\n",
    "Advanced Data Analysis from an Elementary Point of View (https://www.stat.cmu.edu/~cshalizi/uADA/15/lectures/17.pdf).\n",
    "\n",
    "Applications of Principal Component Analysis (PCA) (https://iq.opengenus.org/applications-of-pca/).\n",
    "\n",
    "https://towardsdatascience.com/time-series-in-python-exponential-smoothing-and-arima-processes-2c67f2a52788"
   ]
  },
  {
   "cell_type": "markdown",
   "id": "6f09f7d8-806f-40b8-9b64-88e53708dc9a",
   "metadata": {},
   "source": [
    "Biau, O. and D’Elia, A., (2011), ”Euro area GDP forecasting using large survey datasets”. \n",
    "\n",
    "Cook, Thomas R., and Aaron Smalter Hall. “Macroeconomic Indicator Forecasting with Deep Neural Networks.” Federal Reserve Bank of Kansas City, Research Working Paper 17-11, September. Available at External Link https://doi.org/10.18651/RWP2017-11\n",
    "\n",
    "Rodríguez-Vargas, A. (2020). Forecasting Costa Rican Inflation With Machine Learning Methods. Latin Am. J. Cent. Banking. 1, 100012. doi:10.1016/j.latcb.2020.100012 \n",
    "\n",
    "Ban, T., Zhang, R., Pang, S., Sarrafzadeh, A., and Inoue, D. (2013). “Referential Knn Regression for Financial Time Series Forecasting,” in International Conference on Neural Information Processing (Springer), 601–608. doi:10.1007/978-3-642-42054-2_75\n",
    "\n",
    "Diebold, F. X., and Nason, J. A. (1990). Nonparametric Exchange Rate Prediction? J. Int. Econ. 28, 315–332. doi:10.1016/0022-1996(90)90006-8\n",
    "\n",
    "Lee, T. H., White, H., and Granger, C. W. J. (1993). Testing for neglected nonlinearity in time series models. A comparison of neural network methods and alternative tests. Journal of Econometrics, 56(3):269–290. \n",
    "\n",
    "Stone, C. J. (1977). Consistent Nonparametric Regression. Ann. Stat. 5, 595–620. doi:10.1214/aos/1176343886\n",
    "\n",
    "Swanson, N. R. and White, H. (1997). A Model Selection Approach To Real-Time Macroeconomic Forecasting Using Linear Models And Artificial Neural Networks. The Review of Economics and Statistics, 79(4):540–550. \n",
    "\n",
    "FRED, federal reserve economic data. St. Louis, MO: Federal Reserve Bank of St. Louis, 1997. Software, E-Resource. https://lccn.loc.gov/98802805."
   ]
  },
  {
   "cell_type": "code",
   "execution_count": null,
   "id": "79ed0a15-2826-44aa-a05f-ee79f93b2f04",
   "metadata": {},
   "outputs": [],
   "source": []
  }
 ],
 "metadata": {
  "kernelspec": {
   "display_name": "Python 3",
   "language": "python",
   "name": "python3"
  },
  "language_info": {
   "codemirror_mode": {
    "name": "ipython",
    "version": 3
   },
   "file_extension": ".py",
   "mimetype": "text/x-python",
   "name": "python",
   "nbconvert_exporter": "python",
   "pygments_lexer": "ipython3",
   "version": "3.8.8"
  }
 },
 "nbformat": 4,
 "nbformat_minor": 5
}
