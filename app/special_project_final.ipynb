{
 "cells": [
  {
   "cell_type": "markdown",
   "id": "b679b64a-fde4-492c-a2be-78c1c68ba2fa",
   "metadata": {},
   "source": [
    "# Is Black-Box Modeling the Future of Macroeconomic Forecasting?"
   ]
  },
  {
   "cell_type": "markdown",
   "id": "2ab38521-f505-40c5-b56d-e4d0b36f6f9d",
   "metadata": {},
   "source": [
    "Sahil Nisar (sn3028@nyu.edu)\n",
    "\n",
    "Suniya Raza (sr5748@nyu.edu)\n",
    "\n",
    "Vinicius Moreira (vgm236@nyu.edu)\n",
    "\n",
    "Graduate School of Arts and Science (GSAS) at New York University (NYU)\n",
    "\n",
    "2022"
   ]
  },
  {
   "cell_type": "markdown",
   "id": "2accd4f7-2b08-411a-9016-ff9b99614eca",
   "metadata": {},
   "source": [
    "PLACEHOLDER FOR SUMMARY"
   ]
  },
  {
   "cell_type": "code",
   "execution_count": 1,
   "id": "98bb378e-82a2-46a6-97c5-609e595e2251",
   "metadata": {},
   "outputs": [],
   "source": [
    "#Packages\n",
    "import fredapi as fa\n",
    "import pandas as pd\n",
    "import numpy as np\n",
    "import matplotlib.pyplot as plt\n",
    "import sklearn\n",
    "import math\n",
    "from pandas.plotting import autocorrelation_plot\n",
    "import statsmodels.api as sm\n",
    "import statsmodels.formula.api as smf\n",
    "from statsmodels.tsa.api import ExponentialSmoothing, SimpleExpSmoothing, Holt\n",
    "from statsmodels.tsa.stattools import adfuller\n",
    "from statsmodels.tsa.api import VAR\n",
    "from statsmodels.tools.eval_measures import rmse, aic\n",
    "from sklearn.neighbors import KNeighborsRegressor\n",
    "from sklearn.model_selection import train_test_split\n",
    "from sklearn.linear_model import LinearRegression\n",
    "from sklearn.decomposition import PCA\n",
    "\n",
    "%matplotlib inline"
   ]
  },
  {
   "cell_type": "markdown",
   "id": "cdd6165c-13b8-4cb1-a886-b4c11cb4dfcf",
   "metadata": {
    "tags": []
   },
   "source": [
    "## 1. Introduction "
   ]
  },
  {
   "cell_type": "markdown",
   "id": "df091dc1-9a9f-4229-9690-120feb0cb3ec",
   "metadata": {},
   "source": [
    "Forecasting macroeconomic and financial variables has always been a challenge, especially since this requires forecasters to make discretionary choices about the data and methodology. Even though most choices have their basis in economic intuition and judgment, there is a high possibility that the assumptions made could be flawed. This concern has been aggravated especially due to the inability of traditional methods to accurately perform during unprecedented times such as the global financial crises in 2008 or the recent COVID-19 pandemic. The predictors and models that have proved to be useful for predictions in normal times have failed to generate appropriate insights during the time of crises. "
   ]
  },
  {
   "cell_type": "markdown",
   "id": "5b46fb7f-e480-453d-9b40-f7d90aaf5e3d",
   "metadata": {},
   "source": [
    "Machine Learning (ML) techniques on the other hand, automate most of the choices regarding model selection and specifications, allowing the algorithm to learn from the data without any programmer explicitly specifying every step in the model. The ability of Machine Learning techniques to identify the non-linearities that exist in data series as well as how variables interact with each other, has contributed to the predictive power of these models. In today’s world, machine learning algorithms are successfully and widely used for sales forecasting, predicting stock prices, designing banking softwares to detect frauds and by search engines to make personalized recommendations based on search history. The discretionary nature of traditional forecasting models as well as the high predictive power of ML techniques has led macroeconomic forecasters to turn their attention to the development and application of Machine Learning techniques to forecast the macroeconomic variables. Moreover, with increased availability of “big data” in economics, the development of machine learning techniques for macroeconomic forecasting is turning out to be promising."
   ]
  },
  {
   "cell_type": "markdown",
   "id": "485a6bcc-3887-410d-a8a5-8e6f7302b1c7",
   "metadata": {},
   "source": [
    "While the formulation of the machine learning techniques dates to the 1950’s, its application to macroeconomics is still in the development phase. This has a lot to do with the fact that the predictive power of the ML algorithms is contingent on the availability of data. The frequency with which most of the key macroeconomic variables are reported is quarterly, and that limits the number of observations available to make good predictions using the ML algorithms. To put things in perspective, the data on stock prices is updated in real time which means that the available observations are in abundance. However, with the evolution of time, enough data has accumulated to make use of ML for macroeconomic forecasting."
   ]
  },
  {
   "cell_type": "markdown",
   "id": "2324d591-e1dc-4e48-85dd-20904593caaf",
   "metadata": {},
   "source": [
    "In this paper, we aim to provide a comparative analysis of the traditional time series models with the machine learning models to forecast the US Gross Domestic Product (GDP) growth rate. GDP is the total amount of goods and services produced within the confines of the country in the specified period. It is generally considered to be a good proxy for the wealth of the economy and hence drives a lot of decision-making processes (Provost and Fawcett, 2013). This makes GDP forecasting a key and a relevant issue in macroeconomics. In this research, we aim to study varying classical time series and machine learning algorithms and apply them to forecast US real GDP growth rate. The goal is to assess the performance of each of these models and understand which model provides the best and robust forecast in the specified setting. "
   ]
  },
  {
   "cell_type": "markdown",
   "id": "8ca693e9-c237-455a-8fe2-16cd729bb4b2",
   "metadata": {},
   "source": [
    "For the classical time series models, we have mainly used the Auto-Regressive (AR), Moving-Average (MA), Auto-Regressive-Integrated-Moving-Average (ARIMA) and Seasonal ARIMAX (SARIMAX). For the Machine Learning models, we have used the K-Nearest Neighbor (KNN), Random Forest, Neural Networks, Principal Component Analysis (PCA) and the Dynamic Factor Model. Finally, to assess the performance of the models we have used the Root Mean Squared Error (RMSE). We are particularly interested in observing the accuracy of the estimates provided by each of our models for the specified forecasting horizon. "
   ]
  },
  {
   "cell_type": "markdown",
   "id": "7fb7611c-a565-4ddb-abde-197689321167",
   "metadata": {},
   "source": [
    "\n",
    "The rest of the paper is organized as follows: Section 2 dives deeper into the existing literature available on the application of machine learning in macro forecasting, Section 3 provides some insights into the summary statistics of the data used, Section 4 lays out our forecasting methods and specifications, Section 5 demonstrates our empirical results and analysis, Section 6 talks about the limitations of our models and Section 6 concludes."
   ]
  },
  {
   "cell_type": "markdown",
   "id": "c6c249f4-665f-45fe-9fe9-b0d5692fd7b3",
   "metadata": {},
   "source": [
    "Further details and code of the models and transformation used can be found in this GitHub link: https://github.com/vgm236/Special_Project_Moreira_Raza-Nisar."
   ]
  },
  {
   "cell_type": "markdown",
   "id": "562b62d8-6e65-4ee9-a9a1-a02055049d18",
   "metadata": {},
   "source": [
    "## 2. Literature Review"
   ]
  },
  {
   "cell_type": "markdown",
   "id": "7fb65ed6-e114-45ef-9877-557b76976816",
   "metadata": {},
   "source": [
    "The intersection of Machine Learning (ML) with econometrics has recently gained prominence in macroeconomic application, especially due to the increase in the availability of large datasets. Even though only recently there has been a surge in the number of studies which apply ML techniques for macroeconomic forecasting (cite), machine learning does have a long history in macro-econometrics. "
   ]
  },
  {
   "cell_type": "markdown",
   "id": "2fa0e5ef-4870-4628-82ae-d8be5ae0232a",
   "metadata": {},
   "source": [
    "A 1993 study tested the adequacy of using linear models for forecasting time series by using a popular ML model, Neural Networks to check for neglected non-linearities in time series. The results showed that neural network test performs as well or better than standard tests and helps prove the presence of non-linearities in data series (Lee et al. (1993)). Swanson and White also use Artificial Neural Networks and other linear models to evaluate how useful these approaches are to predict nine macroeconomic variables (Swanson and White (1997)). "
   ]
  },
  {
   "cell_type": "markdown",
   "id": "dc8787d8-8ecb-4d4d-b29e-709871a1d76a",
   "metadata": {},
   "source": [
    "A 1999 working paper has also tested the forecasting performance of neural network model in predicting GDP at 1-quarter and 4-qaurter forecast horizons, with only the 4-quarter horizon results showing statistically significant forecasting accuracy over linear model counterparts (Tkacz and Hu (1999-2003), cite ). Similarly, another paper focused on using neural networks to forecast Canada’s real GDP growth and concluded that for both in-sample and out-of-sample periods, this model performed better than the traditional linear regression models. However, in this case the author was unable to prove that the improvement in forecasting accuracy was statistically significant (Gonzalez, 2000-2007, cite). "
   ]
  },
  {
   "cell_type": "markdown",
   "id": "286b77bc-e9d6-4e3a-8ce7-616c5a5cac29",
   "metadata": {},
   "source": [
    "In recent years, the interest in neural networks has increased because of its potential to identify and reproduce linear and non-linear relationships among a set of variables. A recent paper by researchers at the Federal Reserve Bank of Kansas City has explored the potential of deep neural networks in improving the forecasting accuracy of macroeconomic variables, despite the existence of limited data. The results show that the model outperforms benchmark models at forecasting civilian unemployment at short horizons (Cook et all, 2017). In our research, we aim to explore this ML technique using recent data of GDP growth rates, especially in context to shocks such as the financial crises and the COVID-19 pandemic. "
   ]
  },
  {
   "cell_type": "markdown",
   "id": "33f47f2c-47f8-4e0f-80c7-d30b390295d8",
   "metadata": {},
   "source": [
    "Another technique, the non-parametric K Nearest Neighbor (KNN) is one of the oldest and most researched ML models and is known for its consistency property (Stone(1977)). KNN has the ability to identify repeated patterns within time series and is widely used in financial time series modeling (Ban et all (2013)). KNN has gained popularity in predicting macroeconomic variables, since it retains its consistency properties even in cases of limited past information i.e., few data points. As compared to other artificial intelligence methods, which require a minimum number of observations to perform adequately, KNN application is not severely hindered by this limitation ((Diebold and Nason, 1990). A recent research paper compares GDP forecasts from KNN model with results from basic time series models such as Autoregressive (AR), Autoregressive Integrated Moving Average (ARIMA), Seasonal AR and ARIMA and AR and ARIMA with covariates. The study concludes that KNN captures the self-predictive ability of GDP better than other traditional models (Maccarrone et all, 2021, cite). These results are promising, especially since the data used covers the financial crisis and pandemic time period. Another paper compares KNN technique with two other ML techniques, the Random Forest and Extreme Gradient Boosting for predicting inflation in Costa Rica and concludes that KNN outperforms these models based on forecast accuracy (Rodriguez-Vargas, 2020). "
   ]
  },
  {
   "cell_type": "markdown",
   "id": "fac5d111-8f39-4602-9c16-70c859e41155",
   "metadata": {},
   "source": [
    "Random Forest algorithms are widely used in medical research and biological studies. This technique is known for its prediction accuracy and robustness since it can handle a very large number of input variables without overfitting. However, it is not as widely used in macroeconomic forecasting yet. Baiu and D’Elia (2011) have used Random Forest model to forecast the quarterly GDP growth rate for the Euro region and concluded that while RF fails to outperform standard AR model in predicting growth rate, it can be used as a tool to select the most relevant predictive variables."
   ]
  },
  {
   "cell_type": "markdown",
   "id": "441e1fc5-0947-4aad-8614-1e286d561925",
   "metadata": {},
   "source": [
    "Principal Component Analysis(PCA) is a machine learning technique used specifically when there is a large amount of data available. Large datasets not only make computation hard but also make it difficult to interpret. PCA tends to reduce the dimensionality of such datasets, while at the same time ensuring that the information loss is minimum. The way it achieves that is by creating new uncorrelated variables in order to attain maximum variance. PCA essentially reduces the problem to solving eigenvalues and eigenvectors. Stock and Watson have proved that under the general conditions on the error terms, principal components of X (explanatory variables) are a consistent estimator of the true latent factors. In their research, Stock and Watson tried to forecast the Federal Reserve Board’s Index of Industrial Production using the PCA approach and found that the model outperforms univariate AR and VAR models (Stock and Watson, 2002). "
   ]
  },
  {
   "cell_type": "markdown",
   "id": "ab8ec6e8-dbaf-4d13-bda1-9e97b144e5e7",
   "metadata": {},
   "source": [
    "Alternatively, another variation of the PCA is the dynamic factor models (DFMs). DFM’s have gained prominence over the last decade mainly because of their ability to model sequential datasets consistently, specially when the number of series exceeds the number of time series observations. DFM’s were first introduced by Geweke (1977) as an addendum to time series factor models which were mainly developed for cross-sectional data. The idea of DFM’s is similar to the PCA, except that they introduce the dynamic part to it. Sargent and Sims (1977)’s work has extensively examined the macroeconomic variables using the dynamic factor model and have found that the models have the potential to explain a large variation in them (Stock and Watson, 2010). \n"
   ]
  },
  {
   "cell_type": "markdown",
   "id": "5d1c21cd-be19-45cd-b47f-2fca0fd2004b",
   "metadata": {},
   "source": [
    "Classical time series forecasting models such as AR, MA, ARIMAX and SARIMAX have always remained the go to models for the forecasters mainly because they are structured. However, with the advancement of machine learning techniques, the classical time series forecasting models are now becoming benchmark models to which the other non-traditional models of forecasting are compared. Classical time series models mainly rely on assumptions about the distribution of the error terms and linear relationship between the dependent and independent variables. Some complex time series models modify these assumptions somewhat, but the structure is still imposed. ARIMAX model accounts for the stationarity of the data and makes use of other explanatory variables and SARIMAX accounts for the seasonality on top of ARIMAX. "
   ]
  },
  {
   "cell_type": "markdown",
   "id": "927abdfb-b4a3-40f2-a3c1-84500e9e8c62",
   "metadata": {},
   "source": [
    "One of the advantages of classical time series models over machine learning models is that they provide a useful interpretation because of the parametrization as opposed to ML. On the other hand, multivariate time series models tend to increase the complexity mainly because of the non-linearity. According to Banerjee and Marcellino, univariate linear models tend to be often more robust than their multivariate counterparts (Banerjee and Marcellino, 2006).  However, this doesn’t imply that multivariate models are not useful. For the purpose of our analysis, we will be using the combination of both univariate and multivariate time series models. The idea is to use the classical time series models as a benchmark because they have been regarded as the gold standard for forecasting and have been widely used for over many years for macroeconomic forecasting."
   ]
  },
  {
   "cell_type": "markdown",
   "id": "f2ebf4f2-2174-4d5e-bc05-feeb3b343aac",
   "metadata": {},
   "source": [
    "## 3. Data and Summary Statistics"
   ]
  },
  {
   "cell_type": "markdown",
   "id": "075757f9-f723-4a0f-8b1b-008cc30506b1",
   "metadata": {},
   "source": [
    "### 3.1 Data description"
   ]
  },
  {
   "cell_type": "markdown",
   "id": "f6477252-66b3-4d59-a3d5-bed2ead89930",
   "metadata": {},
   "source": [
    "The source of the data used in this paper is the Fred, a database created and maintained by the Research Department at the Federal Reserve Bank of St. Louis. The database consists of hundreds of thousands of economic data time series from scores of national, international, public, and private sources. Our models will be univariate and multi-variate, in which case we will use the monthly variables for the US, and their transformations, to predict the US GDP growth. We got eleven monthly data series and one quarterly data series, the GDP. All of these series are seasonally adjusted. "
   ]
  },
  {
   "cell_type": "markdown",
   "id": "ee74cdfd-2bb1-4b53-a7c2-96e8f2fc51be",
   "metadata": {},
   "source": [
    "The series labeled \"payroll\" is the Total Nonfarm Payroll, a measure of the number of U.S. workers in the economy that excludes proprietors, private household employees, unpaid volunteers, farm employees, and the unincorporated self-employed. This measure accounts for approximately 80 percent of the workers who contribute to Gross Domestic Product (GDP). The Bureau of Labor Statistics (BLS) adjusts the data to offset the seasonal effects to show non-seasonal changes.\n",
    "\n",
    "The series labeled \"job_openings\" is the Total Nonfarm Job Openings, which measures all jobs that are not filled on the last business day of the month. A job is considered open if a specific position exists and there is work available for it, the job can be started within 30 days, and there is active recruiting for the position. Total Nonfarm Job Openings are measured by the Job Openings and Labor Turnover Survey (JOLTS) and published by the Bureau of Labor Statistics (BLS)."
   ]
  },
  {
   "cell_type": "markdown",
   "id": "6b5e7857-77ab-448c-8271-c9d343d6bcb0",
   "metadata": {},
   "source": [
    "The series named \"quits\" measures the employees who left voluntarily, with the exception of retirements or transfers to other locations. This numbers is divided by the total employment to return the quits rate. \n",
    "\n",
    "For \"ip\" we collect the industrial production of the US, the Board of Governors of the Federal Reserve System. It measures real output for all facilities located in the United States manufacturing, mining, and electric, and gas utilities (excluding those in U.S. territories). The series is determined from 312 individual series based on the 2007 North American Industrial Classification System (NAICS) codes.\n",
    "\n",
    "On \"vehicle_sales\" is the vehicle sales data for the US, also seasonally adjusted, and published by the U.S. Bureau of Economic Analysis. The seasonally adjusted series includes auto (all passenger cars, including station wagons) and truck sales data."
   ]
  },
  {
   "cell_type": "markdown",
   "id": "f6c0128c-126e-48a5-af96-8d9f7c9ec71e",
   "metadata": {},
   "source": [
    "We classify as \"retail\" the Advance Retail and Food Services Sales, deflated using the Consumer Price Index for All Urban Consumers. As the other series, it is also seasonally adjusted.\n",
    "\n",
    "Also, for \"wholesale_inventories\" which measures the inventories of wholesalers, not including retailers. The estimates are based on data from three surveys: the Monthly Retail Trade Survey, the Monthly Wholesale Trade Survey, and the Manufacturers' Shipments, Inventories, and Orders Survey.\n",
    "\n",
    "We use sentiment data as well, with the \"consumer_sentiment\" data is the Consumer Sentiment indicator measured by the University of Michigan. To calculate the Index of Consumer Sentiment (ICS), the University computes the relative scores (the percent giving favorable replies minus the percent giving unfavorable replies, plus 100) for each of the five index questions, including current financial conditions, expectations of financial conditions, expectations of business conditions, expectations of unemployment and conditions to buy households items."
   ]
  },
  {
   "cell_type": "markdown",
   "id": "f0a27caf-933e-47f1-b843-3b53c25300a5",
   "metadata": {},
   "source": [
    "We label as \"construction_spending\" measures the total dollar value of construction work done in the United States (including 50 states and the District of Columbia). Composite estimates are based on mail-out/mail-back and interview surveys of selected construction projects and building owners, and estimates developed or compiled from other Census Bureau, federal agency, and private data sources.\n",
    "\n",
    "For \"new_orders\" indicates the new orders of manufacturing products. This data comes from the Manufacturers' Shipments, Inventories, and Orders (M3) survey, which provides broad-based monthly statistical data on current economic conditions and indications of future production commitments in the manufacturing sector.\n",
    "\n",
    "Finally, for New Privately-Owned Housing we label as \"housing_starts.\" As provided by the Census, start occurs when excavation begins for the footings or foundation of a building. All housing units in a multifamily building are defined as being started when this excavation begins. Beginning with data for September 1992, estimates of housing starts include units in structures being totally rebuilt on an existing foundation."
   ]
  },
  {
   "cell_type": "markdown",
   "id": "7e65e173-e767-490f-b513-de17faa3a6fb",
   "metadata": {},
   "source": [
    "The only originally quarterly data used is the GDP series, which we unsurprisingly label as \"gdp\" for all models in this study. Gross domestic product (GDP), the featured measure of U.S. output, is the market value of the goods and services produced by labor and property located in the United States.For more information, see the Guide to the National Income and Product Accounts of the United States (NIPA) and the Bureau of Economic Analysis."
   ]
  },
  {
   "cell_type": "markdown",
   "id": "99ab5d43-413b-4de3-afb6-85065f4351c9",
   "metadata": {},
   "source": [
    "### 3.2 Summary Statistics"
   ]
  },
  {
   "cell_type": "code",
   "execution_count": 2,
   "id": "fbfb4b69-f1b2-41d1-805b-6efbe19a2794",
   "metadata": {
    "tags": []
   },
   "outputs": [],
   "source": [
    "# Access Fred\n",
    "fred = fa.Fred(api_key='b64520b0097cdfbc83e22960ad3fcdd8 ')\n",
    "\n",
    "# Getting series (quartery)\n",
    "gdp = fred.get_series('GDP').rename(\"GDP\")\n",
    "\n",
    "# Getting series (monthly)\n",
    "payroll = fred.get_series('PAYEMS').rename(\"payroll\")\n",
    "job_openings = fred.get_series('JTSJOL').rename(\"job_openings\")\n",
    "quits = fred.get_series('JTSQUR').rename(\"quits\")\n",
    "retail = fred.get_series('RSXFS').rename(\"retail\")\n",
    "ip = fred.get_series('INDPRO').rename(\"ip\")\n",
    "vehicle_sales = fred.get_series('TOTALSA').rename(\"vehicle_sales\")\n",
    "wholesale_inventories = fred.get_series('WHLSLRIMSA').rename(\"wholesale_inventories\")\n",
    "consumer_sentiment = fred.get_series('UMCSENT').rename(\"consumer_sentiment\")\n",
    "construction_spending = fred.get_series('TTLCONS').rename(\"construction_spending\")\n",
    "new_orders = fred.get_series('DGORDER').rename(\"new_orders\")\n",
    "housing_starts = fred.get_series('HOUST').rename(\"housing_starts\")\n",
    "\n",
    "# List of data\n",
    "list_monthly = [payroll, job_openings, ip, vehicle_sales, quits, retail, wholesale_inventories, consumer_sentiment, construction_spending, new_orders, housing_starts]\n",
    "\n",
    "# Monthly DataFrame\n",
    "monthly = pd.concat(list_monthly, axis=1).dropna()"
   ]
  },
  {
   "cell_type": "markdown",
   "id": "44c4afa6-8cea-47ca-90af-f5c41540ed3c",
   "metadata": {},
   "source": [
    "The data is seasonally adjusted, and therefore won't require transformations of such kind. However, the all the data series used are in levels and an investigation of stationarity is required. We show below the summary statistics of the data series and a chart for each of them. \n",
    "\n",
    "Then, we use the Augmented Dickey-Fuller test to check for stationarity in the set of data. None of the eleven series used pass the test at a 10% level. In this sense, a transformation of these series is required. We perform the same transformation for all of them: we will use log differences - the continuous equivalent of a percentage change - from now on. "
   ]
  },
  {
   "cell_type": "code",
   "execution_count": 3,
   "id": "88c4ef4b-3478-41a5-bd93-1612099e78ec",
   "metadata": {},
   "outputs": [
    {
     "data": {
      "text/html": [
       "<div>\n",
       "<style scoped>\n",
       "    .dataframe tbody tr th:only-of-type {\n",
       "        vertical-align: middle;\n",
       "    }\n",
       "\n",
       "    .dataframe tbody tr th {\n",
       "        vertical-align: top;\n",
       "    }\n",
       "\n",
       "    .dataframe thead th {\n",
       "        text-align: right;\n",
       "    }\n",
       "</style>\n",
       "<table border=\"1\" class=\"dataframe\">\n",
       "  <thead>\n",
       "    <tr style=\"text-align: right;\">\n",
       "      <th></th>\n",
       "      <th>payroll</th>\n",
       "      <th>job_openings</th>\n",
       "      <th>ip</th>\n",
       "      <th>vehicle_sales</th>\n",
       "      <th>quits</th>\n",
       "      <th>retail</th>\n",
       "      <th>wholesale_inventories</th>\n",
       "      <th>consumer_sentiment</th>\n",
       "      <th>construction_spending</th>\n",
       "      <th>new_orders</th>\n",
       "      <th>housing_starts</th>\n",
       "    </tr>\n",
       "  </thead>\n",
       "  <tbody>\n",
       "    <tr>\n",
       "      <th>count</th>\n",
       "      <td>255.000000</td>\n",
       "      <td>255.000000</td>\n",
       "      <td>255.000000</td>\n",
       "      <td>255.000000</td>\n",
       "      <td>255.000000</td>\n",
       "      <td>255.000000</td>\n",
       "      <td>255.000000</td>\n",
       "      <td>255.000000</td>\n",
       "      <td>2.550000e+02</td>\n",
       "      <td>255.000000</td>\n",
       "      <td>255.000000</td>\n",
       "    </tr>\n",
       "    <tr>\n",
       "      <th>mean</th>\n",
       "      <td>137896.482353</td>\n",
       "      <td>4881.929412</td>\n",
       "      <td>96.870191</td>\n",
       "      <td>15.949416</td>\n",
       "      <td>1.964314</td>\n",
       "      <td>361238.380392</td>\n",
       "      <td>491485.733333</td>\n",
       "      <td>84.059216</td>\n",
       "      <td>1.089204e+06</td>\n",
       "      <td>211769.529412</td>\n",
       "      <td>1277.698039</td>\n",
       "    </tr>\n",
       "    <tr>\n",
       "      <th>std</th>\n",
       "      <td>6681.601392</td>\n",
       "      <td>1838.401365</td>\n",
       "      <td>4.894543</td>\n",
       "      <td>2.317720</td>\n",
       "      <td>0.352970</td>\n",
       "      <td>76374.464473</td>\n",
       "      <td>138074.360927</td>\n",
       "      <td>11.402520</td>\n",
       "      <td>2.343568e+05</td>\n",
       "      <td>29396.272599</td>\n",
       "      <td>460.107860</td>\n",
       "    </tr>\n",
       "    <tr>\n",
       "      <th>min</th>\n",
       "      <td>129698.000000</td>\n",
       "      <td>2232.000000</td>\n",
       "      <td>84.201800</td>\n",
       "      <td>8.961000</td>\n",
       "      <td>1.200000</td>\n",
       "      <td>249845.000000</td>\n",
       "      <td>293159.000000</td>\n",
       "      <td>55.300000</td>\n",
       "      <td>7.583760e+05</td>\n",
       "      <td>146323.000000</td>\n",
       "      <td>478.000000</td>\n",
       "    </tr>\n",
       "    <tr>\n",
       "      <th>25%</th>\n",
       "      <td>131969.000000</td>\n",
       "      <td>3553.000000</td>\n",
       "      <td>92.746900</td>\n",
       "      <td>15.032000</td>\n",
       "      <td>1.700000</td>\n",
       "      <td>303957.000000</td>\n",
       "      <td>376982.500000</td>\n",
       "      <td>75.050000</td>\n",
       "      <td>8.641825e+05</td>\n",
       "      <td>185653.500000</td>\n",
       "      <td>934.000000</td>\n",
       "    </tr>\n",
       "    <tr>\n",
       "      <th>50%</th>\n",
       "      <td>136520.000000</td>\n",
       "      <td>4373.000000</td>\n",
       "      <td>98.285400</td>\n",
       "      <td>16.761000</td>\n",
       "      <td>2.000000</td>\n",
       "      <td>341787.000000</td>\n",
       "      <td>476187.000000</td>\n",
       "      <td>86.700000</td>\n",
       "      <td>1.069010e+06</td>\n",
       "      <td>219108.000000</td>\n",
       "      <td>1238.000000</td>\n",
       "    </tr>\n",
       "    <tr>\n",
       "      <th>75%</th>\n",
       "      <td>143151.000000</td>\n",
       "      <td>5856.500000</td>\n",
       "      <td>100.949750</td>\n",
       "      <td>17.508000</td>\n",
       "      <td>2.200000</td>\n",
       "      <td>406128.000000</td>\n",
       "      <td>606267.000000</td>\n",
       "      <td>93.300000</td>\n",
       "      <td>1.252838e+06</td>\n",
       "      <td>232521.000000</td>\n",
       "      <td>1639.000000</td>\n",
       "    </tr>\n",
       "    <tr>\n",
       "      <th>max</th>\n",
       "      <td>152504.000000</td>\n",
       "      <td>11448.000000</td>\n",
       "      <td>104.165900</td>\n",
       "      <td>22.055000</td>\n",
       "      <td>3.000000</td>\n",
       "      <td>582698.000000</td>\n",
       "      <td>818209.000000</td>\n",
       "      <td>103.800000</td>\n",
       "      <td>1.728565e+06</td>\n",
       "      <td>304221.000000</td>\n",
       "      <td>2273.000000</td>\n",
       "    </tr>\n",
       "  </tbody>\n",
       "</table>\n",
       "</div>"
      ],
      "text/plain": [
       "             payroll  job_openings          ip  vehicle_sales       quits  \\\n",
       "count     255.000000    255.000000  255.000000     255.000000  255.000000   \n",
       "mean   137896.482353   4881.929412   96.870191      15.949416    1.964314   \n",
       "std      6681.601392   1838.401365    4.894543       2.317720    0.352970   \n",
       "min    129698.000000   2232.000000   84.201800       8.961000    1.200000   \n",
       "25%    131969.000000   3553.000000   92.746900      15.032000    1.700000   \n",
       "50%    136520.000000   4373.000000   98.285400      16.761000    2.000000   \n",
       "75%    143151.000000   5856.500000  100.949750      17.508000    2.200000   \n",
       "max    152504.000000  11448.000000  104.165900      22.055000    3.000000   \n",
       "\n",
       "              retail  wholesale_inventories  consumer_sentiment  \\\n",
       "count     255.000000             255.000000          255.000000   \n",
       "mean   361238.380392          491485.733333           84.059216   \n",
       "std     76374.464473          138074.360927           11.402520   \n",
       "min    249845.000000          293159.000000           55.300000   \n",
       "25%    303957.000000          376982.500000           75.050000   \n",
       "50%    341787.000000          476187.000000           86.700000   \n",
       "75%    406128.000000          606267.000000           93.300000   \n",
       "max    582698.000000          818209.000000          103.800000   \n",
       "\n",
       "       construction_spending     new_orders  housing_starts  \n",
       "count           2.550000e+02     255.000000      255.000000  \n",
       "mean            1.089204e+06  211769.529412     1277.698039  \n",
       "std             2.343568e+05   29396.272599      460.107860  \n",
       "min             7.583760e+05  146323.000000      478.000000  \n",
       "25%             8.641825e+05  185653.500000      934.000000  \n",
       "50%             1.069010e+06  219108.000000     1238.000000  \n",
       "75%             1.252838e+06  232521.000000     1639.000000  \n",
       "max             1.728565e+06  304221.000000     2273.000000  "
      ]
     },
     "execution_count": 3,
     "metadata": {},
     "output_type": "execute_result"
    }
   ],
   "source": [
    "# Describe the summary statistics\n",
    "monthly.describe()"
   ]
  },
  {
   "cell_type": "code",
   "execution_count": 4,
   "id": "d18d79f3-d371-4c76-9c1f-6461f926a4c6",
   "metadata": {},
   "outputs": [
    {
     "data": {
      "image/png": "[encoded data removed]",
      "text/plain": [
       "<Figure size 1200x1440 with 11 Axes>"
      ]
     },
     "metadata": {
      "needs_background": "light"
     },
     "output_type": "display_data"
    }
   ],
   "source": [
    "# Plot\n",
    "fig, axes = plt.subplots(nrows=11, ncols=1, dpi=120, figsize=(10,12))\n",
    "for i, ax in enumerate(axes.flatten()):\n",
    "    data = monthly[monthly.columns[i]]\n",
    "    ax.plot(data, color='red', linewidth=1)\n",
    "    # Decorations\n",
    "    ax.set_title(monthly.columns[i])\n",
    "    ax.xaxis.set_ticks_position('none')\n",
    "    ax.yaxis.set_ticks_position('none')\n",
    "    ax.spines[\"top\"].set_alpha(0)\n",
    "    ax.tick_params(labelsize=6)\n",
    "\n",
    "plt.tight_layout();"
   ]
  },
  {
   "cell_type": "code",
   "execution_count": 5,
   "id": "ddfc2ff5-3316-4129-81ce-032016f95dff",
   "metadata": {},
   "outputs": [
    {
     "data": {
      "text/html": [
       "<div>\n",
       "<style scoped>\n",
       "    .dataframe tbody tr th:only-of-type {\n",
       "        vertical-align: middle;\n",
       "    }\n",
       "\n",
       "    .dataframe tbody tr th {\n",
       "        vertical-align: top;\n",
       "    }\n",
       "\n",
       "    .dataframe thead th {\n",
       "        text-align: right;\n",
       "    }\n",
       "</style>\n",
       "<table border=\"1\" class=\"dataframe\">\n",
       "  <thead>\n",
       "    <tr style=\"text-align: right;\">\n",
       "      <th></th>\n",
       "      <th>ADF Fuller test</th>\n",
       "    </tr>\n",
       "  </thead>\n",
       "  <tbody>\n",
       "    <tr>\n",
       "      <th>payroll</th>\n",
       "      <td>-0.918527</td>\n",
       "    </tr>\n",
       "    <tr>\n",
       "      <th>job_openings</th>\n",
       "      <td>0.904821</td>\n",
       "    </tr>\n",
       "    <tr>\n",
       "      <th>quits</th>\n",
       "      <td>-1.083210</td>\n",
       "    </tr>\n",
       "    <tr>\n",
       "      <th>retail</th>\n",
       "      <td>1.564151</td>\n",
       "    </tr>\n",
       "    <tr>\n",
       "      <th>ip</th>\n",
       "      <td>-1.957387</td>\n",
       "    </tr>\n",
       "    <tr>\n",
       "      <th>vehicle_sales</th>\n",
       "      <td>-2.592540</td>\n",
       "    </tr>\n",
       "    <tr>\n",
       "      <th>wholesale_inventories</th>\n",
       "      <td>1.113354</td>\n",
       "    </tr>\n",
       "    <tr>\n",
       "      <th>consumer_sentiment</th>\n",
       "      <td>-2.279565</td>\n",
       "    </tr>\n",
       "    <tr>\n",
       "      <th>construction_spending</th>\n",
       "      <td>0.974425</td>\n",
       "    </tr>\n",
       "    <tr>\n",
       "      <th>new_orders</th>\n",
       "      <td>-1.831629</td>\n",
       "    </tr>\n",
       "    <tr>\n",
       "      <th>housing_starts</th>\n",
       "      <td>-1.427559</td>\n",
       "    </tr>\n",
       "    <tr>\n",
       "      <th>10% threshold</th>\n",
       "      <td>-2.573096</td>\n",
       "    </tr>\n",
       "  </tbody>\n",
       "</table>\n",
       "</div>"
      ],
      "text/plain": [
       "                       ADF Fuller test\n",
       "payroll                      -0.918527\n",
       "job_openings                  0.904821\n",
       "quits                        -1.083210\n",
       "retail                        1.564151\n",
       "ip                           -1.957387\n",
       "vehicle_sales                -2.592540\n",
       "wholesale_inventories         1.113354\n",
       "consumer_sentiment           -2.279565\n",
       "construction_spending         0.974425\n",
       "new_orders                   -1.831629\n",
       "housing_starts               -1.427559\n",
       "10% threshold                -2.573096"
      ]
     },
     "execution_count": 5,
     "metadata": {},
     "output_type": "execute_result"
    }
   ],
   "source": [
    "# Run ADF tests for all series\n",
    "adf_payroll = adfuller(monthly[\"payroll\"])\n",
    "adf_job_openings = adfuller(monthly[\"job_openings\"])\n",
    "adf_quits = adfuller(monthly[\"quits\"])\n",
    "adf_retail = adfuller(monthly[\"retail\"])\n",
    "adf_ip = adfuller(monthly[\"ip\"])\n",
    "adf_vehicle_sales = adfuller(monthly[\"vehicle_sales\"])\n",
    "adf_wholesale_inventories = adfuller(monthly[\"wholesale_inventories\"])\n",
    "adf_consumer_sentiment = adfuller(monthly[\"consumer_sentiment\"])\n",
    "adf_construction_spending = adfuller(monthly[\"construction_spending\"])\n",
    "adf_new_orders = adfuller(monthly[\"new_orders\"])\n",
    "adf_housing_starts = adfuller(monthly[\"housing_starts\"])\n",
    "\n",
    "# List of data\n",
    "list_adf = [adf_payroll[0], adf_job_openings[0], adf_quits[0], adf_retail[0], adf_ip[0], adf_vehicle_sales[0], adf_wholesale_inventories[0], adf_consumer_sentiment[0], adf_construction_spending[0], adf_new_orders[0], adf_housing_starts[0], -2.573095980841316]\n",
    "\n",
    "# DataFrame with ADF tests\n",
    "adf = pd.DataFrame(list_adf, index=[\"payroll\", \"job_openings\", \"quits\", \"retail\", \"ip\", \"vehicle_sales\", \"wholesale_inventories\", \"consumer_sentiment\", \"construction_spending\", \"new_orders\", \"housing_starts\", \"10% threshold\"], columns={\"ADF Fuller test\"})\n",
    "\n",
    "adf"
   ]
  },
  {
   "cell_type": "markdown",
   "id": "b76eba55-2930-495e-b9d0-223d9d62ce6e",
   "metadata": {},
   "source": [
    "Also, in some of the model alternatives, we can only use the quarterly data. In this sense, to turn the monthly series into quarterly, we perform the following transformations. First, we calculate the quarterly average of each variable and create a quarterly series for them. After this proceeding is done, we perform the log differences for the quarterly series. For GDP, we only need to run the log differences as the series is already quarterly by construction.\n",
    "\n",
    "Below, we show the quarterly series."
   ]
  },
  {
   "cell_type": "code",
   "execution_count": 6,
   "id": "ecfca828-6497-4185-8e1d-65c2900bb02f",
   "metadata": {
    "tags": []
   },
   "outputs": [],
   "source": [
    "# Normalized DataFrame\n",
    "normalized_monthly=np.log(monthly).diff()*100"
   ]
  },
  {
   "cell_type": "code",
   "execution_count": 7,
   "id": "5b0ab789-c0a3-4231-a340-1f9a177cc3f3",
   "metadata": {
    "tags": []
   },
   "outputs": [
    {
     "data": {
      "text/html": [
       "<div>\n",
       "<style scoped>\n",
       "    .dataframe tbody tr th:only-of-type {\n",
       "        vertical-align: middle;\n",
       "    }\n",
       "\n",
       "    .dataframe tbody tr th {\n",
       "        vertical-align: top;\n",
       "    }\n",
       "\n",
       "    .dataframe thead th {\n",
       "        text-align: right;\n",
       "    }\n",
       "</style>\n",
       "<table border=\"1\" class=\"dataframe\">\n",
       "  <thead>\n",
       "    <tr style=\"text-align: right;\">\n",
       "      <th></th>\n",
       "      <th>GDP</th>\n",
       "      <th>payroll</th>\n",
       "      <th>job_openings</th>\n",
       "      <th>ip</th>\n",
       "      <th>vehicle_sales</th>\n",
       "      <th>quits</th>\n",
       "      <th>retail</th>\n",
       "      <th>wholesale_inventories</th>\n",
       "      <th>consumer_sentiment</th>\n",
       "      <th>construction_spending</th>\n",
       "      <th>new_orders</th>\n",
       "      <th>housing_starts</th>\n",
       "    </tr>\n",
       "    <tr>\n",
       "      <th>index</th>\n",
       "      <th></th>\n",
       "      <th></th>\n",
       "      <th></th>\n",
       "      <th></th>\n",
       "      <th></th>\n",
       "      <th></th>\n",
       "      <th></th>\n",
       "      <th></th>\n",
       "      <th></th>\n",
       "      <th></th>\n",
       "      <th></th>\n",
       "      <th></th>\n",
       "    </tr>\n",
       "  </thead>\n",
       "  <tbody>\n",
       "    <tr>\n",
       "      <th>2001Q1</th>\n",
       "      <td>0.329925</td>\n",
       "      <td>0.009543</td>\n",
       "      <td>-2.207236</td>\n",
       "      <td>-0.500511</td>\n",
       "      <td>2.044262</td>\n",
       "      <td>1.481725</td>\n",
       "      <td>-0.043913</td>\n",
       "      <td>-0.015097</td>\n",
       "      <td>-2.423394</td>\n",
       "      <td>0.672596</td>\n",
       "      <td>-1.159559</td>\n",
       "      <td>1.238665</td>\n",
       "    </tr>\n",
       "    <tr>\n",
       "      <th>2001Q2</th>\n",
       "      <td>1.222357</td>\n",
       "      <td>-0.112685</td>\n",
       "      <td>-2.932212</td>\n",
       "      <td>-0.486808</td>\n",
       "      <td>0.414847</td>\n",
       "      <td>-1.481725</td>\n",
       "      <td>0.488294</td>\n",
       "      <td>0.015636</td>\n",
       "      <td>0.398339</td>\n",
       "      <td>1.095764</td>\n",
       "      <td>-1.089457</td>\n",
       "      <td>0.950674</td>\n",
       "    </tr>\n",
       "    <tr>\n",
       "      <th>2001Q3</th>\n",
       "      <td>-0.009247</td>\n",
       "      <td>-0.133298</td>\n",
       "      <td>-2.293757</td>\n",
       "      <td>-0.412019</td>\n",
       "      <td>-2.166557</td>\n",
       "      <td>-1.550667</td>\n",
       "      <td>-0.552672</td>\n",
       "      <td>-0.487928</td>\n",
       "      <td>-4.133730</td>\n",
       "      <td>-0.721291</td>\n",
       "      <td>-2.395150</td>\n",
       "      <td>-1.542906</td>\n",
       "    </tr>\n",
       "    <tr>\n",
       "      <th>2001Q4</th>\n",
       "      <td>0.587485</td>\n",
       "      <td>-0.200189</td>\n",
       "      <td>-3.393049</td>\n",
       "      <td>-0.315040</td>\n",
       "      <td>0.203067</td>\n",
       "      <td>-1.626339</td>\n",
       "      <td>0.882632</td>\n",
       "      <td>-0.793410</td>\n",
       "      <td>2.736980</td>\n",
       "      <td>0.485141</td>\n",
       "      <td>0.239002</td>\n",
       "      <td>0.127796</td>\n",
       "    </tr>\n",
       "    <tr>\n",
       "      <th>2002Q1</th>\n",
       "      <td>1.147515</td>\n",
       "      <td>-0.067508</td>\n",
       "      <td>-0.594519</td>\n",
       "      <td>0.478147</td>\n",
       "      <td>1.275027</td>\n",
       "      <td>-1.709776</td>\n",
       "      <td>0.066198</td>\n",
       "      <td>-0.371882</td>\n",
       "      <td>2.494388</td>\n",
       "      <td>-0.202176</td>\n",
       "      <td>0.510080</td>\n",
       "      <td>1.537136</td>\n",
       "    </tr>\n",
       "    <tr>\n",
       "      <th>...</th>\n",
       "      <td>...</td>\n",
       "      <td>...</td>\n",
       "      <td>...</td>\n",
       "      <td>...</td>\n",
       "      <td>...</td>\n",
       "      <td>...</td>\n",
       "      <td>...</td>\n",
       "      <td>...</td>\n",
       "      <td>...</td>\n",
       "      <td>...</td>\n",
       "      <td>...</td>\n",
       "      <td>...</td>\n",
       "    </tr>\n",
       "    <tr>\n",
       "      <th>2020Q3</th>\n",
       "      <td>8.184244</td>\n",
       "      <td>0.948176</td>\n",
       "      <td>2.421341</td>\n",
       "      <td>1.585079</td>\n",
       "      <td>7.227744</td>\n",
       "      <td>4.886782</td>\n",
       "      <td>1.413136</td>\n",
       "      <td>0.394046</td>\n",
       "      <td>0.967471</td>\n",
       "      <td>0.558379</td>\n",
       "      <td>4.300963</td>\n",
       "      <td>4.293566</td>\n",
       "    </tr>\n",
       "    <tr>\n",
       "      <th>2020Q4</th>\n",
       "      <td>1.591087</td>\n",
       "      <td>0.202960</td>\n",
       "      <td>2.204496</td>\n",
       "      <td>0.922760</td>\n",
       "      <td>0.115547</td>\n",
       "      <td>2.900379</td>\n",
       "      <td>-0.259720</td>\n",
       "      <td>0.525904</td>\n",
       "      <td>0.124147</td>\n",
       "      <td>1.010769</td>\n",
       "      <td>1.546522</td>\n",
       "      <td>4.574551</td>\n",
       "    </tr>\n",
       "    <tr>\n",
       "      <th>2021Q1</th>\n",
       "      <td>2.576810</td>\n",
       "      <td>0.449365</td>\n",
       "      <td>6.689897</td>\n",
       "      <td>0.295912</td>\n",
       "      <td>2.663042</td>\n",
       "      <td>2.668090</td>\n",
       "      <td>4.477619</td>\n",
       "      <td>1.142129</td>\n",
       "      <td>1.691184</td>\n",
       "      <td>0.968967</td>\n",
       "      <td>1.648741</td>\n",
       "      <td>1.260241</td>\n",
       "    </tr>\n",
       "    <tr>\n",
       "      <th>2021Q2</th>\n",
       "      <td>3.138917</td>\n",
       "      <td>0.291137</td>\n",
       "      <td>4.998801</td>\n",
       "      <td>0.437010</td>\n",
       "      <td>-4.320419</td>\n",
       "      <td>2.470266</td>\n",
       "      <td>-0.511995</td>\n",
       "      <td>1.187594</td>\n",
       "      <td>0.234743</td>\n",
       "      <td>0.654577</td>\n",
       "      <td>1.077530</td>\n",
       "      <td>-1.340610</td>\n",
       "    </tr>\n",
       "    <tr>\n",
       "      <th>2021Q3</th>\n",
       "      <td>2.008565</td>\n",
       "      <td>0.370847</td>\n",
       "      <td>2.668090</td>\n",
       "      <td>-0.202931</td>\n",
       "      <td>-7.612052</td>\n",
       "      <td>1.169711</td>\n",
       "      <td>0.119586</td>\n",
       "      <td>1.095171</td>\n",
       "      <td>-5.360014</td>\n",
       "      <td>0.689639</td>\n",
       "      <td>0.473982</td>\n",
       "      <td>-2.225127</td>\n",
       "    </tr>\n",
       "  </tbody>\n",
       "</table>\n",
       "<p>83 rows × 12 columns</p>\n",
       "</div>"
      ],
      "text/plain": [
       "             GDP   payroll  job_openings        ip  vehicle_sales     quits  \\\n",
       "index                                                                         \n",
       "2001Q1  0.329925  0.009543     -2.207236 -0.500511       2.044262  1.481725   \n",
       "2001Q2  1.222357 -0.112685     -2.932212 -0.486808       0.414847 -1.481725   \n",
       "2001Q3 -0.009247 -0.133298     -2.293757 -0.412019      -2.166557 -1.550667   \n",
       "2001Q4  0.587485 -0.200189     -3.393049 -0.315040       0.203067 -1.626339   \n",
       "2002Q1  1.147515 -0.067508     -0.594519  0.478147       1.275027 -1.709776   \n",
       "...          ...       ...           ...       ...            ...       ...   \n",
       "2020Q3  8.184244  0.948176      2.421341  1.585079       7.227744  4.886782   \n",
       "2020Q4  1.591087  0.202960      2.204496  0.922760       0.115547  2.900379   \n",
       "2021Q1  2.576810  0.449365      6.689897  0.295912       2.663042  2.668090   \n",
       "2021Q2  3.138917  0.291137      4.998801  0.437010      -4.320419  2.470266   \n",
       "2021Q3  2.008565  0.370847      2.668090 -0.202931      -7.612052  1.169711   \n",
       "\n",
       "          retail  wholesale_inventories  consumer_sentiment  \\\n",
       "index                                                         \n",
       "2001Q1 -0.043913              -0.015097           -2.423394   \n",
       "2001Q2  0.488294               0.015636            0.398339   \n",
       "2001Q3 -0.552672              -0.487928           -4.133730   \n",
       "2001Q4  0.882632              -0.793410            2.736980   \n",
       "2002Q1  0.066198              -0.371882            2.494388   \n",
       "...          ...                    ...                 ...   \n",
       "2020Q3  1.413136               0.394046            0.967471   \n",
       "2020Q4 -0.259720               0.525904            0.124147   \n",
       "2021Q1  4.477619               1.142129            1.691184   \n",
       "2021Q2 -0.511995               1.187594            0.234743   \n",
       "2021Q3  0.119586               1.095171           -5.360014   \n",
       "\n",
       "        construction_spending  new_orders  housing_starts  \n",
       "index                                                      \n",
       "2001Q1               0.672596   -1.159559        1.238665  \n",
       "2001Q2               1.095764   -1.089457        0.950674  \n",
       "2001Q3              -0.721291   -2.395150       -1.542906  \n",
       "2001Q4               0.485141    0.239002        0.127796  \n",
       "2002Q1              -0.202176    0.510080        1.537136  \n",
       "...                       ...         ...             ...  \n",
       "2020Q3               0.558379    4.300963        4.293566  \n",
       "2020Q4               1.010769    1.546522        4.574551  \n",
       "2021Q1               0.968967    1.648741        1.260241  \n",
       "2021Q2               0.654577    1.077530       -1.340610  \n",
       "2021Q3               0.689639    0.473982       -2.225127  \n",
       "\n",
       "[83 rows x 12 columns]"
      ]
     },
     "execution_count": 7,
     "metadata": {},
     "output_type": "execute_result"
    }
   ],
   "source": [
    "#Adjusting index\n",
    "normalized_monthly = normalized_monthly.reset_index()\n",
    "normalized_monthly.set_index('index')\n",
    "\n",
    "#Turning into quarterly\n",
    "quarterly = normalized_monthly.groupby(pd.PeriodIndex(normalized_monthly['index'], freq='Q')).mean().reset_index()\n",
    "\n",
    "# Adjust the gdp data series\n",
    "df_gdp = pd.DataFrame(gdp).loc[(pd.DataFrame(gdp).index >= '2000-10-01') & (pd.DataFrame(gdp).index <= '2021-10-01')].reset_index().rename(columns={\"index\": \"old_index\"})\n",
    "df_gdp['GDP'] = np.log(df_gdp['GDP']).diff()*100\n",
    "\n",
    "# Add on a single dataframe\n",
    "quarterly_all = pd.concat([df_gdp, quarterly], axis=1).drop('old_index', axis=1).set_index('index')\n",
    "quarterly_all = quarterly_all.dropna()[:-1]\n",
    "\n",
    "# Finally, we've got the data\n",
    "quarterly_all"
   ]
  },
  {
   "cell_type": "markdown",
   "id": "1ebbdc01-daa2-41cc-b81a-537c83ca76bb",
   "metadata": {},
   "source": [
    "## 4. Forecasting methods"
   ]
  },
  {
   "cell_type": "markdown",
   "id": "7cdb8bd9-023d-418e-a591-a058bbd60c5f",
   "metadata": {},
   "source": [
    "In this section, we briefly describe the methodology behind each of the models used. After that discussion, we then delve into the modeling process and the empiric results. Here, we will discuss the following models:\n",
    "\n",
    "1. Trailing 3-period average\n",
    "\n",
    "2. Exponential Smoothing\n",
    "\n",
    "3. ARIMA\n",
    "\n",
    "4. Simple Linear Regression (OLS)\n",
    "\n",
    "5. Ridge / Lasso / Elastic Net regressions\n",
    "\n",
    "6. Dynamic Factor Model\n",
    "\n",
    "7. Vector Autoregressive (VAR)\n",
    "\n",
    "8. Random Forest\n",
    "\n",
    "9. Gradient Boosted Decision Trees\n",
    "\n",
    "10. K-Nearest Neighbor\n",
    "\n",
    "11. Support Vector Regression\n",
    "\n",
    "12. Dense Neural Networks\n",
    "\n",
    "13. LSTM"
   ]
  },
  {
   "cell_type": "markdown",
   "id": "6a0cdfd6-11d0-4eb9-93cc-0f157f3ac1f8",
   "metadata": {
    "tags": []
   },
   "source": [
    "#### 4.1 Univariate Models"
   ]
  },
  {
   "cell_type": "markdown",
   "id": "826bd822-88f5-4539-9a44-aa980299463b",
   "metadata": {},
   "source": [
    "**Trailing 3-period average**: \n",
    "\n",
    "This simple estimator plays the role of a naïve benchmark. It is an average of three periods, which can be 3-months or 3-quarters, depending on the variable used in our analysis.\n",
    "\n",
    "\\begin{align*}\n",
    "  \\hat{\\mu}_{t+1} &= \\frac{1}{T}\\sum^{t=3}_{t=1} {\\hat\\mu_t}\\\\\n",
    "  &\\text{where } \\hat{\\mu}_{t} \\text{is the independent variable}\\\\\n",
    "\\end{align*}"
   ]
  },
  {
   "cell_type": "markdown",
   "id": "0d7cba34-69fb-4ad0-a1a9-5fcf4225fff3",
   "metadata": {},
   "source": [
    "**Exponential Smoothing**: \n",
    "\n",
    "A weighted average of lagged values, with weights decaying exponentially the longer the lag. Exponential smoothing takes into account all past data, whereas moving average only takes into account $k$ past data points.\n",
    "\n",
    "\n",
    "$$ X_{t+1} = \\alpha X_{t} + \\alpha (1- \\alpha) X_{t-1} + \\alpha (1- \\alpha)^2 X_{t-2} + {...} $$\n",
    "\n",
    "\n",
    "where $0 \\le \\alpha \\le 1 $ is the smoothing parameter. You choose how many lags to use. We will use four lags here."
   ]
  },
  {
   "cell_type": "markdown",
   "id": "055e2f8b-1942-4190-aff3-f229d77a876a",
   "metadata": {},
   "source": [
    "**ARIMA**: \n",
    "\n",
    "A stochastic process $ \\{X_t\\} $ is called an *autoregressive moving\n",
    "average process*, or ARMA($ p,q $), if it can be written as\n",
    "\n",
    "\n",
    "<a id='equation-arma'></a>\n",
    "$$\n",
    "X_t = \\phi_1 X_{t-1} + \\cdots + \\phi_p X_{t-p} +\n",
    "    \\epsilon_t + \\theta_1 \\epsilon_{t-1} + \\cdots + \\theta_q \\epsilon_{t-q}\n",
    "$$\n",
    "\n",
    "where $ \\{ \\epsilon_t \\} $ is white noise.\n",
    "\n",
    "In what follows we **always assume** that the roots of the polynomial $ \\phi(z) $ lie outside the unit circle in the complex plane.\n",
    "\n",
    "This condition is sufficient to guarantee that the ARMA($ p,q $) process is covariance stationary.\n",
    "\n",
    "In fact, it implies that the process falls within the class of general linear processes.\n",
    "\n",
    "We define an ARIMA(p, d, q) model as the mixture of an AR(p) and MA(q) model with differencing (to help make the process stationary)"
   ]
  },
  {
   "cell_type": "markdown",
   "id": "6dad0ccd-512e-4b79-b47e-1db356dfda13",
   "metadata": {},
   "source": [
    "#### 4.2 Linear Regression and Machine Learning Models"
   ]
  },
  {
   "cell_type": "markdown",
   "id": "6de3c35f-7578-4bad-bc9c-18f2f8c21892",
   "metadata": {},
   "source": [
    "**Simple Linear Regression (OLS):**\n",
    "\n",
    "The most common technique to estimate a linear relationship between variables is Ordinary Least Squares (OLS). OLS model is solved by finding the parameters that minimize the sum of squared residuals.\n",
    "\n",
    "The model can be defined, in the matrix form, as:\n",
    "\n",
    "$$\n",
    "y = X\\beta + u\n",
    "$$\n",
    "\n",
    "To solve for the unknown parameter $ \\beta $, we want to minimize\n",
    "the sum of squared residuals\n",
    "\n",
    "$$\n",
    "\\underset{\\hat{\\beta}}{\\min} \\hat{u}'\\hat{u}\n",
    "$$\n",
    "\n",
    "Rearranging the first equation and substituting into the second\n",
    "equation, we can write\n",
    "\n",
    "$$\n",
    "\\underset{\\hat{\\beta}}{\\min} \\ (Y - X\\hat{\\beta})' (Y - X\\hat{\\beta})\n",
    "$$\n",
    "\n",
    "Solving this optimization problem gives the solution for the\n",
    "$ \\hat{\\beta} $ coefficients\n",
    "\n",
    "$$\n",
    "\\hat{\\beta} = (X'X)^{-1}X'y\n",
    "$$"
   ]
  },
  {
   "cell_type": "markdown",
   "id": "99dd5b16-78f6-4f58-8d8a-d489e18876c0",
   "metadata": {},
   "source": [
    "**Ridge / Lasso / Elastic Net:**\n",
    "\n",
    "These models are very closely related to traditional OLS, but they focus on regularization of parameters to avoid overfitting.\n",
    "\n",
    "The Lasso model generates predictions using but optimizes over a slightly different loss function:\n",
    "\n",
    "$$\n",
    "\\underset{\\hat{\\beta}}{\\min} \\ (Y - X\\hat{\\beta})' (Y - X\\hat{\\beta}) + \\alpha\\hat{\\beta}\n",
    "$$\n",
    "\n",
    "where $ \\alpha $ is the regularization parameter. The additional term penalizes large coefficients and in practice, effectively sets coefficients to zero for features that are not informative about the target.\n",
    "\n",
    "\n",
    "Ridge regressions places a particular form of constraint on the parameters $\\beta$, which is chosen to minimize the penalized sum of squares:\n",
    "\n",
    "$$\n",
    "\\underset{\\hat{\\beta}}{\\min} \\ (Y - X\\hat{\\beta})' (Y - X\\hat{\\beta}) + \\lambda\\hat{\\beta}'\\hat{\\beta}\n",
    "$$\n",
    "\n",
    "This means that if the $\\beta$ take on large values, the optimization function is penalized, but not zero (only reducing the impact of \"irrelevant\" features of the model).\n",
    "\n",
    "The elastic net algorithm uses a weighted combination of Ridge and Lasso forms of regularization. "
   ]
  },
  {
   "cell_type": "markdown",
   "id": "bea7d516-57b4-476d-917c-b936a10d8928",
   "metadata": {},
   "source": [
    "#### 4.3 More Complex Econometric Methods"
   ]
  },
  {
   "cell_type": "markdown",
   "id": "9e02b7f9-1a46-4410-a9ed-5b81ac24243f",
   "metadata": {},
   "source": [
    "**Vector autoregressions (VARs):**\n",
    "\n",
    "The Vector Autoregression models (VARs) are an extension of the AR model described before, in a multi-variate form used when two or more time series can influence each other. This parametric model is built as an equation that includes the variable's lagged (past) values, the lagged values of the other variables in the model, and an error term. \n",
    "\n",
    "An important part of the VAR models, as it is for the AR version, is the order of the model - the number of lags one wants to include in its model. In the example below we represent as an infinity of lags. However, on the data analysis it would be required that we perform a lag criterion test, such as AIC, PIC and SIC."
   ]
  },
  {
   "cell_type": "markdown",
   "id": "e9efcebe-a04d-4f5e-b02c-859d582ffda1",
   "metadata": {},
   "source": [
    "In the example of equation below, we describe an VAR model where the $X_t$ an the independent variable, which we are interested in modeling, $X_{t-T}$ are the lags of the independent variable. In the meantime, $Y_{t-T}$ is a matrix that represents all the lagged explanatory variables used in the model. Again $ \\{ \\epsilon_t \\} $ is white noise."
   ]
  },
  {
   "cell_type": "markdown",
   "id": "80cb23ff-73fb-4102-bc27-387c03b5b1f7",
   "metadata": {},
   "source": [
    "<a id='equation-VAR'></a>\n",
    "$$\n",
    "X_t = \\phi_1 X_{t-1} + \\cdots + \\phi_p X_{t-p} + \\phi_1 Y_{t-1} + \\cdots + \\phi_p Y_{t-p} +\n",
    "    \\epsilon_t\n",
    "$$"
   ]
  },
  {
   "cell_type": "markdown",
   "id": "996dff66-f05c-4c64-b6fc-c3f23e4bf155",
   "metadata": {},
   "source": [
    "**Dynamic Factor Model:**\n",
    "\n",
    "In a dynamic factor model, we model a potentially large number of macroeconomic series as being driven by a much smaller number of latent factors, which are estimated, which involves a principal component analysis. \n",
    "\n",
    "Principal component analysis is an unsupervised algorithm, based on feature correlation, used for dimensionality reduction. The premise is simply to take data of higher dimensions, and reduce to a lower dimension.\n",
    "\n",
    "Often times, in higher dimensional data, it isn't possible to create visual representations of relationships between variables. Through applying PCA, it then becomes possible to reduce the dimensions of the data and display variable relationships. This tool also allows easier visualization and noise filtering, among other applications.\n",
    "\n",
    "The PCA must be used when three conditions apply:\n",
    "\n",
    "1. Reduce the number of variables\n",
    "2. Ensure that each variable is independent of one another\n",
    "3. Assume that the interpretation of the independent variables is less important"
   ]
  },
  {
   "cell_type": "markdown",
   "id": "3254e313-e94f-49ed-a36e-fc8e5b7aefc5",
   "metadata": {},
   "source": [
    "How does a PCA work?\n",
    "\n",
    "a. Calculate a matrix that summarizes how the variables are related one another (the covariance matrix).\n",
    "\n",
    "b. Then separate it between direction (eigenvectors) and magnitude (eigenvalues)\n",
    "\n",
    "c. By projecting the data into a smaller space, we reduce dimension, but keep the original variables in our model\n",
    "\n",
    "Mathematically, the first principal component is the direction in space along which projections have the largest variance. The second principal component is the direction which maximizes variance among all directions orthogonal to the first. The k-th component is the variance-maximizing direction orthogonal to the previous k-1 components.\n",
    "\n",
    "With those principal components, we use them as explanatory variables in an OLS."
   ]
  },
  {
   "cell_type": "markdown",
   "id": "06c28134-4e74-4e3e-9102-880dcd6af678",
   "metadata": {},
   "source": [
    "For our specific case, we use a state space model to try and explain the GDP data we observe by using only one unobserved factor, extracted from a series of monthly data.\n",
    "\n",
    "Define our state space model as:\n",
    "\n",
    "\\begin{align*}\n",
    "  \\lambda_{t} &= A \\lambda_{t-1} + \\eta_t \\\\\n",
    "  p_{i, t} &= G_i \\lambda_t + \\varepsilon_{i, t} \\\\\n",
    "  \\eta_t &\\sim N(0, I) \\\\\n",
    "  \\varepsilon_t &\\sim N(0, \\Sigma)\n",
    "\\end{align*}\n",
    "\n",
    "Note: If we stack our $p_{i, t}$ values, we wind up with\n",
    "\n",
    "$$P_t = G \\lambda_t + \\varepsilon_t$$\n",
    "\n",
    "where $G \\equiv \\begin{bmatrix} G_1 \\\\ G_2 \\\\ \\vdots \\\\ G_I \\end{bmatrix}$, $\\varepsilon_t \\equiv \\begin{bmatrix} \\varepsilon_1 \\\\ \\varepsilon_2 \\\\ \\vdots \\\\ \\varepsilon_I \\end{bmatrix}$"
   ]
  },
  {
   "cell_type": "markdown",
   "id": "ec1c2ddd-f719-4789-a983-c285867f4519",
   "metadata": {
    "tags": []
   },
   "source": [
    "#### 4.4 Nonlinear Algorithms\n"
   ]
  },
  {
   "cell_type": "markdown",
   "id": "8599892c-c67f-4613-b4b0-7bdafd87ac39",
   "metadata": {},
   "source": [
    "**Random Forest:**\n",
    "\n",
    "Description"
   ]
  },
  {
   "cell_type": "markdown",
   "id": "cf6c59f1-30cb-4e41-a68d-e3216147cd76",
   "metadata": {},
   "source": [
    "**Gradient Boosted Decision Trees:**\n",
    "\n",
    "Description"
   ]
  },
  {
   "cell_type": "markdown",
   "id": "a514e687-2a6e-4f3a-839d-2217a61593f8",
   "metadata": {},
   "source": [
    "**K-Nearest Neighbors:**\n",
    "\n",
    "K Nearest Neighbour is a simple univariate algorithm that stores all the available cases and classifies the new data or case based on a similarity measure. It is mostly used to classifies a data point based on how its neighbours are classified. \n",
    "\n",
    "Similarity is defined according to a distance metric between two data points. Distance could be Euclidean, Manhattan, Minkowski, or Hamming distance. We use the Euclidean approach, which is the most widely used distance measure to calculate the distance between test samples and trained data values.\n",
    "\n",
    "- Euclidean Distance\n",
    "\n",
    "<a id='euclidean distance'></a>\n",
    "$$\n",
    "d(i,j) = \\sqrt{ {| x_{i1} - x_{j1} |}^2 + {|x_{i2} - x_{j2}|}^2 + \\cdots + {|x_{ip} - x_{jp}|}^2} \n",
    "$$\n",
    "\n",
    "- Minkowski Distance\n",
    "\n",
    "<a id='minkowski distance'></a>\n",
    "$$\n",
    "d(i,j) = ( {| x_{i1} - x_{j1} |}^q + {|x_{i2} - x_{j2}|}^q + \\cdots + {|x_{ip} - x_{jp}|}^q )^{1/q}\n",
    "$$\n",
    "\n",
    "- Manhattan Distance\n",
    "<a id='manhattan distance'></a>\n",
    "$$\n",
    "d(i,j) = {| x_{i1} - x_{j1} |} + {|x_{i2} - x_{j2}|} + \\cdots + {|x_{ip} - x_{jp}|}\n",
    "$$\n"
   ]
  },
  {
   "cell_type": "markdown",
   "id": "d32462e6-8fd1-462c-821e-fdb575fc38cc",
   "metadata": {},
   "source": [
    "From a given k, one can choose the closest neighbors of that given data. For a data record $t$ to be classified, its $k$ nearest neighbours are retrieved, and this forms a neighbourhood of $t$. One needs to choose an appropriate value for $k$, and the success of classification is very much dependent on this value. There are no pre-defined statistical methods to find the most favorable value of K. The only option is to choose different $k$ and select the one with the lowest error. However, we won't proceed like this here to avoid overfitting.\n",
    "\n"
   ]
  },
  {
   "cell_type": "markdown",
   "id": "6b118452-6857-4898-8091-6d4b73d27d13",
   "metadata": {},
   "source": [
    "**Support Vector Regression:**\n",
    "\n",
    "Description"
   ]
  },
  {
   "cell_type": "markdown",
   "id": "a46ea259-328a-40fb-becf-6b35822f0a29",
   "metadata": {},
   "source": [
    "#### 3.5 Neural Networks"
   ]
  },
  {
   "cell_type": "markdown",
   "id": "fa9e8f88-db50-4ef8-be8f-dcea92939a11",
   "metadata": {},
   "source": [
    "**Dense:**\n",
    "\n",
    "Description"
   ]
  },
  {
   "cell_type": "markdown",
   "id": "31bb8bf5-1775-4f07-9317-d5e6ab3dc56b",
   "metadata": {},
   "source": [
    "**LSTM:**\n",
    "\n",
    "Description"
   ]
  },
  {
   "cell_type": "markdown",
   "id": "bf23602f-bd86-42da-9aa6-b7044d29ae34",
   "metadata": {},
   "source": [
    "## 5. Empirical Results"
   ]
  },
  {
   "cell_type": "markdown",
   "id": "bd26094b-1d20-45f1-9c3e-315748f4133f",
   "metadata": {},
   "source": [
    "In this section, we apply the methods described before to the US data we discussed before. In summary, whenever applicable, we will use monthly US economic data to predict the US quarterly GDP growth. "
   ]
  },
  {
   "cell_type": "markdown",
   "id": "7794a278-42b4-420e-868a-753e9375cbc6",
   "metadata": {
    "tags": []
   },
   "source": [
    "#### 5.1 Trailing 3-period average (application):"
   ]
  },
  {
   "cell_type": "markdown",
   "id": "5d778dec-b927-4f05-8cf9-a7802cf6a793",
   "metadata": {
    "tags": []
   },
   "source": [
    "Now, we move to estimate the benchmark of a simple trailing 3-period average predicting future GDP."
   ]
  },
  {
   "cell_type": "code",
   "execution_count": 8,
   "id": "b4750de9-064b-42a4-adee-9362419122af",
   "metadata": {
    "tags": []
   },
   "outputs": [
    {
     "data": {
      "text/plain": [
       "<matplotlib.legend.Legend at 0x1cd59e324f0>"
      ]
     },
     "execution_count": 8,
     "metadata": {},
     "output_type": "execute_result"
    },
    {
     "data": {
      "image/png": "[encoded data removed]",
      "text/plain": [
       "<Figure size 432x288 with 1 Axes>"
      ]
     },
     "metadata": {
      "needs_background": "light"
     },
     "output_type": "display_data"
    }
   ],
   "source": [
    "# Define the three month trailing average\n",
    "df_gdp[\"3m_avg\"] = (df_gdp[\"GDP\"].shift(1).rolling(3).sum()/3)\n",
    "\n",
    "### in plot method we set the label and color of the curve.\n",
    "df_gdp['GDP'].plot(label='GDP', color='blue')\n",
    "\n",
    "df_gdp['3m_avg'].plot(label='Lagged 3-month average', color='orange')\n",
    "  \n",
    "# adding title to the plot\n",
    "plt.title('GDP growth and 3-month average')\n",
    "  \n",
    "# adding Label to the x-axis\n",
    "plt.xlabel('Years')\n",
    "  \n",
    "# adding legend to the curve\n",
    "plt.legend()"
   ]
  },
  {
   "cell_type": "code",
   "execution_count": 9,
   "id": "747568dd-bb6e-4e8f-a02e-37b2133099c1",
   "metadata": {
    "tags": []
   },
   "outputs": [
    {
     "name": "stdout",
     "output_type": "stream",
     "text": [
      "Out-of-Sample RMSE is : 2.4083075618421033\n"
     ]
    }
   ],
   "source": [
    "trailing_rmse = math.sqrt(sklearn.metrics.mean_squared_error(df_gdp['GDP'][40:], df_gdp['3m_avg'][40:]))\n",
    "\n",
    "print(f\"Out-of-Sample RMSE is : {trailing_rmse}\")"
   ]
  },
  {
   "cell_type": "markdown",
   "id": "42fff172-571d-45bd-beed-7c1907c69337",
   "metadata": {
    "tags": []
   },
   "source": [
    "#### 5.2 Exponential Smoothing (application):"
   ]
  },
  {
   "cell_type": "markdown",
   "id": "24b4510c-52be-4e12-8e71-b73fcbddc180",
   "metadata": {
    "tags": []
   },
   "source": [
    "Explain briefly"
   ]
  },
  {
   "cell_type": "code",
   "execution_count": 10,
   "id": "6c035d9d-fc8a-4d27-b2e3-7da5fce8c62b",
   "metadata": {
    "tags": []
   },
   "outputs": [
    {
     "data": {
      "text/plain": [
       "<matplotlib.legend.Legend at 0x1cd59cef3a0>"
      ]
     },
     "execution_count": 10,
     "metadata": {},
     "output_type": "execute_result"
    },
    {
     "data": {
      "image/png": "[encoded data removed]",
      "text/plain": [
       "<Figure size 432x288 with 1 Axes>"
      ]
     },
     "metadata": {
      "needs_background": "light"
     },
     "output_type": "display_data"
    }
   ],
   "source": [
    "# Define the three month trailing average\n",
    "df_gdp[\"exponential\"] = 0.5*df_gdp[\"GDP\"].shift(1) + (1-0.5)*0.5*df_gdp[\"GDP\"].shift(2) + (1-0.5)*(0.5**2)*df_gdp[\"GDP\"].shift(3)\n",
    "\n",
    "### in plot method we set the label and color of the curve.\n",
    "df_gdp['GDP'].plot(label='GDP', color='blue')\n",
    "\n",
    "df_gdp[\"exponential\"].plot(label='Exponential Smoothing (3-month)', color='orange')\n",
    "  \n",
    "# adding title to the plot\n",
    "plt.title('GDP growth and Exponential Smoothing (3-month)')\n",
    "  \n",
    "# adding Label to the x-axis\n",
    "plt.xlabel('Years')\n",
    "  \n",
    "# adding legend to the curve\n",
    "plt.legend()"
   ]
  },
  {
   "cell_type": "code",
   "execution_count": 11,
   "id": "b6efd727-a8a8-442a-ab6f-b2c5c1138fe1",
   "metadata": {
    "tags": []
   },
   "outputs": [
    {
     "name": "stdout",
     "output_type": "stream",
     "text": [
      "In-Sample RMSE is : 2.509512751787306\n"
     ]
    }
   ],
   "source": [
    "exponential_rmse = math.sqrt(sklearn.metrics.mean_squared_error(df_gdp['GDP'][40:], df_gdp[\"exponential\"][40:]))\n",
    "\n",
    "print(f\"In-Sample RMSE is : {exponential_rmse}\")"
   ]
  },
  {
   "cell_type": "markdown",
   "id": "49b7f072-8d3b-41e5-b9ca-233079c8a0ad",
   "metadata": {
    "tags": []
   },
   "source": [
    "#### 5.3 ARIMA models (application):"
   ]
  },
  {
   "cell_type": "markdown",
   "id": "09b2bfcc-adcd-4780-98ae-e76fd81e3bdd",
   "metadata": {
    "tags": []
   },
   "source": [
    "explain TODO"
   ]
  },
  {
   "cell_type": "code",
   "execution_count": 12,
   "id": "eb0c40f3-6fef-4611-9b2f-0444aceac006",
   "metadata": {
    "tags": []
   },
   "outputs": [
    {
     "data": {
      "text/plain": [
       "<AxesSubplot:xlabel='Lag', ylabel='Autocorrelation'>"
      ]
     },
     "execution_count": 12,
     "metadata": {},
     "output_type": "execute_result"
    },
    {
     "data": {
      "image/png": "[encoded data removed]",
      "text/plain": [
       "<Figure size 432x288 with 1 Axes>"
      ]
     },
     "metadata": {
      "needs_background": "light"
     },
     "output_type": "display_data"
    }
   ],
   "source": [
    "autocorrelation_plot(df_gdp[\"GDP\"][1:])"
   ]
  },
  {
   "cell_type": "markdown",
   "id": "e3827160-859a-4a72-842f-60cff02fc72f",
   "metadata": {},
   "source": [
    "#### 5.4 OLS models (application):"
   ]
  },
  {
   "cell_type": "markdown",
   "id": "8a941419-3b8f-4067-a003-10fe3e546158",
   "metadata": {},
   "source": [
    "explain briefly"
   ]
  },
  {
   "cell_type": "code",
   "execution_count": 13,
   "id": "48211717-7b82-41ff-af3a-e5a3aa2adbda",
   "metadata": {},
   "outputs": [
    {
     "data": {
      "text/html": [
       "<table class=\"simpletable\">\n",
       "<caption>OLS Regression Results</caption>\n",
       "<tr>\n",
       "  <th>Dep. Variable:</th>           <td>GDP</td>       <th>  R-squared:         </th> <td>   0.861</td>\n",
       "</tr>\n",
       "<tr>\n",
       "  <th>Model:</th>                   <td>OLS</td>       <th>  Adj. R-squared:    </th> <td>   0.840</td>\n",
       "</tr>\n",
       "<tr>\n",
       "  <th>Method:</th>             <td>Least Squares</td>  <th>  F-statistic:       </th> <td>   138.1</td>\n",
       "</tr>\n",
       "<tr>\n",
       "  <th>Date:</th>             <td>Mon, 09 May 2022</td> <th>  Prob (F-statistic):</th> <td>2.43e-43</td>\n",
       "</tr>\n",
       "<tr>\n",
       "  <th>Time:</th>                 <td>21:03:30</td>     <th>  Log-Likelihood:    </th> <td> -74.847</td>\n",
       "</tr>\n",
       "<tr>\n",
       "  <th>No. Observations:</th>      <td>    83</td>      <th>  AIC:               </th> <td>   173.7</td>\n",
       "</tr>\n",
       "<tr>\n",
       "  <th>Df Residuals:</th>          <td>    71</td>      <th>  BIC:               </th> <td>   202.7</td>\n",
       "</tr>\n",
       "<tr>\n",
       "  <th>Df Model:</th>              <td>    11</td>      <th>                     </th>     <td> </td>   \n",
       "</tr>\n",
       "<tr>\n",
       "  <th>Covariance Type:</th>         <td>HAC</td>       <th>                     </th>     <td> </td>   \n",
       "</tr>\n",
       "</table>\n",
       "<table class=\"simpletable\">\n",
       "<tr>\n",
       "            <td></td>               <th>coef</th>     <th>std err</th>      <th>t</th>      <th>P>|t|</th>  <th>[0.025</th>    <th>0.975]</th>  \n",
       "</tr>\n",
       "<tr>\n",
       "  <th>Intercept</th>             <td>    0.7831</td> <td>    0.105</td> <td>    7.485</td> <td> 0.000</td> <td>    0.574</td> <td>    0.992</td>\n",
       "</tr>\n",
       "<tr>\n",
       "  <th>payroll</th>               <td>    3.2475</td> <td>    0.350</td> <td>    9.269</td> <td> 0.000</td> <td>    2.549</td> <td>    3.946</td>\n",
       "</tr>\n",
       "<tr>\n",
       "  <th>job_openings</th>          <td>   -0.0778</td> <td>    0.037</td> <td>   -2.082</td> <td> 0.041</td> <td>   -0.152</td> <td>   -0.003</td>\n",
       "</tr>\n",
       "<tr>\n",
       "  <th>ip</th>                    <td>    0.4823</td> <td>    0.190</td> <td>    2.538</td> <td> 0.013</td> <td>    0.103</td> <td>    0.861</td>\n",
       "</tr>\n",
       "<tr>\n",
       "  <th>vehicle_sales</th>         <td>   -0.0002</td> <td>    0.051</td> <td>   -0.004</td> <td> 0.997</td> <td>   -0.102</td> <td>    0.102</td>\n",
       "</tr>\n",
       "<tr>\n",
       "  <th>quits</th>                 <td>    0.0945</td> <td>    0.038</td> <td>    2.502</td> <td> 0.015</td> <td>    0.019</td> <td>    0.170</td>\n",
       "</tr>\n",
       "<tr>\n",
       "  <th>retail</th>                <td>    0.1745</td> <td>    0.090</td> <td>    1.948</td> <td> 0.055</td> <td>   -0.004</td> <td>    0.353</td>\n",
       "</tr>\n",
       "<tr>\n",
       "  <th>wholesale_inventories</th> <td>   -0.0400</td> <td>    0.180</td> <td>   -0.222</td> <td> 0.825</td> <td>   -0.399</td> <td>    0.319</td>\n",
       "</tr>\n",
       "<tr>\n",
       "  <th>consumer_sentiment</th>    <td>    0.0122</td> <td>    0.025</td> <td>    0.497</td> <td> 0.620</td> <td>   -0.037</td> <td>    0.061</td>\n",
       "</tr>\n",
       "<tr>\n",
       "  <th>construction_spending</th> <td>    0.0055</td> <td>    0.081</td> <td>    0.068</td> <td> 0.946</td> <td>   -0.157</td> <td>    0.168</td>\n",
       "</tr>\n",
       "<tr>\n",
       "  <th>new_orders</th>            <td>    0.0019</td> <td>    0.041</td> <td>    0.046</td> <td> 0.964</td> <td>   -0.080</td> <td>    0.083</td>\n",
       "</tr>\n",
       "<tr>\n",
       "  <th>housing_starts</th>        <td>   -0.0067</td> <td>    0.020</td> <td>   -0.330</td> <td> 0.742</td> <td>   -0.047</td> <td>    0.034</td>\n",
       "</tr>\n",
       "</table>\n",
       "<table class=\"simpletable\">\n",
       "<tr>\n",
       "  <th>Omnibus:</th>       <td>45.662</td> <th>  Durbin-Watson:     </th> <td>   1.745</td>\n",
       "</tr>\n",
       "<tr>\n",
       "  <th>Prob(Omnibus):</th> <td> 0.000</td> <th>  Jarque-Bera (JB):  </th> <td> 207.746</td>\n",
       "</tr>\n",
       "<tr>\n",
       "  <th>Skew:</th>          <td> 1.613</td> <th>  Prob(JB):          </th> <td>7.73e-46</td>\n",
       "</tr>\n",
       "<tr>\n",
       "  <th>Kurtosis:</th>      <td>10.047</td> <th>  Cond. No.          </th> <td>    20.2</td>\n",
       "</tr>\n",
       "</table><br/><br/>Notes:<br/>[1] Standard Errors are heteroscedasticity and autocorrelation robust (HAC) using 1 lags and without small sample correction"
      ],
      "text/plain": [
       "<class 'statsmodels.iolib.summary.Summary'>\n",
       "\"\"\"\n",
       "                            OLS Regression Results                            \n",
       "==============================================================================\n",
       "Dep. Variable:                    GDP   R-squared:                       0.861\n",
       "Model:                            OLS   Adj. R-squared:                  0.840\n",
       "Method:                 Least Squares   F-statistic:                     138.1\n",
       "Date:                Mon, 09 May 2022   Prob (F-statistic):           2.43e-43\n",
       "Time:                        21:03:30   Log-Likelihood:                -74.847\n",
       "No. Observations:                  83   AIC:                             173.7\n",
       "Df Residuals:                      71   BIC:                             202.7\n",
       "Df Model:                          11                                         \n",
       "Covariance Type:                  HAC                                         \n",
       "=========================================================================================\n",
       "                            coef    std err          t      P>|t|      [0.025      0.975]\n",
       "-----------------------------------------------------------------------------------------\n",
       "Intercept                 0.7831      0.105      7.485      0.000       0.574       0.992\n",
       "payroll                   3.2475      0.350      9.269      0.000       2.549       3.946\n",
       "job_openings             -0.0778      0.037     -2.082      0.041      -0.152      -0.003\n",
       "ip                        0.4823      0.190      2.538      0.013       0.103       0.861\n",
       "vehicle_sales            -0.0002      0.051     -0.004      0.997      -0.102       0.102\n",
       "quits                     0.0945      0.038      2.502      0.015       0.019       0.170\n",
       "retail                    0.1745      0.090      1.948      0.055      -0.004       0.353\n",
       "wholesale_inventories    -0.0400      0.180     -0.222      0.825      -0.399       0.319\n",
       "consumer_sentiment        0.0122      0.025      0.497      0.620      -0.037       0.061\n",
       "construction_spending     0.0055      0.081      0.068      0.946      -0.157       0.168\n",
       "new_orders                0.0019      0.041      0.046      0.964      -0.080       0.083\n",
       "housing_starts           -0.0067      0.020     -0.330      0.742      -0.047       0.034\n",
       "==============================================================================\n",
       "Omnibus:                       45.662   Durbin-Watson:                   1.745\n",
       "Prob(Omnibus):                  0.000   Jarque-Bera (JB):              207.746\n",
       "Skew:                           1.613   Prob(JB):                     7.73e-46\n",
       "Kurtosis:                      10.047   Cond. No.                         20.2\n",
       "==============================================================================\n",
       "\n",
       "Notes:\n",
       "[1] Standard Errors are heteroscedasticity and autocorrelation robust (HAC) using 1 lags and without small sample correction\n",
       "\"\"\""
      ]
     },
     "execution_count": 13,
     "metadata": {},
     "output_type": "execute_result"
    }
   ],
   "source": [
    "# Get data\n",
    "quarterly_constant = sm.add_constant(quarterly_all)\n",
    "\n",
    "# Run regression\n",
    "ols_model = smf.ols(formula='GDP ~ payroll + job_openings + ip + vehicle_sales + quits + retail + wholesale_inventories + consumer_sentiment + construction_spending + new_orders + housing_starts', data = quarterly_constant).fit()\n",
    "ols_results = ols_model.get_robustcov_results(cov_type='HAC',maxlags=1)\n",
    "ols_results.summary()"
   ]
  },
  {
   "cell_type": "code",
   "execution_count": 14,
   "id": "67fcd0ab-a9de-49f6-83dd-451ebd54cb6f",
   "metadata": {},
   "outputs": [
    {
     "data": {
      "text/plain": [
       "<matplotlib.legend.Legend at 0x1cd5d8d9b20>"
      ]
     },
     "execution_count": 14,
     "metadata": {},
     "output_type": "execute_result"
    },
    {
     "data": {
      "image/png": "[encoded data removed]",
      "text/plain": [
       "<Figure size 432x288 with 1 Axes>"
      ]
     },
     "metadata": {
      "needs_background": "light"
     },
     "output_type": "display_data"
    }
   ],
   "source": [
    "# Create Series\n",
    "ols_fitted = pd.DataFrame(ols_results.fittedvalues, columns = ['OLS In-Sample'])\n",
    "quarterly_ols = pd.concat([quarterly_constant.reset_index(), ols_fitted], axis=1).set_index('index')\n",
    "\n",
    "### in plot method we set the label and color of the curve.\n",
    "quarterly_ols['GDP'].plot(label='GDP', color='blue')\n",
    "quarterly_ols['OLS In-Sample'].plot(label='OLS (in-sample)', color='orange')\n",
    "  \n",
    "# adding title to the plot\n",
    "plt.title('GDP growth and OLS model')\n",
    "  \n",
    "# adding Label to the x-axis\n",
    "plt.xlabel('Years')\n",
    "  \n",
    "# adding legend to the curve\n",
    "plt.legend()"
   ]
  },
  {
   "cell_type": "code",
   "execution_count": 15,
   "id": "bcb31da7-e5ee-4870-bb32-05666c18f2eb",
   "metadata": {},
   "outputs": [
    {
     "data": {
      "text/plain": [
       "<matplotlib.legend.Legend at 0x1cd5e964f70>"
      ]
     },
     "execution_count": 15,
     "metadata": {},
     "output_type": "execute_result"
    },
    {
     "data": {
      "image/png": "[encoded data removed]",
      "text/plain": [
       "<Figure size 432x288 with 1 Axes>"
      ]
     },
     "metadata": {
      "needs_background": "light"
     },
     "output_type": "display_data"
    }
   ],
   "source": [
    "# Create out of sample\n",
    "ols_restrict = smf.ols(formula='GDP ~ payroll + job_openings + ip + vehicle_sales + quits + retail + wholesale_inventories + consumer_sentiment + construction_spending + new_orders + housing_starts', data = quarterly_constant[:-43]).fit()\n",
    "ols_restrict_results = ols_restrict.get_robustcov_results(cov_type='HAC',maxlags=1)\n",
    "\n",
    "ols_restrict_results.summary()\n",
    "\n",
    "### in plot method we set the label and color of the curve.\n",
    "\n",
    "quarterly_ols['GDP'][40:].plot(label='GDP', color='blue')\n",
    "quarterly_ols['OLS In-Sample'][40:].plot(label='OLS (in-sample)', color='orange')\n",
    "\n",
    "out_of_sample_ols = 0.8303 + -0.0451*quarterly_constant['payroll'] + 0.0057*quarterly_constant['job_openings'] + 0.3213*quarterly_constant['ip'] + -0.0471*quarterly_constant['vehicle_sales'] + 0.1144*quarterly_constant['quits'] + 0.2695*quarterly_constant['retail'] + 0.2607*quarterly_constant['wholesale_inventories'] + 0.0128*quarterly_constant['consumer_sentiment'] + 0.3316*quarterly_constant['construction_spending'] + 0.0405*quarterly_constant['new_orders'] + -0.0271*quarterly_constant['housing_starts'] \n",
    "out_of_sample_ols[40:].plot(label='OLS (out-of-sample)', color='red')\n",
    "\n",
    "# adding title to the plot\n",
    "plt.title('GDP growth and OLS model')\n",
    "  \n",
    "# adding Label to the x-axis\n",
    "plt.xlabel('Years')\n",
    "  \n",
    "# adding legend to the curve\n",
    "plt.legend()"
   ]
  },
  {
   "cell_type": "code",
   "execution_count": 16,
   "id": "0735c237-86c3-4975-9846-983c850b5f95",
   "metadata": {},
   "outputs": [
    {
     "name": "stdout",
     "output_type": "stream",
     "text": [
      "Out-of-Sample RMSE is : 1.8111619304774078\n",
      "In-Sample RMSE is : 0.6992147870230321\n"
     ]
    }
   ],
   "source": [
    "#errors\n",
    "ols_rmse_out_sample = math.sqrt(sklearn.metrics.mean_squared_error(quarterly_ols['GDP'][40:], out_of_sample_ols[40:] ))\n",
    "ols_rmse_in_sample = math.sqrt(sklearn.metrics.mean_squared_error(quarterly_ols['GDP'][40:], quarterly_ols['OLS In-Sample'][40:]))\n",
    "\n",
    "print(f\"Out-of-Sample RMSE is : {ols_rmse_out_sample}\")\n",
    "print(f\"In-Sample RMSE is : {ols_rmse_in_sample}\")"
   ]
  },
  {
   "cell_type": "markdown",
   "id": "81f2c5f4-7bb2-428b-b6e2-f0ffea711fb1",
   "metadata": {},
   "source": [
    "#### 5.5 Elastic Net models (application):"
   ]
  },
  {
   "cell_type": "markdown",
   "id": "459e1dc8-dacc-4a73-9927-10078b550d40",
   "metadata": {},
   "source": [
    "explain briefly\n"
   ]
  },
  {
   "cell_type": "code",
   "execution_count": 66,
   "id": "e734b229-c335-4645-a9b1-27875b85da9f",
   "metadata": {},
   "outputs": [
    {
     "data": {
      "text/plain": [
       "<matplotlib.legend.Legend at 0x1cd6195e550>"
      ]
     },
     "execution_count": 66,
     "metadata": {},
     "output_type": "execute_result"
    },
    {
     "data": {
      "image/png": "[encoded data removed]",
      "text/plain": [
       "<Figure size 432x288 with 1 Axes>"
      ]
     },
     "metadata": {
      "needs_background": "light"
     },
     "output_type": "display_data"
    }
   ],
   "source": [
    "# Run regression\n",
    "elastic_model = smf.ols(formula='GDP ~ payroll + job_openings + ip + vehicle_sales + quits + retail + wholesale_inventories + consumer_sentiment + construction_spending + new_orders + housing_starts', data = quarterly_constant).fit_regularized(method='elastic_net')\n",
    "\n",
    "# Create Series\n",
    "elastic_fitted = pd.DataFrame(elastic_model.fittedvalues, columns = ['Elastic Net In-Sample'])\n",
    "quarterly_elastic = pd.concat([quarterly_constant.reset_index(), elastic_fitted.reset_index().drop([\"index\"], axis=1)], axis=1).set_index('index')\n",
    "\n",
    "### in plot method we set the label and color of the curve.\n",
    "quarterly_elastic['GDP'].plot(label='GDP', color='blue')\n",
    "quarterly_elastic['Elastic Net In-Sample'].plot(label='Elastic Net (in-sample)', color='orange')\n",
    "  \n",
    "# adding title to the plot\n",
    "plt.title('GDP growth and Elastic Net model')\n",
    "  \n",
    "# adding Label to the x-axis\n",
    "plt.xlabel('Years')\n",
    "  \n",
    "# adding legend to the curve\n",
    "plt.legend()\n"
   ]
  },
  {
   "cell_type": "code",
   "execution_count": 88,
   "id": "2553c353-ca99-470d-93f7-9c5c2a32b0bc",
   "metadata": {},
   "outputs": [],
   "source": [
    "# Separate test and train\n",
    "X_elastic=sm.add_constant(quarterly_all.drop([\"GDP\"], axis=1))\n",
    "y_elastic=quarterly_all['GDP']\n",
    "\n",
    "# Create test and train\n",
    "X_train_elastic, X_test_elastic, y_train_elastic, y_test_elastic = train_test_split(X_elastic, y_elastic, shuffle=False, train_size=40)\n",
    "\n",
    "# Fit model\n",
    "elastic_model_out = sm.OLS(y_train_elastic, X_train_elastic).fit_regularized(method='elastic_net')\n",
    "\n",
    "# Define series\n",
    "train_preds_elastic = elastic_model_out.predict(X_train_elastic)\n",
    "test_preds_elastic = elastic_model_out.predict(X_test_elastic)\n",
    "\n",
    "# Results\n",
    "test_results_elastic=pd.DataFrame(test_preds_elastic, y_test_elastic.index).rename(columns = {0 : \"Predict Elastic\"})\n",
    "\n",
    "# Append GDP\n",
    "test_results_elastic[\"GDP\"] = quarterly_predict['GDP'][40:]"
   ]
  },
  {
   "cell_type": "code",
   "execution_count": 89,
   "id": "41dcd308-cd65-4fb4-8f2b-abf0bb669b5d",
   "metadata": {},
   "outputs": [
    {
     "data": {
      "text/plain": [
       "<matplotlib.legend.Legend at 0x1cd62eb0340>"
      ]
     },
     "execution_count": 89,
     "metadata": {},
     "output_type": "execute_result"
    },
    {
     "data": {
      "image/png": "[encoded data removed]",
      "text/plain": [
       "<Figure size 432x288 with 1 Axes>"
      ]
     },
     "metadata": {
      "needs_background": "light"
     },
     "output_type": "display_data"
    }
   ],
   "source": [
    "### in plot method we set the label and color of the curve.\n",
    "test_results_elastic['GDP'].plot(label='GDP', color='blue')\n",
    "test_results_elastic[\"Predict Elastic\"].plot(label='Elastic Net (out-of-sample)', color='red')\n",
    "quarterly_elastic['Elastic Net In-Sample'][40:].plot(label='Elastic Net (in-sample)', color='orange')\n",
    "    \n",
    "# adding title to the plot\n",
    "plt.title('GDP growth and Elastic Net')\n",
    "  \n",
    "# adding Label to the x-axis\n",
    "plt.xlabel('Years')\n",
    "  \n",
    "# adding legend to the curve\n",
    "plt.legend()"
   ]
  },
  {
   "cell_type": "code",
   "execution_count": 90,
   "id": "d3be579e-afdd-4d84-8039-c8214777feed",
   "metadata": {},
   "outputs": [
    {
     "name": "stdout",
     "output_type": "stream",
     "text": [
      "Out-of-Sample RMSE is : 1.811202768438181\n",
      "In-Sample RMSE is : 0.6992147870145478\n"
     ]
    }
   ],
   "source": [
    "#errors\n",
    "elastic_rmse_out_sample = math.sqrt(sklearn.metrics.mean_squared_error(quarterly_ols['GDP'][40:], test_results_elastic[\"Predict Elastic\"] ))\n",
    "elastic_rmse_in_sample = math.sqrt(sklearn.metrics.mean_squared_error(quarterly_ols['GDP'][40:], quarterly_elastic['Elastic Net In-Sample'][40:]))\n",
    "\n",
    "print(f\"Out-of-Sample RMSE is : {elastic_rmse_out_sample}\")\n",
    "print(f\"In-Sample RMSE is : {elastic_rmse_in_sample}\")"
   ]
  },
  {
   "cell_type": "markdown",
   "id": "ef333054-1ef9-4470-a272-c7d2816e6d80",
   "metadata": {
    "tags": []
   },
   "source": [
    "#### 5.6 VAR models (application):"
   ]
  },
  {
   "cell_type": "markdown",
   "id": "e6e0e3db-6731-43a1-a23f-39bd9167d806",
   "metadata": {
    "tags": []
   },
   "source": [
    "Placeholder for explanation steps"
   ]
  },
  {
   "cell_type": "code",
   "execution_count": 17,
   "id": "8484d524-07d5-4fe2-bcb0-b7ea973f02e3",
   "metadata": {
    "tags": []
   },
   "outputs": [
    {
     "data": {
      "text/html": [
       "<table class=\"simpletable\">\n",
       "<caption>VAR Order Selection (* highlights the minimums)</caption>\n",
       "<tr>\n",
       "  <td></td>      <th>AIC</th>         <th>BIC</th>         <th>FPE</th>        <th>HQIC</th>    \n",
       "</tr>\n",
       "<tr>\n",
       "  <th>0</th> <td>     1.780</td>  <td>     2.143*</td> <td>     5.931</td>  <td>     1.925</td> \n",
       "</tr>\n",
       "<tr>\n",
       "  <th>1</th> <td>    -1.327</td>  <td>     3.386</td>  <td>    0.2753</td>  <td>    0.5594</td> \n",
       "</tr>\n",
       "<tr>\n",
       "  <th>2</th> <td>    -1.390</td>  <td>     7.674</td>  <td>    0.3298</td>  <td>     2.238</td> \n",
       "</tr>\n",
       "<tr>\n",
       "  <th>3</th> <td>    -1.881</td>  <td>     11.53</td>  <td>    0.4109</td>  <td>     3.489</td> \n",
       "</tr>\n",
       "<tr>\n",
       "  <th>4</th> <td>    -3.414</td>  <td>     14.35</td>  <td>    0.4637</td>  <td>     3.698</td> \n",
       "</tr>\n",
       "<tr>\n",
       "  <th>5</th> <td>    -9.967*</td> <td>     12.15</td>  <td>   0.02956*</td> <td>    -1.113*</td>\n",
       "</tr>\n",
       "</table>"
      ],
      "text/plain": [
       "<class 'statsmodels.iolib.table.SimpleTable'>"
      ]
     },
     "execution_count": 17,
     "metadata": {},
     "output_type": "execute_result"
    }
   ],
   "source": [
    "# Select numbers of lags\n",
    "var = VAR(quarterly_all)\n",
    "x = var.select_order()\n",
    "x.summary()"
   ]
  },
  {
   "cell_type": "code",
   "execution_count": 18,
   "id": "e2c08e64-6e7a-4884-989d-482dd058c604",
   "metadata": {
    "collapsed": true,
    "jupyter": {
     "outputs_hidden": true
    },
    "tags": []
   },
   "outputs": [
    {
     "data": {
      "text/plain": [
       "  Summary of Regression Results   \n",
       "==================================\n",
       "Model:                         VAR\n",
       "Method:                        OLS\n",
       "Date:           Mon, 09, May, 2022\n",
       "Time:                     21:03:31\n",
       "--------------------------------------------------------------------\n",
       "No. of Equations:         12.0000    BIC:                    12.1497\n",
       "Nobs:                     78.0000    HQIC:                  -1.11330\n",
       "Log likelihood:          -207.411    FPE:                  0.0295648\n",
       "AIC:                     -9.96707    Det(Omega_mle):     2.88226e-05\n",
       "--------------------------------------------------------------------\n",
       "Results for equation GDP\n",
       "===========================================================================================\n",
       "                              coefficient       std. error           t-stat            prob\n",
       "-------------------------------------------------------------------------------------------\n",
       "const                           -0.920589         0.723682           -1.272           0.203\n",
       "L1.GDP                           0.806867         0.414933            1.945           0.052\n",
       "L1.payroll                      -4.673187         1.524418           -3.066           0.002\n",
       "L1.job_openings                  0.116721         0.104267            1.119           0.263\n",
       "L1.ip                            1.363357         0.663027            2.056           0.040\n",
       "L1.vehicle_sales                 0.392400         0.121296            3.235           0.001\n",
       "L1.quits                         0.126659         0.111582            1.135           0.256\n",
       "L1.retail                        0.347777         0.411987            0.844           0.399\n",
       "L1.wholesale_inventories         0.652001         0.548158            1.189           0.234\n",
       "L1.consumer_sentiment           -0.062222         0.074028           -0.841           0.401\n",
       "L1.construction_spending         0.157582         0.318728            0.494           0.621\n",
       "L1.new_orders                    0.166913         0.134259            1.243           0.214\n",
       "L1.housing_starts               -0.067185         0.048473           -1.386           0.166\n",
       "L2.GDP                           0.112678         0.526295            0.214           0.830\n",
       "L2.payroll                       4.486562         1.905659            2.354           0.019\n",
       "L2.job_openings                  0.034548         0.104086            0.332           0.740\n",
       "L2.ip                           -1.868668         0.590516           -3.164           0.002\n",
       "L2.vehicle_sales                -0.119860         0.159519           -0.751           0.452\n",
       "L2.quits                         0.175785         0.142752            1.231           0.218\n",
       "L2.retail                        0.291609         0.461685            0.632           0.528\n",
       "L2.wholesale_inventories         0.246173         0.603798            0.408           0.683\n",
       "L2.consumer_sentiment            0.034735         0.092046            0.377           0.706\n",
       "L2.construction_spending        -0.670140         0.387473           -1.730           0.084\n",
       "L2.new_orders                   -0.224495         0.176334           -1.273           0.203\n",
       "L2.housing_starts                0.046136         0.064286            0.718           0.473\n",
       "L3.GDP                           1.207754         0.436626            2.766           0.006\n",
       "L3.payroll                      -4.166281         2.081207           -2.002           0.045\n",
       "L3.job_openings                 -0.113739         0.105849           -1.075           0.283\n",
       "L3.ip                           -0.762867         0.700384           -1.089           0.276\n",
       "L3.vehicle_sales                 0.174238         0.158788            1.097           0.273\n",
       "L3.quits                        -0.013457         0.143752           -0.094           0.925\n",
       "L3.retail                       -0.416181         0.573704           -0.725           0.468\n",
       "L3.wholesale_inventories         0.675318         0.521601            1.295           0.195\n",
       "L3.consumer_sentiment           -0.176796         0.104353           -1.694           0.090\n",
       "L3.construction_spending         0.508369         0.321946            1.579           0.114\n",
       "L3.new_orders                   -0.253834         0.177823           -1.427           0.153\n",
       "L3.housing_starts               -0.081979         0.066982           -1.224           0.221\n",
       "L4.GDP                           0.416671         0.502012            0.830           0.407\n",
       "L4.payroll                       0.745175         1.488092            0.501           0.617\n",
       "L4.job_openings                 -0.135706         0.118395           -1.146           0.252\n",
       "L4.ip                            0.476059         0.612490            0.777           0.437\n",
       "L4.vehicle_sales                 0.052550         0.145777            0.360           0.718\n",
       "L4.quits                         0.112314         0.128912            0.871           0.384\n",
       "L4.retail                       -0.552154         0.519687           -1.062           0.288\n",
       "L4.wholesale_inventories        -0.195125         0.459956           -0.424           0.671\n",
       "L4.consumer_sentiment           -0.077516         0.082557           -0.939           0.348\n",
       "L4.construction_spending        -0.804632         0.433039           -1.858           0.063\n",
       "L4.new_orders                   -0.009377         0.142952           -0.066           0.948\n",
       "L4.housing_starts                0.165797         0.080883            2.050           0.040\n",
       "L5.GDP                          -0.710444         0.355164           -2.000           0.045\n",
       "L5.payroll                       4.471497         1.741022            2.568           0.010\n",
       "L5.job_openings                  0.015022         0.103168            0.146           0.884\n",
       "L5.ip                           -0.151574         0.538186           -0.282           0.778\n",
       "L5.vehicle_sales                 0.049567         0.129935            0.381           0.703\n",
       "L5.quits                        -0.158251         0.119249           -1.327           0.184\n",
       "L5.retail                       -0.139819         0.438604           -0.319           0.750\n",
       "L5.wholesale_inventories        -0.077010         0.487167           -0.158           0.874\n",
       "L5.consumer_sentiment           -0.106056         0.094236           -1.125           0.260\n",
       "L5.construction_spending         0.206501         0.276489            0.747           0.455\n",
       "L5.new_orders                   -0.268643         0.135159           -1.988           0.047\n",
       "L5.housing_starts                0.065270         0.065082            1.003           0.316\n",
       "===========================================================================================\n",
       "\n",
       "Results for equation payroll\n",
       "===========================================================================================\n",
       "                              coefficient       std. error           t-stat            prob\n",
       "-------------------------------------------------------------------------------------------\n",
       "const                           -0.522109         0.198412           -2.631           0.009\n",
       "L1.GDP                           0.307753         0.113762            2.705           0.007\n",
       "L1.payroll                      -0.911458         0.417950           -2.181           0.029\n",
       "L1.job_openings                  0.022816         0.028587            0.798           0.425\n",
       "L1.ip                            0.127453         0.181782            0.701           0.483\n",
       "L1.vehicle_sales                 0.121005         0.033256            3.639           0.000\n",
       "L1.quits                         0.056531         0.030592            1.848           0.065\n",
       "L1.retail                        0.127112         0.112955            1.125           0.260\n",
       "L1.wholesale_inventories         0.261600         0.150289            1.741           0.082\n",
       "L1.consumer_sentiment           -0.017422         0.020296           -0.858           0.391\n",
       "L1.construction_spending        -0.128451         0.087386           -1.470           0.142\n",
       "L1.new_orders                    0.024638         0.036810            0.669           0.503\n",
       "L1.housing_starts               -0.011947         0.013290           -0.899           0.369\n",
       "L2.GDP                           0.063092         0.144294            0.437           0.662\n",
       "L2.payroll                       1.182919         0.522474            2.264           0.024\n",
       "L2.job_openings                 -0.006170         0.028537           -0.216           0.829\n",
       "L2.ip                           -0.667445         0.161902           -4.123           0.000\n",
       "L2.vehicle_sales                 0.004441         0.043735            0.102           0.919\n",
       "L2.quits                         0.077635         0.039138            1.984           0.047\n",
       "L2.retail                        0.067293         0.126580            0.532           0.595\n",
       "L2.wholesale_inventories        -0.048238         0.165543           -0.291           0.771\n",
       "L2.consumer_sentiment            0.024214         0.025236            0.959           0.337\n",
       "L2.construction_spending        -0.154444         0.106233           -1.454           0.146\n",
       "L2.new_orders                   -0.103394         0.048345           -2.139           0.032\n",
       "L2.housing_starts                0.014639         0.017625            0.831           0.406\n",
       "L3.GDP                           0.274206         0.119710            2.291           0.022\n",
       "L3.payroll                      -0.956564         0.570604           -1.676           0.094\n",
       "L3.job_openings                 -0.035352         0.029021           -1.218           0.223\n",
       "L3.ip                           -0.248407         0.192024           -1.294           0.196\n",
       "L3.vehicle_sales                 0.099054         0.043535            2.275           0.023\n",
       "L3.quits                         0.005934         0.039412            0.151           0.880\n",
       "L3.retail                        0.014644         0.157292            0.093           0.926\n",
       "L3.wholesale_inventories         0.134137         0.143007            0.938           0.348\n",
       "L3.consumer_sentiment           -0.038102         0.028610           -1.332           0.183\n",
       "L3.construction_spending         0.148332         0.088268            1.680           0.093\n",
       "L3.new_orders                   -0.067205         0.048754           -1.378           0.168\n",
       "L3.housing_starts               -0.031894         0.018364           -1.737           0.082\n",
       "L4.GDP                           0.126357         0.137636            0.918           0.359\n",
       "L4.payroll                       0.396861         0.407990            0.973           0.331\n",
       "L4.job_openings                 -0.049655         0.032460           -1.530           0.126\n",
       "L4.ip                            0.147965         0.167926            0.881           0.378\n",
       "L4.vehicle_sales                 0.031748         0.039968            0.794           0.427\n",
       "L4.quits                         0.037996         0.035344            1.075           0.282\n",
       "L4.retail                       -0.090330         0.142483           -0.634           0.526\n",
       "L4.wholesale_inventories        -0.120539         0.126106           -0.956           0.339\n",
       "L4.consumer_sentiment           -0.008482         0.022635           -0.375           0.708\n",
       "L4.construction_spending        -0.286522         0.118726           -2.413           0.016\n",
       "L4.new_orders                    0.010134         0.039193            0.259           0.796\n",
       "L4.housing_starts                0.054732         0.022176            2.468           0.014\n",
       "L5.GDP                          -0.210740         0.097375           -2.164           0.030\n",
       "L5.payroll                       1.297901         0.477336            2.719           0.007\n",
       "L5.job_openings                 -0.009642         0.028286           -0.341           0.733\n",
       "L5.ip                           -0.079789         0.147554           -0.541           0.589\n",
       "L5.vehicle_sales                 0.027011         0.035624            0.758           0.448\n",
       "L5.quits                        -0.016747         0.032694           -0.512           0.608\n",
       "L5.retail                       -0.096131         0.120252           -0.799           0.424\n",
       "L5.wholesale_inventories         0.166137         0.133566            1.244           0.214\n",
       "L5.consumer_sentiment           -0.003158         0.025837           -0.122           0.903\n",
       "L5.construction_spending         0.067345         0.075805            0.888           0.374\n",
       "L5.new_orders                   -0.058944         0.037057           -1.591           0.112\n",
       "L5.housing_starts                0.009754         0.017843            0.547           0.585\n",
       "===========================================================================================\n",
       "\n",
       "Results for equation job_openings\n",
       "===========================================================================================\n",
       "                              coefficient       std. error           t-stat            prob\n",
       "-------------------------------------------------------------------------------------------\n",
       "const                            2.935336         1.790584            1.639           0.101\n",
       "L1.GDP                          -1.034834         1.026655           -1.008           0.313\n",
       "L1.payroll                       2.246460         3.771822            0.596           0.551\n",
       "L1.job_openings                 -0.160598         0.257984           -0.623           0.534\n",
       "L1.ip                            0.921360         1.640507            0.562           0.574\n",
       "L1.vehicle_sales                -0.417565         0.300118           -1.391           0.164\n",
       "L1.quits                         0.071563         0.276083            0.259           0.795\n",
       "L1.retail                        0.854750         1.019368            0.839           0.402\n",
       "L1.wholesale_inventories        -0.985262         1.356291           -0.726           0.468\n",
       "L1.consumer_sentiment            0.274200         0.183165            1.497           0.134\n",
       "L1.construction_spending         0.139467         0.788620            0.177           0.860\n",
       "L1.new_orders                    0.290551         0.332192            0.875           0.382\n",
       "L1.housing_starts               -0.052114         0.119936           -0.435           0.664\n",
       "L2.GDP                          -0.696469         1.302195           -0.535           0.593\n",
       "L2.payroll                       0.342260         4.715114            0.073           0.942\n",
       "L2.job_openings                  0.141686         0.257537            0.550           0.582\n",
       "L2.ip                            0.042751         1.461097            0.029           0.977\n",
       "L2.vehicle_sales                -0.384409         0.394692           -0.974           0.330\n",
       "L2.quits                        -0.031178         0.353207           -0.088           0.930\n",
       "L2.retail                        0.332717         1.142334            0.291           0.771\n",
       "L2.wholesale_inventories         0.856027         1.493960            0.573           0.567\n",
       "L2.consumer_sentiment            0.433249         0.227748            1.902           0.057\n",
       "L2.construction_spending         0.710616         0.958712            0.741           0.459\n",
       "L2.new_orders                    0.151469         0.436297            0.347           0.728\n",
       "L2.housing_starts                0.114503         0.159060            0.720           0.472\n",
       "L3.GDP                          -2.222716         1.080330           -2.057           0.040\n",
       "L3.payroll                       2.959781         5.149468            0.575           0.565\n",
       "L3.job_openings                  0.495407         0.261899            1.892           0.059\n",
       "L3.ip                            0.230817         1.732938            0.133           0.894\n",
       "L3.vehicle_sales                -0.828220         0.392884           -2.108           0.035\n",
       "L3.quits                        -0.144105         0.355680           -0.405           0.685\n",
       "L3.retail                        0.963685         1.419499            0.679           0.497\n",
       "L3.wholesale_inventories         0.493335         1.290581            0.382           0.702\n",
       "L3.consumer_sentiment            0.588306         0.258197            2.279           0.023\n",
       "L3.construction_spending        -0.014803         0.796582           -0.019           0.985\n",
       "L3.new_orders                    0.175211         0.439982            0.398           0.690\n",
       "L3.housing_starts               -0.127902         0.165731           -0.772           0.440\n",
       "L4.GDP                          -0.209938         1.242112           -0.169           0.866\n",
       "L4.payroll                      -7.782510         3.681942           -2.114           0.035\n",
       "L4.job_openings                  0.139876         0.292940            0.477           0.633\n",
       "L4.ip                            2.044444         1.515466            1.349           0.177\n",
       "L4.vehicle_sales                -0.445690         0.360693           -1.236           0.217\n",
       "L4.quits                         0.143956         0.318964            0.451           0.652\n",
       "L4.retail                        0.467728         1.285846            0.364           0.716\n",
       "L4.wholesale_inventories         0.883473         1.138054            0.776           0.438\n",
       "L4.consumer_sentiment            0.177806         0.204269            0.870           0.384\n",
       "L4.construction_spending         1.329690         1.071454            1.241           0.215\n",
       "L4.new_orders                    0.293074         0.353703            0.829           0.407\n",
       "L4.housing_starts               -0.169103         0.200126           -0.845           0.398\n",
       "L5.GDP                          -0.056562         0.878773           -0.064           0.949\n",
       "L5.payroll                      -3.735787         4.307759           -0.867           0.386\n",
       "L5.job_openings                 -0.066361         0.255266           -0.260           0.795\n",
       "L5.ip                            1.570904         1.331618            1.180           0.238\n",
       "L5.vehicle_sales                -0.131127         0.321496           -0.408           0.683\n",
       "L5.quits                         0.035426         0.295054            0.120           0.904\n",
       "L5.retail                       -0.140069         1.085226           -0.129           0.897\n",
       "L5.wholesale_inventories        -1.144916         1.205382           -0.950           0.342\n",
       "L5.consumer_sentiment            0.248722         0.233164            1.067           0.286\n",
       "L5.construction_spending        -0.349307         0.684108           -0.511           0.610\n",
       "L5.new_orders                   -0.099189         0.334420           -0.297           0.767\n",
       "L5.housing_starts                0.029729         0.161030            0.185           0.854\n",
       "===========================================================================================\n",
       "\n",
       "Results for equation ip\n",
       "===========================================================================================\n",
       "                              coefficient       std. error           t-stat            prob\n",
       "-------------------------------------------------------------------------------------------\n",
       "const                           -0.072439         0.415210           -0.174           0.862\n",
       "L1.GDP                           0.138888         0.238066            0.583           0.560\n",
       "L1.payroll                      -1.656346         0.874630           -1.894           0.058\n",
       "L1.job_openings                  0.055030         0.059823            0.920           0.358\n",
       "L1.ip                            0.529749         0.380410            1.393           0.164\n",
       "L1.vehicle_sales                 0.068616         0.069593            0.986           0.324\n",
       "L1.quits                         0.055689         0.064020            0.870           0.384\n",
       "L1.retail                       -0.086151         0.236376           -0.364           0.716\n",
       "L1.wholesale_inventories        -0.042805         0.314504           -0.136           0.892\n",
       "L1.consumer_sentiment            0.013772         0.042473            0.324           0.746\n",
       "L1.construction_spending         0.216071         0.182869            1.182           0.237\n",
       "L1.new_orders                    0.096060         0.077031            1.247           0.212\n",
       "L1.housing_starts               -0.048951         0.027812           -1.760           0.078\n",
       "L2.GDP                           0.071734         0.301960            0.238           0.812\n",
       "L2.payroll                       0.716840         1.093366            0.656           0.512\n",
       "L2.job_openings                 -0.000835         0.059719           -0.014           0.989\n",
       "L2.ip                           -0.004341         0.338807           -0.013           0.990\n",
       "L2.vehicle_sales                -0.043578         0.091523           -0.476           0.634\n",
       "L2.quits                        -0.026463         0.081904           -0.323           0.747\n",
       "L2.retail                        0.171533         0.264891            0.648           0.517\n",
       "L2.wholesale_inventories        -0.021394         0.346428           -0.062           0.951\n",
       "L2.consumer_sentiment            0.046995         0.052811            0.890           0.374\n",
       "L2.construction_spending        -0.282905         0.222311           -1.273           0.203\n",
       "L2.new_orders                    0.017235         0.101171            0.170           0.865\n",
       "L2.housing_starts                0.007862         0.036884            0.213           0.831\n",
       "L3.GDP                          -0.183963         0.250513           -0.734           0.463\n",
       "L3.payroll                       0.570215         1.194086            0.478           0.633\n",
       "L3.job_openings                 -0.025803         0.060731           -0.425           0.671\n",
       "L3.ip                           -0.156137         0.401843           -0.389           0.698\n",
       "L3.vehicle_sales                -0.038179         0.091104           -0.419           0.675\n",
       "L3.quits                        -0.048650         0.082477           -0.590           0.555\n",
       "L3.retail                        0.020095         0.329161            0.061           0.951\n",
       "L3.wholesale_inventories         0.167716         0.299267            0.560           0.575\n",
       "L3.consumer_sentiment            0.047988         0.059872            0.802           0.423\n",
       "L3.construction_spending         0.122251         0.184716            0.662           0.508\n",
       "L3.new_orders                   -0.034761         0.102025           -0.341           0.733\n",
       "L3.housing_starts               -0.039449         0.038431           -1.026           0.305\n",
       "L4.GDP                           0.111282         0.288028            0.386           0.699\n",
       "L4.payroll                      -1.489358         0.853789           -1.744           0.081\n",
       "L4.job_openings                 -0.029686         0.067929           -0.437           0.662\n",
       "L4.ip                           -0.008035         0.351414           -0.023           0.982\n",
       "L4.vehicle_sales                 0.024134         0.083639            0.289           0.773\n",
       "L4.quits                         0.089108         0.073963            1.205           0.228\n",
       "L4.retail                       -0.237790         0.298169           -0.798           0.425\n",
       "L4.wholesale_inventories         0.168974         0.263898            0.640           0.522\n",
       "L4.consumer_sentiment            0.081273         0.047367            1.716           0.086\n",
       "L4.construction_spending        -0.033115         0.248455           -0.133           0.894\n",
       "L4.new_orders                    0.058604         0.082018            0.715           0.475\n",
       "L4.housing_starts                0.039470         0.046406            0.851           0.395\n",
       "L5.GDP                          -0.055592         0.203775           -0.273           0.785\n",
       "L5.payroll                       0.915443         0.998906            0.916           0.359\n",
       "L5.job_openings                  0.049908         0.059192            0.843           0.399\n",
       "L5.ip                           -0.197948         0.308783           -0.641           0.521\n",
       "L5.vehicle_sales                 0.021472         0.074550            0.288           0.773\n",
       "L5.quits                        -0.038614         0.068419           -0.564           0.573\n",
       "L5.retail                        0.034350         0.251648            0.137           0.891\n",
       "L5.wholesale_inventories        -0.101903         0.279510           -0.365           0.715\n",
       "L5.consumer_sentiment           -0.028655         0.054067           -0.530           0.596\n",
       "L5.construction_spending        -0.029103         0.158635           -0.183           0.854\n",
       "L5.new_orders                    0.008312         0.077547            0.107           0.915\n",
       "L5.housing_starts                0.029045         0.037340            0.778           0.437\n",
       "===========================================================================================\n",
       "\n",
       "Results for equation vehicle_sales\n",
       "===========================================================================================\n",
       "                              coefficient       std. error           t-stat            prob\n",
       "-------------------------------------------------------------------------------------------\n",
       "const                            3.385518         2.008144            1.686           0.092\n",
       "L1.GDP                           0.572192         1.151397            0.497           0.619\n",
       "L1.payroll                      -9.014086         4.230108           -2.131           0.033\n",
       "L1.job_openings                  0.364643         0.289329            1.260           0.208\n",
       "L1.ip                            3.383946         1.839833            1.839           0.066\n",
       "L1.vehicle_sales                -0.656516         0.336583           -1.951           0.051\n",
       "L1.quits                        -0.341703         0.309628           -1.104           0.270\n",
       "L1.retail                       -2.226589         1.143223           -1.948           0.051\n",
       "L1.wholesale_inventories         1.500559         1.521084            0.987           0.324\n",
       "L1.consumer_sentiment            0.009962         0.205420            0.048           0.961\n",
       "L1.construction_spending         1.553222         0.884439            1.756           0.079\n",
       "L1.new_orders                    0.310081         0.372554            0.832           0.405\n",
       "L1.housing_starts               -0.165746         0.134509           -1.232           0.218\n",
       "L2.GDP                          -2.049416         1.460415           -1.403           0.161\n",
       "L2.payroll                       5.027044         5.288012            0.951           0.342\n",
       "L2.job_openings                  0.593512         0.288828            2.055           0.040\n",
       "L2.ip                            2.235402         1.638623            1.364           0.173\n",
       "L2.vehicle_sales                -0.686727         0.442648           -1.551           0.121\n",
       "L2.quits                        -0.536898         0.396123           -1.355           0.175\n",
       "L2.retail                       -1.487729         1.281130           -1.161           0.246\n",
       "L2.wholesale_inventories         1.965188         1.675480            1.173           0.241\n",
       "L2.consumer_sentiment            0.241575         0.255420            0.946           0.344\n",
       "L2.construction_spending        -0.270791         1.075197           -0.252           0.801\n",
       "L2.new_orders                    0.280388         0.489308            0.573           0.567\n",
       "L2.housing_starts                0.135597         0.178386            0.760           0.447\n",
       "L3.GDP                          -1.987196         1.211593           -1.640           0.101\n",
       "L3.payroll                       0.758974         5.775141            0.131           0.895\n",
       "L3.job_openings                  0.648773         0.293720            2.209           0.027\n",
       "L3.ip                            0.301402         1.943495            0.155           0.877\n",
       "L3.vehicle_sales                -0.430310         0.440620           -0.977           0.329\n",
       "L3.quits                        -0.756044         0.398896           -1.895           0.058\n",
       "L3.retail                       -1.907135         1.591972           -1.198           0.231\n",
       "L3.wholesale_inventories         0.642410         1.447390            0.444           0.657\n",
       "L3.consumer_sentiment            0.235755         0.289568            0.814           0.416\n",
       "L3.construction_spending         0.948431         0.893369            1.062           0.288\n",
       "L3.new_orders                   -0.078810         0.493441           -0.160           0.873\n",
       "L3.housing_starts                0.027750         0.185868            0.149           0.881\n",
       "L4.GDP                           0.575245         1.393032            0.413           0.680\n",
       "L4.payroll                     -11.058881         4.129307           -2.678           0.007\n",
       "L4.job_openings                  0.544805         0.328533            1.658           0.097\n",
       "L4.ip                            0.751687         1.699599            0.442           0.658\n",
       "L4.vehicle_sales                 0.212142         0.404518            0.524           0.600\n",
       "L4.quits                        -0.207443         0.357719           -0.580           0.562\n",
       "L4.retail                       -2.124092         1.442079           -1.473           0.141\n",
       "L4.wholesale_inventories        -0.145129         1.276331           -0.114           0.909\n",
       "L4.consumer_sentiment            0.142309         0.229088            0.621           0.534\n",
       "L4.construction_spending         0.360450         1.201639            0.300           0.764\n",
       "L4.new_orders                   -0.040780         0.396679           -0.103           0.918\n",
       "L4.housing_starts                0.039922         0.224441            0.178           0.859\n",
       "L5.GDP                          -0.187628         0.985546           -0.190           0.849\n",
       "L5.payroll                       2.737465         4.831163            0.567           0.571\n",
       "L5.job_openings                  0.069719         0.286281            0.244           0.808\n",
       "L5.ip                            0.378823         1.493412            0.254           0.800\n",
       "L5.vehicle_sales                 0.394175         0.360558            1.093           0.274\n",
       "L5.quits                        -0.132241         0.330904           -0.400           0.689\n",
       "L5.retail                       -0.897690         1.217083           -0.738           0.461\n",
       "L5.wholesale_inventories        -1.225924         1.351839           -0.907           0.364\n",
       "L5.consumer_sentiment           -0.150320         0.261494           -0.575           0.565\n",
       "L5.construction_spending        -0.287163         0.767229           -0.374           0.708\n",
       "L5.new_orders                   -0.523831         0.375053           -1.397           0.163\n",
       "L5.housing_starts                0.322295         0.180595            1.785           0.074\n",
       "===========================================================================================\n",
       "\n",
       "Results for equation quits\n",
       "===========================================================================================\n",
       "                              coefficient       std. error           t-stat            prob\n",
       "-------------------------------------------------------------------------------------------\n",
       "const                            3.146644         1.385878            2.271           0.023\n",
       "L1.GDP                          -0.940196         0.794612           -1.183           0.237\n",
       "L1.payroll                      -1.402356         2.919318           -0.480           0.631\n",
       "L1.job_openings                  0.249443         0.199674            1.249           0.212\n",
       "L1.ip                            1.554657         1.269721            1.224           0.221\n",
       "L1.vehicle_sales                -0.192194         0.232286           -0.827           0.408\n",
       "L1.quits                        -0.380920         0.213683           -1.783           0.075\n",
       "L1.retail                       -0.523956         0.788971           -0.664           0.507\n",
       "L1.wholesale_inventories         0.146332         1.049744            0.139           0.889\n",
       "L1.consumer_sentiment            0.076802         0.141766            0.542           0.588\n",
       "L1.construction_spending         1.289593         0.610376            2.113           0.035\n",
       "L1.new_orders                    0.540295         0.257110            2.101           0.036\n",
       "L1.housing_starts               -0.040663         0.092829           -0.438           0.661\n",
       "L2.GDP                          -0.480624         1.007874           -0.477           0.633\n",
       "L2.payroll                      -1.963902         3.649408           -0.538           0.590\n",
       "L2.job_openings                  0.174905         0.199328            0.877           0.380\n",
       "L2.ip                            0.606860         1.130861            0.537           0.592\n",
       "L2.vehicle_sales                 0.039927         0.305484            0.131           0.896\n",
       "L2.quits                        -0.384993         0.273376           -1.408           0.159\n",
       "L2.retail                       -1.981176         0.884145           -2.241           0.025\n",
       "L2.wholesale_inventories         0.850507         1.156297            0.736           0.462\n",
       "L2.consumer_sentiment           -0.097399         0.176272           -0.553           0.581\n",
       "L2.construction_spending         0.842390         0.742025            1.135           0.256\n",
       "L2.new_orders                    0.676733         0.337686            2.004           0.045\n",
       "L2.housing_starts                0.000495         0.123109            0.004           0.997\n",
       "L3.GDP                           0.226015         0.836155            0.270           0.787\n",
       "L3.payroll                      -1.536129         3.985590           -0.385           0.700\n",
       "L3.job_openings                  0.519049         0.202705            2.561           0.010\n",
       "L3.ip                           -0.440261         1.341261           -0.328           0.743\n",
       "L3.vehicle_sales                -0.308048         0.304085           -1.013           0.311\n",
       "L3.quits                        -0.650653         0.275290           -2.364           0.018\n",
       "L3.retail                       -0.811539         1.098665           -0.739           0.460\n",
       "L3.wholesale_inventories         0.542855         0.998885            0.543           0.587\n",
       "L3.consumer_sentiment            0.064989         0.199839            0.325           0.745\n",
       "L3.construction_spending         0.039257         0.616540            0.064           0.949\n",
       "L3.new_orders                    0.310010         0.340538            0.910           0.363\n",
       "L3.housing_starts               -0.072416         0.128273           -0.565           0.572\n",
       "L4.GDP                          -1.400313         0.961371           -1.457           0.145\n",
       "L4.payroll                       0.960192         2.849753            0.337           0.736\n",
       "L4.job_openings                  0.342123         0.226730            1.509           0.131\n",
       "L4.ip                            0.896741         1.172942            0.765           0.445\n",
       "L4.vehicle_sales                -0.053688         0.279169           -0.192           0.847\n",
       "L4.quits                        -0.286474         0.246872           -1.160           0.246\n",
       "L4.retail                       -0.543794         0.995220           -0.546           0.585\n",
       "L4.wholesale_inventories         0.684535         0.880832            0.777           0.437\n",
       "L4.consumer_sentiment            0.138213         0.158100            0.874           0.382\n",
       "L4.construction_spending         0.907814         0.829285            1.095           0.274\n",
       "L4.new_orders                   -0.121884         0.273759           -0.445           0.656\n",
       "L4.housing_starts               -0.108858         0.154893           -0.703           0.482\n",
       "L5.GDP                          -0.657695         0.680153           -0.967           0.334\n",
       "L5.payroll                      -3.627036         3.334124           -1.088           0.277\n",
       "L5.job_openings                 -0.059444         0.197571           -0.301           0.764\n",
       "L5.ip                           -0.645307         1.030647           -0.626           0.531\n",
       "L5.vehicle_sales                 0.251850         0.248831            1.012           0.311\n",
       "L5.quits                         0.063241         0.228366            0.277           0.782\n",
       "L5.retail                       -1.475496         0.839944           -1.757           0.079\n",
       "L5.wholesale_inventories        -1.218645         0.932943           -1.306           0.191\n",
       "L5.consumer_sentiment            0.081109         0.180465            0.449           0.653\n",
       "L5.construction_spending         0.551327         0.529487            1.041           0.298\n",
       "L5.new_orders                    0.388431         0.258835            1.501           0.133\n",
       "L5.housing_starts               -0.021386         0.124634           -0.172           0.864\n",
       "===========================================================================================\n",
       "\n",
       "Results for equation retail\n",
       "===========================================================================================\n",
       "                              coefficient       std. error           t-stat            prob\n",
       "-------------------------------------------------------------------------------------------\n",
       "const                            1.456041         0.533450            2.729           0.006\n",
       "L1.GDP                          -0.433890         0.305861           -1.419           0.156\n",
       "L1.payroll                      -0.996298         1.123699           -0.887           0.375\n",
       "L1.job_openings                 -0.002146         0.076858           -0.028           0.978\n",
       "L1.ip                            1.249807         0.488739            2.557           0.011\n",
       "L1.vehicle_sales                -0.164047         0.089411           -1.835           0.067\n",
       "L1.quits                        -0.053998         0.082251           -0.657           0.512\n",
       "L1.retail                       -0.555200         0.303689           -1.828           0.068\n",
       "L1.wholesale_inventories        -0.359627         0.404065           -0.890           0.373\n",
       "L1.consumer_sentiment           -0.066573         0.054568           -1.220           0.222\n",
       "L1.construction_spending         0.765531         0.234945            3.258           0.001\n",
       "L1.new_orders                    0.121595         0.098966            1.229           0.219\n",
       "L1.housing_starts               -0.023590         0.035731           -0.660           0.509\n",
       "L2.GDP                           0.124602         0.387949            0.321           0.748\n",
       "L2.payroll                      -0.941164         1.404724           -0.670           0.503\n",
       "L2.job_openings                  0.032236         0.076725            0.420           0.674\n",
       "L2.ip                            0.983767         0.435289            2.260           0.024\n",
       "L2.vehicle_sales                -0.108159         0.117586           -0.920           0.358\n",
       "L2.quits                        -0.176715         0.105227           -1.679           0.093\n",
       "L2.retail                       -0.136698         0.340323           -0.402           0.688\n",
       "L2.wholesale_inventories         0.579365         0.445080            1.302           0.193\n",
       "L2.consumer_sentiment           -0.080538         0.067850           -1.187           0.235\n",
       "L2.construction_spending        -0.270196         0.285619           -0.946           0.344\n",
       "L2.new_orders                    0.166747         0.129981            1.283           0.200\n",
       "L2.housing_starts               -0.010620         0.047387           -0.224           0.823\n",
       "L3.GDP                          -0.143460         0.321851           -0.446           0.656\n",
       "L3.payroll                       0.079564         1.534126            0.052           0.959\n",
       "L3.job_openings                  0.238768         0.078025            3.060           0.002\n",
       "L3.ip                           -0.542330         0.516276           -1.050           0.294\n",
       "L3.vehicle_sales                -0.274617         0.117048           -2.346           0.019\n",
       "L3.quits                        -0.026536         0.105964           -0.250           0.802\n",
       "L3.retail                       -0.329818         0.422896           -0.780           0.435\n",
       "L3.wholesale_inventories        -0.355331         0.384489           -0.924           0.355\n",
       "L3.consumer_sentiment            0.170779         0.076922            2.220           0.026\n",
       "L3.construction_spending        -0.217286         0.237317           -0.916           0.360\n",
       "L3.new_orders                    0.017908         0.131079            0.137           0.891\n",
       "L3.housing_starts                0.043388         0.049374            0.879           0.380\n",
       "L4.GDP                          -0.298412         0.370049           -0.806           0.420\n",
       "L4.payroll                      -2.336119         1.096922           -2.130           0.033\n",
       "L4.job_openings                  0.110892         0.087273            1.271           0.204\n",
       "L4.ip                           -0.452897         0.451487           -1.003           0.316\n",
       "L4.vehicle_sales                 0.101854         0.107457            0.948           0.343\n",
       "L4.quits                        -0.018112         0.095026           -0.191           0.849\n",
       "L4.retail                       -0.602893         0.383078           -1.574           0.116\n",
       "L4.wholesale_inventories         0.268717         0.339048            0.793           0.428\n",
       "L4.consumer_sentiment            0.061422         0.060856            1.009           0.313\n",
       "L4.construction_spending         0.749048         0.319207            2.347           0.019\n",
       "L4.new_orders                   -0.065609         0.105375           -0.623           0.534\n",
       "L4.housing_starts               -0.009471         0.059621           -0.159           0.874\n",
       "L5.GDP                          -0.166898         0.261803           -0.637           0.524\n",
       "L5.payroll                      -0.913209         1.283365           -0.712           0.477\n",
       "L5.job_openings                  0.126784         0.076049            1.667           0.095\n",
       "L5.ip                            0.940403         0.396715            2.370           0.018\n",
       "L5.vehicle_sales                 0.009306         0.095780            0.097           0.923\n",
       "L5.quits                         0.075514         0.087902            0.859           0.390\n",
       "L5.retail                        0.433128         0.323310            1.340           0.180\n",
       "L5.wholesale_inventories        -0.552833         0.359107           -1.539           0.124\n",
       "L5.consumer_sentiment           -0.019638         0.069464           -0.283           0.777\n",
       "L5.construction_spending        -0.191718         0.203809           -0.941           0.347\n",
       "L5.new_orders                    0.046614         0.099630            0.468           0.640\n",
       "L5.housing_starts                0.019160         0.047974            0.399           0.690\n",
       "===========================================================================================\n",
       "\n",
       "Results for equation wholesale_inventories\n",
       "===========================================================================================\n",
       "                              coefficient       std. error           t-stat            prob\n",
       "-------------------------------------------------------------------------------------------\n",
       "const                            0.648075         0.248910            2.604           0.009\n",
       "L1.GDP                           0.050338         0.142716            0.353           0.724\n",
       "L1.payroll                      -0.769405         0.524324           -1.467           0.142\n",
       "L1.job_openings                  0.020207         0.035862            0.563           0.573\n",
       "L1.ip                            0.188090         0.228048            0.825           0.409\n",
       "L1.vehicle_sales                -0.007755         0.041720           -0.186           0.853\n",
       "L1.quits                        -0.043637         0.038379           -1.137           0.256\n",
       "L1.retail                       -0.228964         0.141703           -1.616           0.106\n",
       "L1.wholesale_inventories         0.159681         0.188539            0.847           0.397\n",
       "L1.consumer_sentiment           -0.030134         0.025462           -1.183           0.237\n",
       "L1.construction_spending         0.183686         0.109627            1.676           0.094\n",
       "L1.new_orders                    0.135913         0.046178            2.943           0.003\n",
       "L1.housing_starts               -0.023389         0.016672           -1.403           0.161\n",
       "L2.GDP                          -0.097234         0.181019           -0.537           0.591\n",
       "L2.payroll                      -0.316003         0.655451           -0.482           0.630\n",
       "L2.job_openings                  0.067500         0.035800            1.885           0.059\n",
       "L2.ip                            0.501062         0.203108            2.467           0.014\n",
       "L2.vehicle_sales                -0.037586         0.054866           -0.685           0.493\n",
       "L2.quits                        -0.056748         0.049100           -1.156           0.248\n",
       "L2.retail                       -0.058802         0.158797           -0.370           0.711\n",
       "L2.wholesale_inventories         0.097292         0.207676            0.468           0.639\n",
       "L2.consumer_sentiment            0.038890         0.031659            1.228           0.219\n",
       "L2.construction_spending        -0.080634         0.133271           -0.605           0.545\n",
       "L2.new_orders                    0.062959         0.060650            1.038           0.299\n",
       "L2.housing_starts               -0.042921         0.022111           -1.941           0.052\n",
       "L3.GDP                          -0.338398         0.150177           -2.253           0.024\n",
       "L3.payroll                       0.811705         0.715831            1.134           0.257\n",
       "L3.job_openings                  0.072180         0.036407            1.983           0.047\n",
       "L3.ip                            0.039312         0.240897            0.163           0.870\n",
       "L3.vehicle_sales                 0.008904         0.054615            0.163           0.870\n",
       "L3.quits                        -0.052719         0.049443           -1.066           0.286\n",
       "L3.retail                        0.068503         0.197326            0.347           0.728\n",
       "L3.wholesale_inventories        -0.159265         0.179405           -0.888           0.375\n",
       "L3.consumer_sentiment            0.016229         0.035892            0.452           0.651\n",
       "L3.construction_spending         0.146120         0.110733            1.320           0.187\n",
       "L3.new_orders                    0.087982         0.061162            1.439           0.150\n",
       "L3.housing_starts               -0.073343         0.023038           -3.184           0.001\n",
       "L4.GDP                          -0.049287         0.172667           -0.285           0.775\n",
       "L4.payroll                      -1.407304         0.511829           -2.750           0.006\n",
       "L4.job_openings                  0.056733         0.040722            1.393           0.164\n",
       "L4.ip                           -0.076628         0.210666           -0.364           0.716\n",
       "L4.vehicle_sales                 0.079702         0.050140            1.590           0.112\n",
       "L4.quits                        -0.060024         0.044339           -1.354           0.176\n",
       "L4.retail                       -0.116473         0.178746           -0.652           0.515\n",
       "L4.wholesale_inventories        -0.310682         0.158202           -1.964           0.050\n",
       "L4.consumer_sentiment            0.017806         0.028396            0.627           0.531\n",
       "L4.construction_spending         0.262868         0.148944            1.765           0.078\n",
       "L4.new_orders                    0.052991         0.049168            1.078           0.281\n",
       "L4.housing_starts               -0.044685         0.027820           -1.606           0.108\n",
       "L5.GDP                           0.050319         0.122159            0.412           0.680\n",
       "L5.payroll                      -0.677802         0.598825           -1.132           0.258\n",
       "L5.job_openings                  0.071450         0.035485            2.014           0.044\n",
       "L5.ip                            0.171227         0.185109            0.925           0.355\n",
       "L5.vehicle_sales                 0.100427         0.044691            2.247           0.025\n",
       "L5.quits                        -0.052253         0.041016           -1.274           0.203\n",
       "L5.retail                        0.119644         0.150858            0.793           0.428\n",
       "L5.wholesale_inventories         0.174706         0.167561            1.043           0.297\n",
       "L5.consumer_sentiment            0.018484         0.032412            0.570           0.568\n",
       "L5.construction_spending         0.014289         0.095098            0.150           0.881\n",
       "L5.new_orders                    0.025706         0.046488            0.553           0.580\n",
       "L5.housing_starts               -0.015856         0.022385           -0.708           0.479\n",
       "===========================================================================================\n",
       "\n",
       "Results for equation consumer_sentiment\n",
       "===========================================================================================\n",
       "                              coefficient       std. error           t-stat            prob\n",
       "-------------------------------------------------------------------------------------------\n",
       "const                           -1.186905         2.521516           -0.471           0.638\n",
       "L1.GDP                           4.188703         1.445746            2.897           0.004\n",
       "L1.payroll                     -15.605424         5.311515           -2.938           0.003\n",
       "L1.job_openings                  0.056904         0.363295            0.157           0.876\n",
       "L1.ip                            1.748400         2.310177            0.757           0.449\n",
       "L1.vehicle_sales                 0.265859         0.422629            0.629           0.529\n",
       "L1.quits                         0.512071         0.388783            1.317           0.188\n",
       "L1.retail                       -2.908955         1.435483           -2.026           0.043\n",
       "L1.wholesale_inventories         0.754728         1.909942            0.395           0.693\n",
       "L1.consumer_sentiment           -0.745857         0.257935           -2.892           0.004\n",
       "L1.construction_spending        -0.175750         1.110541           -0.158           0.874\n",
       "L1.new_orders                    0.178643         0.467796            0.382           0.703\n",
       "L1.housing_starts                0.316812         0.168896            1.876           0.061\n",
       "L2.GDP                          -0.108961         1.833764           -0.059           0.953\n",
       "L2.payroll                       8.982298         6.639867            1.353           0.176\n",
       "L2.job_openings                  0.037404         0.362665            0.103           0.918\n",
       "L2.ip                           -0.155915         2.057530           -0.076           0.940\n",
       "L2.vehicle_sales                -0.074886         0.555809           -0.135           0.893\n",
       "L2.quits                         0.602491         0.497389            1.211           0.226\n",
       "L2.retail                       -1.877425         1.608645           -1.167           0.243\n",
       "L2.wholesale_inventories         1.046127         2.103809            0.497           0.619\n",
       "L2.consumer_sentiment           -0.285830         0.320716           -0.891           0.373\n",
       "L2.construction_spending        -1.669291         1.350067           -1.236           0.216\n",
       "L2.new_orders                   -0.785982         0.614397           -1.279           0.201\n",
       "L2.housing_starts                0.448720         0.223989            2.003           0.045\n",
       "L3.GDP                           1.076629         1.521331            0.708           0.479\n",
       "L3.payroll                       1.102859         7.251529            0.152           0.879\n",
       "L3.job_openings                 -0.016379         0.368809           -0.044           0.965\n",
       "L3.ip                           -1.983546         2.440340           -0.813           0.416\n",
       "L3.vehicle_sales                -0.369709         0.553263           -0.668           0.504\n",
       "L3.quits                         0.363578         0.500872            0.726           0.468\n",
       "L3.retail                       -1.843437         1.998952           -0.922           0.356\n",
       "L3.wholesale_inventories        -0.022061         1.817408           -0.012           0.990\n",
       "L3.consumer_sentiment           -0.196120         0.363595           -0.539           0.590\n",
       "L3.construction_spending        -0.524192         1.121755           -0.467           0.640\n",
       "L3.new_orders                   -0.318199         0.619587           -0.514           0.608\n",
       "L3.housing_starts                0.300754         0.233384            1.289           0.198\n",
       "L4.GDP                          -0.516741         1.749154           -0.295           0.768\n",
       "L4.payroll                      -1.694632         5.184945           -0.327           0.744\n",
       "L4.job_openings                 -0.040403         0.412521           -0.098           0.922\n",
       "L4.ip                           -0.604755         2.134093           -0.283           0.777\n",
       "L4.vehicle_sales                -0.296448         0.507931           -0.584           0.559\n",
       "L4.quits                         0.478109         0.449168            1.064           0.287\n",
       "L4.retail                       -2.003636         1.810740           -1.107           0.268\n",
       "L4.wholesale_inventories         1.217918         1.602619            0.760           0.447\n",
       "L4.consumer_sentiment            0.044546         0.287653            0.155           0.877\n",
       "L4.construction_spending         0.190944         1.508832            0.127           0.899\n",
       "L4.new_orders                    0.113713         0.498087            0.228           0.819\n",
       "L4.housing_starts                0.265739         0.281819            0.943           0.346\n",
       "L5.GDP                          -1.053643         1.237496           -0.851           0.395\n",
       "L5.payroll                       5.103428         6.066227            0.841           0.400\n",
       "L5.job_openings                 -0.087476         0.359467           -0.243           0.808\n",
       "L5.ip                            0.265446         1.875196            0.142           0.887\n",
       "L5.vehicle_sales                 0.070856         0.452733            0.157           0.876\n",
       "L5.quits                        -0.039701         0.415498           -0.096           0.924\n",
       "L5.retail                       -0.073087         1.528225           -0.048           0.962\n",
       "L5.wholesale_inventories         0.234320         1.697430            0.138           0.890\n",
       "L5.consumer_sentiment           -0.138226         0.328344           -0.421           0.674\n",
       "L5.construction_spending        -0.562393         0.963367           -0.584           0.559\n",
       "L5.new_orders                   -0.283090         0.470934           -0.601           0.548\n",
       "L5.housing_starts                0.392075         0.226764            1.729           0.084\n",
       "===========================================================================================\n",
       "\n",
       "Results for equation construction_spending\n",
       "===========================================================================================\n",
       "                              coefficient       std. error           t-stat            prob\n",
       "-------------------------------------------------------------------------------------------\n",
       "const                           -0.426062         0.605286           -0.704           0.481\n",
       "L1.GDP                          -0.078323         0.347049           -0.226           0.821\n",
       "L1.payroll                      -0.813438         1.275021           -0.638           0.523\n",
       "L1.job_openings                 -0.088490         0.087208           -1.015           0.310\n",
       "L1.ip                            0.510938         0.554554            0.921           0.357\n",
       "L1.vehicle_sales                 0.072927         0.101451            0.719           0.472\n",
       "L1.quits                         0.236328         0.093327            2.532           0.011\n",
       "L1.retail                        0.079936         0.344585            0.232           0.817\n",
       "L1.wholesale_inventories        -0.344604         0.458479           -0.752           0.452\n",
       "L1.consumer_sentiment            0.062487         0.061917            1.009           0.313\n",
       "L1.construction_spending         0.585194         0.266584            2.195           0.028\n",
       "L1.new_orders                   -0.037539         0.112294           -0.334           0.738\n",
       "L1.housing_starts                0.018380         0.040543            0.453           0.650\n",
       "L2.GDP                          -0.463930         0.440192           -1.054           0.292\n",
       "L2.payroll                       2.501154         1.593890            1.569           0.117\n",
       "L2.job_openings                 -0.081283         0.087057           -0.934           0.350\n",
       "L2.ip                           -0.225241         0.493907           -0.456           0.648\n",
       "L2.vehicle_sales                 0.034887         0.133421            0.261           0.794\n",
       "L2.quits                         0.182706         0.119398            1.530           0.126\n",
       "L2.retail                        0.869284         0.386153            2.251           0.024\n",
       "L2.wholesale_inventories         0.508226         0.505016            1.006           0.314\n",
       "L2.consumer_sentiment           -0.030589         0.076987           -0.397           0.691\n",
       "L2.construction_spending        -0.179698         0.324081           -0.554           0.579\n",
       "L2.new_orders                   -0.163749         0.147485           -1.110           0.267\n",
       "L2.housing_starts               -0.032757         0.053768           -0.609           0.542\n",
       "L3.GDP                           1.392300         0.365193            3.813           0.000\n",
       "L3.payroll                      -3.412269         1.740718           -1.960           0.050\n",
       "L3.job_openings                 -0.008270         0.088532           -0.093           0.926\n",
       "L3.ip                           -0.182809         0.585800           -0.312           0.755\n",
       "L3.vehicle_sales                -0.109392         0.132810           -0.824           0.410\n",
       "L3.quits                         0.041653         0.120234            0.346           0.729\n",
       "L3.retail                        0.264074         0.479845            0.550           0.582\n",
       "L3.wholesale_inventories        -0.211775         0.436266           -0.485           0.627\n",
       "L3.consumer_sentiment           -0.019444         0.087280           -0.223           0.824\n",
       "L3.construction_spending        -0.501152         0.269275           -1.861           0.063\n",
       "L3.new_orders                   -0.104032         0.148731           -0.699           0.484\n",
       "L3.housing_starts                0.051555         0.056023            0.920           0.357\n",
       "L4.GDP                          -0.144891         0.419882           -0.345           0.730\n",
       "L4.payroll                       1.175122         1.244638            0.944           0.345\n",
       "L4.job_openings                 -0.013339         0.099025           -0.135           0.893\n",
       "L4.ip                            0.131031         0.512286            0.256           0.798\n",
       "L4.vehicle_sales                -0.118516         0.121928           -0.972           0.331\n",
       "L4.quits                         0.162840         0.107822            1.510           0.131\n",
       "L4.retail                       -0.406385         0.434665           -0.935           0.350\n",
       "L4.wholesale_inventories         0.840637         0.384706            2.185           0.029\n",
       "L4.consumer_sentiment            0.010258         0.069051            0.149           0.882\n",
       "L4.construction_spending         0.235252         0.362193            0.650           0.516\n",
       "L4.new_orders                   -0.190956         0.119565           -1.597           0.110\n",
       "L4.housing_starts                0.064751         0.067650            0.957           0.338\n",
       "L5.GDP                          -0.183370         0.297059           -0.617           0.537\n",
       "L5.payroll                       0.654309         1.456188            0.449           0.653\n",
       "L5.job_openings                 -0.048457         0.086290           -0.562           0.574\n",
       "L5.ip                            0.802554         0.450138            1.783           0.075\n",
       "L5.vehicle_sales                 0.112773         0.108678            1.038           0.299\n",
       "L5.quits                         0.054964         0.099740            0.551           0.582\n",
       "L5.retail                       -0.351136         0.366848           -0.957           0.338\n",
       "L5.wholesale_inventories        -0.343083         0.407465           -0.842           0.400\n",
       "L5.consumer_sentiment           -0.094133         0.078818           -1.194           0.232\n",
       "L5.construction_spending        -0.160363         0.231255           -0.693           0.488\n",
       "L5.new_orders                   -0.277434         0.113047           -2.454           0.014\n",
       "L5.housing_starts                0.101176         0.054434            1.859           0.063\n",
       "===========================================================================================\n",
       "\n",
       "Results for equation new_orders\n",
       "===========================================================================================\n",
       "                              coefficient       std. error           t-stat            prob\n",
       "-------------------------------------------------------------------------------------------\n",
       "const                            2.154602         1.812112            1.189           0.234\n",
       "L1.GDP                          -0.306909         1.038999           -0.295           0.768\n",
       "L1.payroll                      -3.206096         3.817171           -0.840           0.401\n",
       "L1.job_openings                  0.395320         0.261085            1.514           0.130\n",
       "L1.ip                            2.837159         1.660231            1.709           0.087\n",
       "L1.vehicle_sales                -0.437266         0.303726           -1.440           0.150\n",
       "L1.quits                        -0.042861         0.279403           -0.153           0.878\n",
       "L1.retail                       -0.237981         1.031624           -0.231           0.818\n",
       "L1.wholesale_inventories        -0.937838         1.372598           -0.683           0.494\n",
       "L1.consumer_sentiment           -0.060740         0.185367           -0.328           0.743\n",
       "L1.construction_spending         1.668861         0.798101            2.091           0.037\n",
       "L1.new_orders                    0.064580         0.336186            0.192           0.848\n",
       "L1.housing_starts               -0.200623         0.121379           -1.653           0.098\n",
       "L2.GDP                           0.821524         1.317852            0.623           0.533\n",
       "L2.payroll                      -5.870204         4.771805           -1.230           0.219\n",
       "L2.job_openings                  0.156396         0.260633            0.600           0.548\n",
       "L2.ip                            2.476469         1.478664            1.675           0.094\n",
       "L2.vehicle_sales                -0.470347         0.399438           -1.178           0.239\n",
       "L2.quits                        -0.749472         0.357454           -2.097           0.036\n",
       "L2.retail                       -1.136613         1.156069           -0.983           0.326\n",
       "L2.wholesale_inventories         2.005688         1.511922            1.327           0.185\n",
       "L2.consumer_sentiment           -0.287012         0.230486           -1.245           0.213\n",
       "L2.construction_spending         0.037342         0.970238            0.038           0.969\n",
       "L2.new_orders                    0.279267         0.441543            0.632           0.527\n",
       "L2.housing_starts                0.063923         0.160972            0.397           0.691\n",
       "L3.GDP                          -0.173103         1.093319           -0.158           0.874\n",
       "L3.payroll                       0.768976         5.211381            0.148           0.883\n",
       "L3.job_openings                  0.688744         0.265048            2.599           0.009\n",
       "L3.ip                            0.730382         1.753774            0.416           0.677\n",
       "L3.vehicle_sales                -0.528476         0.397608           -1.329           0.184\n",
       "L3.quits                        -0.556004         0.359957           -1.545           0.122\n",
       "L3.retail                       -1.618740         1.436566           -1.127           0.260\n",
       "L3.wholesale_inventories         0.435719         1.306098            0.334           0.739\n",
       "L3.consumer_sentiment            0.240831         0.261301            0.922           0.357\n",
       "L3.construction_spending        -1.039489         0.806160           -1.289           0.197\n",
       "L3.new_orders                    0.239641         0.445272            0.538           0.590\n",
       "L3.housing_starts                0.001724         0.167723            0.010           0.992\n",
       "L4.GDP                          -0.915200         1.257046           -0.728           0.467\n",
       "L4.payroll                      -2.843127         3.726211           -0.763           0.445\n",
       "L4.job_openings                  0.299788         0.296463            1.011           0.312\n",
       "L4.ip                           -0.835253         1.533687           -0.545           0.586\n",
       "L4.vehicle_sales                 0.489458         0.365029            1.341           0.180\n",
       "L4.quits                        -0.311731         0.322799           -0.966           0.334\n",
       "L4.retail                       -3.361044         1.301306           -2.583           0.010\n",
       "L4.wholesale_inventories         0.325809         1.151737            0.283           0.777\n",
       "L4.consumer_sentiment            0.146604         0.206725            0.709           0.478\n",
       "L4.construction_spending         1.634096         1.084337            1.507           0.132\n",
       "L4.new_orders                   -0.349199         0.357955           -0.976           0.329\n",
       "L4.housing_starts                0.084505         0.202532            0.417           0.677\n",
       "L5.GDP                          -0.828768         0.889338           -0.932           0.351\n",
       "L5.payroll                       0.188585         4.359552            0.043           0.965\n",
       "L5.job_openings                  0.477638         0.258335            1.849           0.064\n",
       "L5.ip                            0.550005         1.347628            0.408           0.683\n",
       "L5.vehicle_sales                 0.441847         0.325361            1.358           0.174\n",
       "L5.quits                        -0.270302         0.298602           -0.905           0.365\n",
       "L5.retail                        0.906154         1.098273            0.825           0.409\n",
       "L5.wholesale_inventories        -1.568457         1.219874           -1.286           0.199\n",
       "L5.consumer_sentiment           -0.067102         0.235967           -0.284           0.776\n",
       "L5.construction_spending        -0.129046         0.692333           -0.186           0.852\n",
       "L5.new_orders                   -0.229726         0.338441           -0.679           0.497\n",
       "L5.housing_starts                0.035256         0.162966            0.216           0.829\n",
       "===========================================================================================\n",
       "\n",
       "Results for equation housing_starts\n",
       "===========================================================================================\n",
       "                              coefficient       std. error           t-stat            prob\n",
       "-------------------------------------------------------------------------------------------\n",
       "const                            5.894214         3.354832            1.757           0.079\n",
       "L1.GDP                          -2.663481         1.923538           -1.385           0.166\n",
       "L1.payroll                      -1.781192         7.066873           -0.252           0.801\n",
       "L1.job_openings                 -0.522681         0.483357           -1.081           0.280\n",
       "L1.ip                            4.313036         3.073648            1.403           0.161\n",
       "L1.vehicle_sales                -0.044604         0.562300           -0.079           0.937\n",
       "L1.quits                         0.073162         0.517268            0.141           0.888\n",
       "L1.retail                       -1.559447         1.909884           -0.817           0.414\n",
       "L1.wholesale_inventories        -6.190775         2.541143           -2.436           0.015\n",
       "L1.consumer_sentiment           -0.055684         0.343177           -0.162           0.871\n",
       "L1.construction_spending         4.207811         1.477555            2.848           0.004\n",
       "L1.new_orders                    1.158040         0.622394            1.861           0.063\n",
       "L1.housing_starts               -0.303285         0.224713           -1.350           0.177\n",
       "L2.GDP                          -1.267152         2.439789           -0.519           0.604\n",
       "L2.payroll                      -6.075471         8.834222           -0.688           0.492\n",
       "L2.job_openings                 -0.257798         0.482520           -0.534           0.593\n",
       "L2.ip                            3.071477         2.737506            1.122           0.262\n",
       "L2.vehicle_sales                 0.962795         0.739494            1.302           0.193\n",
       "L2.quits                        -1.164063         0.661767           -1.759           0.079\n",
       "L2.retail                       -1.444916         2.140273           -0.675           0.500\n",
       "L2.wholesale_inventories         5.634065         2.799079            2.013           0.044\n",
       "L2.consumer_sentiment           -0.295414         0.426707           -0.692           0.489\n",
       "L2.construction_spending        -0.242735         1.796239           -0.135           0.893\n",
       "L2.new_orders                    0.859551         0.817445            1.052           0.293\n",
       "L2.housing_starts               -0.209767         0.298014           -0.704           0.482\n",
       "L3.GDP                           0.471157         2.024103            0.233           0.816\n",
       "L3.payroll                      -0.581723         9.648026           -0.060           0.952\n",
       "L3.job_openings                  1.231857         0.490693            2.510           0.012\n",
       "L3.ip                           -0.825428         3.246827           -0.254           0.799\n",
       "L3.vehicle_sales                 0.134508         0.736106            0.183           0.855\n",
       "L3.quits                         0.229590         0.666402            0.345           0.730\n",
       "L3.retail                       -1.824965         2.659569           -0.686           0.493\n",
       "L3.wholesale_inventories        -1.568688         2.418029           -0.649           0.517\n",
       "L3.consumer_sentiment            0.793692         0.483756            1.641           0.101\n",
       "L3.construction_spending        -1.588412         1.492474           -1.064           0.287\n",
       "L3.new_orders                    0.235258         0.824349            0.285           0.775\n",
       "L3.housing_starts               -0.012368         0.310513           -0.040           0.968\n",
       "L4.GDP                          -1.585037         2.327217           -0.681           0.496\n",
       "L4.payroll                      -4.382574         6.898474           -0.635           0.525\n",
       "L4.job_openings                  0.331670         0.548852            0.604           0.546\n",
       "L4.ip                           -3.707575         2.839372           -1.306           0.192\n",
       "L4.vehicle_sales                 0.705312         0.675793            1.044           0.297\n",
       "L4.quits                         0.417775         0.597610            0.699           0.485\n",
       "L4.retail                       -3.568654         2.409157           -1.481           0.139\n",
       "L4.wholesale_inventories         1.617345         2.132255            0.759           0.448\n",
       "L4.consumer_sentiment           -0.396363         0.382717           -1.036           0.300\n",
       "L4.construction_spending         4.386578         2.007473            2.185           0.029\n",
       "L4.new_orders                   -0.444538         0.662696           -0.671           0.502\n",
       "L4.housing_starts               -0.247735         0.374955           -0.661           0.509\n",
       "L5.GDP                           1.342230         1.646465            0.815           0.415\n",
       "L5.payroll                     -10.450111         8.071004           -1.295           0.195\n",
       "L5.job_openings                  0.621272         0.478265            1.299           0.194\n",
       "L5.ip                            2.544084         2.494914            1.020           0.308\n",
       "L5.vehicle_sales                 0.653135         0.602353            1.084           0.278\n",
       "L5.quits                         0.258693         0.552812            0.468           0.640\n",
       "L5.retail                        1.347009         2.033275            0.662           0.508\n",
       "L5.wholesale_inventories        -3.378952         2.258399           -1.496           0.135\n",
       "L5.consumer_sentiment           -0.814659         0.436855           -1.865           0.062\n",
       "L5.construction_spending        -1.266018         1.281743           -0.988           0.323\n",
       "L5.new_orders                    0.174559         0.626568            0.279           0.781\n",
       "L5.housing_starts               -0.176489         0.301705           -0.585           0.559\n",
       "===========================================================================================\n",
       "\n",
       "Correlation matrix of residuals\n",
       "                              GDP   payroll  job_openings        ip  vehicle_sales     quits    retail  wholesale_inventories  consumer_sentiment  construction_spending  new_orders  housing_starts\n",
       "GDP                      1.000000  0.873458      0.136350  0.251209       0.274475  0.243607 -0.166182              -0.425166           -0.048263               0.629301   -0.019267        0.060646\n",
       "payroll                  0.873458  1.000000      0.037499  0.352443       0.172967  0.066995 -0.346297              -0.387584           -0.181415               0.493891   -0.013125        0.004292\n",
       "job_openings             0.136350  0.037499      1.000000  0.672439       0.593276  0.246630  0.364600               0.021962            0.245640              -0.295373    0.582862        0.276703\n",
       "ip                       0.251209  0.352443      0.672439  1.000000       0.656845 -0.123701  0.281801              -0.141481            0.178889              -0.112503    0.592310        0.233807\n",
       "vehicle_sales            0.274475  0.172967      0.593276  0.656845       1.000000  0.424216  0.733274              -0.069232            0.396295              -0.064697    0.691851        0.471386\n",
       "quits                    0.243607  0.066995      0.246630 -0.123701       0.424216  1.000000  0.338532               0.087792            0.124709               0.041657    0.182075        0.148292\n",
       "retail                  -0.166182 -0.346297      0.364600  0.281801       0.733274  0.338532  1.000000              -0.012271            0.344702              -0.085726    0.549148        0.315374\n",
       "wholesale_inventories   -0.425166 -0.387584      0.021962 -0.141481      -0.069232  0.087792 -0.012271               1.000000            0.186286              -0.198950   -0.015430        0.165806\n",
       "consumer_sentiment      -0.048263 -0.181415      0.245640  0.178889       0.396295  0.124709  0.344702               0.186286            1.000000              -0.091376    0.353983        0.113834\n",
       "construction_spending    0.629301  0.493891     -0.295373 -0.112503      -0.064697  0.041657 -0.085726              -0.198950           -0.091376               1.000000   -0.456817        0.061824\n",
       "new_orders              -0.019267 -0.013125      0.582862  0.592310       0.691851  0.182075  0.549148              -0.015430            0.353983              -0.456817    1.000000        0.137267\n",
       "housing_starts           0.060646  0.004292      0.276703  0.233807       0.471386  0.148292  0.315374               0.165806            0.113834               0.061824    0.137267        1.000000\n",
       "\n"
      ]
     },
     "execution_count": 18,
     "metadata": {},
     "output_type": "execute_result"
    }
   ],
   "source": [
    "#5 lags\n",
    "model_fitted = var.fit(5)\n",
    "# We can check the summary of the model by\n",
    "model_fitted.summary()"
   ]
  },
  {
   "cell_type": "code",
   "execution_count": 19,
   "id": "5c1c2811-cb90-4f7b-9a9a-e9ad75b29a2e",
   "metadata": {
    "collapsed": true,
    "jupyter": {
     "outputs_hidden": true
    },
    "tags": []
   },
   "outputs": [
    {
     "data": {
      "text/plain": [
       "<matplotlib.legend.Legend at 0x1cd60060910>"
      ]
     },
     "execution_count": 19,
     "metadata": {},
     "output_type": "execute_result"
    },
    {
     "data": {
      "image/png": "[encoded data removed]",
      "text/plain": [
       "<Figure size 432x288 with 1 Axes>"
      ]
     },
     "metadata": {
      "needs_background": "light"
     },
     "output_type": "display_data"
    }
   ],
   "source": [
    "# Fitted values in sample\n",
    "var_quarterly = model_fitted.fittedvalues\n",
    "\n",
    "### in plot method we set the label and color of the curve.\n",
    "quarterly_all['GDP'].plot(label='GDP', color='blue')\n",
    "var_quarterly['GDP'].plot(label='VAR (in-sample)', color='orange')\n",
    "  \n",
    "# adding title to the plot\n",
    "plt.title('GDP growth and VAR model')\n",
    "  \n",
    "# adding Label to the x-axis\n",
    "plt.xlabel('Years')\n",
    "  \n",
    "# adding legend to the curve\n",
    "plt.legend()"
   ]
  },
  {
   "cell_type": "code",
   "execution_count": 20,
   "id": "7869d444-14f0-4b12-a68e-b384f805eec4",
   "metadata": {
    "tags": []
   },
   "outputs": [],
   "source": [
    "# Create out of sample\n",
    "var_restrict = VAR(quarterly_all[:-43])\n",
    "\n",
    "# 5 lags\n",
    "model_fitted_restrict = var_restrict.fit(2)\n",
    "\n",
    "# Out of sample part of out of sample model\n",
    "lag_order2 = model_fitted_restrict.k_ar\n",
    "\n",
    "# Input data for forecasting\n",
    "forecast_input2 = quarterly_all[:-43].values\n",
    "\n",
    "fc2 = model_fitted_restrict.forecast(y=forecast_input2, steps=41)\n",
    "\n",
    "var_quarterly_restrict_out = pd.DataFrame(fc2, index=quarterly_all.index[-41:], columns=quarterly_all.columns)"
   ]
  },
  {
   "cell_type": "code",
   "execution_count": 21,
   "id": "d2e7cee6-9af3-44b3-9ee6-98ef41578928",
   "metadata": {
    "collapsed": true,
    "jupyter": {
     "outputs_hidden": true
    },
    "tags": []
   },
   "outputs": [
    {
     "data": {
      "text/plain": [
       "<matplotlib.legend.Legend at 0x1cd60034a30>"
      ]
     },
     "execution_count": 21,
     "metadata": {},
     "output_type": "execute_result"
    },
    {
     "data": {
      "image/png": "[encoded data removed]",
      "text/plain": [
       "<Figure size 432x288 with 1 Axes>"
      ]
     },
     "metadata": {
      "needs_background": "light"
     },
     "output_type": "display_data"
    }
   ],
   "source": [
    "### in plot method we set the label and color of the curve.\n",
    "quarterly_all['GDP'][42:].plot(label='GDP', color='blue')\n",
    "var_quarterly_restrict_out['GDP'].plot(label='VAR (out-of-sample)', color='orange')\n",
    "var_quarterly['GDP'][37:].plot(label='VAR (in-sample)', color='red')\n",
    "  \n",
    "# adding title to the plot\n",
    "plt.title('GDP growth and VAR model')\n",
    "  \n",
    "# adding Label to the x-axis\n",
    "plt.xlabel('Years')\n",
    "  \n",
    "# adding legend to the curve\n",
    "plt.legend()"
   ]
  },
  {
   "cell_type": "code",
   "execution_count": 22,
   "id": "b05a137a-b382-4cca-a5c3-a9c46b89583e",
   "metadata": {
    "tags": []
   },
   "outputs": [
    {
     "name": "stdout",
     "output_type": "stream",
     "text": [
      "Out-of-Sample RMSE is : 0.32033526538225743\n",
      "In-Sample RMSE is : 2.206971744405514\n"
     ]
    }
   ],
   "source": [
    "#errors\n",
    "var_rmse_out_sample = math.sqrt(sklearn.metrics.mean_squared_error(quarterly_all['GDP'][42:], var_quarterly['GDP'][37:]))\n",
    "var_rmse_in_sample = math.sqrt(sklearn.metrics.mean_squared_error(quarterly_all['GDP'][42:], var_quarterly_restrict_out['GDP']))\n",
    "\n",
    "print(f\"Out-of-Sample RMSE is : {var_rmse_out_sample}\")\n",
    "print(f\"In-Sample RMSE is : {var_rmse_in_sample}\")"
   ]
  },
  {
   "cell_type": "markdown",
   "id": "999e21be-15a8-4f70-bcb4-c4fcb65d8a03",
   "metadata": {
    "tags": []
   },
   "source": [
    "#### 5.4 Dynamic Factor Model (application):"
   ]
  },
  {
   "cell_type": "markdown",
   "id": "c7d1e667-adc8-4900-b08e-7d849be1491d",
   "metadata": {
    "tags": []
   },
   "source": [
    "Placeholder"
   ]
  },
  {
   "cell_type": "code",
   "execution_count": 23,
   "id": "1ed5ae2e-f72c-4fdd-8c6c-eef01a06f1cd",
   "metadata": {
    "collapsed": true,
    "jupyter": {
     "outputs_hidden": true
    },
    "tags": []
   },
   "outputs": [
    {
     "name": "stdout",
     "output_type": "stream",
     "text": [
      "EM start iterations, llf=-3530.5\n",
      "EM iteration 10, llf=-3450.3, convergence criterion=3.8119e-05\n",
      "EM iteration 20, llf=-3449.7, convergence criterion=1.0243e-05\n",
      "EM iteration 30, llf=-3449.4, convergence criterion=4.5627e-06\n",
      "EM iteration 40, llf=-3449.3, convergence criterion=2.581e-06\n",
      "EM iteration 50, llf=-3449.3, convergence criterion=1.687e-06\n",
      "EM iteration 60, llf=-3449.2, convergence criterion=1.2151e-06\n",
      "EM converged at iteration 68, llf=-3449.2, convergence criterion=9.8307e-07 < tolerance=1e-06\n"
     ]
    }
   ],
   "source": [
    "# Remove the index to run the algorithm\n",
    "normalized_monthly_adjust = normalized_monthly.set_index('index')\n",
    "normalized_data = normalized_monthly_adjust.reset_index(drop=True)\n",
    "\n",
    "# Build and fit dynamic factor model using an EM algorithm\n",
    "mod = sm.tsa.DynamicFactorMQ(normalized_data, factors=1, factor_orders=3)\n",
    "\n",
    "res = mod.fit(disp=10)"
   ]
  },
  {
   "cell_type": "code",
   "execution_count": 24,
   "id": "e2231d45-de2c-4a80-b9de-4b7a57458db1",
   "metadata": {
    "collapsed": true,
    "jupyter": {
     "outputs_hidden": true
    },
    "tags": []
   },
   "outputs": [
    {
     "data": {
      "text/html": [
       "<table class=\"simpletable\">\n",
       "<caption>Dynamic Factor Results</caption>\n",
       "<tr>\n",
       "  <th>Dep. Variable:</th>   <td>\"payroll\", and 10 more</td>  <th>  No. Observations:  </th>    <td>255</td>   \n",
       "</tr>\n",
       "<tr>\n",
       "  <th>Model:</th>            <td>Dynamic Factor Model</td>   <th>  Log Likelihood     </th> <td>-3449.177</td>\n",
       "</tr>\n",
       "<tr>\n",
       "  <th></th>                 <td>+ 1 factors in 1 blocks</td> <th>  AIC                </th> <td>6972.354</td> \n",
       "</tr>\n",
       "<tr>\n",
       "  <th></th>                  <td>+ AR(1) idiosyncratic</td>  <th>  BIC                </th> <td>7103.381</td> \n",
       "</tr>\n",
       "<tr>\n",
       "  <th>Date:</th>               <td>Mon, 09 May 2022</td>     <th>  HQIC               </th> <td>7025.058</td> \n",
       "</tr>\n",
       "<tr>\n",
       "  <th>Time:</th>                   <td>21:03:32</td>         <th>  EM Iterations      </th>    <td>68</td>    \n",
       "</tr>\n",
       "<tr>\n",
       "  <th>Sample:</th>                     <td>0</td>            <th>                     </th>     <td> </td>    \n",
       "</tr>\n",
       "<tr>\n",
       "  <th></th>                         <td> - 255</td>          <th>                     </th>     <td> </td>    \n",
       "</tr>\n",
       "<tr>\n",
       "  <th>Covariance Type:</th>      <td>Not computed</td>       <th>                     </th>     <td> </td>    \n",
       "</tr>\n",
       "</table>\n",
       "<table class=\"simpletable\">\n",
       "<caption>Observation equation:</caption>\n",
       "<tr>\n",
       "    <th>Factor loadings:</th>      <th>0</th>   <th>   idiosyncratic: AR(1)</th> <th>var.</th>\n",
       "</tr>\n",
       "<tr>\n",
       "         <td>payroll</td>        <td>-0.43</td>          <td>-0.11</td>          <td>0.31</td>\n",
       "</tr>\n",
       "<tr>\n",
       "      <td>job_openings</td>      <td>-0.25</td>          <td>-0.46</td>          <td>0.64</td>\n",
       "</tr>\n",
       "<tr>\n",
       "           <td>ip</td>           <td>-0.44</td>          <td>0.01</td>           <td>0.24</td>\n",
       "</tr>\n",
       "<tr>\n",
       "      <td>vehicle_sales</td>     <td>-0.31</td>          <td>-0.29</td>          <td>0.67</td>\n",
       "</tr>\n",
       "<tr>\n",
       "          <td>quits</td>         <td>-0.24</td>          <td>-0.45</td>          <td>0.66</td>\n",
       "</tr>\n",
       "<tr>\n",
       "         <td>retail</td>         <td>-0.43</td>          <td>-0.05</td>          <td>0.44</td>\n",
       "</tr>\n",
       "<tr>\n",
       "  <td>wholesale_inventories</td> <td>-0.08</td>          <td>0.60</td>           <td>0.64</td>\n",
       "</tr>\n",
       "<tr>\n",
       "   <td>consumer_sentiment</td>   <td>-0.14</td>          <td>-0.04</td>          <td>0.94</td>\n",
       "</tr>\n",
       "<tr>\n",
       "  <td>construction_spending</td> <td>-0.19</td>          <td>0.40</td>           <td>0.76</td>\n",
       "</tr>\n",
       "<tr>\n",
       "       <td>new_orders</td>       <td>-0.26</td>          <td>-0.42</td>          <td>0.68</td>\n",
       "</tr>\n",
       "<tr>\n",
       "     <td>housing_starts</td>     <td>-0.28</td>          <td>-0.43</td>          <td>0.66</td>\n",
       "</tr>\n",
       "</table>\n",
       "<table class=\"simpletable\">\n",
       "<caption>Transition: Factor block 0</caption>\n",
       "<tr>\n",
       "  <th></th>  <th>L1.0</th> <th>L2.0</th>  <th>L3.0</th>  <th>   error variance</th>\n",
       "</tr>\n",
       "<tr>\n",
       "  <td>0</td> <td>0.21</td> <td>-0.17</td> <td>-0.02</td>       <td>3.15</td>       \n",
       "</tr>\n",
       "</table><br/><br/>Warnings:<br/>[1] Covariance matrix not calculated."
      ],
      "text/plain": [
       "<class 'statsmodels.iolib.summary.Summary'>\n",
       "\"\"\"\n",
       "                               Dynamic Factor Results                              \n",
       "===================================================================================\n",
       "Dep. Variable:      \"payroll\", and 10 more   No. Observations:                  255\n",
       "Model:                Dynamic Factor Model   Log Likelihood               -3449.177\n",
       "                   + 1 factors in 1 blocks   AIC                           6972.354\n",
       "                     + AR(1) idiosyncratic   BIC                           7103.381\n",
       "Date:                     Mon, 09 May 2022   HQIC                          7025.058\n",
       "Time:                             21:03:32   EM Iterations                       68\n",
       "Sample:                                  0                                         \n",
       "                                     - 255                                         \n",
       "Covariance Type:              Not computed                                         \n",
       "                       Observation equation:                       \n",
       "===================================================================\n",
       "     Factor loadings:          0    idiosyncratic: AR(1)       var.\n",
       "-------------------------------------------------------------------\n",
       "              payroll      -0.43                   -0.11       0.31\n",
       "         job_openings      -0.25                   -0.46       0.64\n",
       "                   ip      -0.44                    0.01       0.24\n",
       "        vehicle_sales      -0.31                   -0.29       0.67\n",
       "                quits      -0.24                   -0.45       0.66\n",
       "               retail      -0.43                   -0.05       0.44\n",
       "wholesale_inventories      -0.08                    0.60       0.64\n",
       "   consumer_sentiment      -0.14                   -0.04       0.94\n",
       "construction_spending      -0.19                    0.40       0.76\n",
       "           new_orders      -0.26                   -0.42       0.68\n",
       "       housing_starts      -0.28                   -0.43       0.66\n",
       "                  Transition: Factor block 0                 \n",
       "=============================================================\n",
       "                 L1.0       L2.0       L3.0    error variance\n",
       "-------------------------------------------------------------\n",
       "         0       0.21      -0.17      -0.02              3.15\n",
       "=============================================================\n",
       "\n",
       "Warnings:\n",
       "[1] Covariance matrix not calculated.\n",
       "\"\"\""
      ]
     },
     "execution_count": 24,
     "metadata": {},
     "output_type": "execute_result"
    }
   ],
   "source": [
    "# Summary of the model with factor loadings\n",
    "res.summary()"
   ]
  },
  {
   "cell_type": "code",
   "execution_count": 25,
   "id": "2dc1ed2b-7e0d-4561-9ad6-3e7a3025aa3f",
   "metadata": {
    "collapsed": true,
    "jupyter": {
     "outputs_hidden": true
    },
    "tags": []
   },
   "outputs": [
    {
     "data": {
      "text/html": [
       "<div>\n",
       "<style scoped>\n",
       "    .dataframe tbody tr th:only-of-type {\n",
       "        vertical-align: middle;\n",
       "    }\n",
       "\n",
       "    .dataframe tbody tr th {\n",
       "        vertical-align: top;\n",
       "    }\n",
       "\n",
       "    .dataframe thead th {\n",
       "        text-align: right;\n",
       "    }\n",
       "</style>\n",
       "<table border=\"1\" class=\"dataframe\">\n",
       "  <thead>\n",
       "    <tr style=\"text-align: right;\">\n",
       "      <th></th>\n",
       "      <th>GDP</th>\n",
       "      <th>level_0</th>\n",
       "      <th>payroll</th>\n",
       "      <th>job_openings</th>\n",
       "      <th>ip</th>\n",
       "      <th>vehicle_sales</th>\n",
       "      <th>quits</th>\n",
       "      <th>retail</th>\n",
       "      <th>wholesale_inventories</th>\n",
       "      <th>consumer_sentiment</th>\n",
       "      <th>construction_spending</th>\n",
       "      <th>new_orders</th>\n",
       "      <th>housing_starts</th>\n",
       "      <th>dfm</th>\n",
       "    </tr>\n",
       "    <tr>\n",
       "      <th>index</th>\n",
       "      <th></th>\n",
       "      <th></th>\n",
       "      <th></th>\n",
       "      <th></th>\n",
       "      <th></th>\n",
       "      <th></th>\n",
       "      <th></th>\n",
       "      <th></th>\n",
       "      <th></th>\n",
       "      <th></th>\n",
       "      <th></th>\n",
       "      <th></th>\n",
       "      <th></th>\n",
       "      <th></th>\n",
       "    </tr>\n",
       "  </thead>\n",
       "  <tbody>\n",
       "    <tr>\n",
       "      <th>2020Q3</th>\n",
       "      <td>8.184244</td>\n",
       "      <td>236.0</td>\n",
       "      <td>0.948176</td>\n",
       "      <td>2.421341</td>\n",
       "      <td>1.585079</td>\n",
       "      <td>7.227744</td>\n",
       "      <td>4.886782</td>\n",
       "      <td>1.413136</td>\n",
       "      <td>0.394046</td>\n",
       "      <td>0.967471</td>\n",
       "      <td>0.558379</td>\n",
       "      <td>4.300963</td>\n",
       "      <td>4.293566</td>\n",
       "      <td>-2.070344</td>\n",
       "    </tr>\n",
       "    <tr>\n",
       "      <th>2020Q4</th>\n",
       "      <td>1.591087</td>\n",
       "      <td>239.0</td>\n",
       "      <td>0.202960</td>\n",
       "      <td>2.204496</td>\n",
       "      <td>0.922760</td>\n",
       "      <td>0.115547</td>\n",
       "      <td>2.900379</td>\n",
       "      <td>-0.259720</td>\n",
       "      <td>0.525904</td>\n",
       "      <td>0.124147</td>\n",
       "      <td>1.010769</td>\n",
       "      <td>1.546522</td>\n",
       "      <td>4.574551</td>\n",
       "      <td>-0.743871</td>\n",
       "    </tr>\n",
       "    <tr>\n",
       "      <th>2021Q1</th>\n",
       "      <td>2.576810</td>\n",
       "      <td>242.0</td>\n",
       "      <td>0.449365</td>\n",
       "      <td>6.689897</td>\n",
       "      <td>0.295912</td>\n",
       "      <td>2.663042</td>\n",
       "      <td>2.668090</td>\n",
       "      <td>4.477619</td>\n",
       "      <td>1.142129</td>\n",
       "      <td>1.691184</td>\n",
       "      <td>0.968967</td>\n",
       "      <td>1.648741</td>\n",
       "      <td>1.260241</td>\n",
       "      <td>-1.649417</td>\n",
       "    </tr>\n",
       "    <tr>\n",
       "      <th>2021Q2</th>\n",
       "      <td>3.138917</td>\n",
       "      <td>245.0</td>\n",
       "      <td>0.291137</td>\n",
       "      <td>4.998801</td>\n",
       "      <td>0.437010</td>\n",
       "      <td>-4.320419</td>\n",
       "      <td>2.470266</td>\n",
       "      <td>-0.511995</td>\n",
       "      <td>1.187594</td>\n",
       "      <td>0.234743</td>\n",
       "      <td>0.654577</td>\n",
       "      <td>1.077530</td>\n",
       "      <td>-1.340610</td>\n",
       "      <td>-0.345888</td>\n",
       "    </tr>\n",
       "    <tr>\n",
       "      <th>2021Q3</th>\n",
       "      <td>2.008565</td>\n",
       "      <td>248.0</td>\n",
       "      <td>0.370847</td>\n",
       "      <td>2.668090</td>\n",
       "      <td>-0.202931</td>\n",
       "      <td>-7.612052</td>\n",
       "      <td>1.169711</td>\n",
       "      <td>0.119586</td>\n",
       "      <td>1.095171</td>\n",
       "      <td>-5.360014</td>\n",
       "      <td>0.689639</td>\n",
       "      <td>0.473982</td>\n",
       "      <td>-2.225127</td>\n",
       "      <td>0.200541</td>\n",
       "    </tr>\n",
       "  </tbody>\n",
       "</table>\n",
       "</div>"
      ],
      "text/plain": [
       "             GDP  level_0   payroll  job_openings        ip  vehicle_sales  \\\n",
       "index                                                                        \n",
       "2020Q3  8.184244    236.0  0.948176      2.421341  1.585079       7.227744   \n",
       "2020Q4  1.591087    239.0  0.202960      2.204496  0.922760       0.115547   \n",
       "2021Q1  2.576810    242.0  0.449365      6.689897  0.295912       2.663042   \n",
       "2021Q2  3.138917    245.0  0.291137      4.998801  0.437010      -4.320419   \n",
       "2021Q3  2.008565    248.0  0.370847      2.668090 -0.202931      -7.612052   \n",
       "\n",
       "           quits    retail  wholesale_inventories  consumer_sentiment  \\\n",
       "index                                                                   \n",
       "2020Q3  4.886782  1.413136               0.394046            0.967471   \n",
       "2020Q4  2.900379 -0.259720               0.525904            0.124147   \n",
       "2021Q1  2.668090  4.477619               1.142129            1.691184   \n",
       "2021Q2  2.470266 -0.511995               1.187594            0.234743   \n",
       "2021Q3  1.169711  0.119586               1.095171           -5.360014   \n",
       "\n",
       "        construction_spending  new_orders  housing_starts       dfm  \n",
       "index                                                                \n",
       "2020Q3               0.558379    4.300963        4.293566 -2.070344  \n",
       "2020Q4               1.010769    1.546522        4.574551 -0.743871  \n",
       "2021Q1               0.968967    1.648741        1.260241 -1.649417  \n",
       "2021Q2               0.654577    1.077530       -1.340610 -0.345888  \n",
       "2021Q3               0.689639    0.473982       -2.225127  0.200541  "
      ]
     },
     "execution_count": 25,
     "metadata": {},
     "output_type": "execute_result"
    }
   ],
   "source": [
    "# Add factor to the dataframe of all series\n",
    "factor = res.factors[\"smoothed\"].rename({\"0\": \"dfm\"}, axis='columns')\n",
    "\n",
    "normalized_with_factors = pd.concat([normalized_monthly.reset_index(), factor], axis=1).set_index('index')\n",
    "\n",
    "#Adjusting index\n",
    "normalized_with_factors = normalized_with_factors.reset_index()\n",
    "normalized_with_factors.set_index('index')\n",
    "\n",
    "# Put data on a quarterly basis\n",
    "quarterly = normalized_with_factors.groupby(pd.PeriodIndex(normalized_with_factors['index'], freq='Q')).mean().reset_index()\n",
    "\n",
    "# Adjust the gdp data series\n",
    "df_gdp = pd.DataFrame(gdp).loc[(pd.DataFrame(gdp).index >= '2000-10-01') & (pd.DataFrame(gdp).index <= '2021-10-01')].reset_index().rename(columns={\"index\": \"old_index\"})\n",
    "\n",
    "df_gdp['GDP'] = np.log(df_gdp['GDP']).diff()*100\n",
    "\n",
    "# Add on a single dataframe\n",
    "quarterly_all_factor = pd.concat([df_gdp, quarterly], axis=1).drop('old_index', axis=1).set_index('index')\n",
    "quarterly_all_factor = quarterly_all_factor.dropna()[:-1]\n",
    "\n",
    "# Finally, we've got the data\n",
    "quarterly_all_factor.tail()\n"
   ]
  },
  {
   "cell_type": "code",
   "execution_count": 26,
   "id": "5be94e38-167f-4a31-8ea1-7447c1beb328",
   "metadata": {
    "collapsed": true,
    "jupyter": {
     "outputs_hidden": true
    },
    "tags": []
   },
   "outputs": [
    {
     "data": {
      "text/html": [
       "<table class=\"simpletable\">\n",
       "<caption>OLS Regression Results</caption>\n",
       "<tr>\n",
       "  <th>Dep. Variable:</th>           <td>GDP</td>       <th>  R-squared:         </th> <td>   0.476</td>\n",
       "</tr>\n",
       "<tr>\n",
       "  <th>Model:</th>                   <td>OLS</td>       <th>  Adj. R-squared:    </th> <td>   0.469</td>\n",
       "</tr>\n",
       "<tr>\n",
       "  <th>Method:</th>             <td>Least Squares</td>  <th>  F-statistic:       </th> <td>   73.53</td>\n",
       "</tr>\n",
       "<tr>\n",
       "  <th>Date:</th>             <td>Mon, 09 May 2022</td> <th>  Prob (F-statistic):</th> <td>5.50e-13</td>\n",
       "</tr>\n",
       "<tr>\n",
       "  <th>Time:</th>                 <td>21:03:32</td>     <th>  Log-Likelihood:    </th> <td> -130.07</td>\n",
       "</tr>\n",
       "<tr>\n",
       "  <th>No. Observations:</th>      <td>    83</td>      <th>  AIC:               </th> <td>   264.1</td>\n",
       "</tr>\n",
       "<tr>\n",
       "  <th>Df Residuals:</th>          <td>    81</td>      <th>  BIC:               </th> <td>   269.0</td>\n",
       "</tr>\n",
       "<tr>\n",
       "  <th>Df Model:</th>              <td>     1</td>      <th>                     </th>     <td> </td>   \n",
       "</tr>\n",
       "<tr>\n",
       "  <th>Covariance Type:</th>      <td>nonrobust</td>    <th>                     </th>     <td> </td>   \n",
       "</tr>\n",
       "</table>\n",
       "<table class=\"simpletable\">\n",
       "<tr>\n",
       "    <td></td>       <th>coef</th>     <th>std err</th>      <th>t</th>      <th>P>|t|</th>  <th>[0.025</th>    <th>0.975]</th>  \n",
       "</tr>\n",
       "<tr>\n",
       "  <th>dfm</th>   <td>   -1.5685</td> <td>    0.183</td> <td>   -8.575</td> <td> 0.000</td> <td>   -1.932</td> <td>   -1.205</td>\n",
       "</tr>\n",
       "<tr>\n",
       "  <th>const</th> <td>    0.9935</td> <td>    0.129</td> <td>    7.707</td> <td> 0.000</td> <td>    0.737</td> <td>    1.250</td>\n",
       "</tr>\n",
       "</table>\n",
       "<table class=\"simpletable\">\n",
       "<tr>\n",
       "  <th>Omnibus:</th>       <td>82.444</td> <th>  Durbin-Watson:     </th> <td>   2.653</td>\n",
       "</tr>\n",
       "<tr>\n",
       "  <th>Prob(Omnibus):</th> <td> 0.000</td> <th>  Jarque-Bera (JB):  </th> <td>1593.869</td>\n",
       "</tr>\n",
       "<tr>\n",
       "  <th>Skew:</th>          <td>-2.668</td> <th>  Prob(JB):          </th> <td>    0.00</td>\n",
       "</tr>\n",
       "<tr>\n",
       "  <th>Kurtosis:</th>      <td>23.794</td> <th>  Cond. No.          </th> <td>    1.42</td>\n",
       "</tr>\n",
       "</table><br/><br/>Notes:<br/>[1] Standard Errors assume that the covariance matrix of the errors is correctly specified."
      ],
      "text/plain": [
       "<class 'statsmodels.iolib.summary.Summary'>\n",
       "\"\"\"\n",
       "                            OLS Regression Results                            \n",
       "==============================================================================\n",
       "Dep. Variable:                    GDP   R-squared:                       0.476\n",
       "Model:                            OLS   Adj. R-squared:                  0.469\n",
       "Method:                 Least Squares   F-statistic:                     73.53\n",
       "Date:                Mon, 09 May 2022   Prob (F-statistic):           5.50e-13\n",
       "Time:                        21:03:32   Log-Likelihood:                -130.07\n",
       "No. Observations:                  83   AIC:                             264.1\n",
       "Df Residuals:                      81   BIC:                             269.0\n",
       "Df Model:                           1                                         \n",
       "Covariance Type:            nonrobust                                         \n",
       "==============================================================================\n",
       "                 coef    std err          t      P>|t|      [0.025      0.975]\n",
       "------------------------------------------------------------------------------\n",
       "dfm           -1.5685      0.183     -8.575      0.000      -1.932      -1.205\n",
       "const          0.9935      0.129      7.707      0.000       0.737       1.250\n",
       "==============================================================================\n",
       "Omnibus:                       82.444   Durbin-Watson:                   2.653\n",
       "Prob(Omnibus):                  0.000   Jarque-Bera (JB):             1593.869\n",
       "Skew:                          -2.668   Prob(JB):                         0.00\n",
       "Kurtosis:                      23.794   Cond. No.                         1.42\n",
       "==============================================================================\n",
       "\n",
       "Notes:\n",
       "[1] Standard Errors assume that the covariance matrix of the errors is correctly specified.\n",
       "\"\"\""
      ]
     },
     "execution_count": 26,
     "metadata": {},
     "output_type": "execute_result"
    }
   ],
   "source": [
    "# Regression of factor model\n",
    "quarterly_all_factor = sm.add_constant(quarterly_all_factor)\n",
    "regression_factor = sm.OLS(quarterly_all_factor['GDP'],quarterly_all_factor[['dfm', 'const']], missing='drop').fit()\n",
    "regression_factor.summary()"
   ]
  },
  {
   "cell_type": "code",
   "execution_count": 27,
   "id": "8e45cc5d-7c72-4201-8681-56fe664134f8",
   "metadata": {
    "collapsed": true,
    "jupyter": {
     "outputs_hidden": true
    },
    "tags": []
   },
   "outputs": [
    {
     "data": {
      "text/html": [
       "<div>\n",
       "<style scoped>\n",
       "    .dataframe tbody tr th:only-of-type {\n",
       "        vertical-align: middle;\n",
       "    }\n",
       "\n",
       "    .dataframe tbody tr th {\n",
       "        vertical-align: top;\n",
       "    }\n",
       "\n",
       "    .dataframe thead th {\n",
       "        text-align: right;\n",
       "    }\n",
       "</style>\n",
       "<table border=\"1\" class=\"dataframe\">\n",
       "  <thead>\n",
       "    <tr style=\"text-align: right;\">\n",
       "      <th></th>\n",
       "      <th>const</th>\n",
       "      <th>GDP</th>\n",
       "      <th>level_0</th>\n",
       "      <th>payroll</th>\n",
       "      <th>job_openings</th>\n",
       "      <th>ip</th>\n",
       "      <th>vehicle_sales</th>\n",
       "      <th>quits</th>\n",
       "      <th>retail</th>\n",
       "      <th>wholesale_inventories</th>\n",
       "      <th>consumer_sentiment</th>\n",
       "      <th>construction_spending</th>\n",
       "      <th>new_orders</th>\n",
       "      <th>housing_starts</th>\n",
       "      <th>dfm</th>\n",
       "      <th>Predict</th>\n",
       "    </tr>\n",
       "    <tr>\n",
       "      <th>index</th>\n",
       "      <th></th>\n",
       "      <th></th>\n",
       "      <th></th>\n",
       "      <th></th>\n",
       "      <th></th>\n",
       "      <th></th>\n",
       "      <th></th>\n",
       "      <th></th>\n",
       "      <th></th>\n",
       "      <th></th>\n",
       "      <th></th>\n",
       "      <th></th>\n",
       "      <th></th>\n",
       "      <th></th>\n",
       "      <th></th>\n",
       "      <th></th>\n",
       "    </tr>\n",
       "  </thead>\n",
       "  <tbody>\n",
       "    <tr>\n",
       "      <th>2001Q1</th>\n",
       "      <td>1.0</td>\n",
       "      <td>0.329925</td>\n",
       "      <td>2.0</td>\n",
       "      <td>0.009543</td>\n",
       "      <td>-2.207236</td>\n",
       "      <td>-0.500511</td>\n",
       "      <td>2.044262</td>\n",
       "      <td>1.481725</td>\n",
       "      <td>-0.043913</td>\n",
       "      <td>-0.015097</td>\n",
       "      <td>-2.423394</td>\n",
       "      <td>0.672596</td>\n",
       "      <td>-1.159559</td>\n",
       "      <td>1.238665</td>\n",
       "      <td>0.495542</td>\n",
       "      <td>0.216234</td>\n",
       "    </tr>\n",
       "    <tr>\n",
       "      <th>2001Q2</th>\n",
       "      <td>1.0</td>\n",
       "      <td>1.222357</td>\n",
       "      <td>5.0</td>\n",
       "      <td>-0.112685</td>\n",
       "      <td>-2.932212</td>\n",
       "      <td>-0.486808</td>\n",
       "      <td>0.414847</td>\n",
       "      <td>-1.481725</td>\n",
       "      <td>0.488294</td>\n",
       "      <td>0.015636</td>\n",
       "      <td>0.398339</td>\n",
       "      <td>1.095764</td>\n",
       "      <td>-1.089457</td>\n",
       "      <td>0.950674</td>\n",
       "      <td>0.467943</td>\n",
       "      <td>0.259524</td>\n",
       "    </tr>\n",
       "    <tr>\n",
       "      <th>2001Q3</th>\n",
       "      <td>1.0</td>\n",
       "      <td>-0.009247</td>\n",
       "      <td>8.0</td>\n",
       "      <td>-0.133298</td>\n",
       "      <td>-2.293757</td>\n",
       "      <td>-0.412019</td>\n",
       "      <td>-2.166557</td>\n",
       "      <td>-1.550667</td>\n",
       "      <td>-0.552672</td>\n",
       "      <td>-0.487928</td>\n",
       "      <td>-4.133730</td>\n",
       "      <td>-0.721291</td>\n",
       "      <td>-2.395150</td>\n",
       "      <td>-1.542906</td>\n",
       "      <td>0.922908</td>\n",
       "      <td>-0.454095</td>\n",
       "    </tr>\n",
       "    <tr>\n",
       "      <th>2001Q4</th>\n",
       "      <td>1.0</td>\n",
       "      <td>0.587485</td>\n",
       "      <td>11.0</td>\n",
       "      <td>-0.200189</td>\n",
       "      <td>-3.393049</td>\n",
       "      <td>-0.315040</td>\n",
       "      <td>0.203067</td>\n",
       "      <td>-1.626339</td>\n",
       "      <td>0.882632</td>\n",
       "      <td>-0.793410</td>\n",
       "      <td>2.736980</td>\n",
       "      <td>0.485141</td>\n",
       "      <td>0.239002</td>\n",
       "      <td>0.127796</td>\n",
       "      <td>0.373323</td>\n",
       "      <td>0.407937</td>\n",
       "    </tr>\n",
       "    <tr>\n",
       "      <th>2002Q1</th>\n",
       "      <td>1.0</td>\n",
       "      <td>1.147515</td>\n",
       "      <td>14.0</td>\n",
       "      <td>-0.067508</td>\n",
       "      <td>-0.594519</td>\n",
       "      <td>0.478147</td>\n",
       "      <td>1.275027</td>\n",
       "      <td>-1.709776</td>\n",
       "      <td>0.066198</td>\n",
       "      <td>-0.371882</td>\n",
       "      <td>2.494388</td>\n",
       "      <td>-0.202176</td>\n",
       "      <td>0.510080</td>\n",
       "      <td>1.537136</td>\n",
       "      <td>-0.042986</td>\n",
       "      <td>1.060922</td>\n",
       "    </tr>\n",
       "  </tbody>\n",
       "</table>\n",
       "</div>"
      ],
      "text/plain": [
       "        const       GDP  level_0   payroll  job_openings        ip  \\\n",
       "index                                                                \n",
       "2001Q1    1.0  0.329925      2.0  0.009543     -2.207236 -0.500511   \n",
       "2001Q2    1.0  1.222357      5.0 -0.112685     -2.932212 -0.486808   \n",
       "2001Q3    1.0 -0.009247      8.0 -0.133298     -2.293757 -0.412019   \n",
       "2001Q4    1.0  0.587485     11.0 -0.200189     -3.393049 -0.315040   \n",
       "2002Q1    1.0  1.147515     14.0 -0.067508     -0.594519  0.478147   \n",
       "\n",
       "        vehicle_sales     quits    retail  wholesale_inventories  \\\n",
       "index                                                              \n",
       "2001Q1       2.044262  1.481725 -0.043913              -0.015097   \n",
       "2001Q2       0.414847 -1.481725  0.488294               0.015636   \n",
       "2001Q3      -2.166557 -1.550667 -0.552672              -0.487928   \n",
       "2001Q4       0.203067 -1.626339  0.882632              -0.793410   \n",
       "2002Q1       1.275027 -1.709776  0.066198              -0.371882   \n",
       "\n",
       "        consumer_sentiment  construction_spending  new_orders  housing_starts  \\\n",
       "index                                                                           \n",
       "2001Q1           -2.423394               0.672596   -1.159559        1.238665   \n",
       "2001Q2            0.398339               1.095764   -1.089457        0.950674   \n",
       "2001Q3           -4.133730              -0.721291   -2.395150       -1.542906   \n",
       "2001Q4            2.736980               0.485141    0.239002        0.127796   \n",
       "2002Q1            2.494388              -0.202176    0.510080        1.537136   \n",
       "\n",
       "             dfm   Predict  \n",
       "index                       \n",
       "2001Q1  0.495542  0.216234  \n",
       "2001Q2  0.467943  0.259524  \n",
       "2001Q3  0.922908 -0.454095  \n",
       "2001Q4  0.373323  0.407937  \n",
       "2002Q1 -0.042986  1.060922  "
      ]
     },
     "execution_count": 27,
     "metadata": {},
     "output_type": "execute_result"
    }
   ],
   "source": [
    "# Merge with predict series\n",
    "quarterly_predict = quarterly_all_factor.reset_index()\n",
    "regression_fit = pd.DataFrame(regression_factor.predict(), columns = ['Predict'])\n",
    "quarterly_predict = pd.concat([quarterly_predict, regression_fit], axis=1).set_index('index')\n",
    "quarterly_predict.head()"
   ]
  },
  {
   "cell_type": "code",
   "execution_count": 28,
   "id": "5b0523c9-2e2f-407b-893b-7395c1afb556",
   "metadata": {
    "collapsed": true,
    "jupyter": {
     "outputs_hidden": true
    },
    "tags": []
   },
   "outputs": [
    {
     "data": {
      "text/plain": [
       "<matplotlib.legend.Legend at 0x1cd59d74880>"
      ]
     },
     "execution_count": 28,
     "metadata": {},
     "output_type": "execute_result"
    },
    {
     "data": {
      "image/png": "[encoded data removed]",
      "text/plain": [
       "<Figure size 432x288 with 1 Axes>"
      ]
     },
     "metadata": {
      "needs_background": "light"
     },
     "output_type": "display_data"
    }
   ],
   "source": [
    "### in plot method we set the label and color of the curve.\n",
    "quarterly_predict['GDP'].plot(label='GDP', color='blue')\n",
    "quarterly_predict['Predict'].plot(label='Nowcaster (in-sample)', color='orange')\n",
    "  \n",
    "# adding title to the plot\n",
    "plt.title('GDP growth and Nowcaster')\n",
    "  \n",
    "# adding Label to the x-axis\n",
    "plt.xlabel('Years')\n",
    "  \n",
    "# adding legend to the curve\n",
    "plt.legend()"
   ]
  },
  {
   "cell_type": "code",
   "execution_count": 29,
   "id": "903a51a1-bc6b-4730-8032-53954f57d9e2",
   "metadata": {
    "tags": []
   },
   "outputs": [
    {
     "data": {
      "text/html": [
       "<table class=\"simpletable\">\n",
       "<caption>OLS Regression Results</caption>\n",
       "<tr>\n",
       "  <th>Dep. Variable:</th>           <td>GDP</td>       <th>  R-squared:         </th> <td>   0.632</td>\n",
       "</tr>\n",
       "<tr>\n",
       "  <th>Model:</th>                   <td>OLS</td>       <th>  Adj. R-squared:    </th> <td>   0.623</td>\n",
       "</tr>\n",
       "<tr>\n",
       "  <th>Method:</th>             <td>Least Squares</td>  <th>  F-statistic:       </th> <td>   65.33</td>\n",
       "</tr>\n",
       "<tr>\n",
       "  <th>Date:</th>             <td>Mon, 09 May 2022</td> <th>  Prob (F-statistic):</th> <td>8.87e-10</td>\n",
       "</tr>\n",
       "<tr>\n",
       "  <th>Time:</th>                 <td>21:03:32</td>     <th>  Log-Likelihood:    </th> <td> -28.157</td>\n",
       "</tr>\n",
       "<tr>\n",
       "  <th>No. Observations:</th>      <td>    40</td>      <th>  AIC:               </th> <td>   60.31</td>\n",
       "</tr>\n",
       "<tr>\n",
       "  <th>Df Residuals:</th>          <td>    38</td>      <th>  BIC:               </th> <td>   63.69</td>\n",
       "</tr>\n",
       "<tr>\n",
       "  <th>Df Model:</th>              <td>     1</td>      <th>                     </th>     <td> </td>   \n",
       "</tr>\n",
       "<tr>\n",
       "  <th>Covariance Type:</th>      <td>nonrobust</td>    <th>                     </th>     <td> </td>   \n",
       "</tr>\n",
       "</table>\n",
       "<table class=\"simpletable\">\n",
       "<tr>\n",
       "    <td></td>       <th>coef</th>     <th>std err</th>      <th>t</th>      <th>P>|t|</th>  <th>[0.025</th>    <th>0.975]</th>  \n",
       "</tr>\n",
       "<tr>\n",
       "  <th>dfm</th>   <td>   -0.9063</td> <td>    0.112</td> <td>   -8.083</td> <td> 0.000</td> <td>   -1.133</td> <td>   -0.679</td>\n",
       "</tr>\n",
       "<tr>\n",
       "  <th>const</th> <td>    1.1064</td> <td>    0.081</td> <td>   13.584</td> <td> 0.000</td> <td>    0.942</td> <td>    1.271</td>\n",
       "</tr>\n",
       "</table>\n",
       "<table class=\"simpletable\">\n",
       "<tr>\n",
       "  <th>Omnibus:</th>       <td> 0.029</td> <th>  Durbin-Watson:     </th> <td>   1.807</td>\n",
       "</tr>\n",
       "<tr>\n",
       "  <th>Prob(Omnibus):</th> <td> 0.986</td> <th>  Jarque-Bera (JB):  </th> <td>   0.178</td>\n",
       "</tr>\n",
       "<tr>\n",
       "  <th>Skew:</th>          <td> 0.054</td> <th>  Prob(JB):          </th> <td>   0.915</td>\n",
       "</tr>\n",
       "<tr>\n",
       "  <th>Kurtosis:</th>      <td> 2.691</td> <th>  Cond. No.          </th> <td>    1.49</td>\n",
       "</tr>\n",
       "</table><br/><br/>Notes:<br/>[1] Standard Errors assume that the covariance matrix of the errors is correctly specified."
      ],
      "text/plain": [
       "<class 'statsmodels.iolib.summary.Summary'>\n",
       "\"\"\"\n",
       "                            OLS Regression Results                            \n",
       "==============================================================================\n",
       "Dep. Variable:                    GDP   R-squared:                       0.632\n",
       "Model:                            OLS   Adj. R-squared:                  0.623\n",
       "Method:                 Least Squares   F-statistic:                     65.33\n",
       "Date:                Mon, 09 May 2022   Prob (F-statistic):           8.87e-10\n",
       "Time:                        21:03:32   Log-Likelihood:                -28.157\n",
       "No. Observations:                  40   AIC:                             60.31\n",
       "Df Residuals:                      38   BIC:                             63.69\n",
       "Df Model:                           1                                         \n",
       "Covariance Type:            nonrobust                                         \n",
       "==============================================================================\n",
       "                 coef    std err          t      P>|t|      [0.025      0.975]\n",
       "------------------------------------------------------------------------------\n",
       "dfm           -0.9063      0.112     -8.083      0.000      -1.133      -0.679\n",
       "const          1.1064      0.081     13.584      0.000       0.942       1.271\n",
       "==============================================================================\n",
       "Omnibus:                        0.029   Durbin-Watson:                   1.807\n",
       "Prob(Omnibus):                  0.986   Jarque-Bera (JB):                0.178\n",
       "Skew:                           0.054   Prob(JB):                        0.915\n",
       "Kurtosis:                       2.691   Cond. No.                         1.49\n",
       "==============================================================================\n",
       "\n",
       "Notes:\n",
       "[1] Standard Errors assume that the covariance matrix of the errors is correctly specified.\n",
       "\"\"\""
      ]
     },
     "execution_count": 29,
     "metadata": {},
     "output_type": "execute_result"
    }
   ],
   "source": [
    "# Now, we run with the train sample from 2000 to 2010\n",
    "quarterly_restrict = quarterly_all_factor[:-43]\n",
    "regression_factor_train = sm.OLS(quarterly_restrict['GDP'], quarterly_restrict[['dfm', 'const']]).fit()\n",
    "regression_factor_train.summary()"
   ]
  },
  {
   "cell_type": "code",
   "execution_count": 30,
   "id": "8583bfbd-06db-4614-bcf1-df53931be7cf",
   "metadata": {
    "collapsed": true,
    "jupyter": {
     "outputs_hidden": true
    },
    "tags": []
   },
   "outputs": [
    {
     "data": {
      "text/plain": [
       "<matplotlib.legend.Legend at 0x1cd611f21f0>"
      ]
     },
     "execution_count": 30,
     "metadata": {},
     "output_type": "execute_result"
    },
    {
     "data": {
      "image/png": "[encoded data removed]",
      "text/plain": [
       "<Figure size 432x288 with 1 Axes>"
      ]
     },
     "metadata": {
      "needs_background": "light"
     },
     "output_type": "display_data"
    }
   ],
   "source": [
    "### in plot method we set the label and color of the curve.\n",
    "quarterly_predict['GDP'][40:].plot(label='GDP', color='blue')\n",
    "\n",
    "out_of_sample_dfm = -0.93*quarterly_predict['dfm'] + 1.1081\n",
    "out_of_sample_dfm[40:].plot(label='Nowcaster (out-of-sample)', color='red')\n",
    "\n",
    "quarterly_predict['Predict'][40:].plot(label='Nowcaster (in-sample)', color='orange')\n",
    "  \n",
    "# adding title to the plot\n",
    "plt.title('GDP growth and Nowcaster')\n",
    "  \n",
    "# adding Label to the x-axis\n",
    "plt.xlabel('Years')\n",
    "  \n",
    "# adding legend to the curve\n",
    "plt.legend()"
   ]
  },
  {
   "cell_type": "code",
   "execution_count": 31,
   "id": "4fb3d09b-403f-4be3-b6b1-7f33f985f3e3",
   "metadata": {
    "collapsed": true,
    "jupyter": {
     "outputs_hidden": true
    },
    "tags": []
   },
   "outputs": [
    {
     "name": "stdout",
     "output_type": "stream",
     "text": [
      "Out-of-Sample RMSE is : 1.6717869752834398\n",
      "In-Sample RMSE is : 1.457240485316347\n"
     ]
    }
   ],
   "source": [
    "dfm_rmse_out_sample = math.sqrt(sklearn.metrics.mean_squared_error(quarterly_predict['GDP'][40:], out_of_sample_dfm[40:]))\n",
    "dfm_rmse_in_sample = math.sqrt(sklearn.metrics.mean_squared_error(quarterly_predict['GDP'][40:], quarterly_predict['Predict'][40:]))\n",
    "\n",
    "print(f\"Out-of-Sample RMSE is : {dfm_rmse_out_sample}\")\n",
    "print(f\"In-Sample RMSE is : {dfm_rmse_in_sample}\")"
   ]
  },
  {
   "cell_type": "markdown",
   "id": "50749753-0668-449e-ae1c-7d4a494fb59a",
   "metadata": {},
   "source": [
    "#### 5.7 K-Nearest Neighbor (application):"
   ]
  },
  {
   "cell_type": "markdown",
   "id": "8d3c8b50-08c3-4b0b-b346-ceae90fc924a",
   "metadata": {},
   "source": [
    "Placeholder"
   ]
  },
  {
   "cell_type": "code",
   "execution_count": 32,
   "id": "9777948d-2fd1-4fb9-afb5-46ee01dd8ffd",
   "metadata": {
    "tags": []
   },
   "outputs": [],
   "source": [
    "# Separate test and train\n",
    "X1=quarterly_all.drop([\"GDP\"], axis=1)\n",
    "y1=quarterly_all['GDP']\n",
    "\n",
    "# Create test and train\n",
    "X_train1, X_test1, y_train1, y_test1 = train_test_split(X1, y1, shuffle=False, train_size=82)\n",
    "\n",
    "# Fit model\n",
    "knn_model1 = KNeighborsRegressor(n_neighbors=3)\n",
    "knn_model1.fit(X_train1, y_train1)\n",
    "\n",
    "# Define series\n",
    "train_preds1 = knn_model1.predict(X_train1)\n",
    "test_preds1 = knn_model1.predict(X_test1)\n",
    "\n",
    "# Results\n",
    "train_results1=pd.DataFrame(train_preds1, y_train1.index).rename(columns = {0 : \"In-Sample\"})\n",
    "\n",
    "# Append GDP\n",
    "train_results1[\"GDP\"] = quarterly_predict['GDP']\n",
    "train_results1[\"In-Sample\"] = train_results1[\"In-Sample\"]"
   ]
  },
  {
   "cell_type": "code",
   "execution_count": 33,
   "id": "db1b640d-09ac-40e5-9561-6efb5e582889",
   "metadata": {
    "tags": []
   },
   "outputs": [
    {
     "data": {
      "text/plain": [
       "<matplotlib.legend.Legend at 0x1cd612d4250>"
      ]
     },
     "execution_count": 33,
     "metadata": {},
     "output_type": "execute_result"
    },
    {
     "data": {
      "image/png": "[encoded data removed]",
      "text/plain": [
       "<Figure size 432x288 with 1 Axes>"
      ]
     },
     "metadata": {
      "needs_background": "light"
     },
     "output_type": "display_data"
    }
   ],
   "source": [
    "### in plot method we set the label and color of the curve.\n",
    "train_results1['GDP'].plot(label='GDP', color='blue')\n",
    "train_results1[\"In-Sample\"].plot(label='KNN (in-sample)', color='orange')\n",
    "  \n",
    "# adding title to the plot\n",
    "plt.title('GDP growth and KNN')\n",
    "  \n",
    "# adding Label to the x-axis\n",
    "plt.xlabel('Years')\n",
    "  \n",
    "# adding legend to the curve\n",
    "plt.legend()"
   ]
  },
  {
   "cell_type": "code",
   "execution_count": 34,
   "id": "562315ee-dd7f-40ce-bbf6-798615740a19",
   "metadata": {
    "tags": []
   },
   "outputs": [],
   "source": [
    "# Separate test and train\n",
    "X=quarterly_all.drop([\"GDP\"], axis=1)\n",
    "y=quarterly_all['GDP']\n",
    "\n",
    "# Create test and train\n",
    "X_train, X_test, y_train, y_test = train_test_split(X, y, shuffle=False, train_size=40)\n",
    "\n",
    "# Fit model\n",
    "knn_model = KNeighborsRegressor(n_neighbors=3)\n",
    "knn_model.fit(X_train, y_train)\n",
    "\n",
    "# Define series\n",
    "train_preds = knn_model.predict(X_train)\n",
    "test_preds = knn_model.predict(X_test)\n",
    "\n",
    "# Results\n",
    "test_results=pd.DataFrame(test_preds, y_test.index).rename(columns = {0 : \"Predict\"})\n",
    "\n",
    "# Append GDP\n",
    "test_results[\"GDP\"] = quarterly_predict['GDP'][40:]"
   ]
  },
  {
   "cell_type": "code",
   "execution_count": 35,
   "id": "6ad66d31-525d-45eb-8758-4f9f6cb5633a",
   "metadata": {
    "tags": []
   },
   "outputs": [
    {
     "data": {
      "text/plain": [
       "<matplotlib.legend.Legend at 0x1cd6135a130>"
      ]
     },
     "execution_count": 35,
     "metadata": {},
     "output_type": "execute_result"
    },
    {
     "data": {
      "image/png": "[encoded data removed]",
      "text/plain": [
       "<Figure size 432x288 with 1 Axes>"
      ]
     },
     "metadata": {
      "needs_background": "light"
     },
     "output_type": "display_data"
    }
   ],
   "source": [
    "### in plot method we set the label and color of the curve.\n",
    "test_results['GDP'].plot(label='GDP', color='blue')\n",
    "test_results[\"Predict\"].plot(label='KNN (out-of-sample)', color='red')\n",
    "train_results1[\"In-Sample\"][39:].plot(label='KNN (in-sample)', color='orange') \n",
    "    \n",
    "# adding title to the plot\n",
    "plt.title('GDP growth and KNN')\n",
    "  \n",
    "# adding Label to the x-axis\n",
    "plt.xlabel('Years')\n",
    "  \n",
    "# adding legend to the curve\n",
    "plt.legend()\n"
   ]
  },
  {
   "cell_type": "code",
   "execution_count": 36,
   "id": "d27275d9-09e4-4c65-ab3f-774c6281548d",
   "metadata": {
    "tags": []
   },
   "outputs": [
    {
     "name": "stdout",
     "output_type": "stream",
     "text": [
      "Out-of-Sample RMSE is : 2.068752100853494\n",
      "In-Sample RMSE is : 2.234026551046417\n"
     ]
    }
   ],
   "source": [
    "knn_rmse_out_sample = math.sqrt(sklearn.metrics.mean_squared_error(test_results['GDP'], test_results[\"Predict\"]))\n",
    "knn_rmse_in_sample = math.sqrt(sklearn.metrics.mean_squared_error(test_results['GDP'], train_results1[\"In-Sample\"][39:]))\n",
    "\n",
    "print(f\"Out-of-Sample RMSE is : {knn_rmse_out_sample}\")\n",
    "print(f\"In-Sample RMSE is : {knn_rmse_in_sample}\")"
   ]
  },
  {
   "cell_type": "markdown",
   "id": "c6562f59-c5eb-4a5d-aad8-4fad4791e4c4",
   "metadata": {},
   "source": [
    "TODO -- CHECK WHY IN SAMPLE IS WORSE THAN OUT OF SAMPLE... SHOULDNT BE BECAUSE OF CHART"
   ]
  },
  {
   "cell_type": "markdown",
   "id": "a6514574-2d55-4fd5-bb4d-ae9fc9f17332",
   "metadata": {},
   "source": [
    "## 6. Conclusion"
   ]
  },
  {
   "cell_type": "code",
   "execution_count": null,
   "id": "4613effb-ddbe-4647-b24c-ec06cc4bbcee",
   "metadata": {},
   "outputs": [],
   "source": []
  },
  {
   "cell_type": "code",
   "execution_count": null,
   "id": "27d16ed3-1b21-48dd-b671-a0e4f3b65172",
   "metadata": {},
   "outputs": [],
   "source": []
  },
  {
   "cell_type": "code",
   "execution_count": null,
   "id": "01f5956d-34d8-4535-b23d-93fd7a13131c",
   "metadata": {},
   "outputs": [],
   "source": []
  },
  {
   "cell_type": "markdown",
   "id": "1a41b0c9-3fea-48c2-8de3-1e3ab3bc1fe7",
   "metadata": {
    "tags": []
   },
   "source": [
    "## 7. References"
   ]
  },
  {
   "cell_type": "markdown",
   "id": "6f09f7d8-806f-40b8-9b64-88e53708dc9a",
   "metadata": {},
   "source": [
    "Biau, O. and D’Elia, A., (2011), ”Euro area GDP forecasting using large survey datasets”. \n",
    "\n",
    "Cook, Thomas R., and Aaron Smalter Hall. “Macroeconomic Indicator Forecasting with Deep Neural Networks.” Federal Reserve Bank of Kansas City, Research Working Paper 17-11, September. Available at External Link https://doi.org/10.18651/RWP2017-11\n",
    "\n",
    "Rodríguez-Vargas, A. (2020). Forecasting Costa Rican Inflation With Machine Learning Methods. Latin Am. J. Cent. Banking. 1, 100012. doi:10.1016/j.latcb.2020.100012 \n",
    "\n",
    "Ban, T., Zhang, R., Pang, S., Sarrafzadeh, A., and Inoue, D. (2013). “Referential Knn Regression for Financial Time Series Forecasting,” in International Conference on Neural Information Processing (Springer), 601–608. doi:10.1007/978-3-642-42054-2_75\n",
    "\n",
    "Diebold, F. X., and Nason, J. A. (1990). Nonparametric Exchange Rate Prediction? J. Int. Econ. 28, 315–332. doi:10.1016/0022-1996(90)90006-8\n",
    "\n",
    "Lee, T. H., White, H., and Granger, C. W. J. (1993). Testing for neglected nonlinearity in time series models. A comparison of neural network methods and alternative tests. Journal of Econometrics, 56(3):269–290. \n",
    "\n",
    "Stone, C. J. (1977). Consistent Nonparametric Regression. Ann. Stat. 5, 595–620. doi:10.1214/aos/1176343886\n",
    "\n",
    "Swanson, N. R. and White, H. (1997). A Model Selection Approach To Real-Time Macroeconomic Forecasting Using Linear Models And Artificial Neural Networks. The Review of Economics and Statistics, 79(4):540–550. \n",
    "\n",
    "FRED, federal reserve economic data. St. Louis, MO: Federal Reserve Bank of St. Louis, 1997. Software, E-Resource. https://lccn.loc.gov/98802805.\n",
    "\n",
    "Guo, G., Wang, H., Bell, D., Bi, Y., Greer, K. (2003). KNN Model-Based Approach in Classification. In: Meersman, R., Tari, Z., Schmidt, D.C. (eds) On The Move to Meaningful Internet Systems 2003: CoopIS, DOA, and ODBASE. OTM 2003. Lecture Notes in Computer Science, vol 2888. Springer, Berlin, Heidelberg. https://doi.org/10.1007/978-3-540-39964-3_62"
   ]
  },
  {
   "cell_type": "markdown",
   "id": "fd55c3f9-c5d1-46b7-af06-90904d08bf93",
   "metadata": {},
   "source": [
    "https://machinelearningmastery.com/exponential-smoothing-for-time-series-forecasting-in-python/\n",
    "\n",
    "https://python-advanced.quantecon.org/arma.html\n",
    "\n",
    "https://www.bounteous.com/insights/2020/09/15/forecasting-time-series-model-using-python-part-two/\n",
    "\n",
    "Towards Science: A One-Stop Shop for Principal Component Analysis (https://towardsdatascience.com/a-one-stop-shop-for-principal-component-analysis-5582fb7e0a9c).\n",
    "\n",
    "In Depth: Principal Component Analysis (https://jakevdp.github.io/PythonDataScienceHandbook/05.09-principal-component-analysis.html).\n",
    "\n",
    "Advanced Data Analysis from an Elementary Point of View (https://www.stat.cmu.edu/~cshalizi/uADA/15/lectures/17.pdf).\n",
    "\n",
    "Applications of Principal Component Analysis (PCA) (https://iq.opengenus.org/applications-of-pca/).\n",
    "\n",
    "https://towardsdatascience.com/time-series-in-python-exponential-smoothing-and-arima-processes-2c67f2a52788\n",
    "\n",
    "https://www.machinelearningplus.com/time-series/vector-autoregression-examples-python/\n",
    "\n",
    "https://towardsdatascience.com/a-simple-introduction-to-k-nearest-neighbors-algorithm-b3519ed98e"
   ]
  }
 ],
 "metadata": {
  "kernelspec": {
   "display_name": "Python 3",
   "language": "python",
   "name": "python3"
  },
  "language_info": {
   "codemirror_mode": {
    "name": "ipython",
    "version": 3
   },
   "file_extension": ".py",
   "mimetype": "text/x-python",
   "name": "python",
   "nbconvert_exporter": "python",
   "pygments_lexer": "ipython3",
   "version": "3.8.8"
  }
 },
 "nbformat": 4,
 "nbformat_minor": 5
}
