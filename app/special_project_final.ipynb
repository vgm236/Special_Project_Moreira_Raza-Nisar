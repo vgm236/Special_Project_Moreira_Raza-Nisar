{
 "cells": [
  {
   "cell_type": "markdown",
   "id": "b679b64a-fde4-492c-a2be-78c1c68ba2fa",
   "metadata": {},
   "source": [
    "# TITLE"
   ]
  },
  {
   "cell_type": "markdown",
   "id": "2ab38521-f505-40c5-b56d-e4d0b36f6f9d",
   "metadata": {},
   "source": [
    "This notebook was prepared by: \n",
    "\n",
    "Sahil Nisar (sn3028@nyu.edu)\n",
    "\n",
    "Suniya Raza (sr5748@nyu.edu)\n",
    "\n",
    "Vinicius Moreira (vgm236@nyu.edu)\n",
    "\n",
    "Graduate School of Arts and Science (GSAS) at New York University (NYU)\n",
    "\n",
    "2022"
   ]
  },
  {
   "cell_type": "markdown",
   "id": "2accd4f7-2b08-411a-9016-ff9b99614eca",
   "metadata": {},
   "source": [
    "PLACEHOLDER FOR SUMMARY"
   ]
  },
  {
   "cell_type": "code",
   "execution_count": 20,
   "id": "98bb378e-82a2-46a6-97c5-609e595e2251",
   "metadata": {},
   "outputs": [],
   "source": [
    "#Packages\n",
    "\n",
    "import fredapi as fa\n",
    "import pandas as pd\n",
    "import numpy as np\n",
    "from sklearn.decomposition import PCA\n",
    "import statsmodels.api as sm\n",
    "import matplotlib.pyplot as plt\n",
    "import sklearn\n",
    "import math\n",
    "from statsmodels.tsa.api import ExponentialSmoothing, SimpleExpSmoothing, Holt\n",
    "from pandas.plotting import autocorrelation_plot\n",
    "\n",
    "%matplotlib inline"
   ]
  },
  {
   "cell_type": "markdown",
   "id": "cdd6165c-13b8-4cb1-a886-b4c11cb4dfcf",
   "metadata": {
    "tags": []
   },
   "source": [
    "## 1. Introduction "
   ]
  },
  {
   "cell_type": "markdown",
   "id": "6f99f56b-01fe-46b2-a8ca-5b6bf81723a6",
   "metadata": {},
   "source": []
  },
  {
   "cell_type": "markdown",
   "id": "562b62d8-6e65-4ee9-a9a1-a02055049d18",
   "metadata": {},
   "source": [
    "## 2. Literature Review"
   ]
  },
  {
   "cell_type": "markdown",
   "id": "927abdfb-b4a3-40f2-a3c1-84500e9e8c62",
   "metadata": {},
   "source": []
  },
  {
   "cell_type": "markdown",
   "id": "1ebbdc01-daa2-41cc-b81a-537c83ca76bb",
   "metadata": {},
   "source": [
    "## 3. Forecasting methods"
   ]
  },
  {
   "cell_type": "markdown",
   "id": "6a0cdfd6-11d0-4eb9-93cc-0f157f3ac1f8",
   "metadata": {
    "tags": []
   },
   "source": [
    "#### 3.1 Univariate Models"
   ]
  },
  {
   "cell_type": "markdown",
   "id": "826bd822-88f5-4539-9a44-aa980299463b",
   "metadata": {},
   "source": [
    "**Trailing 3-period average**: \n",
    "\n",
    "This simple estimator plays the role of a naïve benchmark. It is an average of three periods, which can be 3-months or 3-quarters, depending on the variable used in our analysis.\n",
    "\n",
    "\\begin{align*}\n",
    "  \\hat{\\mu}_{t+1} &= \\frac{1}{T}\\sum^{t=3}_{t=1} {\\hat\\mu_t}\\\\\n",
    "  &\\text{where } \\hat{\\mu}_{t} \\text{is the independent variable}\\\\\n",
    "\\end{align*}"
   ]
  },
  {
   "cell_type": "markdown",
   "id": "0d7cba34-69fb-4ad0-a1a9-5fcf4225fff3",
   "metadata": {},
   "source": [
    "**Exponential Smoothing**: \n",
    "\n",
    "A weighted average of lagged values, with weights decaying exponentially the longer the lag. Exponential smoothing takes into account all past data, whereas moving average only takes into account $k$ past data points.\n",
    "\n",
    "\n",
    "$$ X_{t+1} = \\alpha X_{t} + \\alpha (1- \\alpha) X_{t-1} + \\alpha (1- \\alpha)^2 X_{t-2} + {...} $$\n",
    "\n",
    "\n",
    "where $0 \\le \\alpha \\le 1 $ is the smoothing parameter. You choose how many lags to use. We will use four lags here."
   ]
  },
  {
   "cell_type": "markdown",
   "id": "055e2f8b-1942-4190-aff3-f229d77a876a",
   "metadata": {},
   "source": [
    "**ARIMA**: \n",
    "\n",
    "A stochastic process $ \\{X_t\\} $ is called an *autoregressive moving\n",
    "average process*, or ARMA($ p,q $), if it can be written as\n",
    "\n",
    "\n",
    "<a id='equation-arma'></a>\n",
    "$$\n",
    "X_t = \\phi_1 X_{t-1} + \\cdots + \\phi_p X_{t-p} +\n",
    "    \\epsilon_t + \\theta_1 \\epsilon_{t-1} + \\cdots + \\theta_q \\epsilon_{t-q} \\tag{28.5}\n",
    "$$\n",
    "\n",
    "where $ \\{ \\epsilon_t \\} $ is white noise.\n",
    "\n",
    "In what follows we **always assume** that the roots of the polynomial $ \\phi(z) $ lie outside the unit circle in the complex plane.\n",
    "\n",
    "This condition is sufficient to guarantee that the ARMA($ p,q $) process is covariance stationary.\n",
    "\n",
    "In fact, it implies that the process falls within the class of general linear processes.\n",
    "\n",
    "We define an ARIMA(p, d, q) model as the mixture of an AR(p) and MA(q) model with differencing (to help make the process stationary)"
   ]
  },
  {
   "cell_type": "markdown",
   "id": "6dad0ccd-512e-4b79-b47e-1db356dfda13",
   "metadata": {},
   "source": [
    "#### 3.2 Linear Regression and Machine Learning Models"
   ]
  },
  {
   "cell_type": "markdown",
   "id": "6de3c35f-7578-4bad-bc9c-18f2f8c21892",
   "metadata": {},
   "source": [
    "**Simple Linear Regression (OLS):**\n",
    "\n",
    "he most common technique to estimate a linear relationship between variables is Ordinary Least Squares (OLS). OLS model is solved by finding the parameters that minimize the sum of squared residuals.\n",
    "\n",
    "The model can be defined, in the matrix form, as:\n",
    "\n",
    "$$\n",
    "y = X\\beta + u\n",
    "$$\n",
    "\n",
    "To solve for the unknown parameter $ \\beta $, we want to minimize\n",
    "the sum of squared residuals\n",
    "\n",
    "$$\n",
    "\\underset{\\hat{\\beta}}{\\min} \\hat{u}'\\hat{u}\n",
    "$$\n",
    "\n",
    "Rearranging the first equation and substituting into the second\n",
    "equation, we can write\n",
    "\n",
    "$$\n",
    "\\underset{\\hat{\\beta}}{\\min} \\ (Y - X\\hat{\\beta})' (Y - X\\hat{\\beta})\n",
    "$$\n",
    "\n",
    "Solving this optimization problem gives the solution for the\n",
    "$ \\hat{\\beta} $ coefficients\n",
    "\n",
    "$$\n",
    "\\hat{\\beta} = (X'X)^{-1}X'y\n",
    "$$"
   ]
  },
  {
   "cell_type": "markdown",
   "id": "99dd5b16-78f6-4f58-8d8a-d489e18876c0",
   "metadata": {},
   "source": [
    "**Ridge / Lasso / Elastic Net:**\n",
    "\n",
    "These models are very closely related to traditional OLS, but they focus on regularization of parameters to avoid overfitting.\n",
    "\n",
    "The Lasso model generates predictions using but optimizes over a slightly different loss function:\n",
    "\n",
    "$$\n",
    "\\underset{\\hat{\\beta}}{\\min} \\ (Y - X\\hat{\\beta})' (Y - X\\hat{\\beta}) + \\alpha\\hat{\\beta}\n",
    "$$\n",
    "\n",
    "where $ \\alpha $ is the regularization parameter. The additional term penalizes large coefficients and in practice, effectively sets coefficients to zero for features that are not informative about the target.\n",
    "\n",
    "\n",
    "Ridge regressions places a particular form of constraint on the parameters $\\beta$, which is chosen to minimize the penalized sum of squares:\n",
    "\n",
    "$$\n",
    "\\underset{\\hat{\\beta}}{\\min} \\ (Y - X\\hat{\\beta})' (Y - X\\hat{\\beta}) + \\lambda\\hat{\\beta}'\\hat{\\beta}\n",
    "$$\n",
    "\n",
    "This means that if the $\\beta$ take on large values, the optimization function is penalized, but not zero (only reducing the impact of \"irrelevant\" features of the model).\n",
    "\n",
    "The elastic net algorithm uses a weighted combination of Ridge and Lasso forms of regularization. "
   ]
  },
  {
   "cell_type": "markdown",
   "id": "bea7d516-57b4-476d-917c-b936a10d8928",
   "metadata": {},
   "source": [
    "#### 3.3 More Complex Econometric Methods"
   ]
  },
  {
   "cell_type": "markdown",
   "id": "3d117aa0-a647-4ba5-815f-e0eb57c858a9",
   "metadata": {},
   "source": [
    "**TODO: IMPROVE THIS SECTION**"
   ]
  },
  {
   "cell_type": "markdown",
   "id": "996dff66-f05c-4c64-b6fc-c3f23e4bf155",
   "metadata": {},
   "source": [
    "**Dynamic Factor Model:**\n",
    "\n",
    "In a dynamic factor model, we model a potentially large number of macroeconomic series as being driven by a much smaller number of latent factors, which are estimated through a principal component analysis. \n",
    "\n",
    "Principal component analysis is an unsupervised algorithm, based on feature correlation, used for dimensionality reduction. The premise is simply to take data of higher dimensions, and reduce to a lower dimension.\n",
    "\n",
    "Often times, in higher dimensional data, it isn't possible to create visual representations of relationships between variables. Through applying PCA, it then becomes possible to reduce the dimensions of the data and display variable relationships. This tool also allows easier visualization and noise filtering, among other applications.\n",
    "\n",
    "The PCA must be used when three conditions apply:\n",
    "\n",
    "1. Reduce the number of variables\n",
    "2. Ensure that each variable is independent of one another\n",
    "3. Assume that the interpretation of the independent variables is less important"
   ]
  },
  {
   "cell_type": "markdown",
   "id": "3254e313-e94f-49ed-a36e-fc8e5b7aefc5",
   "metadata": {},
   "source": [
    "How does a PCA work?\n",
    "\n",
    "a. Calculate a matrix that summarizes how the variables are related one another (the covariance matrix).\n",
    "\n",
    "b. Then separate it between direction (eigenvectors) and magnitude (eigenvalues)\n",
    "\n",
    "c. By projecting the data into a smaller space, we reduce dimension, but keep the original variables in our model\n",
    "\n",
    "Mathematically, the first principal component is the direction in space along which projections have the largest variance. The second principal component is the direction which maximizes variance among all directions orthogonal to the first. The k-th component is the variance-maximizing direction orthogonal to the previous k-1 components.\n",
    "\n",
    "With those principal components, we use them as explanatory variables in an OLS."
   ]
  },
  {
   "cell_type": "markdown",
   "id": "06c28134-4e74-4e3e-9102-880dcd6af678",
   "metadata": {},
   "source": [
    "This is a state space model to try and explain the GDP data we observe by using only one unobserved factor, extracted from a series of monthly data.\n",
    "\n",
    "Define our state space model as:\n",
    "\n",
    "\\begin{align*}\n",
    "  \\lambda_{t} &= A \\lambda_{t-1} + \\eta_t \\\\\n",
    "  p_{i, t} &= G_i \\lambda_t + \\varepsilon_{i, t} \\\\\n",
    "  \\eta_t &\\sim N(0, I) \\\\\n",
    "  \\varepsilon_t &\\sim N(0, \\Sigma)\n",
    "\\end{align*}\n",
    "\n",
    "Note: If we stack our $p_{i, t}$ values, we wind up with\n",
    "\n",
    "$$P_t = G \\lambda_t + \\varepsilon_t$$\n",
    "\n",
    "where $G \\equiv \\begin{bmatrix} G_1 \\\\ G_2 \\\\ \\vdots \\\\ G_I \\end{bmatrix}$, $\\varepsilon_t \\equiv \\begin{bmatrix} \\varepsilon_1 \\\\ \\varepsilon_2 \\\\ \\vdots \\\\ \\varepsilon_I \\end{bmatrix}$"
   ]
  },
  {
   "cell_type": "markdown",
   "id": "d887f6e4-1930-44ca-b3b5-61a61ae4fa04",
   "metadata": {},
   "source": [
    "**Vector autoregressions (VARs):**\n",
    "\n",
    "Description"
   ]
  },
  {
   "cell_type": "markdown",
   "id": "ec1c2ddd-f719-4789-a983-c285867f4519",
   "metadata": {
    "tags": []
   },
   "source": [
    "#### 3.4 Nonlinear Algorithms\n"
   ]
  },
  {
   "cell_type": "markdown",
   "id": "8599892c-c67f-4613-b4b0-7bdafd87ac39",
   "metadata": {},
   "source": [
    "**Random Forest:**\n",
    "\n",
    "Description"
   ]
  },
  {
   "cell_type": "markdown",
   "id": "cf6c59f1-30cb-4e41-a68d-e3216147cd76",
   "metadata": {},
   "source": [
    "**Gradient Boosted Decision Trees:**\n",
    "\n",
    "Description"
   ]
  },
  {
   "cell_type": "markdown",
   "id": "a514e687-2a6e-4f3a-839d-2217a61593f8",
   "metadata": {},
   "source": [
    "**K-Nearest Neighbors:**\n",
    "\n",
    "Description"
   ]
  },
  {
   "cell_type": "markdown",
   "id": "6b118452-6857-4898-8091-6d4b73d27d13",
   "metadata": {},
   "source": [
    "**Support Vector Regression:**\n",
    "\n",
    "Description"
   ]
  },
  {
   "cell_type": "markdown",
   "id": "a46ea259-328a-40fb-becf-6b35822f0a29",
   "metadata": {},
   "source": [
    "#### 3.5 Neural Networks"
   ]
  },
  {
   "cell_type": "markdown",
   "id": "fa9e8f88-db50-4ef8-be8f-dcea92939a11",
   "metadata": {},
   "source": [
    "**Dense:**\n",
    "\n",
    "Description"
   ]
  },
  {
   "cell_type": "markdown",
   "id": "31bb8bf5-1775-4f07-9317-d5e6ab3dc56b",
   "metadata": {},
   "source": [
    "**LSTM:**\n",
    "\n",
    "Description"
   ]
  },
  {
   "cell_type": "markdown",
   "id": "bf23602f-bd86-42da-9aa6-b7044d29ae34",
   "metadata": {},
   "source": [
    "## 4. Applications to US GDP growth"
   ]
  },
  {
   "cell_type": "markdown",
   "id": "bd26094b-1d20-45f1-9c3e-315748f4133f",
   "metadata": {},
   "source": [
    "Explain what we do -- TODO"
   ]
  },
  {
   "cell_type": "markdown",
   "id": "65bd789f-63c8-4610-ba51-1f8b1e9ff647",
   "metadata": {},
   "source": [
    "#### 4.1 Data"
   ]
  },
  {
   "cell_type": "code",
   "execution_count": 2,
   "id": "8124b0c8-ce35-4ea3-b438-62ca781d4e29",
   "metadata": {},
   "outputs": [],
   "source": [
    "# Access Fred\n",
    "fred = fa.Fred(api_key='b64520b0097cdfbc83e22960ad3fcdd8 ')\n",
    "\n",
    "# Getting series (quartery)\n",
    "gdp = fred.get_series('GDP').rename(\"GDP\")\n",
    "\n",
    "# Getting series (monthly)\n",
    "payroll = fred.get_series('PAYEMS').rename(\"payroll\")\n",
    "job_openings = fred.get_series('JTSJOL').rename(\"job_openings\")\n",
    "quits = fred.get_series('JTSQUR').rename(\"quits\")\n",
    "ip = fred.get_series('INDPRO').rename(\"ip\")\n",
    "vehicle_sales = fred.get_series('TOTALSA').rename(\"vehicle_sales\")\n",
    "retail = fred.get_series('RRSFS').rename(\"retail\")\n",
    "wholesale_inventories = fred.get_series('WHLSLRIMSA').rename(\"wholesale_inventories\")\n",
    "consumer_sentiment = fred.get_series('UMCSENT').rename(\"consumer_sentiment\")\n",
    "construction_spending = fred.get_series('TTLCONS').rename(\"construction_spending\")\n",
    "new_orders = fred.get_series('DGORDER').rename(\"new_orders\")\n",
    "housing_starts = fred.get_series('HOUST').rename(\"housing_starts\")\n",
    "\n",
    "# List of data\n",
    "list_monthly = [payroll, job_openings, ip, vehicle_sales, quits, retail, wholesale_inventories, consumer_sentiment, construction_spending, new_orders, housing_starts]"
   ]
  },
  {
   "cell_type": "code",
   "execution_count": 3,
   "id": "7e195ebc-803c-4bc1-9449-c60917f8a30f",
   "metadata": {},
   "outputs": [
    {
     "data": {
      "text/html": [
       "<div>\n",
       "<style scoped>\n",
       "    .dataframe tbody tr th:only-of-type {\n",
       "        vertical-align: middle;\n",
       "    }\n",
       "\n",
       "    .dataframe tbody tr th {\n",
       "        vertical-align: top;\n",
       "    }\n",
       "\n",
       "    .dataframe thead th {\n",
       "        text-align: right;\n",
       "    }\n",
       "</style>\n",
       "<table border=\"1\" class=\"dataframe\">\n",
       "  <thead>\n",
       "    <tr style=\"text-align: right;\">\n",
       "      <th></th>\n",
       "      <th>payroll</th>\n",
       "      <th>job_openings</th>\n",
       "      <th>ip</th>\n",
       "      <th>vehicle_sales</th>\n",
       "      <th>quits</th>\n",
       "      <th>retail</th>\n",
       "      <th>wholesale_inventories</th>\n",
       "      <th>consumer_sentiment</th>\n",
       "      <th>construction_spending</th>\n",
       "      <th>new_orders</th>\n",
       "      <th>housing_starts</th>\n",
       "    </tr>\n",
       "  </thead>\n",
       "  <tbody>\n",
       "    <tr>\n",
       "      <th>2000-12-01</th>\n",
       "      <td>NaN</td>\n",
       "      <td>NaN</td>\n",
       "      <td>NaN</td>\n",
       "      <td>NaN</td>\n",
       "      <td>NaN</td>\n",
       "      <td>NaN</td>\n",
       "      <td>NaN</td>\n",
       "      <td>NaN</td>\n",
       "      <td>NaN</td>\n",
       "      <td>NaN</td>\n",
       "      <td>NaN</td>\n",
       "    </tr>\n",
       "    <tr>\n",
       "      <th>2001-01-01</th>\n",
       "      <td>-0.008289</td>\n",
       "      <td>2.829098</td>\n",
       "      <td>-0.576824</td>\n",
       "      <td>8.448075</td>\n",
       "      <td>8.701138</td>\n",
       "      <td>0.525976</td>\n",
       "      <td>-0.144352</td>\n",
       "      <td>-3.832680</td>\n",
       "      <td>0.364454</td>\n",
       "      <td>-6.347509</td>\n",
       "      <td>4.342956</td>\n",
       "    </tr>\n",
       "    <tr>\n",
       "      <th>2001-02-01</th>\n",
       "      <td>0.068553</td>\n",
       "      <td>-2.652367</td>\n",
       "      <td>-0.679159</td>\n",
       "      <td>0.980897</td>\n",
       "      <td>-4.255961</td>\n",
       "      <td>-0.249068</td>\n",
       "      <td>0.094208</td>\n",
       "      <td>-4.425979</td>\n",
       "      <td>-0.102203</td>\n",
       "      <td>1.802294</td>\n",
       "      <td>1.550419</td>\n",
       "    </tr>\n",
       "    <tr>\n",
       "      <th>2001-03-01</th>\n",
       "      <td>-0.031634</td>\n",
       "      <td>-6.798438</td>\n",
       "      <td>-0.245548</td>\n",
       "      <td>-3.296187</td>\n",
       "      <td>0.000000</td>\n",
       "      <td>-0.893534</td>\n",
       "      <td>0.004854</td>\n",
       "      <td>0.988476</td>\n",
       "      <td>1.755538</td>\n",
       "      <td>1.066537</td>\n",
       "      <td>-2.177380</td>\n",
       "    </tr>\n",
       "    <tr>\n",
       "      <th>2001-04-01</th>\n",
       "      <td>-0.214170</td>\n",
       "      <td>-3.135588</td>\n",
       "      <td>-0.312122</td>\n",
       "      <td>-2.204075</td>\n",
       "      <td>4.255961</td>\n",
       "      <td>1.393563</td>\n",
       "      <td>0.460673</td>\n",
       "      <td>-3.446700</td>\n",
       "      <td>1.716347</td>\n",
       "      <td>-5.853238</td>\n",
       "      <td>3.643503</td>\n",
       "    </tr>\n",
       "  </tbody>\n",
       "</table>\n",
       "</div>"
      ],
      "text/plain": [
       "             payroll  job_openings        ip  vehicle_sales     quits  \\\n",
       "2000-12-01       NaN           NaN       NaN            NaN       NaN   \n",
       "2001-01-01 -0.008289      2.829098 -0.576824       8.448075  8.701138   \n",
       "2001-02-01  0.068553     -2.652367 -0.679159       0.980897 -4.255961   \n",
       "2001-03-01 -0.031634     -6.798438 -0.245548      -3.296187  0.000000   \n",
       "2001-04-01 -0.214170     -3.135588 -0.312122      -2.204075  4.255961   \n",
       "\n",
       "              retail  wholesale_inventories  consumer_sentiment  \\\n",
       "2000-12-01       NaN                    NaN                 NaN   \n",
       "2001-01-01  0.525976              -0.144352           -3.832680   \n",
       "2001-02-01 -0.249068               0.094208           -4.425979   \n",
       "2001-03-01 -0.893534               0.004854            0.988476   \n",
       "2001-04-01  1.393563               0.460673           -3.446700   \n",
       "\n",
       "            construction_spending  new_orders  housing_starts  \n",
       "2000-12-01                    NaN         NaN             NaN  \n",
       "2001-01-01               0.364454   -6.347509        4.342956  \n",
       "2001-02-01              -0.102203    1.802294        1.550419  \n",
       "2001-03-01               1.755538    1.066537       -2.177380  \n",
       "2001-04-01               1.716347   -5.853238        3.643503  "
      ]
     },
     "execution_count": 3,
     "metadata": {},
     "output_type": "execute_result"
    }
   ],
   "source": [
    "# Monthly DataFrame\n",
    "monthly = pd.concat(list_monthly, axis=1).dropna()\n",
    "\n",
    "# Normalized DataFrame\n",
    "normalized_monthly=np.log(monthly).diff()*100\n",
    "\n",
    "normalized_monthly.head()"
   ]
  },
  {
   "cell_type": "code",
   "execution_count": 4,
   "id": "2a2047d6-57f8-40ef-8420-b26d11dc1b30",
   "metadata": {},
   "outputs": [
    {
     "data": {
      "text/html": [
       "<div>\n",
       "<style scoped>\n",
       "    .dataframe tbody tr th:only-of-type {\n",
       "        vertical-align: middle;\n",
       "    }\n",
       "\n",
       "    .dataframe tbody tr th {\n",
       "        vertical-align: top;\n",
       "    }\n",
       "\n",
       "    .dataframe thead th {\n",
       "        text-align: right;\n",
       "    }\n",
       "</style>\n",
       "<table border=\"1\" class=\"dataframe\">\n",
       "  <thead>\n",
       "    <tr style=\"text-align: right;\">\n",
       "      <th></th>\n",
       "      <th>GDP</th>\n",
       "      <th>payroll</th>\n",
       "      <th>job_openings</th>\n",
       "      <th>ip</th>\n",
       "      <th>vehicle_sales</th>\n",
       "      <th>quits</th>\n",
       "      <th>retail</th>\n",
       "      <th>wholesale_inventories</th>\n",
       "      <th>consumer_sentiment</th>\n",
       "      <th>construction_spending</th>\n",
       "      <th>new_orders</th>\n",
       "      <th>housing_starts</th>\n",
       "    </tr>\n",
       "    <tr>\n",
       "      <th>index</th>\n",
       "      <th></th>\n",
       "      <th></th>\n",
       "      <th></th>\n",
       "      <th></th>\n",
       "      <th></th>\n",
       "      <th></th>\n",
       "      <th></th>\n",
       "      <th></th>\n",
       "      <th></th>\n",
       "      <th></th>\n",
       "      <th></th>\n",
       "      <th></th>\n",
       "    </tr>\n",
       "  </thead>\n",
       "  <tbody>\n",
       "    <tr>\n",
       "      <th>2001Q1</th>\n",
       "      <td>0.329925</td>\n",
       "      <td>0.009543</td>\n",
       "      <td>-2.207236</td>\n",
       "      <td>-0.500511</td>\n",
       "      <td>2.044262</td>\n",
       "      <td>1.481725</td>\n",
       "      <td>-0.205542</td>\n",
       "      <td>-0.015097</td>\n",
       "      <td>-2.423394</td>\n",
       "      <td>0.672596</td>\n",
       "      <td>-1.159559</td>\n",
       "      <td>1.238665</td>\n",
       "    </tr>\n",
       "    <tr>\n",
       "      <th>2001Q2</th>\n",
       "      <td>1.222357</td>\n",
       "      <td>-0.112685</td>\n",
       "      <td>-2.932212</td>\n",
       "      <td>-0.486808</td>\n",
       "      <td>0.414847</td>\n",
       "      <td>-1.481725</td>\n",
       "      <td>0.171549</td>\n",
       "      <td>0.015636</td>\n",
       "      <td>0.398339</td>\n",
       "      <td>1.095764</td>\n",
       "      <td>-1.089457</td>\n",
       "      <td>0.950674</td>\n",
       "    </tr>\n",
       "    <tr>\n",
       "      <th>2001Q3</th>\n",
       "      <td>-0.009247</td>\n",
       "      <td>-0.133298</td>\n",
       "      <td>-2.293757</td>\n",
       "      <td>-0.412019</td>\n",
       "      <td>-2.166557</td>\n",
       "      <td>-1.550667</td>\n",
       "      <td>-0.592279</td>\n",
       "      <td>-0.487928</td>\n",
       "      <td>-4.133730</td>\n",
       "      <td>-0.721291</td>\n",
       "      <td>-2.395150</td>\n",
       "      <td>-1.542906</td>\n",
       "    </tr>\n",
       "    <tr>\n",
       "      <th>2001Q4</th>\n",
       "      <td>0.587485</td>\n",
       "      <td>-0.200189</td>\n",
       "      <td>-3.393049</td>\n",
       "      <td>-0.315040</td>\n",
       "      <td>0.203067</td>\n",
       "      <td>-1.626339</td>\n",
       "      <td>1.039012</td>\n",
       "      <td>-0.793410</td>\n",
       "      <td>2.736980</td>\n",
       "      <td>0.485141</td>\n",
       "      <td>0.239002</td>\n",
       "      <td>0.127796</td>\n",
       "    </tr>\n",
       "    <tr>\n",
       "      <th>2002Q1</th>\n",
       "      <td>1.147515</td>\n",
       "      <td>-0.067508</td>\n",
       "      <td>-0.594519</td>\n",
       "      <td>0.478147</td>\n",
       "      <td>1.275027</td>\n",
       "      <td>-1.709776</td>\n",
       "      <td>-0.140780</td>\n",
       "      <td>-0.371882</td>\n",
       "      <td>2.494388</td>\n",
       "      <td>-0.202176</td>\n",
       "      <td>0.510080</td>\n",
       "      <td>1.537136</td>\n",
       "    </tr>\n",
       "    <tr>\n",
       "      <th>...</th>\n",
       "      <td>...</td>\n",
       "      <td>...</td>\n",
       "      <td>...</td>\n",
       "      <td>...</td>\n",
       "      <td>...</td>\n",
       "      <td>...</td>\n",
       "      <td>...</td>\n",
       "      <td>...</td>\n",
       "      <td>...</td>\n",
       "      <td>...</td>\n",
       "      <td>...</td>\n",
       "      <td>...</td>\n",
       "    </tr>\n",
       "    <tr>\n",
       "      <th>2020Q3</th>\n",
       "      <td>8.184244</td>\n",
       "      <td>0.948176</td>\n",
       "      <td>2.421341</td>\n",
       "      <td>1.585079</td>\n",
       "      <td>7.227744</td>\n",
       "      <td>4.886782</td>\n",
       "      <td>1.044554</td>\n",
       "      <td>0.394046</td>\n",
       "      <td>0.967471</td>\n",
       "      <td>0.558379</td>\n",
       "      <td>4.300963</td>\n",
       "      <td>4.293566</td>\n",
       "    </tr>\n",
       "    <tr>\n",
       "      <th>2020Q4</th>\n",
       "      <td>1.591087</td>\n",
       "      <td>0.202960</td>\n",
       "      <td>2.204496</td>\n",
       "      <td>0.922760</td>\n",
       "      <td>0.115547</td>\n",
       "      <td>2.900379</td>\n",
       "      <td>-0.948068</td>\n",
       "      <td>0.525904</td>\n",
       "      <td>0.124147</td>\n",
       "      <td>1.010769</td>\n",
       "      <td>1.546522</td>\n",
       "      <td>4.574551</td>\n",
       "    </tr>\n",
       "    <tr>\n",
       "      <th>2021Q1</th>\n",
       "      <td>2.576810</td>\n",
       "      <td>0.449365</td>\n",
       "      <td>6.689897</td>\n",
       "      <td>0.295912</td>\n",
       "      <td>2.663042</td>\n",
       "      <td>2.668090</td>\n",
       "      <td>4.530584</td>\n",
       "      <td>1.142129</td>\n",
       "      <td>1.691184</td>\n",
       "      <td>0.968967</td>\n",
       "      <td>1.648741</td>\n",
       "      <td>1.260241</td>\n",
       "    </tr>\n",
       "    <tr>\n",
       "      <th>2021Q2</th>\n",
       "      <td>3.138917</td>\n",
       "      <td>0.291137</td>\n",
       "      <td>4.998801</td>\n",
       "      <td>0.437010</td>\n",
       "      <td>-4.320419</td>\n",
       "      <td>2.470266</td>\n",
       "      <td>-0.603363</td>\n",
       "      <td>1.187594</td>\n",
       "      <td>0.234743</td>\n",
       "      <td>0.654577</td>\n",
       "      <td>1.077530</td>\n",
       "      <td>-1.340610</td>\n",
       "    </tr>\n",
       "    <tr>\n",
       "      <th>2021Q3</th>\n",
       "      <td>2.008565</td>\n",
       "      <td>0.370847</td>\n",
       "      <td>2.668090</td>\n",
       "      <td>-0.202931</td>\n",
       "      <td>-7.612052</td>\n",
       "      <td>1.169711</td>\n",
       "      <td>-0.313698</td>\n",
       "      <td>1.095171</td>\n",
       "      <td>-5.360014</td>\n",
       "      <td>0.689639</td>\n",
       "      <td>0.473982</td>\n",
       "      <td>-2.225127</td>\n",
       "    </tr>\n",
       "  </tbody>\n",
       "</table>\n",
       "<p>83 rows × 12 columns</p>\n",
       "</div>"
      ],
      "text/plain": [
       "             GDP   payroll  job_openings        ip  vehicle_sales     quits  \\\n",
       "index                                                                         \n",
       "2001Q1  0.329925  0.009543     -2.207236 -0.500511       2.044262  1.481725   \n",
       "2001Q2  1.222357 -0.112685     -2.932212 -0.486808       0.414847 -1.481725   \n",
       "2001Q3 -0.009247 -0.133298     -2.293757 -0.412019      -2.166557 -1.550667   \n",
       "2001Q4  0.587485 -0.200189     -3.393049 -0.315040       0.203067 -1.626339   \n",
       "2002Q1  1.147515 -0.067508     -0.594519  0.478147       1.275027 -1.709776   \n",
       "...          ...       ...           ...       ...            ...       ...   \n",
       "2020Q3  8.184244  0.948176      2.421341  1.585079       7.227744  4.886782   \n",
       "2020Q4  1.591087  0.202960      2.204496  0.922760       0.115547  2.900379   \n",
       "2021Q1  2.576810  0.449365      6.689897  0.295912       2.663042  2.668090   \n",
       "2021Q2  3.138917  0.291137      4.998801  0.437010      -4.320419  2.470266   \n",
       "2021Q3  2.008565  0.370847      2.668090 -0.202931      -7.612052  1.169711   \n",
       "\n",
       "          retail  wholesale_inventories  consumer_sentiment  \\\n",
       "index                                                         \n",
       "2001Q1 -0.205542              -0.015097           -2.423394   \n",
       "2001Q2  0.171549               0.015636            0.398339   \n",
       "2001Q3 -0.592279              -0.487928           -4.133730   \n",
       "2001Q4  1.039012              -0.793410            2.736980   \n",
       "2002Q1 -0.140780              -0.371882            2.494388   \n",
       "...          ...                    ...                 ...   \n",
       "2020Q3  1.044554               0.394046            0.967471   \n",
       "2020Q4 -0.948068               0.525904            0.124147   \n",
       "2021Q1  4.530584               1.142129            1.691184   \n",
       "2021Q2 -0.603363               1.187594            0.234743   \n",
       "2021Q3 -0.313698               1.095171           -5.360014   \n",
       "\n",
       "        construction_spending  new_orders  housing_starts  \n",
       "index                                                      \n",
       "2001Q1               0.672596   -1.159559        1.238665  \n",
       "2001Q2               1.095764   -1.089457        0.950674  \n",
       "2001Q3              -0.721291   -2.395150       -1.542906  \n",
       "2001Q4               0.485141    0.239002        0.127796  \n",
       "2002Q1              -0.202176    0.510080        1.537136  \n",
       "...                       ...         ...             ...  \n",
       "2020Q3               0.558379    4.300963        4.293566  \n",
       "2020Q4               1.010769    1.546522        4.574551  \n",
       "2021Q1               0.968967    1.648741        1.260241  \n",
       "2021Q2               0.654577    1.077530       -1.340610  \n",
       "2021Q3               0.689639    0.473982       -2.225127  \n",
       "\n",
       "[83 rows x 12 columns]"
      ]
     },
     "execution_count": 4,
     "metadata": {},
     "output_type": "execute_result"
    }
   ],
   "source": [
    "#Adjusting index\n",
    "normalized_monthly = normalized_monthly.reset_index()\n",
    "normalized_monthly.set_index('index')\n",
    "\n",
    "#Turning into quarterly\n",
    "quarterly = normalized_monthly.groupby(pd.PeriodIndex(normalized_monthly['index'], freq='Q')).mean().reset_index()\n",
    "\n",
    "# Adjust the gdp data series\n",
    "df_gdp = pd.DataFrame(gdp).loc[(pd.DataFrame(gdp).index >= '2000-10-01') & (pd.DataFrame(gdp).index <= '2021-10-01')].reset_index().rename(columns={\"index\": \"old_index\"})\n",
    "df_gdp['GDP'] = np.log(df_gdp['GDP']).diff()*100\n",
    "\n",
    "# Add on a single dataframe\n",
    "quarterly_all = pd.concat([df_gdp, quarterly], axis=1).drop('old_index', axis=1).set_index('index')\n",
    "quarterly_all = quarterly_all.dropna()[:-1]\n",
    "\n",
    "# Finally, we've got the data\n",
    "quarterly_all"
   ]
  },
  {
   "cell_type": "markdown",
   "id": "7794a278-42b4-420e-868a-753e9375cbc6",
   "metadata": {},
   "source": [
    "#### 4.2 Trailing 3-period average (application):"
   ]
  },
  {
   "cell_type": "markdown",
   "id": "5d778dec-b927-4f05-8cf9-a7802cf6a793",
   "metadata": {},
   "source": [
    "Now, we move to estimate the benchmark of a simple trailing 3-period average predicting future GDP."
   ]
  },
  {
   "cell_type": "code",
   "execution_count": 5,
   "id": "b4750de9-064b-42a4-adee-9362419122af",
   "metadata": {},
   "outputs": [
    {
     "data": {
      "text/plain": [
       "<matplotlib.legend.Legend at 0x1cc94974400>"
      ]
     },
     "execution_count": 5,
     "metadata": {},
     "output_type": "execute_result"
    },
    {
     "data": {
      "image/png": "[encoded data removed]",
      "text/plain": [
       "<Figure size 432x288 with 1 Axes>"
      ]
     },
     "metadata": {
      "needs_background": "light"
     },
     "output_type": "display_data"
    }
   ],
   "source": [
    "# Define the three month trailing average\n",
    "df_gdp[\"3m_avg\"] = (df_gdp[\"GDP\"].shift(1).rolling(3).sum()/3)\n",
    "\n",
    "### in plot method we set the label and color of the curve.\n",
    "df_gdp['GDP'].plot(label='GDP', color='blue')\n",
    "\n",
    "df_gdp['3m_avg'].plot(label='Lagged 3-month average', color='orange')\n",
    "  \n",
    "# adding title to the plot\n",
    "plt.title('GDP growth and 3-month average')\n",
    "  \n",
    "# adding Label to the x-axis\n",
    "plt.xlabel('Years')\n",
    "  \n",
    "# adding legend to the curve\n",
    "plt.legend()"
   ]
  },
  {
   "cell_type": "code",
   "execution_count": 6,
   "id": "747568dd-bb6e-4e8f-a02e-37b2133099c1",
   "metadata": {},
   "outputs": [
    {
     "name": "stdout",
     "output_type": "stream",
     "text": [
      "Out-of-Sample RMSE is : 2.4083075618421033\n"
     ]
    }
   ],
   "source": [
    "trailing_rmse = math.sqrt(sklearn.metrics.mean_squared_error(df_gdp['GDP'][40:], df_gdp['3m_avg'][40:]))\n",
    "\n",
    "print(f\"Out-of-Sample RMSE is : {trailing_rmse}\")"
   ]
  },
  {
   "cell_type": "markdown",
   "id": "42fff172-571d-45bd-beed-7c1907c69337",
   "metadata": {},
   "source": [
    "#### 4.3 Exponential Smoothing (application):"
   ]
  },
  {
   "cell_type": "markdown",
   "id": "24b4510c-52be-4e12-8e71-b73fcbddc180",
   "metadata": {},
   "source": [
    "Explain briefly"
   ]
  },
  {
   "cell_type": "code",
   "execution_count": 7,
   "id": "6c035d9d-fc8a-4d27-b2e3-7da5fce8c62b",
   "metadata": {},
   "outputs": [
    {
     "data": {
      "text/plain": [
       "<matplotlib.legend.Legend at 0x1cc951e7520>"
      ]
     },
     "execution_count": 7,
     "metadata": {},
     "output_type": "execute_result"
    },
    {
     "data": {
      "image/png": "[encoded data removed]",
      "text/plain": [
       "<Figure size 432x288 with 1 Axes>"
      ]
     },
     "metadata": {
      "needs_background": "light"
     },
     "output_type": "display_data"
    }
   ],
   "source": [
    "# Define the three month trailing average\n",
    "df_gdp[\"exponential\"] = 0.5*df_gdp[\"GDP\"].shift(1) + (1-0.5)*0.5*df_gdp[\"GDP\"].shift(2) + (1-0.5)*(0.5**2)*df_gdp[\"GDP\"].shift(3)\n",
    "\n",
    "### in plot method we set the label and color of the curve.\n",
    "df_gdp['GDP'].plot(label='GDP', color='blue')\n",
    "\n",
    "df_gdp[\"exponential\"].plot(label='Exponential Smoothing (3-month)', color='orange')\n",
    "  \n",
    "# adding title to the plot\n",
    "plt.title('GDP growth and Exponential Smoothing (3-month)')\n",
    "  \n",
    "# adding Label to the x-axis\n",
    "plt.xlabel('Years')\n",
    "  \n",
    "# adding legend to the curve\n",
    "plt.legend()"
   ]
  },
  {
   "cell_type": "code",
   "execution_count": 8,
   "id": "b6efd727-a8a8-442a-ab6f-b2c5c1138fe1",
   "metadata": {},
   "outputs": [
    {
     "name": "stdout",
     "output_type": "stream",
     "text": [
      "Out-of-Sample RMSE is : 2.509512751787306\n"
     ]
    }
   ],
   "source": [
    "exponential_rmse = math.sqrt(sklearn.metrics.mean_squared_error(df_gdp['GDP'][40:], df_gdp[\"exponential\"][40:]))\n",
    "\n",
    "print(f\"Out-of-Sample RMSE is : {exponential_rmse}\")"
   ]
  },
  {
   "cell_type": "markdown",
   "id": "49b7f072-8d3b-41e5-b9ca-233079c8a0ad",
   "metadata": {},
   "source": [
    "#### 4.4 ARIMA models (application):"
   ]
  },
  {
   "cell_type": "markdown",
   "id": "09b2bfcc-adcd-4780-98ae-e76fd81e3bdd",
   "metadata": {},
   "source": [
    "explain TODO"
   ]
  },
  {
   "cell_type": "code",
   "execution_count": 24,
   "id": "eb0c40f3-6fef-4611-9b2f-0444aceac006",
   "metadata": {},
   "outputs": [
    {
     "data": {
      "text/plain": [
       "<AxesSubplot:xlabel='Lag', ylabel='Autocorrelation'>"
      ]
     },
     "execution_count": 24,
     "metadata": {},
     "output_type": "execute_result"
    },
    {
     "data": {
      "image/png": "[encoded data removed]",
      "text/plain": [
       "<Figure size 432x288 with 1 Axes>"
      ]
     },
     "metadata": {
      "needs_background": "light"
     },
     "output_type": "display_data"
    }
   ],
   "source": [
    "autocorrelation_plot(df_gdp[\"GDP\"][1:])"
   ]
  },
  {
   "cell_type": "markdown",
   "id": "999e21be-15a8-4f70-bcb4-c4fcb65d8a03",
   "metadata": {},
   "source": [
    "#### 4.x Dynamic Factor Model (application):"
   ]
  },
  {
   "cell_type": "markdown",
   "id": "c7d1e667-adc8-4900-b08e-7d849be1491d",
   "metadata": {},
   "source": [
    "Placeholder"
   ]
  },
  {
   "cell_type": "code",
   "execution_count": 9,
   "id": "1ed5ae2e-f72c-4fdd-8c6c-eef01a06f1cd",
   "metadata": {},
   "outputs": [
    {
     "name": "stdout",
     "output_type": "stream",
     "text": [
      "EM start iterations, llf=-3521.2\n",
      "EM iteration 10, llf=-3441.6, convergence criterion=3.8808e-05\n",
      "EM iteration 20, llf=-3440.9, convergence criterion=1.0511e-05\n",
      "EM iteration 30, llf=-3440.7, convergence criterion=4.7606e-06\n",
      "EM iteration 40, llf=-3440.6, convergence criterion=2.7554e-06\n",
      "EM iteration 50, llf=-3440.5, convergence criterion=1.8448e-06\n",
      "EM iteration 60, llf=-3440.5, convergence criterion=1.3577e-06\n",
      "EM iteration 70, llf=-3440.4, convergence criterion=1.0655e-06\n",
      "EM converged at iteration 74, llf=-3440.4, convergence criterion=9.8011e-07 < tolerance=1e-06\n"
     ]
    }
   ],
   "source": [
    "# Remove the index to run the algorithm\n",
    "normalized_monthly_adjust = normalized_monthly.set_index('index')\n",
    "normalized_data = normalized_monthly_adjust.reset_index(drop=True)\n",
    "\n",
    "# Build and fit dynamic factor model using an EM algorithm\n",
    "mod = sm.tsa.DynamicFactorMQ(normalized_data, factors=1, factor_orders=3)\n",
    "\n",
    "res = mod.fit(disp=10)"
   ]
  },
  {
   "cell_type": "code",
   "execution_count": 10,
   "id": "e2231d45-de2c-4a80-b9de-4b7a57458db1",
   "metadata": {},
   "outputs": [
    {
     "data": {
      "text/html": [
       "<table class=\"simpletable\">\n",
       "<caption>Dynamic Factor Results</caption>\n",
       "<tr>\n",
       "  <th>Dep. Variable:</th>   <td>\"payroll\", and 10 more</td>  <th>  No. Observations:  </th>    <td>255</td>   \n",
       "</tr>\n",
       "<tr>\n",
       "  <th>Model:</th>            <td>Dynamic Factor Model</td>   <th>  Log Likelihood     </th> <td>-3440.395</td>\n",
       "</tr>\n",
       "<tr>\n",
       "  <th></th>                 <td>+ 1 factors in 1 blocks</td> <th>  AIC                </th> <td>6954.789</td> \n",
       "</tr>\n",
       "<tr>\n",
       "  <th></th>                  <td>+ AR(1) idiosyncratic</td>  <th>  BIC                </th> <td>7085.816</td> \n",
       "</tr>\n",
       "<tr>\n",
       "  <th>Date:</th>               <td>Thu, 28 Apr 2022</td>     <th>  HQIC               </th> <td>7007.494</td> \n",
       "</tr>\n",
       "<tr>\n",
       "  <th>Time:</th>                   <td>19:33:07</td>         <th>  EM Iterations      </th>    <td>74</td>    \n",
       "</tr>\n",
       "<tr>\n",
       "  <th>Sample:</th>                     <td>0</td>            <th>                     </th>     <td> </td>    \n",
       "</tr>\n",
       "<tr>\n",
       "  <th></th>                         <td> - 255</td>          <th>                     </th>     <td> </td>    \n",
       "</tr>\n",
       "<tr>\n",
       "  <th>Covariance Type:</th>      <td>Not computed</td>       <th>                     </th>     <td> </td>    \n",
       "</tr>\n",
       "</table>\n",
       "<table class=\"simpletable\">\n",
       "<caption>Observation equation:</caption>\n",
       "<tr>\n",
       "    <th>Factor loadings:</th>      <th>0</th>   <th>   idiosyncratic: AR(1)</th> <th>var.</th>\n",
       "</tr>\n",
       "<tr>\n",
       "         <td>payroll</td>        <td>-0.43</td>          <td>-0.13</td>          <td>0.31</td>\n",
       "</tr>\n",
       "<tr>\n",
       "      <td>job_openings</td>      <td>-0.25</td>          <td>-0.46</td>          <td>0.64</td>\n",
       "</tr>\n",
       "<tr>\n",
       "           <td>ip</td>           <td>-0.44</td>          <td>0.02</td>           <td>0.24</td>\n",
       "</tr>\n",
       "<tr>\n",
       "      <td>vehicle_sales</td>     <td>-0.31</td>          <td>-0.29</td>          <td>0.67</td>\n",
       "</tr>\n",
       "<tr>\n",
       "          <td>quits</td>         <td>-0.24</td>          <td>-0.44</td>          <td>0.66</td>\n",
       "</tr>\n",
       "<tr>\n",
       "         <td>retail</td>         <td>-0.43</td>          <td>-0.08</td>          <td>0.41</td>\n",
       "</tr>\n",
       "<tr>\n",
       "  <td>wholesale_inventories</td> <td>-0.07</td>          <td>0.60</td>           <td>0.64</td>\n",
       "</tr>\n",
       "<tr>\n",
       "   <td>consumer_sentiment</td>   <td>-0.15</td>          <td>-0.05</td>          <td>0.93</td>\n",
       "</tr>\n",
       "<tr>\n",
       "  <td>construction_spending</td> <td>-0.19</td>          <td>0.40</td>           <td>0.77</td>\n",
       "</tr>\n",
       "<tr>\n",
       "       <td>new_orders</td>       <td>-0.26</td>          <td>-0.42</td>          <td>0.68</td>\n",
       "</tr>\n",
       "<tr>\n",
       "     <td>housing_starts</td>     <td>-0.28</td>          <td>-0.43</td>          <td>0.66</td>\n",
       "</tr>\n",
       "</table>\n",
       "<table class=\"simpletable\">\n",
       "<caption>Transition: Factor block 0</caption>\n",
       "<tr>\n",
       "  <th></th>  <th>L1.0</th> <th>L2.0</th>  <th>L3.0</th>  <th>   error variance</th>\n",
       "</tr>\n",
       "<tr>\n",
       "  <td>0</td> <td>0.22</td> <td>-0.19</td> <td>-0.02</td>       <td>3.13</td>       \n",
       "</tr>\n",
       "</table><br/><br/>Warnings:<br/>[1] Covariance matrix not calculated."
      ],
      "text/plain": [
       "<class 'statsmodels.iolib.summary.Summary'>\n",
       "\"\"\"\n",
       "                               Dynamic Factor Results                              \n",
       "===================================================================================\n",
       "Dep. Variable:      \"payroll\", and 10 more   No. Observations:                  255\n",
       "Model:                Dynamic Factor Model   Log Likelihood               -3440.395\n",
       "                   + 1 factors in 1 blocks   AIC                           6954.789\n",
       "                     + AR(1) idiosyncratic   BIC                           7085.816\n",
       "Date:                     Thu, 28 Apr 2022   HQIC                          7007.494\n",
       "Time:                             19:33:07   EM Iterations                       74\n",
       "Sample:                                  0                                         \n",
       "                                     - 255                                         \n",
       "Covariance Type:              Not computed                                         \n",
       "                       Observation equation:                       \n",
       "===================================================================\n",
       "     Factor loadings:          0    idiosyncratic: AR(1)       var.\n",
       "-------------------------------------------------------------------\n",
       "              payroll      -0.43                   -0.13       0.31\n",
       "         job_openings      -0.25                   -0.46       0.64\n",
       "                   ip      -0.44                    0.02       0.24\n",
       "        vehicle_sales      -0.31                   -0.29       0.67\n",
       "                quits      -0.24                   -0.44       0.66\n",
       "               retail      -0.43                   -0.08       0.41\n",
       "wholesale_inventories      -0.07                    0.60       0.64\n",
       "   consumer_sentiment      -0.15                   -0.05       0.93\n",
       "construction_spending      -0.19                    0.40       0.77\n",
       "           new_orders      -0.26                   -0.42       0.68\n",
       "       housing_starts      -0.28                   -0.43       0.66\n",
       "                  Transition: Factor block 0                 \n",
       "=============================================================\n",
       "                 L1.0       L2.0       L3.0    error variance\n",
       "-------------------------------------------------------------\n",
       "         0       0.22      -0.19      -0.02              3.13\n",
       "=============================================================\n",
       "\n",
       "Warnings:\n",
       "[1] Covariance matrix not calculated.\n",
       "\"\"\""
      ]
     },
     "execution_count": 10,
     "metadata": {},
     "output_type": "execute_result"
    }
   ],
   "source": [
    "# Summary of the model with factor loadings\n",
    "res.summary()"
   ]
  },
  {
   "cell_type": "code",
   "execution_count": 11,
   "id": "2dc1ed2b-7e0d-4561-9ad6-3e7a3025aa3f",
   "metadata": {},
   "outputs": [
    {
     "data": {
      "text/html": [
       "<div>\n",
       "<style scoped>\n",
       "    .dataframe tbody tr th:only-of-type {\n",
       "        vertical-align: middle;\n",
       "    }\n",
       "\n",
       "    .dataframe tbody tr th {\n",
       "        vertical-align: top;\n",
       "    }\n",
       "\n",
       "    .dataframe thead th {\n",
       "        text-align: right;\n",
       "    }\n",
       "</style>\n",
       "<table border=\"1\" class=\"dataframe\">\n",
       "  <thead>\n",
       "    <tr style=\"text-align: right;\">\n",
       "      <th></th>\n",
       "      <th>GDP</th>\n",
       "      <th>level_0</th>\n",
       "      <th>payroll</th>\n",
       "      <th>job_openings</th>\n",
       "      <th>ip</th>\n",
       "      <th>vehicle_sales</th>\n",
       "      <th>quits</th>\n",
       "      <th>retail</th>\n",
       "      <th>wholesale_inventories</th>\n",
       "      <th>consumer_sentiment</th>\n",
       "      <th>construction_spending</th>\n",
       "      <th>new_orders</th>\n",
       "      <th>housing_starts</th>\n",
       "      <th>dfm</th>\n",
       "    </tr>\n",
       "    <tr>\n",
       "      <th>index</th>\n",
       "      <th></th>\n",
       "      <th></th>\n",
       "      <th></th>\n",
       "      <th></th>\n",
       "      <th></th>\n",
       "      <th></th>\n",
       "      <th></th>\n",
       "      <th></th>\n",
       "      <th></th>\n",
       "      <th></th>\n",
       "      <th></th>\n",
       "      <th></th>\n",
       "      <th></th>\n",
       "      <th></th>\n",
       "    </tr>\n",
       "  </thead>\n",
       "  <tbody>\n",
       "    <tr>\n",
       "      <th>2020Q3</th>\n",
       "      <td>8.184244</td>\n",
       "      <td>236.0</td>\n",
       "      <td>0.948176</td>\n",
       "      <td>2.421341</td>\n",
       "      <td>1.585079</td>\n",
       "      <td>7.227744</td>\n",
       "      <td>4.886782</td>\n",
       "      <td>1.044554</td>\n",
       "      <td>0.394046</td>\n",
       "      <td>0.967471</td>\n",
       "      <td>0.558379</td>\n",
       "      <td>4.300963</td>\n",
       "      <td>4.293566</td>\n",
       "      <td>-1.992725</td>\n",
       "    </tr>\n",
       "    <tr>\n",
       "      <th>2020Q4</th>\n",
       "      <td>1.591087</td>\n",
       "      <td>239.0</td>\n",
       "      <td>0.202960</td>\n",
       "      <td>2.204496</td>\n",
       "      <td>0.922760</td>\n",
       "      <td>0.115547</td>\n",
       "      <td>2.900379</td>\n",
       "      <td>-0.948068</td>\n",
       "      <td>0.525904</td>\n",
       "      <td>0.124147</td>\n",
       "      <td>1.010769</td>\n",
       "      <td>1.546522</td>\n",
       "      <td>4.574551</td>\n",
       "      <td>-0.630373</td>\n",
       "    </tr>\n",
       "    <tr>\n",
       "      <th>2021Q1</th>\n",
       "      <td>2.576810</td>\n",
       "      <td>242.0</td>\n",
       "      <td>0.449365</td>\n",
       "      <td>6.689897</td>\n",
       "      <td>0.295912</td>\n",
       "      <td>2.663042</td>\n",
       "      <td>2.668090</td>\n",
       "      <td>4.530584</td>\n",
       "      <td>1.142129</td>\n",
       "      <td>1.691184</td>\n",
       "      <td>0.968967</td>\n",
       "      <td>1.648741</td>\n",
       "      <td>1.260241</td>\n",
       "      <td>-1.704796</td>\n",
       "    </tr>\n",
       "    <tr>\n",
       "      <th>2021Q2</th>\n",
       "      <td>3.138917</td>\n",
       "      <td>245.0</td>\n",
       "      <td>0.291137</td>\n",
       "      <td>4.998801</td>\n",
       "      <td>0.437010</td>\n",
       "      <td>-4.320419</td>\n",
       "      <td>2.470266</td>\n",
       "      <td>-0.603363</td>\n",
       "      <td>1.187594</td>\n",
       "      <td>0.234743</td>\n",
       "      <td>0.654577</td>\n",
       "      <td>1.077530</td>\n",
       "      <td>-1.340610</td>\n",
       "      <td>-0.341317</td>\n",
       "    </tr>\n",
       "    <tr>\n",
       "      <th>2021Q3</th>\n",
       "      <td>2.008565</td>\n",
       "      <td>248.0</td>\n",
       "      <td>0.370847</td>\n",
       "      <td>2.668090</td>\n",
       "      <td>-0.202931</td>\n",
       "      <td>-7.612052</td>\n",
       "      <td>1.169711</td>\n",
       "      <td>-0.313698</td>\n",
       "      <td>1.095171</td>\n",
       "      <td>-5.360014</td>\n",
       "      <td>0.689639</td>\n",
       "      <td>0.473982</td>\n",
       "      <td>-2.225127</td>\n",
       "      <td>0.239555</td>\n",
       "    </tr>\n",
       "  </tbody>\n",
       "</table>\n",
       "</div>"
      ],
      "text/plain": [
       "             GDP  level_0   payroll  job_openings        ip  vehicle_sales  \\\n",
       "index                                                                        \n",
       "2020Q3  8.184244    236.0  0.948176      2.421341  1.585079       7.227744   \n",
       "2020Q4  1.591087    239.0  0.202960      2.204496  0.922760       0.115547   \n",
       "2021Q1  2.576810    242.0  0.449365      6.689897  0.295912       2.663042   \n",
       "2021Q2  3.138917    245.0  0.291137      4.998801  0.437010      -4.320419   \n",
       "2021Q3  2.008565    248.0  0.370847      2.668090 -0.202931      -7.612052   \n",
       "\n",
       "           quits    retail  wholesale_inventories  consumer_sentiment  \\\n",
       "index                                                                   \n",
       "2020Q3  4.886782  1.044554               0.394046            0.967471   \n",
       "2020Q4  2.900379 -0.948068               0.525904            0.124147   \n",
       "2021Q1  2.668090  4.530584               1.142129            1.691184   \n",
       "2021Q2  2.470266 -0.603363               1.187594            0.234743   \n",
       "2021Q3  1.169711 -0.313698               1.095171           -5.360014   \n",
       "\n",
       "        construction_spending  new_orders  housing_starts       dfm  \n",
       "index                                                                \n",
       "2020Q3               0.558379    4.300963        4.293566 -1.992725  \n",
       "2020Q4               1.010769    1.546522        4.574551 -0.630373  \n",
       "2021Q1               0.968967    1.648741        1.260241 -1.704796  \n",
       "2021Q2               0.654577    1.077530       -1.340610 -0.341317  \n",
       "2021Q3               0.689639    0.473982       -2.225127  0.239555  "
      ]
     },
     "execution_count": 11,
     "metadata": {},
     "output_type": "execute_result"
    }
   ],
   "source": [
    "# Add factor to the dataframe of all series\n",
    "factor = res.factors[\"smoothed\"].rename({\"0\": \"dfm\"}, axis='columns')\n",
    "\n",
    "normalized_with_factors = pd.concat([normalized_monthly.reset_index(), factor], axis=1).set_index('index')\n",
    "\n",
    "#Adjusting index\n",
    "normalized_with_factors = normalized_with_factors.reset_index()\n",
    "normalized_with_factors.set_index('index')\n",
    "\n",
    "# Put data on a quarterly basis\n",
    "quarterly = normalized_with_factors.groupby(pd.PeriodIndex(normalized_with_factors['index'], freq='Q')).mean().reset_index()\n",
    "\n",
    "# Adjust the gdp data series\n",
    "df_gdp = pd.DataFrame(gdp).loc[(pd.DataFrame(gdp).index >= '2000-10-01') & (pd.DataFrame(gdp).index <= '2021-10-01')].reset_index().rename(columns={\"index\": \"old_index\"})\n",
    "\n",
    "df_gdp['GDP'] = np.log(df_gdp['GDP']).diff()*100\n",
    "\n",
    "# Add on a single dataframe\n",
    "quarterly_all_factor = pd.concat([df_gdp, quarterly], axis=1).drop('old_index', axis=1).set_index('index')\n",
    "quarterly_all_factor = quarterly_all_factor.dropna()[:-1]\n",
    "\n",
    "# Finally, we've got the data\n",
    "quarterly_all_factor.tail()\n"
   ]
  },
  {
   "cell_type": "code",
   "execution_count": 12,
   "id": "5be94e38-167f-4a31-8ea1-7447c1beb328",
   "metadata": {},
   "outputs": [
    {
     "data": {
      "text/html": [
       "<table class=\"simpletable\">\n",
       "<caption>OLS Regression Results</caption>\n",
       "<tr>\n",
       "  <th>Dep. Variable:</th>           <td>GDP</td>       <th>  R-squared:         </th> <td>   0.455</td>\n",
       "</tr>\n",
       "<tr>\n",
       "  <th>Model:</th>                   <td>OLS</td>       <th>  Adj. R-squared:    </th> <td>   0.448</td>\n",
       "</tr>\n",
       "<tr>\n",
       "  <th>Method:</th>             <td>Least Squares</td>  <th>  F-statistic:       </th> <td>   67.52</td>\n",
       "</tr>\n",
       "<tr>\n",
       "  <th>Date:</th>             <td>Thu, 28 Apr 2022</td> <th>  Prob (F-statistic):</th> <td>2.80e-12</td>\n",
       "</tr>\n",
       "<tr>\n",
       "  <th>Time:</th>                 <td>19:33:07</td>     <th>  Log-Likelihood:    </th> <td> -131.72</td>\n",
       "</tr>\n",
       "<tr>\n",
       "  <th>No. Observations:</th>      <td>    83</td>      <th>  AIC:               </th> <td>   267.4</td>\n",
       "</tr>\n",
       "<tr>\n",
       "  <th>Df Residuals:</th>          <td>    81</td>      <th>  BIC:               </th> <td>   272.3</td>\n",
       "</tr>\n",
       "<tr>\n",
       "  <th>Df Model:</th>              <td>     1</td>      <th>                     </th>     <td> </td>   \n",
       "</tr>\n",
       "<tr>\n",
       "  <th>Covariance Type:</th>      <td>nonrobust</td>    <th>                     </th>     <td> </td>   \n",
       "</tr>\n",
       "</table>\n",
       "<table class=\"simpletable\">\n",
       "<tr>\n",
       "    <td></td>       <th>coef</th>     <th>std err</th>      <th>t</th>      <th>P>|t|</th>  <th>[0.025</th>    <th>0.975]</th>  \n",
       "</tr>\n",
       "<tr>\n",
       "  <th>dfm</th>   <td>   -1.5801</td> <td>    0.192</td> <td>   -8.217</td> <td> 0.000</td> <td>   -1.963</td> <td>   -1.198</td>\n",
       "</tr>\n",
       "<tr>\n",
       "  <th>const</th> <td>    0.9906</td> <td>    0.131</td> <td>    7.534</td> <td> 0.000</td> <td>    0.729</td> <td>    1.252</td>\n",
       "</tr>\n",
       "</table>\n",
       "<table class=\"simpletable\">\n",
       "<tr>\n",
       "  <th>Omnibus:</th>       <td>83.829</td> <th>  Durbin-Watson:     </th> <td>   2.710</td>\n",
       "</tr>\n",
       "<tr>\n",
       "  <th>Prob(Omnibus):</th> <td> 0.000</td> <th>  Jarque-Bera (JB):  </th> <td>1678.885</td>\n",
       "</tr>\n",
       "<tr>\n",
       "  <th>Skew:</th>          <td>-2.724</td> <th>  Prob(JB):          </th> <td>    0.00</td>\n",
       "</tr>\n",
       "<tr>\n",
       "  <th>Kurtosis:</th>      <td>24.349</td> <th>  Cond. No.          </th> <td>    1.46</td>\n",
       "</tr>\n",
       "</table><br/><br/>Notes:<br/>[1] Standard Errors assume that the covariance matrix of the errors is correctly specified."
      ],
      "text/plain": [
       "<class 'statsmodels.iolib.summary.Summary'>\n",
       "\"\"\"\n",
       "                            OLS Regression Results                            \n",
       "==============================================================================\n",
       "Dep. Variable:                    GDP   R-squared:                       0.455\n",
       "Model:                            OLS   Adj. R-squared:                  0.448\n",
       "Method:                 Least Squares   F-statistic:                     67.52\n",
       "Date:                Thu, 28 Apr 2022   Prob (F-statistic):           2.80e-12\n",
       "Time:                        19:33:07   Log-Likelihood:                -131.72\n",
       "No. Observations:                  83   AIC:                             267.4\n",
       "Df Residuals:                      81   BIC:                             272.3\n",
       "Df Model:                           1                                         \n",
       "Covariance Type:            nonrobust                                         \n",
       "==============================================================================\n",
       "                 coef    std err          t      P>|t|      [0.025      0.975]\n",
       "------------------------------------------------------------------------------\n",
       "dfm           -1.5801      0.192     -8.217      0.000      -1.963      -1.198\n",
       "const          0.9906      0.131      7.534      0.000       0.729       1.252\n",
       "==============================================================================\n",
       "Omnibus:                       83.829   Durbin-Watson:                   2.710\n",
       "Prob(Omnibus):                  0.000   Jarque-Bera (JB):             1678.885\n",
       "Skew:                          -2.724   Prob(JB):                         0.00\n",
       "Kurtosis:                      24.349   Cond. No.                         1.46\n",
       "==============================================================================\n",
       "\n",
       "Notes:\n",
       "[1] Standard Errors assume that the covariance matrix of the errors is correctly specified.\n",
       "\"\"\""
      ]
     },
     "execution_count": 12,
     "metadata": {},
     "output_type": "execute_result"
    }
   ],
   "source": [
    "# Regression of factor model\n",
    "quarterly_all_factor = sm.add_constant(quarterly_all_factor)\n",
    "regression_factor = sm.OLS(quarterly_all_factor['GDP'],quarterly_all_factor[['dfm', 'const']], missing='drop').fit()\n",
    "regression_factor.summary()"
   ]
  },
  {
   "cell_type": "code",
   "execution_count": 13,
   "id": "8e45cc5d-7c72-4201-8681-56fe664134f8",
   "metadata": {},
   "outputs": [
    {
     "data": {
      "text/html": [
       "<div>\n",
       "<style scoped>\n",
       "    .dataframe tbody tr th:only-of-type {\n",
       "        vertical-align: middle;\n",
       "    }\n",
       "\n",
       "    .dataframe tbody tr th {\n",
       "        vertical-align: top;\n",
       "    }\n",
       "\n",
       "    .dataframe thead th {\n",
       "        text-align: right;\n",
       "    }\n",
       "</style>\n",
       "<table border=\"1\" class=\"dataframe\">\n",
       "  <thead>\n",
       "    <tr style=\"text-align: right;\">\n",
       "      <th></th>\n",
       "      <th>const</th>\n",
       "      <th>GDP</th>\n",
       "      <th>level_0</th>\n",
       "      <th>payroll</th>\n",
       "      <th>job_openings</th>\n",
       "      <th>ip</th>\n",
       "      <th>vehicle_sales</th>\n",
       "      <th>quits</th>\n",
       "      <th>retail</th>\n",
       "      <th>wholesale_inventories</th>\n",
       "      <th>consumer_sentiment</th>\n",
       "      <th>construction_spending</th>\n",
       "      <th>new_orders</th>\n",
       "      <th>housing_starts</th>\n",
       "      <th>dfm</th>\n",
       "      <th>Predict</th>\n",
       "    </tr>\n",
       "    <tr>\n",
       "      <th>index</th>\n",
       "      <th></th>\n",
       "      <th></th>\n",
       "      <th></th>\n",
       "      <th></th>\n",
       "      <th></th>\n",
       "      <th></th>\n",
       "      <th></th>\n",
       "      <th></th>\n",
       "      <th></th>\n",
       "      <th></th>\n",
       "      <th></th>\n",
       "      <th></th>\n",
       "      <th></th>\n",
       "      <th></th>\n",
       "      <th></th>\n",
       "      <th></th>\n",
       "    </tr>\n",
       "  </thead>\n",
       "  <tbody>\n",
       "    <tr>\n",
       "      <th>2001Q1</th>\n",
       "      <td>1.0</td>\n",
       "      <td>0.329925</td>\n",
       "      <td>2.0</td>\n",
       "      <td>0.009543</td>\n",
       "      <td>-2.207236</td>\n",
       "      <td>-0.500511</td>\n",
       "      <td>2.044262</td>\n",
       "      <td>1.481725</td>\n",
       "      <td>-0.205542</td>\n",
       "      <td>-0.015097</td>\n",
       "      <td>-2.423394</td>\n",
       "      <td>0.672596</td>\n",
       "      <td>-1.159559</td>\n",
       "      <td>1.238665</td>\n",
       "      <td>0.495002</td>\n",
       "      <td>0.208416</td>\n",
       "    </tr>\n",
       "    <tr>\n",
       "      <th>2001Q2</th>\n",
       "      <td>1.0</td>\n",
       "      <td>1.222357</td>\n",
       "      <td>5.0</td>\n",
       "      <td>-0.112685</td>\n",
       "      <td>-2.932212</td>\n",
       "      <td>-0.486808</td>\n",
       "      <td>0.414847</td>\n",
       "      <td>-1.481725</td>\n",
       "      <td>0.171549</td>\n",
       "      <td>0.015636</td>\n",
       "      <td>0.398339</td>\n",
       "      <td>1.095764</td>\n",
       "      <td>-1.089457</td>\n",
       "      <td>0.950674</td>\n",
       "      <td>0.479490</td>\n",
       "      <td>0.232927</td>\n",
       "    </tr>\n",
       "    <tr>\n",
       "      <th>2001Q3</th>\n",
       "      <td>1.0</td>\n",
       "      <td>-0.009247</td>\n",
       "      <td>8.0</td>\n",
       "      <td>-0.133298</td>\n",
       "      <td>-2.293757</td>\n",
       "      <td>-0.412019</td>\n",
       "      <td>-2.166557</td>\n",
       "      <td>-1.550667</td>\n",
       "      <td>-0.592279</td>\n",
       "      <td>-0.487928</td>\n",
       "      <td>-4.133730</td>\n",
       "      <td>-0.721291</td>\n",
       "      <td>-2.395150</td>\n",
       "      <td>-1.542906</td>\n",
       "      <td>0.877038</td>\n",
       "      <td>-0.395257</td>\n",
       "    </tr>\n",
       "    <tr>\n",
       "      <th>2001Q4</th>\n",
       "      <td>1.0</td>\n",
       "      <td>0.587485</td>\n",
       "      <td>11.0</td>\n",
       "      <td>-0.200189</td>\n",
       "      <td>-3.393049</td>\n",
       "      <td>-0.315040</td>\n",
       "      <td>0.203067</td>\n",
       "      <td>-1.626339</td>\n",
       "      <td>1.039012</td>\n",
       "      <td>-0.793410</td>\n",
       "      <td>2.736980</td>\n",
       "      <td>0.485141</td>\n",
       "      <td>0.239002</td>\n",
       "      <td>0.127796</td>\n",
       "      <td>0.308816</td>\n",
       "      <td>0.502618</td>\n",
       "    </tr>\n",
       "    <tr>\n",
       "      <th>2002Q1</th>\n",
       "      <td>1.0</td>\n",
       "      <td>1.147515</td>\n",
       "      <td>14.0</td>\n",
       "      <td>-0.067508</td>\n",
       "      <td>-0.594519</td>\n",
       "      <td>0.478147</td>\n",
       "      <td>1.275027</td>\n",
       "      <td>-1.709776</td>\n",
       "      <td>-0.140780</td>\n",
       "      <td>-0.371882</td>\n",
       "      <td>2.494388</td>\n",
       "      <td>-0.202176</td>\n",
       "      <td>0.510080</td>\n",
       "      <td>1.537136</td>\n",
       "      <td>-0.032557</td>\n",
       "      <td>1.042037</td>\n",
       "    </tr>\n",
       "  </tbody>\n",
       "</table>\n",
       "</div>"
      ],
      "text/plain": [
       "        const       GDP  level_0   payroll  job_openings        ip  \\\n",
       "index                                                                \n",
       "2001Q1    1.0  0.329925      2.0  0.009543     -2.207236 -0.500511   \n",
       "2001Q2    1.0  1.222357      5.0 -0.112685     -2.932212 -0.486808   \n",
       "2001Q3    1.0 -0.009247      8.0 -0.133298     -2.293757 -0.412019   \n",
       "2001Q4    1.0  0.587485     11.0 -0.200189     -3.393049 -0.315040   \n",
       "2002Q1    1.0  1.147515     14.0 -0.067508     -0.594519  0.478147   \n",
       "\n",
       "        vehicle_sales     quits    retail  wholesale_inventories  \\\n",
       "index                                                              \n",
       "2001Q1       2.044262  1.481725 -0.205542              -0.015097   \n",
       "2001Q2       0.414847 -1.481725  0.171549               0.015636   \n",
       "2001Q3      -2.166557 -1.550667 -0.592279              -0.487928   \n",
       "2001Q4       0.203067 -1.626339  1.039012              -0.793410   \n",
       "2002Q1       1.275027 -1.709776 -0.140780              -0.371882   \n",
       "\n",
       "        consumer_sentiment  construction_spending  new_orders  housing_starts  \\\n",
       "index                                                                           \n",
       "2001Q1           -2.423394               0.672596   -1.159559        1.238665   \n",
       "2001Q2            0.398339               1.095764   -1.089457        0.950674   \n",
       "2001Q3           -4.133730              -0.721291   -2.395150       -1.542906   \n",
       "2001Q4            2.736980               0.485141    0.239002        0.127796   \n",
       "2002Q1            2.494388              -0.202176    0.510080        1.537136   \n",
       "\n",
       "             dfm   Predict  \n",
       "index                       \n",
       "2001Q1  0.495002  0.208416  \n",
       "2001Q2  0.479490  0.232927  \n",
       "2001Q3  0.877038 -0.395257  \n",
       "2001Q4  0.308816  0.502618  \n",
       "2002Q1 -0.032557  1.042037  "
      ]
     },
     "execution_count": 13,
     "metadata": {},
     "output_type": "execute_result"
    }
   ],
   "source": [
    "# Merge with predict series\n",
    "quarterly_predict = quarterly_all_factor.reset_index()\n",
    "regression_fit = pd.DataFrame(regression_factor.predict(), columns = ['Predict'])\n",
    "quarterly_predict = pd.concat([quarterly_predict, regression_fit], axis=1).set_index('index')\n",
    "quarterly_predict.head()"
   ]
  },
  {
   "cell_type": "code",
   "execution_count": 14,
   "id": "5b0523c9-2e2f-407b-893b-7395c1afb556",
   "metadata": {},
   "outputs": [
    {
     "data": {
      "text/plain": [
       "<matplotlib.legend.Legend at 0x1cc97bee430>"
      ]
     },
     "execution_count": 14,
     "metadata": {},
     "output_type": "execute_result"
    },
    {
     "data": {
      "image/png": "[encoded data removed]",
      "text/plain": [
       "<Figure size 432x288 with 1 Axes>"
      ]
     },
     "metadata": {
      "needs_background": "light"
     },
     "output_type": "display_data"
    }
   ],
   "source": [
    "### in plot method we set the label and color of the curve.\n",
    "quarterly_predict['GDP'].plot(label='GDP', color='blue')\n",
    "quarterly_predict['Predict'].plot(label='Nowcaster (in-sample)', color='orange')\n",
    "  \n",
    "# adding title to the plot\n",
    "plt.title('GDP growth and Nowcaster')\n",
    "  \n",
    "# adding Label to the x-axis\n",
    "plt.xlabel('Years')\n",
    "  \n",
    "# adding legend to the curve\n",
    "plt.legend()"
   ]
  },
  {
   "cell_type": "code",
   "execution_count": 15,
   "id": "903a51a1-bc6b-4730-8032-53954f57d9e2",
   "metadata": {},
   "outputs": [
    {
     "data": {
      "text/html": [
       "<table class=\"simpletable\">\n",
       "<caption>OLS Regression Results</caption>\n",
       "<tr>\n",
       "  <th>Dep. Variable:</th>           <td>GDP</td>       <th>  R-squared:         </th> <td>   0.601</td>\n",
       "</tr>\n",
       "<tr>\n",
       "  <th>Model:</th>                   <td>OLS</td>       <th>  Adj. R-squared:    </th> <td>   0.591</td>\n",
       "</tr>\n",
       "<tr>\n",
       "  <th>Method:</th>             <td>Least Squares</td>  <th>  F-statistic:       </th> <td>   57.32</td>\n",
       "</tr>\n",
       "<tr>\n",
       "  <th>Date:</th>             <td>Thu, 28 Apr 2022</td> <th>  Prob (F-statistic):</th> <td>4.21e-09</td>\n",
       "</tr>\n",
       "<tr>\n",
       "  <th>Time:</th>                 <td>19:33:07</td>     <th>  Log-Likelihood:    </th> <td> -29.772</td>\n",
       "</tr>\n",
       "<tr>\n",
       "  <th>No. Observations:</th>      <td>    40</td>      <th>  AIC:               </th> <td>   63.54</td>\n",
       "</tr>\n",
       "<tr>\n",
       "  <th>Df Residuals:</th>          <td>    38</td>      <th>  BIC:               </th> <td>   66.92</td>\n",
       "</tr>\n",
       "<tr>\n",
       "  <th>Df Model:</th>              <td>     1</td>      <th>                     </th>     <td> </td>   \n",
       "</tr>\n",
       "<tr>\n",
       "  <th>Covariance Type:</th>      <td>nonrobust</td>    <th>                     </th>     <td> </td>   \n",
       "</tr>\n",
       "</table>\n",
       "<table class=\"simpletable\">\n",
       "<tr>\n",
       "    <td></td>       <th>coef</th>     <th>std err</th>      <th>t</th>      <th>P>|t|</th>  <th>[0.025</th>    <th>0.975]</th>  \n",
       "</tr>\n",
       "<tr>\n",
       "  <th>dfm</th>   <td>   -0.9299</td> <td>    0.123</td> <td>   -7.571</td> <td> 0.000</td> <td>   -1.179</td> <td>   -0.681</td>\n",
       "</tr>\n",
       "<tr>\n",
       "  <th>const</th> <td>    1.1081</td> <td>    0.085</td> <td>   13.041</td> <td> 0.000</td> <td>    0.936</td> <td>    1.280</td>\n",
       "</tr>\n",
       "</table>\n",
       "<table class=\"simpletable\">\n",
       "<tr>\n",
       "  <th>Omnibus:</th>       <td> 0.132</td> <th>  Durbin-Watson:     </th> <td>   1.900</td>\n",
       "</tr>\n",
       "<tr>\n",
       "  <th>Prob(Omnibus):</th> <td> 0.936</td> <th>  Jarque-Bera (JB):  </th> <td>   0.316</td>\n",
       "</tr>\n",
       "<tr>\n",
       "  <th>Skew:</th>          <td> 0.098</td> <th>  Prob(JB):          </th> <td>   0.854</td>\n",
       "</tr>\n",
       "<tr>\n",
       "  <th>Kurtosis:</th>      <td> 2.611</td> <th>  Cond. No.          </th> <td>    1.55</td>\n",
       "</tr>\n",
       "</table><br/><br/>Notes:<br/>[1] Standard Errors assume that the covariance matrix of the errors is correctly specified."
      ],
      "text/plain": [
       "<class 'statsmodels.iolib.summary.Summary'>\n",
       "\"\"\"\n",
       "                            OLS Regression Results                            \n",
       "==============================================================================\n",
       "Dep. Variable:                    GDP   R-squared:                       0.601\n",
       "Model:                            OLS   Adj. R-squared:                  0.591\n",
       "Method:                 Least Squares   F-statistic:                     57.32\n",
       "Date:                Thu, 28 Apr 2022   Prob (F-statistic):           4.21e-09\n",
       "Time:                        19:33:07   Log-Likelihood:                -29.772\n",
       "No. Observations:                  40   AIC:                             63.54\n",
       "Df Residuals:                      38   BIC:                             66.92\n",
       "Df Model:                           1                                         \n",
       "Covariance Type:            nonrobust                                         \n",
       "==============================================================================\n",
       "                 coef    std err          t      P>|t|      [0.025      0.975]\n",
       "------------------------------------------------------------------------------\n",
       "dfm           -0.9299      0.123     -7.571      0.000      -1.179      -0.681\n",
       "const          1.1081      0.085     13.041      0.000       0.936       1.280\n",
       "==============================================================================\n",
       "Omnibus:                        0.132   Durbin-Watson:                   1.900\n",
       "Prob(Omnibus):                  0.936   Jarque-Bera (JB):                0.316\n",
       "Skew:                           0.098   Prob(JB):                        0.854\n",
       "Kurtosis:                       2.611   Cond. No.                         1.55\n",
       "==============================================================================\n",
       "\n",
       "Notes:\n",
       "[1] Standard Errors assume that the covariance matrix of the errors is correctly specified.\n",
       "\"\"\""
      ]
     },
     "execution_count": 15,
     "metadata": {},
     "output_type": "execute_result"
    }
   ],
   "source": [
    "# Now, we run with the train sample from 2000 to 2010\n",
    "quarterly_restrict = quarterly_all_factor[:-43]\n",
    "regression_factor_train = sm.OLS(quarterly_restrict['GDP'], quarterly_restrict[['dfm', 'const']]).fit()\n",
    "regression_factor_train.summary()"
   ]
  },
  {
   "cell_type": "code",
   "execution_count": 16,
   "id": "8583bfbd-06db-4614-bcf1-df53931be7cf",
   "metadata": {},
   "outputs": [
    {
     "data": {
      "text/plain": [
       "<matplotlib.legend.Legend at 0x1cc97cb1520>"
      ]
     },
     "execution_count": 16,
     "metadata": {},
     "output_type": "execute_result"
    },
    {
     "data": {
      "image/png": "[encoded data removed]",
      "text/plain": [
       "<Figure size 432x288 with 1 Axes>"
      ]
     },
     "metadata": {
      "needs_background": "light"
     },
     "output_type": "display_data"
    }
   ],
   "source": [
    "### in plot method we set the label and color of the curve.\n",
    "quarterly_predict['GDP'][40:].plot(label='GDP', color='blue')\n",
    "\n",
    "out_of_sample_teste = -0.93*quarterly_predict['dfm'] + 1.1081\n",
    "out_of_sample_teste[40:].plot(label='Nowcaster (out-of-sample)', color='red')\n",
    "\n",
    "quarterly_predict['Predict'][40:].plot(label='Nowcaster (in-sample)', color='orange')\n",
    "  \n",
    "# adding title to the plot\n",
    "plt.title('GDP growth and Nowcaster')\n",
    "  \n",
    "# adding Label to the x-axis\n",
    "plt.xlabel('Years')\n",
    "  \n",
    "# adding legend to the curve\n",
    "plt.legend()"
   ]
  },
  {
   "cell_type": "code",
   "execution_count": 17,
   "id": "4fb3d09b-403f-4be3-b6b1-7f33f985f3e3",
   "metadata": {},
   "outputs": [
    {
     "name": "stdout",
     "output_type": "stream",
     "text": [
      "Out-of-Sample RMSE is : 1.6950033328081802\n",
      "In-Sample RMSE is : 1.4952381061359965\n"
     ]
    }
   ],
   "source": [
    "dfm_rmse_out_sample = math.sqrt(sklearn.metrics.mean_squared_error(quarterly_predict['GDP'][40:], out_of_sample_teste[40:]))\n",
    "dfm_rmse_in_sample = math.sqrt(sklearn.metrics.mean_squared_error(quarterly_predict['GDP'][40:], quarterly_predict['Predict'][40:]))\n",
    "\n",
    "print(f\"Out-of-Sample RMSE is : {dfm_rmse_out_sample}\")\n",
    "print(f\"In-Sample RMSE is : {dfm_rmse_in_sample}\")"
   ]
  },
  {
   "cell_type": "markdown",
   "id": "daec3f2f-c9d3-47df-ada0-ca87d0f76fee",
   "metadata": {
    "tags": []
   },
   "source": [
    "## 5. Applications to Brazil industrial production growth"
   ]
  },
  {
   "cell_type": "code",
   "execution_count": null,
   "id": "c070e778-075f-4e01-8408-d3923f044c41",
   "metadata": {},
   "outputs": [],
   "source": []
  },
  {
   "cell_type": "code",
   "execution_count": null,
   "id": "27c3f1cc-0a4a-4c00-a44d-2727f4f2f063",
   "metadata": {},
   "outputs": [],
   "source": []
  },
  {
   "cell_type": "markdown",
   "id": "a6514574-2d55-4fd5-bb4d-ae9fc9f17332",
   "metadata": {},
   "source": [
    "## 6. Conclusion"
   ]
  },
  {
   "cell_type": "code",
   "execution_count": null,
   "id": "4613effb-ddbe-4647-b24c-ec06cc4bbcee",
   "metadata": {},
   "outputs": [],
   "source": []
  },
  {
   "cell_type": "code",
   "execution_count": null,
   "id": "27d16ed3-1b21-48dd-b671-a0e4f3b65172",
   "metadata": {},
   "outputs": [],
   "source": []
  },
  {
   "cell_type": "code",
   "execution_count": null,
   "id": "01f5956d-34d8-4535-b23d-93fd7a13131c",
   "metadata": {},
   "outputs": [],
   "source": []
  },
  {
   "cell_type": "markdown",
   "id": "1a41b0c9-3fea-48c2-8de3-1e3ab3bc1fe7",
   "metadata": {},
   "source": [
    "## 7. References"
   ]
  },
  {
   "cell_type": "markdown",
   "id": "fc21434a-36bf-4cdb-b76e-a3229dea6d3b",
   "metadata": {},
   "source": [
    "References (make this more professional)"
   ]
  },
  {
   "cell_type": "markdown",
   "id": "e1f2e31a-c92f-428e-a187-4780b10ad839",
   "metadata": {},
   "source": [
    "https://machinelearningmastery.com/exponential-smoothing-for-time-series-forecasting-in-python/\n",
    "\n",
    "https://python-advanced.quantecon.org/arma.html\n",
    "\n",
    "https://www.bounteous.com/insights/2020/09/15/forecasting-time-series-model-using-python-part-two/\n",
    "\n",
    "Towards Science: A One-Stop Shop for Principal Component Analysis (https://towardsdatascience.com/a-one-stop-shop-for-principal-component-analysis-5582fb7e0a9c).\n",
    "\n",
    "In Depth: Principal Component Analysis (https://jakevdp.github.io/PythonDataScienceHandbook/05.09-principal-component-analysis.html).\n",
    "\n",
    "Advanced Data Analysis from an Elementary Point of View (https://www.stat.cmu.edu/~cshalizi/uADA/15/lectures/17.pdf).\n",
    "\n",
    "Applications of Principal Component Analysis (PCA) (https://iq.opengenus.org/applications-of-pca/).\n",
    "\n",
    "https://towardsdatascience.com/time-series-in-python-exponential-smoothing-and-arima-processes-2c67f2a52788"
   ]
  },
  {
   "cell_type": "code",
   "execution_count": null,
   "id": "c77e10c7-a991-41f9-9535-358f21a1b97a",
   "metadata": {},
   "outputs": [],
   "source": []
  }
 ],
 "metadata": {
  "kernelspec": {
   "display_name": "Python 3",
   "language": "python",
   "name": "python3"
  },
  "language_info": {
   "codemirror_mode": {
    "name": "ipython",
    "version": 3
   },
   "file_extension": ".py",
   "mimetype": "text/x-python",
   "name": "python",
   "nbconvert_exporter": "python",
   "pygments_lexer": "ipython3",
   "version": "3.8.8"
  }
 },
 "nbformat": 4,
 "nbformat_minor": 5
}
