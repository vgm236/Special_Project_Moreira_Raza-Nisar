{
 "cells": [
  {
   "cell_type": "markdown",
   "id": "b679b64a-fde4-492c-a2be-78c1c68ba2fa",
   "metadata": {},
   "source": [
    "<h1><center> \n",
    "Is Black-Box Modeling the Future of Macroeconomic Forecasting?\n",
    "</center><h1>"
   ]
  },
  {
   "cell_type": "markdown",
   "id": "2ab38521-f505-40c5-b56d-e4d0b36f6f9d",
   "metadata": {},
   "source": [
    "<pre>\n",
    "<center> Sahil Nisar (sn3028@nyu.edu)</center>\n",
    "<center>    \n",
    "Suniya Raza (sr5748@nyu.edu)\n",
    "</center>\n",
    "<center> \n",
    "Vinicius Moreira (vgm236@nyu.edu)\n",
    "</center>\n",
    "<center> \n",
    "Graduate School of Arts and Science (GSAS) at New York University (NYU)\n",
    "</center>\n",
    "<center> \n",
    "19 West 4th Street\n",
    "</center>\n",
    "<center>       \n",
    "New York, NY 10003\n",
    "</center>\n",
    "<center> \n",
    "2022\n",
    "</center> \n",
    "<center> \n",
    "This paper was presented at the Special Projects class In Economic Research, advised by Prof. Irasema Alonso in May 2022 at the Graduate School of Arts and Science program of Master of Arts in Economics.\n",
    "</center> \n",
    "<center>     \n",
    "© 2021 by Vinicius Moreira, Sahil Nisar and Suniya Raza. All rights reserved. Short sections of text, not to exceed two paragraphs, may be quoted without explicit permission provided that full credit, including © notice, is given to the source.\n",
    "</center> \n",
    "\n",
    "</pre>"
   ]
  },
  {
   "cell_type": "markdown",
   "id": "19cde223",
   "metadata": {},
   "source": [
    "<h2><center>\n",
    "Summary\n",
    "</center></h2>"
   ]
  },
  {
   "cell_type": "markdown",
   "id": "2accd4f7-2b08-411a-9016-ff9b99614eca",
   "metadata": {},
   "source": [
    "<center> \n",
    "In this paper, we aim to provide a comparison of machine learning and time series techniques to forecast US GDP. Machine learning algorithms have become increasingly popular specially over the last decade, and their application has been wide ranging. This popularity has meant that it was about time before the ML algorithms were used to forecasting macro variables.Through this paper, we have used key ML algorithms such as K-Nearest Neighbor, Random Forest, Dynamic Factor Model and Vector Support Machines, Elastic Net and Decision trees to forecast the US GDP. More importantly, we have also used the traditional time series methods such as ARIMA and VAR to draw comparison between the ML and time series methods. Based on our findings, the traditional time series methods and specially the OLS performs fairly decent compared to the complex ML algorithms on the basis of Root Mean Squared Errors and time to run. However, this study is only limited to forecasting of the US GDP. It is quite possible that the results might be different specially for high frequency macroeconomic variables. But, within the scope of this study, we believe that the ML algorithms donot provide any substantial gain over the traditional time series models to forecast US GDP.\n",
    "</center> "
   ]
  },
  {
   "cell_type": "code",
   "execution_count": 1,
   "id": "98bb378e-82a2-46a6-97c5-609e595e2251",
   "metadata": {},
   "outputs": [],
   "source": [
    "#Packages\n",
    "import fredapi as fa\n",
    "import pandas as pd\n",
    "import numpy as np\n",
    "import matplotlib.pyplot as plt\n",
    "import sklearn\n",
    "import math\n",
    "from pandas.plotting import autocorrelation_plot\n",
    "from statsmodels.graphics.tsaplots import plot_acf\n",
    "import statsmodels.api as sm\n",
    "import statsmodels.formula.api as smf\n",
    "from statsmodels.tsa.arima_model import ARIMA\n",
    "from statsmodels.tsa.api import ExponentialSmoothing, SimpleExpSmoothing, Holt\n",
    "from statsmodels.tsa.stattools import adfuller\n",
    "from statsmodels.tsa.api import VAR\n",
    "from statsmodels.tools.eval_measures import rmse, aic\n",
    "from sklearn.neighbors import KNeighborsRegressor\n",
    "from sklearn.model_selection import train_test_split\n",
    "from sklearn.linear_model import LinearRegression\n",
    "from sklearn.decomposition import PCA\n",
    "from sklearn.ensemble._forest import RandomForestRegressor\n",
    "from sklearn.svm import SVR\n",
    "from sklearn.tree import DecisionTreeRegressor \n",
    "import tensorflow as tf \n",
    "from keras.models import Sequential\n",
    "from keras.layers import Dense\n",
    "from keras.layers import LSTM\n",
    "import time\n",
    "\n",
    "import warnings\n",
    "warnings.filterwarnings('ignore')\n"
   ]
  },
  {
   "cell_type": "markdown",
   "id": "cdd6165c-13b8-4cb1-a886-b4c11cb4dfcf",
   "metadata": {
    "tags": []
   },
   "source": [
    "## 1. Introduction "
   ]
  },
  {
   "cell_type": "markdown",
   "id": "df091dc1-9a9f-4229-9690-120feb0cb3ec",
   "metadata": {},
   "source": [
    "Forecasting macroeconomic and financial variables has always been a challenge, especially since this requires forecasters to make discretionary choices about the data and methodology. Even though most choices have their basis in economic intuition and judgment, there is a high possibility that the assumptions made could be flawed. This concern has been aggravated especially due to the inability of traditional methods to accurately perform during unprecedented times such as the global financial crises in 2008 or the recent COVID-19 pandemic. The predictors and models that have proved to be useful for predictions in normal times have failed to generate appropriate insights during the time of crises. "
   ]
  },
  {
   "cell_type": "markdown",
   "id": "5b46fb7f-e480-453d-9b40-f7d90aaf5e3d",
   "metadata": {},
   "source": [
    "Machine Learning (ML) techniques on the other hand, automate most of the choices regarding model selection and specifications, allowing the algorithm to learn from the data without any programmer explicitly specifying every step in the model. The ability of Machine Learning techniques to identify the non-linearities that exist in data series as well as how variables interact with each other, has contributed to the predictive power of these models. In today’s world, machine learning algorithms are successfully and widely used for sales forecasting, predicting stock prices, designing banking softwares to detect frauds and by search engines to make personalized recommendations based on search history. The discretionary nature of traditional forecasting models as well as the high predictive power of ML techniques has led macroeconomic forecasters to turn their attention to the development and application of Machine Learning techniques to forecast the macroeconomic variables. Moreover, with increased availability of “big data” in economics, the development of machine learning techniques for macroeconomic forecasting is turning out to be promising."
   ]
  },
  {
   "cell_type": "markdown",
   "id": "485a6bcc-3887-410d-a8a5-8e6f7302b1c7",
   "metadata": {},
   "source": [
    "While the formulation of the machine learning techniques dates to the 1950’s, its application to macroeconomics is still in the development phase. This has a lot to do with the fact that the predictive power of the ML algorithms is contingent on the availability of data. The frequency with which most of the key macroeconomic variables are reported is quarterly, and that limits the number of observations available to make good predictions using the ML algorithms. To put things in perspective, the data on stock prices is updated in real time which means that the available observations are in abundance. However, with the evolution of time, enough data has accumulated to make use of ML for macroeconomic forecasting."
   ]
  },
  {
   "cell_type": "markdown",
   "id": "2324d591-e1dc-4e48-85dd-20904593caaf",
   "metadata": {},
   "source": [
    "In this paper, we aim to provide a comparative analysis of the traditional time series models with the machine learning models to forecast the US Gross Domestic Product (GDP) growth rate. GDP is the total amount of goods and services produced within the confines of the country in the specified period. It is generally considered to be a good proxy for the wealth of the economy and hence drives a lot of decision-making processes (Provost and Fawcett, 2013). This makes GDP forecasting a key and a relevant issue in macroeconomics. In this research, we aim to study varying classical time series and machine learning algorithms and apply them to forecast US real GDP growth rate. The goal is to assess the performance of each of these models and understand which model provides the best and robust forecast in the specified setting. "
   ]
  },
  {
   "cell_type": "markdown",
   "id": "8ca693e9-c237-455a-8fe2-16cd729bb4b2",
   "metadata": {},
   "source": [
    "For the classical time series models, we have mainly used the Auto-Regressive (AR), Moving-Average (MA), Auto-Regressive-Integrated-Moving-Average (ARIMA) and Seasonal ARIMAX (SARIMAX). For the Machine Learning models, we have used the K-Nearest Neighbor (KNN), Random Forest, Neural Networks, Principal Component Analysis (PCA) and the Dynamic Factor Model. Finally, to assess the performance of the models we have used the Root Mean Squared Error (RMSE). We are particularly interested in observing the accuracy of the estimates provided by each of our models for the specified forecasting horizon. "
   ]
  },
  {
   "cell_type": "markdown",
   "id": "7fb7611c-a565-4ddb-abde-197689321167",
   "metadata": {},
   "source": [
    "\n",
    "The rest of the paper is organized as follows: Section 2 dives deeper into the existing literature available on the application of machine learning in macro forecasting, Section 3 provides some insights into the summary statistics of the data used, Section 4 lays out our forecasting methods and specifications, Section 5 demonstrates our empirical results and analysis, Section 6 talks about the limitations of our models and Section 6 concludes."
   ]
  },
  {
   "cell_type": "markdown",
   "id": "c6c249f4-665f-45fe-9fe9-b0d5692fd7b3",
   "metadata": {},
   "source": [
    "Further details and code of the models and transformation used can be found in this GitHub link: https://github.com/vgm236/Special_Project_Moreira_Raza-Nisar."
   ]
  },
  {
   "cell_type": "markdown",
   "id": "562b62d8-6e65-4ee9-a9a1-a02055049d18",
   "metadata": {},
   "source": [
    "## 2. Literature Review"
   ]
  },
  {
   "cell_type": "markdown",
   "id": "7fb65ed6-e114-45ef-9877-557b76976816",
   "metadata": {},
   "source": [
    "The intersection of Machine Learning (ML) with econometrics has recently gained prominence in macroeconomic application, especially due to the increase in the availability of large datasets. Even though only recently there has been a surge in the number of studies which apply ML techniques for macroeconomic forecasting (cite), machine learning does have a long history in macro-econometrics. "
   ]
  },
  {
   "cell_type": "markdown",
   "id": "2fa0e5ef-4870-4628-82ae-d8be5ae0232a",
   "metadata": {},
   "source": [
    "A 1993 study tested the adequacy of using linear models for forecasting time series by using a popular ML model, Neural Networks to check for neglected non-linearities in time series. The results showed that neural network test performs as well or better than standard tests and helps prove the presence of non-linearities in data series (Lee et al. (1993)). Swanson and White also use Artificial Neural Networks and other linear models to evaluate how useful these approaches are to predict nine macroeconomic variables (Swanson and White (1997)). "
   ]
  },
  {
   "cell_type": "markdown",
   "id": "dc8787d8-8ecb-4d4d-b29e-709871a1d76a",
   "metadata": {},
   "source": [
    "A 1999 working paper has also tested the forecasting performance of neural network model in predicting GDP at 1-quarter and 4-qaurter forecast horizons, with only the 4-quarter horizon results showing statistically significant forecasting accuracy over linear model counterparts (Tkacz and Hu (1999-2003), cite ). Similarly, another paper focused on using neural networks to forecast Canada’s real GDP growth and concluded that for both in-sample and out-of-sample periods, this model performed better than the traditional linear regression models. However, in this case the author was unable to prove that the improvement in forecasting accuracy was statistically significant (Gonzalez, 2000-2007, cite). "
   ]
  },
  {
   "cell_type": "markdown",
   "id": "286b77bc-e9d6-4e3a-8ce7-616c5a5cac29",
   "metadata": {},
   "source": [
    "In recent years, the interest in neural networks has increased because of its potential to identify and reproduce linear and non-linear relationships among a set of variables. A recent paper by researchers at the Federal Reserve Bank of Kansas City has explored the potential of deep neural networks in improving the forecasting accuracy of macroeconomic variables, despite the existence of limited data. The results show that the model outperforms benchmark models at forecasting civilian unemployment at short horizons (Cook et all, 2017). In our research, we aim to explore this ML technique using recent data of GDP growth rates, especially in context to shocks such as the financial crises and the COVID-19 pandemic. "
   ]
  },
  {
   "cell_type": "markdown",
   "id": "33f47f2c-47f8-4e0f-80c7-d30b390295d8",
   "metadata": {},
   "source": [
    "Another technique, the non-parametric K Nearest Neighbor (KNN) is one of the oldest and most researched ML models and is known for its consistency property (Stone(1977)). KNN has the ability to identify repeated patterns within time series and is widely used in financial time series modeling (Ban et all (2013)). KNN has gained popularity in predicting macroeconomic variables, since it retains its consistency properties even in cases of limited past information i.e., few data points. As compared to other artificial intelligence methods, which require a minimum number of observations to perform adequately, KNN application is not severely hindered by this limitation ((Diebold and Nason, 1990). A recent research paper compares GDP forecasts from KNN model with results from basic time series models such as Autoregressive (AR), Autoregressive Integrated Moving Average (ARIMA), Seasonal AR and ARIMA and AR and ARIMA with covariates. The study concludes that KNN captures the self-predictive ability of GDP better than other traditional models (Maccarrone et all, 2021, cite). These results are promising, especially since the data used covers the financial crisis and pandemic time period. Another paper compares KNN technique with two other ML techniques, the Random Forest and Extreme Gradient Boosting for predicting inflation in Costa Rica and concludes that KNN outperforms these models based on forecast accuracy (Rodriguez-Vargas, 2020). "
   ]
  },
  {
   "cell_type": "markdown",
   "id": "fac5d111-8f39-4602-9c16-70c859e41155",
   "metadata": {},
   "source": [
    "Random Forest algorithms are widely used in medical research and biological studies. This technique is known for its prediction accuracy and robustness since it can handle a very large number of input variables without overfitting. However, it is not as widely used in macroeconomic forecasting yet. Baiu and D’Elia (2011) have used Random Forest model to forecast the quarterly GDP growth rate for the Euro region and concluded that while RF fails to outperform standard AR model in predicting growth rate, it can be used as a tool to select the most relevant predictive variables."
   ]
  },
  {
   "cell_type": "markdown",
   "id": "441e1fc5-0947-4aad-8614-1e286d561925",
   "metadata": {},
   "source": [
    "Principal Component Analysis(PCA) is a machine learning technique used specifically when there is a large amount of data available. Large datasets not only make computation hard but also make it difficult to interpret. PCA tends to reduce the dimensionality of such datasets, while at the same time ensuring that the information loss is minimum. The way it achieves that is by creating new uncorrelated variables in order to attain maximum variance. PCA essentially reduces the problem to solving eigenvalues and eigenvectors. Stock and Watson have proved that under the general conditions on the error terms, principal components of X (explanatory variables) are a consistent estimator of the true latent factors. In their research, Stock and Watson tried to forecast the Federal Reserve Board’s Index of Industrial Production using the PCA approach and found that the model outperforms univariate AR and VAR models (Stock and Watson, 2002). "
   ]
  },
  {
   "cell_type": "markdown",
   "id": "ab8ec6e8-dbaf-4d13-bda1-9e97b144e5e7",
   "metadata": {},
   "source": [
    "Alternatively, another variation of the PCA is the dynamic factor models (DFMs). DFM’s have gained prominence over the last decade mainly because of their ability to model sequential datasets consistently, specially when the number of series exceeds the number of time series observations. DFM’s were first introduced by Geweke (1977) as an addendum to time series factor models which were mainly developed for cross-sectional data. The idea of DFM’s is similar to the PCA, except that they introduce the dynamic part to it. Sargent and Sims (1977)’s work has extensively examined the macroeconomic variables using the dynamic factor model and have found that the models have the potential to explain a large variation in them (Stock and Watson, 2010). \n"
   ]
  },
  {
   "cell_type": "markdown",
   "id": "5d1c21cd-be19-45cd-b47f-2fca0fd2004b",
   "metadata": {},
   "source": [
    "Classical time series forecasting models such as AR, MA, ARIMAX and SARIMAX have always remained the go to models for the forecasters mainly because they are structured. However, with the advancement of machine learning techniques, the classical time series forecasting models are now becoming benchmark models to which the other non-traditional models of forecasting are compared. Classical time series models mainly rely on assumptions about the distribution of the error terms and linear relationship between the dependent and independent variables. Some complex time series models modify these assumptions somewhat, but the structure is still imposed. ARIMAX model accounts for the stationarity of the data and makes use of other explanatory variables and SARIMAX accounts for the seasonality on top of ARIMAX. "
   ]
  },
  {
   "cell_type": "markdown",
   "id": "927abdfb-b4a3-40f2-a3c1-84500e9e8c62",
   "metadata": {},
   "source": [
    "One of the advantages of classical time series models over machine learning models is that they provide a useful interpretation because of the parametrization as opposed to ML. On the other hand, multivariate time series models tend to increase the complexity mainly because of the non-linearity. According to Banerjee and Marcellino, univariate linear models tend to be often more robust than their multivariate counterparts (Banerjee and Marcellino, 2006).  However, this doesn’t imply that multivariate models are not useful. For the purpose of our analysis, we will be using the combination of both univariate and multivariate time series models. The idea is to use the classical time series models as a benchmark because they have been regarded as the gold standard for forecasting and have been widely used for over many years for macroeconomic forecasting."
   ]
  },
  {
   "cell_type": "markdown",
   "id": "f2ebf4f2-2174-4d5e-bc05-feeb3b343aac",
   "metadata": {},
   "source": [
    "## 3. Data and Summary Statistics"
   ]
  },
  {
   "cell_type": "markdown",
   "id": "075757f9-f723-4a0f-8b1b-008cc30506b1",
   "metadata": {},
   "source": [
    "### 3.1 Data description"
   ]
  },
  {
   "cell_type": "markdown",
   "id": "f6477252-66b3-4d59-a3d5-bed2ead89930",
   "metadata": {},
   "source": [
    "The source of the data used in this paper is the Fred, a database created and maintained by the Research Department at the Federal Reserve Bank of St. Louis. The database consists of hundreds of thousands of economic data time series from scores of national, international, public, and private sources. Our models will be univariate and multi-variate, in which case we will use the monthly variables for the US, and their transformations, to predict the US GDP growth. We got eleven monthly data series and one quarterly data series, the GDP. All of these series are seasonally adjusted. "
   ]
  },
  {
   "cell_type": "markdown",
   "id": "ee74cdfd-2bb1-4b53-a7c2-96e8f2fc51be",
   "metadata": {},
   "source": [
    "The series labeled \"payroll\" is the Total Nonfarm Payroll, a measure of the number of U.S. workers in the economy that excludes proprietors, private household employees, unpaid volunteers, farm employees, and the unincorporated self-employed. This measure accounts for approximately 80 percent of the workers who contribute to Gross Domestic Product (GDP). The Bureau of Labor Statistics (BLS) adjusts the data to offset the seasonal effects to show non-seasonal changes.\n",
    "\n",
    "The series labeled \"job_openings\" is the Total Nonfarm Job Openings, which measures all jobs that are not filled on the last business day of the month. A job is considered open if a specific position exists and there is work available for it, the job can be started within 30 days, and there is active recruiting for the position. Total Nonfarm Job Openings are measured by the Job Openings and Labor Turnover Survey (JOLTS) and published by the Bureau of Labor Statistics (BLS)."
   ]
  },
  {
   "cell_type": "markdown",
   "id": "6b5e7857-77ab-448c-8271-c9d343d6bcb0",
   "metadata": {},
   "source": [
    "The series named \"quits\" measures the employees who left voluntarily, with the exception of retirements or transfers to other locations. This numbers is divided by the total employment to return the quits rate. \n",
    "\n",
    "For \"ip\" we collect the industrial production of the US, the Board of Governors of the Federal Reserve System. It measures real output for all facilities located in the United States manufacturing, mining, and electric, and gas utilities (excluding those in U.S. territories). The series is determined from 312 individual series based on the 2007 North American Industrial Classification System (NAICS) codes.\n",
    "\n",
    "On \"vehicle_sales\" is the vehicle sales data for the US, also seasonally adjusted, and published by the U.S. Bureau of Economic Analysis. The seasonally adjusted series includes auto (all passenger cars, including station wagons) and truck sales data."
   ]
  },
  {
   "cell_type": "markdown",
   "id": "f6c0128c-126e-48a5-af96-8d9f7c9ec71e",
   "metadata": {},
   "source": [
    "We classify as \"retail\" the Advance Retail and Food Services Sales, deflated using the Consumer Price Index for All Urban Consumers. As the other series, it is also seasonally adjusted.\n",
    "\n",
    "Also, for \"wholesale_inventories\" which measures the inventories of wholesalers, not including retailers. The estimates are based on data from three surveys: the Monthly Retail Trade Survey, the Monthly Wholesale Trade Survey, and the Manufacturers' Shipments, Inventories, and Orders Survey.\n",
    "\n",
    "We use sentiment data as well, with the \"consumer_sentiment\" data is the Consumer Sentiment indicator measured by the University of Michigan. To calculate the Index of Consumer Sentiment (ICS), the University computes the relative scores (the percent giving favorable replies minus the percent giving unfavorable replies, plus 100) for each of the five index questions, including current financial conditions, expectations of financial conditions, expectations of business conditions, expectations of unemployment and conditions to buy households items."
   ]
  },
  {
   "cell_type": "markdown",
   "id": "f0a27caf-933e-47f1-b843-3b53c25300a5",
   "metadata": {},
   "source": [
    "We label as \"construction_spending\" measures the total dollar value of construction work done in the United States (including 50 states and the District of Columbia). Composite estimates are based on mail-out/mail-back and interview surveys of selected construction projects and building owners, and estimates developed or compiled from other Census Bureau, federal agency, and private data sources.\n",
    "\n",
    "For \"new_orders\" indicates the new orders of manufacturing products. This data comes from the Manufacturers' Shipments, Inventories, and Orders (M3) survey, which provides broad-based monthly statistical data on current economic conditions and indications of future production commitments in the manufacturing sector.\n",
    "\n",
    "Finally, for New Privately-Owned Housing we label as \"housing_starts.\" As provided by the Census, start occurs when excavation begins for the footings or foundation of a building. All housing units in a multifamily building are defined as being started when this excavation begins. Beginning with data for September 1992, estimates of housing starts include units in structures being totally rebuilt on an existing foundation."
   ]
  },
  {
   "cell_type": "markdown",
   "id": "7e65e173-e767-490f-b513-de17faa3a6fb",
   "metadata": {},
   "source": [
    "The only originally quarterly data used is the GDP series, which we unsurprisingly label as \"gdp\" for all models in this study. Gross domestic product (GDP), the featured measure of U.S. output, is the market value of the goods and services produced by labor and property located in the United States.For more information, see the Guide to the National Income and Product Accounts of the United States (NIPA) and the Bureau of Economic Analysis."
   ]
  },
  {
   "cell_type": "markdown",
   "id": "99ab5d43-413b-4de3-afb6-85065f4351c9",
   "metadata": {},
   "source": [
    "### 3.2 Summary Statistics"
   ]
  },
  {
   "cell_type": "code",
   "execution_count": 2,
   "id": "fbfb4b69-f1b2-41d1-805b-6efbe19a2794",
   "metadata": {
    "tags": []
   },
   "outputs": [],
   "source": [
    "# Access Fred\n",
    "fred = fa.Fred(api_key='b64520b0097cdfbc83e22960ad3fcdd8 ')\n",
    "\n",
    "# Getting series (quartery)\n",
    "gdp = fred.get_series('GDP').rename(\"GDP\")\n",
    "\n",
    "# Getting series (monthly)\n",
    "payroll = fred.get_series('PAYEMS').rename(\"payroll\")\n",
    "job_openings = fred.get_series('JTSJOL').rename(\"job_openings\")\n",
    "quits = fred.get_series('JTSQUR').rename(\"quits\")\n",
    "retail = fred.get_series('RSXFS').rename(\"retail\")\n",
    "ip = fred.get_series('INDPRO').rename(\"ip\")\n",
    "vehicle_sales = fred.get_series('TOTALSA').rename(\"vehicle_sales\")\n",
    "wholesale_inventories = fred.get_series('WHLSLRIMSA').rename(\"wholesale_inventories\")\n",
    "consumer_sentiment = fred.get_series('UMCSENT').rename(\"consumer_sentiment\")\n",
    "construction_spending = fred.get_series('TTLCONS').rename(\"construction_spending\")\n",
    "new_orders = fred.get_series('DGORDER').rename(\"new_orders\")\n",
    "housing_starts = fred.get_series('HOUST').rename(\"housing_starts\")\n",
    "\n",
    "# List of data\n",
    "list_monthly = [payroll, job_openings, ip, vehicle_sales, quits, retail, wholesale_inventories, consumer_sentiment, construction_spending, new_orders, housing_starts]\n",
    "\n",
    "# Monthly DataFrame\n",
    "monthly = pd.concat(list_monthly, axis=1).dropna()"
   ]
  },
  {
   "cell_type": "markdown",
   "id": "44c4afa6-8cea-47ca-90af-f5c41540ed3c",
   "metadata": {},
   "source": [
    "The data is seasonally adjusted, and therefore won't require transformations of such kind. However, the all the data series used are in levels and an investigation of stationarity is required. We show below the summary statistics of the data series and a chart for each of them. \n",
    "\n",
    "Then, we use the Augmented Dickey-Fuller test to check for stationarity in the set of data. None of the eleven series used pass the test at a 10% level. In this sense, a transformation of these series is required. We perform the same transformation for all of them: we will use log differences - the continuous equivalent of a percentage change - from now on. "
   ]
  },
  {
   "cell_type": "code",
   "execution_count": 3,
   "id": "7278a3ac-3fbf-4408-aef9-5acf69de527e",
   "metadata": {},
   "outputs": [
    {
     "data": {
      "image/png": "[encoded data removed]",
      "text/plain": [
       "<Figure size 1200x1920 with 11 Axes>"
      ]
     },
     "metadata": {
      "needs_background": "light"
     },
     "output_type": "display_data"
    }
   ],
   "source": [
    "# Plot\n",
    "fig, axes = plt.subplots(nrows=11, ncols=1, dpi=120, figsize=(10,16))\n",
    "for i, ax in enumerate(axes.flatten()):\n",
    "    data = monthly[monthly.columns[i]]\n",
    "    ax.plot(data, color='red', linewidth=1)\n",
    "    # Decorations\n",
    "    ax.set_title(monthly.columns[i])\n",
    "    ax.xaxis.set_ticks_position('none')\n",
    "    ax.yaxis.set_ticks_position('none')\n",
    "    ax.spines[\"top\"].set_alpha(0)\n",
    "    ax.tick_params(labelsize=6)\n",
    "\n",
    "plt.tight_layout();"
   ]
  },
  {
   "cell_type": "code",
   "execution_count": 4,
   "id": "88c4ef4b-3478-41a5-bd93-1612099e78ec",
   "metadata": {},
   "outputs": [
    {
     "data": {
      "text/html": [
       "<div>\n",
       "<style scoped>\n",
       "    .dataframe tbody tr th:only-of-type {\n",
       "        vertical-align: middle;\n",
       "    }\n",
       "\n",
       "    .dataframe tbody tr th {\n",
       "        vertical-align: top;\n",
       "    }\n",
       "\n",
       "    .dataframe thead th {\n",
       "        text-align: right;\n",
       "    }\n",
       "</style>\n",
       "<table border=\"1\" class=\"dataframe\">\n",
       "  <thead>\n",
       "    <tr style=\"text-align: right;\">\n",
       "      <th></th>\n",
       "      <th>payroll</th>\n",
       "      <th>job_openings</th>\n",
       "      <th>ip</th>\n",
       "      <th>vehicle_sales</th>\n",
       "      <th>quits</th>\n",
       "      <th>retail</th>\n",
       "      <th>wholesale_inventories</th>\n",
       "      <th>consumer_sentiment</th>\n",
       "      <th>construction_spending</th>\n",
       "      <th>new_orders</th>\n",
       "      <th>housing_starts</th>\n",
       "    </tr>\n",
       "  </thead>\n",
       "  <tbody>\n",
       "    <tr>\n",
       "      <th>count</th>\n",
       "      <td>255.000000</td>\n",
       "      <td>255.000000</td>\n",
       "      <td>255.000000</td>\n",
       "      <td>255.000000</td>\n",
       "      <td>255.000000</td>\n",
       "      <td>255.000000</td>\n",
       "      <td>255.000000</td>\n",
       "      <td>255.000000</td>\n",
       "      <td>2.550000e+02</td>\n",
       "      <td>255.000000</td>\n",
       "      <td>255.000000</td>\n",
       "    </tr>\n",
       "    <tr>\n",
       "      <th>mean</th>\n",
       "      <td>137896.482353</td>\n",
       "      <td>4881.929412</td>\n",
       "      <td>96.870191</td>\n",
       "      <td>15.949416</td>\n",
       "      <td>1.964314</td>\n",
       "      <td>361238.380392</td>\n",
       "      <td>491485.733333</td>\n",
       "      <td>84.059216</td>\n",
       "      <td>1.089204e+06</td>\n",
       "      <td>211769.529412</td>\n",
       "      <td>1277.698039</td>\n",
       "    </tr>\n",
       "    <tr>\n",
       "      <th>std</th>\n",
       "      <td>6681.601392</td>\n",
       "      <td>1838.401365</td>\n",
       "      <td>4.894543</td>\n",
       "      <td>2.317720</td>\n",
       "      <td>0.352970</td>\n",
       "      <td>76374.464473</td>\n",
       "      <td>138074.360927</td>\n",
       "      <td>11.402520</td>\n",
       "      <td>2.343568e+05</td>\n",
       "      <td>29396.272599</td>\n",
       "      <td>460.107860</td>\n",
       "    </tr>\n",
       "    <tr>\n",
       "      <th>min</th>\n",
       "      <td>129698.000000</td>\n",
       "      <td>2232.000000</td>\n",
       "      <td>84.201800</td>\n",
       "      <td>8.961000</td>\n",
       "      <td>1.200000</td>\n",
       "      <td>249845.000000</td>\n",
       "      <td>293159.000000</td>\n",
       "      <td>55.300000</td>\n",
       "      <td>7.583760e+05</td>\n",
       "      <td>146323.000000</td>\n",
       "      <td>478.000000</td>\n",
       "    </tr>\n",
       "    <tr>\n",
       "      <th>25%</th>\n",
       "      <td>131969.000000</td>\n",
       "      <td>3553.000000</td>\n",
       "      <td>92.746900</td>\n",
       "      <td>15.032000</td>\n",
       "      <td>1.700000</td>\n",
       "      <td>303957.000000</td>\n",
       "      <td>376982.500000</td>\n",
       "      <td>75.050000</td>\n",
       "      <td>8.641825e+05</td>\n",
       "      <td>185653.500000</td>\n",
       "      <td>934.000000</td>\n",
       "    </tr>\n",
       "    <tr>\n",
       "      <th>50%</th>\n",
       "      <td>136520.000000</td>\n",
       "      <td>4373.000000</td>\n",
       "      <td>98.285400</td>\n",
       "      <td>16.761000</td>\n",
       "      <td>2.000000</td>\n",
       "      <td>341787.000000</td>\n",
       "      <td>476187.000000</td>\n",
       "      <td>86.700000</td>\n",
       "      <td>1.069010e+06</td>\n",
       "      <td>219108.000000</td>\n",
       "      <td>1238.000000</td>\n",
       "    </tr>\n",
       "    <tr>\n",
       "      <th>75%</th>\n",
       "      <td>143151.000000</td>\n",
       "      <td>5856.500000</td>\n",
       "      <td>100.949750</td>\n",
       "      <td>17.508000</td>\n",
       "      <td>2.200000</td>\n",
       "      <td>406128.000000</td>\n",
       "      <td>606267.000000</td>\n",
       "      <td>93.300000</td>\n",
       "      <td>1.252838e+06</td>\n",
       "      <td>232521.000000</td>\n",
       "      <td>1639.000000</td>\n",
       "    </tr>\n",
       "    <tr>\n",
       "      <th>max</th>\n",
       "      <td>152504.000000</td>\n",
       "      <td>11448.000000</td>\n",
       "      <td>104.165900</td>\n",
       "      <td>22.055000</td>\n",
       "      <td>3.000000</td>\n",
       "      <td>582698.000000</td>\n",
       "      <td>818209.000000</td>\n",
       "      <td>103.800000</td>\n",
       "      <td>1.728565e+06</td>\n",
       "      <td>304221.000000</td>\n",
       "      <td>2273.000000</td>\n",
       "    </tr>\n",
       "  </tbody>\n",
       "</table>\n",
       "</div>"
      ],
      "text/plain": [
       "             payroll  job_openings          ip  vehicle_sales       quits  \\\n",
       "count     255.000000    255.000000  255.000000     255.000000  255.000000   \n",
       "mean   137896.482353   4881.929412   96.870191      15.949416    1.964314   \n",
       "std      6681.601392   1838.401365    4.894543       2.317720    0.352970   \n",
       "min    129698.000000   2232.000000   84.201800       8.961000    1.200000   \n",
       "25%    131969.000000   3553.000000   92.746900      15.032000    1.700000   \n",
       "50%    136520.000000   4373.000000   98.285400      16.761000    2.000000   \n",
       "75%    143151.000000   5856.500000  100.949750      17.508000    2.200000   \n",
       "max    152504.000000  11448.000000  104.165900      22.055000    3.000000   \n",
       "\n",
       "              retail  wholesale_inventories  consumer_sentiment  \\\n",
       "count     255.000000             255.000000          255.000000   \n",
       "mean   361238.380392          491485.733333           84.059216   \n",
       "std     76374.464473          138074.360927           11.402520   \n",
       "min    249845.000000          293159.000000           55.300000   \n",
       "25%    303957.000000          376982.500000           75.050000   \n",
       "50%    341787.000000          476187.000000           86.700000   \n",
       "75%    406128.000000          606267.000000           93.300000   \n",
       "max    582698.000000          818209.000000          103.800000   \n",
       "\n",
       "       construction_spending     new_orders  housing_starts  \n",
       "count           2.550000e+02     255.000000      255.000000  \n",
       "mean            1.089204e+06  211769.529412     1277.698039  \n",
       "std             2.343568e+05   29396.272599      460.107860  \n",
       "min             7.583760e+05  146323.000000      478.000000  \n",
       "25%             8.641825e+05  185653.500000      934.000000  \n",
       "50%             1.069010e+06  219108.000000     1238.000000  \n",
       "75%             1.252838e+06  232521.000000     1639.000000  \n",
       "max             1.728565e+06  304221.000000     2273.000000  "
      ]
     },
     "execution_count": 4,
     "metadata": {},
     "output_type": "execute_result"
    }
   ],
   "source": [
    "# Describe the summary statistics\n",
    "monthly.describe()"
   ]
  },
  {
   "cell_type": "code",
   "execution_count": 5,
   "id": "ddfc2ff5-3316-4129-81ce-032016f95dff",
   "metadata": {},
   "outputs": [
    {
     "data": {
      "text/html": [
       "<div>\n",
       "<style scoped>\n",
       "    .dataframe tbody tr th:only-of-type {\n",
       "        vertical-align: middle;\n",
       "    }\n",
       "\n",
       "    .dataframe tbody tr th {\n",
       "        vertical-align: top;\n",
       "    }\n",
       "\n",
       "    .dataframe thead th {\n",
       "        text-align: right;\n",
       "    }\n",
       "</style>\n",
       "<table border=\"1\" class=\"dataframe\">\n",
       "  <thead>\n",
       "    <tr style=\"text-align: right;\">\n",
       "      <th></th>\n",
       "      <th>ADF Fuller test</th>\n",
       "    </tr>\n",
       "  </thead>\n",
       "  <tbody>\n",
       "    <tr>\n",
       "      <th>payroll</th>\n",
       "      <td>-0.918527</td>\n",
       "    </tr>\n",
       "    <tr>\n",
       "      <th>job_openings</th>\n",
       "      <td>0.904821</td>\n",
       "    </tr>\n",
       "    <tr>\n",
       "      <th>quits</th>\n",
       "      <td>-1.083210</td>\n",
       "    </tr>\n",
       "    <tr>\n",
       "      <th>retail</th>\n",
       "      <td>1.564151</td>\n",
       "    </tr>\n",
       "    <tr>\n",
       "      <th>ip</th>\n",
       "      <td>-1.957387</td>\n",
       "    </tr>\n",
       "    <tr>\n",
       "      <th>vehicle_sales</th>\n",
       "      <td>-2.592540</td>\n",
       "    </tr>\n",
       "    <tr>\n",
       "      <th>wholesale_inventories</th>\n",
       "      <td>1.113354</td>\n",
       "    </tr>\n",
       "    <tr>\n",
       "      <th>consumer_sentiment</th>\n",
       "      <td>-2.279565</td>\n",
       "    </tr>\n",
       "    <tr>\n",
       "      <th>construction_spending</th>\n",
       "      <td>0.974425</td>\n",
       "    </tr>\n",
       "    <tr>\n",
       "      <th>new_orders</th>\n",
       "      <td>-1.831629</td>\n",
       "    </tr>\n",
       "    <tr>\n",
       "      <th>housing_starts</th>\n",
       "      <td>-1.427559</td>\n",
       "    </tr>\n",
       "    <tr>\n",
       "      <th>10% threshold</th>\n",
       "      <td>-2.573096</td>\n",
       "    </tr>\n",
       "  </tbody>\n",
       "</table>\n",
       "</div>"
      ],
      "text/plain": [
       "                       ADF Fuller test\n",
       "payroll                      -0.918527\n",
       "job_openings                  0.904821\n",
       "quits                        -1.083210\n",
       "retail                        1.564151\n",
       "ip                           -1.957387\n",
       "vehicle_sales                -2.592540\n",
       "wholesale_inventories         1.113354\n",
       "consumer_sentiment           -2.279565\n",
       "construction_spending         0.974425\n",
       "new_orders                   -1.831629\n",
       "housing_starts               -1.427559\n",
       "10% threshold                -2.573096"
      ]
     },
     "execution_count": 5,
     "metadata": {},
     "output_type": "execute_result"
    }
   ],
   "source": [
    "# Run ADF tests for all series\n",
    "adf_payroll = adfuller(monthly[\"payroll\"])\n",
    "adf_job_openings = adfuller(monthly[\"job_openings\"])\n",
    "adf_quits = adfuller(monthly[\"quits\"])\n",
    "adf_retail = adfuller(monthly[\"retail\"])\n",
    "adf_ip = adfuller(monthly[\"ip\"])\n",
    "adf_vehicle_sales = adfuller(monthly[\"vehicle_sales\"])\n",
    "adf_wholesale_inventories = adfuller(monthly[\"wholesale_inventories\"])\n",
    "adf_consumer_sentiment = adfuller(monthly[\"consumer_sentiment\"])\n",
    "adf_construction_spending = adfuller(monthly[\"construction_spending\"])\n",
    "adf_new_orders = adfuller(monthly[\"new_orders\"])\n",
    "adf_housing_starts = adfuller(monthly[\"housing_starts\"])\n",
    "\n",
    "# List of data\n",
    "list_adf = [adf_payroll[0], adf_job_openings[0], adf_quits[0], adf_retail[0], adf_ip[0], adf_vehicle_sales[0], adf_wholesale_inventories[0], adf_consumer_sentiment[0], adf_construction_spending[0], adf_new_orders[0], adf_housing_starts[0], -2.573095980841316]\n",
    "\n",
    "# DataFrame with ADF tests\n",
    "adf = pd.DataFrame(list_adf, index=[\"payroll\", \"job_openings\", \"quits\", \"retail\", \"ip\", \"vehicle_sales\", \"wholesale_inventories\", \"consumer_sentiment\", \"construction_spending\", \"new_orders\", \"housing_starts\", \"10% threshold\"], columns={\"ADF Fuller test\"})\n",
    "\n",
    "adf"
   ]
  },
  {
   "cell_type": "markdown",
   "id": "b76eba55-2930-495e-b9d0-223d9d62ce6e",
   "metadata": {},
   "source": [
    "Also, in some of the model alternatives, we can only use the quarterly data. In this sense, to turn the monthly series into quarterly, we perform the following transformations. First, we calculate the quarterly average of each variable and create a quarterly series for them. After this proceeding is done, we perform the log differences for the quarterly series. For GDP, we only need to run the log differences as the series is already quarterly by construction."
   ]
  },
  {
   "cell_type": "code",
   "execution_count": 6,
   "id": "ecfca828-6497-4185-8e1d-65c2900bb02f",
   "metadata": {
    "tags": []
   },
   "outputs": [],
   "source": [
    "# Normalized DataFrame\n",
    "normalized_monthly=np.log(monthly).diff()*100"
   ]
  },
  {
   "cell_type": "code",
   "execution_count": 7,
   "id": "5b0ab789-c0a3-4231-a340-1f9a177cc3f3",
   "metadata": {
    "tags": []
   },
   "outputs": [],
   "source": [
    "#Adjusting index\n",
    "normalized_monthly = normalized_monthly.reset_index()\n",
    "normalized_monthly.set_index('index')\n",
    "\n",
    "#Turning into quarterly\n",
    "quarterly = normalized_monthly.groupby(pd.PeriodIndex(normalized_monthly['index'], freq='Q')).mean().reset_index()\n",
    "\n",
    "# Adjust the gdp data series\n",
    "df_gdp = pd.DataFrame(gdp).loc[(pd.DataFrame(gdp).index >= '2000-10-01') & (pd.DataFrame(gdp).index <= '2021-10-01')].reset_index().rename(columns={\"index\": \"old_index\"})\n",
    "df_gdp['GDP'] = np.log(df_gdp['GDP']).diff()*100\n",
    "\n",
    "# Add on a single dataframe\n",
    "quarterly_all = pd.concat([df_gdp, quarterly], axis=1).drop('old_index', axis=1).set_index('index')\n",
    "quarterly_all = quarterly_all.dropna()[:-1]\n",
    "\n",
    "# Finally, we've got the data\n",
    "#quarterly_all"
   ]
  },
  {
   "cell_type": "markdown",
   "id": "1ebbdc01-daa2-41cc-b81a-537c83ca76bb",
   "metadata": {},
   "source": [
    "## 4. Forecasting methods"
   ]
  },
  {
   "cell_type": "markdown",
   "id": "7cdb8bd9-023d-418e-a591-a058bbd60c5f",
   "metadata": {},
   "source": [
    "In this section, we briefly describe the methodology behind each of the models used. After that discussion, we then delve into the modeling process and the empiric results. Here, we will discuss the following models:\n",
    "\n",
    "1. Trailing 3-period average\n",
    "\n",
    "2. Exponential Smoothing\n",
    "\n",
    "3. ARIMA\n",
    "\n",
    "4. Simple Linear Regression (OLS)\n",
    "\n",
    "5. Ridge / Lasso / Elastic Net regressions\n",
    "\n",
    "6. Dynamic Factor Model\n",
    "\n",
    "7. Vector Autoregressive (VAR)\n",
    "\n",
    "8. Random Forest\n",
    "\n",
    "9. Gradient Boosted Decision Trees\n",
    "\n",
    "10. K-Nearest Neighbor\n",
    "\n",
    "11. Support Vector Regression\n",
    "\n",
    "12. Dense Neural Networks"
   ]
  },
  {
   "cell_type": "markdown",
   "id": "6a0cdfd6-11d0-4eb9-93cc-0f157f3ac1f8",
   "metadata": {
    "tags": []
   },
   "source": [
    "#### 4.1 Univariate Models"
   ]
  },
  {
   "cell_type": "markdown",
   "id": "826bd822-88f5-4539-9a44-aa980299463b",
   "metadata": {},
   "source": [
    "**Trailing 3-period average**: \n",
    "\n",
    "This simple estimator plays the role of a naïve benchmark. It is an average of three periods, which can be 3-months or 3-quarters, depending on the variable used in our analysis.\n",
    "\n",
    "\\begin{align*}\n",
    "  \\hat{\\mu}_{t+1} &= \\frac{1}{T}\\sum^{t=3}_{t=1} {\\hat\\mu_t}\\\\\n",
    "  &\\text{where } \\hat{\\mu}_{t} \\text{is the independent variable}\\\\\n",
    "\\end{align*}"
   ]
  },
  {
   "cell_type": "markdown",
   "id": "0d7cba34-69fb-4ad0-a1a9-5fcf4225fff3",
   "metadata": {},
   "source": [
    "**Exponential Smoothing**: \n",
    "\n",
    "A weighted average of lagged values, with weights decaying exponentially the longer the lag. Exponential smoothing takes into account all past data, whereas moving average only takes into account $k$ past data points.\n",
    "\n",
    "\n",
    "$$ X_{t+1} = \\alpha X_{t} + \\alpha (1- \\alpha) X_{t-1} + \\alpha (1- \\alpha)^2 X_{t-2} + {...} $$\n",
    "\n",
    "\n",
    "where $0 \\le \\alpha \\le 1 $ is the smoothing parameter. You choose how many lags to use. We will use four lags here."
   ]
  },
  {
   "cell_type": "markdown",
   "id": "055e2f8b-1942-4190-aff3-f229d77a876a",
   "metadata": {},
   "source": [
    "**ARIMA**: \n",
    "\n",
    "A stochastic process $ \\{X_t\\} $ is called an *autoregressive moving\n",
    "average process*, or ARMA($ p,q $), if it can be written as\n",
    "\n",
    "\n",
    "<a id='equation-arma'></a>\n",
    "$$\n",
    "X_t = \\phi_1 X_{t-1} + \\cdots + \\phi_p X_{t-p} +\n",
    "    \\epsilon_t + \\theta_1 \\epsilon_{t-1} + \\cdots + \\theta_q \\epsilon_{t-q}\n",
    "$$\n",
    "\n",
    "where $ \\{ \\epsilon_t \\} $ is white noise.\n",
    "\n",
    "In what follows we **always assume** that the roots of the polynomial $ \\phi(z) $ lie outside the unit circle in the complex plane.\n",
    "\n",
    "This condition is sufficient to guarantee that the ARMA($ p,q $) process is covariance stationary.\n",
    "\n",
    "In fact, it implies that the process falls within the class of general linear processes.\n",
    "\n",
    "We define an ARIMA(p, d, q) model as the mixture of an AR(p) and MA(q) model with differencing (to help make the process stationary)"
   ]
  },
  {
   "cell_type": "markdown",
   "id": "6dad0ccd-512e-4b79-b47e-1db356dfda13",
   "metadata": {},
   "source": [
    "#### 4.2 Linear Regression and Machine Learning Models"
   ]
  },
  {
   "cell_type": "markdown",
   "id": "6de3c35f-7578-4bad-bc9c-18f2f8c21892",
   "metadata": {},
   "source": [
    "**Simple Linear Regression (OLS):**\n",
    "\n",
    "The most common technique to estimate a linear relationship between variables is Ordinary Least Squares (OLS). OLS model is solved by finding the parameters that minimize the sum of squared residuals.\n",
    "\n",
    "The model can be defined, in the matrix form, as:\n",
    "\n",
    "$$\n",
    "y = X\\beta + u\n",
    "$$\n",
    "\n",
    "To solve for the unknown parameter $ \\beta $, we want to minimize\n",
    "the sum of squared residuals\n",
    "\n",
    "$$\n",
    "\\underset{\\hat{\\beta}}{\\min} \\hat{u}'\\hat{u}\n",
    "$$\n",
    "\n",
    "Rearranging the first equation and substituting into the second\n",
    "equation, we can write\n",
    "\n",
    "$$\n",
    "\\underset{\\hat{\\beta}}{\\min} \\ (Y - X\\hat{\\beta})' (Y - X\\hat{\\beta})\n",
    "$$\n",
    "\n",
    "Solving this optimization problem gives the solution for the\n",
    "$ \\hat{\\beta} $ coefficients\n",
    "\n",
    "$$\n",
    "\\hat{\\beta} = (X'X)^{-1}X'y\n",
    "$$"
   ]
  },
  {
   "cell_type": "markdown",
   "id": "99dd5b16-78f6-4f58-8d8a-d489e18876c0",
   "metadata": {},
   "source": [
    "**Ridge / Lasso / Elastic Net:**\n",
    "\n",
    "These models are very closely related to traditional OLS, but they focus on regularization of parameters to avoid overfitting.\n",
    "\n",
    "The Lasso model generates predictions using but optimizes over a slightly different loss function:\n",
    "\n",
    "$$\n",
    "\\underset{\\hat{\\beta}}{\\min} \\ (Y - X\\hat{\\beta})' (Y - X\\hat{\\beta}) + \\alpha\\hat{\\beta}\n",
    "$$\n",
    "\n",
    "where $ \\alpha $ is the regularization parameter. The additional term penalizes large coefficients and in practice, effectively sets coefficients to zero for features that are not informative about the target.\n",
    "\n",
    "\n",
    "Ridge regressions places a particular form of constraint on the parameters $\\beta$, which is chosen to minimize the penalized sum of squares:\n",
    "\n",
    "$$\n",
    "\\underset{\\hat{\\beta}}{\\min} \\ (Y - X\\hat{\\beta})' (Y - X\\hat{\\beta}) + \\lambda\\hat{\\beta}'\\hat{\\beta}\n",
    "$$\n",
    "\n",
    "This means that if the $\\beta$ take on large values, the optimization function is penalized, but not zero (only reducing the impact of \"irrelevant\" features of the model).\n",
    "\n",
    "The elastic net algorithm uses a weighted combination of Ridge and Lasso forms of regularization. "
   ]
  },
  {
   "cell_type": "markdown",
   "id": "bea7d516-57b4-476d-917c-b936a10d8928",
   "metadata": {},
   "source": [
    "#### 4.3 More Complex Econometric Methods"
   ]
  },
  {
   "cell_type": "markdown",
   "id": "9e02b7f9-1a46-4410-a9ed-5b81ac24243f",
   "metadata": {},
   "source": [
    "**Vector autoregressions (VARs):**\n",
    "\n",
    "The Vector Autoregression models (VARs) are an extension of the AR model described before, in a multi-variate form used when two or more time series can influence each other. This parametric model is built as an equation that includes the variable's lagged (past) values, the lagged values of the other variables in the model, and an error term. \n",
    "\n",
    "An important part of the VAR models, as it is for the AR version, is the order of the model - the number of lags one wants to include in its model. In the example below we represent as an infinity of lags. However, on the data analysis it would be required that we perform a lag criterion test, such as AIC, PIC and SIC."
   ]
  },
  {
   "cell_type": "markdown",
   "id": "e9efcebe-a04d-4f5e-b02c-859d582ffda1",
   "metadata": {},
   "source": [
    "In the example of equation below, we describe an VAR model where the $X_t$ an the independent variable, which we are interested in modeling, $X_{t-T}$ are the lags of the independent variable. In the meantime, $Y_{t-T}$ is a matrix that represents all the lagged explanatory variables used in the model. Again $ \\{ \\epsilon_t \\} $ is white noise."
   ]
  },
  {
   "cell_type": "markdown",
   "id": "80cb23ff-73fb-4102-bc27-387c03b5b1f7",
   "metadata": {},
   "source": [
    "<a id='equation-VAR'></a>\n",
    "$$\n",
    "X_t = \\phi_1 X_{t-1} + \\cdots + \\phi_p X_{t-p} + \\phi_1 Y_{t-1} + \\cdots + \\phi_p Y_{t-p} +\n",
    "    \\epsilon_t\n",
    "$$"
   ]
  },
  {
   "cell_type": "markdown",
   "id": "996dff66-f05c-4c64-b6fc-c3f23e4bf155",
   "metadata": {},
   "source": [
    "**Dynamic Factor Model:**\n",
    "\n",
    "In a dynamic factor model, we model a potentially large number of macroeconomic series as being driven by a much smaller number of latent factors, which are estimated, which involves a principal component analysis. \n",
    "\n",
    "Principal component analysis is an unsupervised algorithm, based on feature correlation, used for dimensionality reduction. The premise is simply to take data of higher dimensions, and reduce to a lower dimension.\n",
    "\n",
    "Often times, in higher dimensional data, it isn't possible to create visual representations of relationships between variables. Through applying PCA, it then becomes possible to reduce the dimensions of the data and display variable relationships. This tool also allows easier visualization and noise filtering, among other applications.\n",
    "\n",
    "The PCA must be used when three conditions apply:\n",
    "\n",
    "1. Reduce the number of variables\n",
    "2. Ensure that each variable is independent of one another\n",
    "3. Assume that the interpretation of the independent variables is less important"
   ]
  },
  {
   "cell_type": "markdown",
   "id": "3254e313-e94f-49ed-a36e-fc8e5b7aefc5",
   "metadata": {},
   "source": [
    "How does a PCA work?\n",
    "\n",
    "a. Calculate a matrix that summarizes how the variables are related one another (the covariance matrix).\n",
    "\n",
    "b. Then separate it between direction (eigenvectors) and magnitude (eigenvalues)\n",
    "\n",
    "c. By projecting the data into a smaller space, we reduce dimension, but keep the original variables in our model\n",
    "\n",
    "Mathematically, the first principal component is the direction in space along which projections have the largest variance. The second principal component is the direction which maximizes variance among all directions orthogonal to the first. The k-th component is the variance-maximizing direction orthogonal to the previous k-1 components.\n",
    "\n",
    "With those principal components, we use them as explanatory variables in an OLS."
   ]
  },
  {
   "cell_type": "markdown",
   "id": "06c28134-4e74-4e3e-9102-880dcd6af678",
   "metadata": {},
   "source": [
    "For our specific case, we use a state space model to try and explain the GDP data we observe by using only one unobserved factor, extracted from a series of monthly data.\n",
    "\n",
    "Define our state space model as:"
   ]
  },
  {
   "cell_type": "markdown",
   "id": "8bcbbd4c-8f14-4dfe-871a-ac454a18c54d",
   "metadata": {},
   "source": [
    "\n",
    "\\begin{align*}\n",
    "  \\lambda_{t} &= A \\lambda_{t-1} + \\eta_t \\\\\n",
    "  p_{i, t} &= G_i \\lambda_t + \\varepsilon_{i, t} \\\\\n",
    "  \\eta_t &\\sim N(0, I) \\\\\n",
    "  \\varepsilon_t &\\sim N(0, \\Sigma)\n",
    "\\end{align*}\n",
    "\n"
   ]
  },
  {
   "cell_type": "markdown",
   "id": "f5d100a9-4e5e-4434-9705-78571ec8e865",
   "metadata": {},
   "source": [
    "Note: If we stack our $p_{i, t}$ values, we wind up with\n",
    "\n",
    "$$P_t = G \\lambda_t + \\varepsilon_t$$\n",
    "\n",
    "where $G \\equiv \\begin{bmatrix} G_1 \\\\ G_2 \\\\ \\vdots \\\\ G_I \\end{bmatrix}$, $\\varepsilon_t \\equiv \\begin{bmatrix} \\varepsilon_1 \\\\ \\varepsilon_2 \\\\ \\vdots \\\\ \\varepsilon_I \\end{bmatrix}$"
   ]
  },
  {
   "cell_type": "markdown",
   "id": "ec1c2ddd-f719-4789-a983-c285867f4519",
   "metadata": {
    "tags": []
   },
   "source": [
    "#### 4.4 Nonlinear Algorithms\n"
   ]
  },
  {
   "cell_type": "markdown",
   "id": "8599892c-c67f-4613-b4b0-7bdafd87ac39",
   "metadata": {},
   "source": [
    "**Random Forest:**\n",
    "\n",
    "Random forest is a supervised machine learning algorithm, using ensemble learning methods i.e. combining the output of multiple decision trees to reach a single result. For classification problems, the random forest algorithm takes majority vote and the output is the class selected by most trees. For Regression problems, the output is the average of all predictions.\n",
    "\n",
    "Random Forest applies the technique of Bootstrap Aggregation, also known as Bagging, to tree learners. For instance, if a training set:"
   ]
  },
  {
   "cell_type": "markdown",
   "id": "bde45b10-1c22-4a02-a70b-75c5236dc8d9",
   "metadata": {},
   "source": [
    "$ X = x_{1}, x_{2}, ... x_{n} $, has responses $ Y=y_{1}, y_{2},...y_{n} $, then the bagging ensemble method repeatedly selects a random sample, with replacement, from the training set and fits trees to these samples, such that:\n",
    "\n",
    "Let B be the number of times a random sample is selected,\n",
    "\n",
    "\n",
    "For $ b = 1,...,B $\n",
    "\n",
    "1. Sample, with replacement, $n$ training examples from $ X,Y$. Let these be called $ X_{b} , Y_{b} $\n",
    "\n",
    "2. Train a classification or regression tree $f_{b}$ on $X_{b} , Y_{b}$\n",
    "\n",
    "Once the model has been trained using the samples, predictions for the test data or the unseen $x'$, in case of regression problem, will be made by averaging the predicitions from all individual regression trees on $x'$:,\n",
    "\n",
    "$ \n",
    "\\hat{f} = 1/B \\sum_{b=1}^B \\hat{f} (x') \n",
    "$"
   ]
  },
  {
   "cell_type": "markdown",
   "id": "c2dcdd95-bba9-4ae6-99a5-598d5e4729b9",
   "metadata": {},
   "source": [
    "For classification problems, the majority vote will be used.\n",
    "\n",
    "The biggest advantage of using bootstrapping procedure in Random Forest is that this method decreases the variance of the model, without increasing the bias and improves the performance of the model. While the predictions of a single tree are highly sensitive to noise in its training set, the average of many trees is not, as long as the trees are not correlated. Simply training many trees on a single training set would give strongly correlated trees. However, bootstrap sampling is a way of de-correlating the trees by using different training sets.\n",
    "\n",
    "Apart from using bootstrap aggregation, random forest algorithm uses another type of bagging scheme, which is a modified tree learning algorithm that selects, at each candidate split in the learning process, a random subset of the feautures. In an ordinary bootstrap sample, if one or a few features are very strong predictors for the response variable (target output), these features will be selected in many of the B trees, causing them to become correlated. However, random selection of inputs tackles this problem and increases the accuracy of the model."
   ]
  },
  {
   "cell_type": "markdown",
   "id": "cf6c59f1-30cb-4e41-a68d-e3216147cd76",
   "metadata": {},
   "source": [
    "**Gradient Boosted Decision Trees:**\n",
    "\n",
    "Description"
   ]
  },
  {
   "cell_type": "code",
   "execution_count": null,
   "id": "c1dafc4c-47d7-45f7-a848-59bb4c03fdad",
   "metadata": {},
   "outputs": [],
   "source": []
  },
  {
   "cell_type": "code",
   "execution_count": null,
   "id": "ff72bd6d-c143-4d69-b95e-a3e9b601e5a6",
   "metadata": {},
   "outputs": [],
   "source": []
  },
  {
   "cell_type": "code",
   "execution_count": null,
   "id": "40d38313-f707-42a5-8e95-8c0467a17325",
   "metadata": {},
   "outputs": [],
   "source": []
  },
  {
   "cell_type": "markdown",
   "id": "a514e687-2a6e-4f3a-839d-2217a61593f8",
   "metadata": {},
   "source": [
    "**K-Nearest Neighbors:**\n",
    "\n",
    "K Nearest Neighbour is a simple univariate algorithm that stores all the available cases and classifies the new data or case based on a similarity measure. It is mostly used to classifies a data point based on how its neighbours are classified. \n",
    "\n",
    "Similarity is defined according to a distance metric between two data points. Distance could be Euclidean, Manhattan, Minkowski, or Hamming distance. We use the Euclidean approach, which is the most widely used distance measure to calculate the distance between test samples and trained data values.\n",
    "\n",
    "- Euclidean Distance\n",
    "\n",
    "<a id='euclidean distance'></a>\n",
    "$$\n",
    "d(i,j) = \\sqrt{ {| x_{i1} - x_{j1} |}^2 + {|x_{i2} - x_{j2}|}^2 + \\cdots + {|x_{ip} - x_{jp}|}^2} \n",
    "$$\n",
    "\n",
    "- Minkowski Distance\n",
    "\n",
    "<a id='minkowski distance'></a>\n",
    "$$\n",
    "d(i,j) = ( {| x_{i1} - x_{j1} |}^q + {|x_{i2} - x_{j2}|}^q + \\cdots + {|x_{ip} - x_{jp}|}^q )^{1/q}\n",
    "$$\n",
    "\n",
    "- Manhattan Distance\n",
    "<a id='manhattan distance'></a>\n",
    "$$\n",
    "d(i,j) = {| x_{i1} - x_{j1} |} + {|x_{i2} - x_{j2}|} + \\cdots + {|x_{ip} - x_{jp}|}\n",
    "$$\n"
   ]
  },
  {
   "cell_type": "markdown",
   "id": "d32462e6-8fd1-462c-821e-fdb575fc38cc",
   "metadata": {},
   "source": [
    "From a given k, one can choose the closest neighbors of that given data. For a data record $t$ to be classified, its $k$ nearest neighbours are retrieved, and this forms a neighbourhood of $t$. One needs to choose an appropriate value for $k$, and the success of classification is very much dependent on this value. There are no pre-defined statistical methods to find the most favorable value of K. The only option is to choose different $k$ and select the one with the lowest error. However, we won't proceed like this here to avoid overfitting.\n",
    "\n"
   ]
  },
  {
   "cell_type": "markdown",
   "id": "6b118452-6857-4898-8091-6d4b73d27d13",
   "metadata": {},
   "source": [
    "**Support Vector Regression:**\n",
    "\n",
    "In ε-SV regression (Vapnik 1995), the goal is to find a function f (x) that has at most ε deviation from the actually obtained targets yi for all the training data, and at the same time is as flat as possible. In other words, we do not care about errors as long as they are less than ε, but will not accept any deviation larger than this. This may be important if you want to be sure not to lose more than ε money when dealing with exchange rates, for instance.\n",
    "\n",
    "For example, the case of linear functions $f$ , taking the form:\n",
    "\n",
    "$\n",
    "f(x) = $ $ <w,x> + $ $ b $ with $ w $ $\\epsilon $ $ X, $ $ b $ $ \\epsilon $ $ \\mathbb{R}\n",
    "$\n",
    "\n",
    "where $<.,.>$ denotes the dot product in $X$. Flatness in the case of the equation above means that one seeks a small $w$. One way to ensure this is to minimize the norm, i.e. $||w||2 = <w,w>$. "
   ]
  },
  {
   "cell_type": "markdown",
   "id": "2e936b53-0a3e-4e36-8d89-dc36ca8fd3b7",
   "metadata": {},
   "source": [
    "Therefore, the optimization problem is, in a simpler, more intuive version:\n",
    "\n",
    "minimize:\n",
    "\n",
    "$\n",
    "1/2 * ||w||^2\n",
    "$\n",
    "\n",
    "subject to: \n",
    "\n",
    "$ y_i $ $ - <w,x_i> - $ $b \\le  \\epsilon $\n",
    "\n",
    "$ <w,x_i> + $ $b $ $ - $ $ y_i  \\le  \\epsilon $\n"
   ]
  },
  {
   "cell_type": "markdown",
   "id": "a46ea259-328a-40fb-becf-6b35822f0a29",
   "metadata": {},
   "source": [
    "#### 3.5 Neural Networks"
   ]
  },
  {
   "cell_type": "markdown",
   "id": "97199a13-98ac-4ec5-a312-58b249debace",
   "metadata": {},
   "source": [
    "Neural networks are also commonly known as deep learning algorithms. They are computing systems inspired by the biological neural networks which are part of human brains. They were designed to discover and recognize pattern not only in numerical data but also in images, sound, text or time-series. In simple terms, neurons are the building blocks of the neural network algorithms. They work just like a \n",
    "function taking in input and producing output. Firstly, each input is multiplied by a weight:\n",
    "\n",
    "$\n",
    "x_1 -> x_1 * w_1 \n",
    "$\n",
    "\n",
    "$\n",
    "x_2 -> x_2 * w_2 \n",
    "$"
   ]
  },
  {
   "cell_type": "markdown",
   "id": "8da3282a-ae16-4483-976f-e69e66197d02",
   "metadata": {},
   "source": [
    "Then all the weighted inputs are added together with a bias b:\n",
    "\n",
    "$\n",
    "(x_1 * w_1) + (x_2 * w_2) + b\n",
    "$\n",
    "\n",
    "Finally, the sum is passed through an activation function:\n",
    "\n",
    "$\n",
    "y = f(x_1 * w_1 + x_2 * w_2 + b)\n",
    "$\n",
    "\n",
    "A commonly known activation function is the sigmoid function. Sigmoid function only outputs numbers in the range (0,1). Neural Network are nothing, but the bunch of neurons connected. There are different types of neural networks such as Feedforward, Long Short-Term Memory (LSTM) and Recurrent Neural Network. The organization of neurons is what makes each of these Neural Networks different. Goal for each of these algorithms is to recognize patterns in the data, image or any object. Neurons are generally organized into multiple layers. These layers can be categorized into the input, output and the hidden layers. The layers used for the purpose of this paper are Dense and LSTM."
   ]
  },
  {
   "cell_type": "markdown",
   "id": "fa9e8f88-db50-4ef8-be8f-dcea92939a11",
   "metadata": {},
   "source": [
    "**Dense Layers:**\n",
    "\n",
    "These are layers that are deeply connected with their preceding layers which means that the neurons of the layers are connected to every neuron of its preceding layer(cite). This kind of layering is often used in the Artificial Neural Networks. The way dense layers work is that the model receives output from every neuron of its preceding layer, where the neurons of the dense layer perform matrix-vector multiplication. Matrix vectormultiplication is a procedure where the row vector of the output from the preceding layers is equal to the column vector of the dense layer. The general rule of matrix-vector multiplication is that the row vector must have as many columns as possible like the column vector. The general formula for a matrix-vector product is\n"
   ]
  },
  {
   "cell_type": "markdown",
   "id": "dc922917-ceb0-4364-8d9e-ef19f7418a35",
   "metadata": {},
   "source": [
    "\n",
    "where $Ax = \\begin{bmatrix} a_{11} \\ a_{12} \\ \\dots \\ a_{1n} \\\\ a_{21} \\ a_{22} \\ \\dots \\ a_{2n} \\\\ \\vdots \\\\ a_{m1} \\ a_{m2} \\ \\dots \n",
    "\\ a_{mn} \\end{bmatrix}   \\begin{bmatrix} x_1 \\\\ x_2 \\\\ \\vdots \\\\ x_n \\end{bmatrix} $"
   ]
  },
  {
   "cell_type": "markdown",
   "id": "99d4c217-1ab2-41be-bb2b-b40cb4205ef5",
   "metadata": {},
   "source": [
    "Where A is a (M XN) matrix and X is a 1 X N) matrix. Values under this matrix are the trained parameters of the preceding layers also can be updated by the backpropagation. Backpropagation is a common algorithm used for the training of the feedforward neural networks. It calculates the gradient of the loss function with respect to the weights of the network for single input or output. From the above intuition, we can say that the output coming from the dense layer will be an N-dimensional vector. We can see that it is reducing the dimension of the vectors. So basically, a dense layer is used for changing the dimension of the vectors by using every neuron\n"
   ]
  },
  {
   "cell_type": "markdown",
   "id": "bf23602f-bd86-42da-9aa6-b7044d29ae34",
   "metadata": {},
   "source": [
    "## 5. Empirical Results"
   ]
  },
  {
   "cell_type": "markdown",
   "id": "bd26094b-1d20-45f1-9c3e-315748f4133f",
   "metadata": {},
   "source": [
    "In this section, we apply the methods described before to the US data we discussed before. In summary, whenever applicable, we will use monthly US economic data to predict the US quarterly GDP growth. \n",
    "\n",
    "For each and every model, we follow similar procedures. We estimate them in-sample with a sample from 2000 to 2021. Then, whenever possible (e.g. there's no out-of-sample for trailing average), we estimate them out-of-sample with the coefficients/training of the model from 2000 to 2010 and the forecast out-of-sample from 2011 to 2021. This step avoids the overfitting problem and make our model comparison more reliable.\n",
    "\n",
    "Then, in the following section, we combine all of our findings to compare them."
   ]
  },
  {
   "cell_type": "markdown",
   "id": "7794a278-42b4-420e-868a-753e9375cbc6",
   "metadata": {
    "tags": []
   },
   "source": [
    "#### 5.1 Trailing 3-period average (application):"
   ]
  },
  {
   "cell_type": "markdown",
   "id": "5d778dec-b927-4f05-8cf9-a7802cf6a793",
   "metadata": {
    "tags": []
   },
   "source": [
    "Trailing 3-period average is a very naive method to forecast GDP and therefore a good starting point. This model simply takes the average of the last 3-periods to produce next period's forecasts. As expected, this measure tracks GDP with lags and it is not highly useful in predicting it."
   ]
  },
  {
   "cell_type": "code",
   "execution_count": 8,
   "id": "b4750de9-064b-42a4-adee-9362419122af",
   "metadata": {
    "tags": []
   },
   "outputs": [
    {
     "data": {
      "image/png": "[encoded data removed]",
      "text/plain": [
       "<Figure size 432x288 with 1 Axes>"
      ]
     },
     "metadata": {
      "needs_background": "light"
     },
     "output_type": "display_data"
    }
   ],
   "source": [
    "\n",
    "\n",
    "# Define the three month trailing average\n",
    "df_gdp[\"3m_avg\"] = (df_gdp[\"GDP\"].shift(1).rolling(3).sum()/3)\n",
    "\n",
    "### in plot method we set the label and color of the curve.\n",
    "df_gdp['GDP'].plot(label='GDP', color='blue')\n",
    "\n",
    "df_gdp['3m_avg'].plot(label='Lagged 3-month average', color='orange')\n",
    "  \n",
    "# adding title to the plot\n",
    "plt.title('GDP growth and 3-month average')\n",
    "  \n",
    "# adding Label to the x-axis\n",
    "plt.xlabel('Years')\n",
    "  \n",
    "# adding legend to the curve\n",
    "plt.legend()\n",
    "\n",
    "plt.show()"
   ]
  },
  {
   "cell_type": "code",
   "execution_count": 9,
   "id": "747568dd-bb6e-4e8f-a02e-37b2133099c1",
   "metadata": {
    "tags": []
   },
   "outputs": [],
   "source": [
    "trailing_rmse = math.sqrt(sklearn.metrics.mean_squared_error(df_gdp['GDP'][40:], df_gdp['3m_avg'][40:]))"
   ]
  },
  {
   "cell_type": "markdown",
   "id": "42fff172-571d-45bd-beed-7c1907c69337",
   "metadata": {
    "tags": []
   },
   "source": [
    "#### 5.2 Exponential Smoothing (application):"
   ]
  },
  {
   "cell_type": "markdown",
   "id": "24b4510c-52be-4e12-8e71-b73fcbddc180",
   "metadata": {
    "tags": []
   },
   "source": [
    "Exponential Smoothing is a time series forecasting technique for the univariate data. It is similar to Box-Jenkins ARIMA or the trailing average family of methods in a sense that the prediction is the weighted sum of past observations, but the only difference is that the model uses an exponentially decreasing weight for past observations. The problem of the trailing average persists, and in fact for our sample the RMSE is higher."
   ]
  },
  {
   "cell_type": "code",
   "execution_count": 10,
   "id": "6c035d9d-fc8a-4d27-b2e3-7da5fce8c62b",
   "metadata": {
    "tags": []
   },
   "outputs": [
    {
     "data": {
      "image/png": "[encoded data removed]",
      "text/plain": [
       "<Figure size 432x288 with 1 Axes>"
      ]
     },
     "metadata": {
      "needs_background": "light"
     },
     "output_type": "display_data"
    }
   ],
   "source": [
    "# Define the three month trailing average\n",
    "df_gdp[\"exponential\"] = 0.5*df_gdp[\"GDP\"].shift(1) + (1-0.5)*0.5*df_gdp[\"GDP\"].shift(2) + (1-0.5)*(0.5**2)*df_gdp[\"GDP\"].shift(3)\n",
    "\n",
    "### in plot method we set the label and color of the curve.\n",
    "df_gdp['GDP'].plot(label='GDP', color='blue')\n",
    "\n",
    "df_gdp[\"exponential\"].plot(label='Exponential Smoothing (3-month)', color='orange')\n",
    "  \n",
    "# adding title to the plot\n",
    "plt.title('GDP growth and Exponential Smoothing (3-month)')\n",
    "  \n",
    "# adding Label to the x-axis\n",
    "plt.xlabel('Years')\n",
    "  \n",
    "# adding legend to the curve\n",
    "plt.legend()\n",
    "\n",
    "\n",
    "plt.show()"
   ]
  },
  {
   "cell_type": "code",
   "execution_count": 11,
   "id": "b6efd727-a8a8-442a-ab6f-b2c5c1138fe1",
   "metadata": {
    "tags": []
   },
   "outputs": [],
   "source": [
    "exponential_rmse = math.sqrt(sklearn.metrics.mean_squared_error(df_gdp['GDP'][40:], df_gdp[\"exponential\"][40:]))"
   ]
  },
  {
   "cell_type": "markdown",
   "id": "49b7f072-8d3b-41e5-b9ca-233079c8a0ad",
   "metadata": {
    "tags": []
   },
   "source": [
    "#### 5.3 ARIMA models (application):"
   ]
  },
  {
   "cell_type": "markdown",
   "id": "09b2bfcc-adcd-4780-98ae-e76fd81e3bdd",
   "metadata": {
    "tags": []
   },
   "source": [
    "ARIMA models are the gold standard of time series forecasting. These models not only take into account the variable's own lags but also the lags of the error terms and the stationarity of the data. The hyparameters for ARIMA model is p,d,q where p is the number of autoregressive terms. d is the difference required to make the series stationary and q is the number of lagged forecast errors. "
   ]
  },
  {
   "cell_type": "markdown",
   "id": "e0b6f9d8-4880-4f67-b22e-b1471c0f470a",
   "metadata": {},
   "source": [
    "First, to check for stationarity of the GDP series, Partial Auto-correlation functions are used. The GDP data, when looking at its first difference (our main variable), does not show any meaningful presence of autocorrelation. Still, we use for this exercise and ARIMA (3,0,0) -- note that any MA term when combined with a similar AR term would have unitary root in this case."
   ]
  },
  {
   "cell_type": "code",
   "execution_count": 12,
   "id": "eb0c40f3-6fef-4611-9b2f-0444aceac006",
   "metadata": {
    "tags": []
   },
   "outputs": [
    {
     "data": {
      "text/html": [
       " <style>\n",
       ".output_png {\n",
       "    display: table-cell;\n",
       "    text-align: center;\n",
       "    vertical-align: middle;\n",
       "}\n",
       "</style> "
      ],
      "text/plain": [
       "<IPython.core.display.HTML object>"
      ]
     },
     "execution_count": 12,
     "metadata": {},
     "output_type": "execute_result"
    },
    {
     "data": {
      "image/png": "[encoded data removed]",
      "text/plain": [
       "<Figure size 432x288 with 1 Axes>"
      ]
     },
     "metadata": {
      "needs_background": "light"
     },
     "output_type": "display_data"
    }
   ],
   "source": [
    "# See autocorrelation\n",
    "plot_acf(quarterly_all[\"GDP\"])\n",
    "\n",
    "\n",
    "from IPython.display import HTML\n",
    "HTML(\"\"\" <style>\n",
    ".output_png {\n",
    "    display: table-cell;\n",
    "    text-align: center;\n",
    "    vertical-align: middle;\n",
    "}\n",
    "</style> \"\"\")"
   ]
  },
  {
   "cell_type": "markdown",
   "id": "91093941-4f76-46f0-91d2-3a4629197503",
   "metadata": {},
   "source": [
    "It is interesting to note that when estimated through the whole sample, including the COVID-19 period, the AR(1) coefficient is close to zero. However, when estimating from 2000 to 2010, the AR(1) coefficient is around 0.6. This larger coefficient makes the estimates more volatile in the COVID-19 period, with lags."
   ]
  },
  {
   "cell_type": "code",
   "execution_count": 13,
   "id": "147ac1dc-caa3-4e89-a030-ca764643e3f5",
   "metadata": {},
   "outputs": [
    {
     "data": {
      "text/html": [
       "<table class=\"simpletable\">\n",
       "<caption>ARMA Model Results</caption>\n",
       "<tr>\n",
       "  <th>Dep. Variable:</th>        <td>GDP</td>       <th>  No. Observations:  </th>    <td>83</td>   \n",
       "</tr>\n",
       "<tr>\n",
       "  <th>Model:</th>            <td>ARMA(3, 0)</td>    <th>  Log Likelihood     </th> <td>-156.068</td>\n",
       "</tr>\n",
       "<tr>\n",
       "  <th>Method:</th>             <td>css-mle</td>     <th>  S.D. of innovations</th>   <td>1.586</td> \n",
       "</tr>\n",
       "<tr>\n",
       "  <th>Date:</th>          <td>Wed, 11 May 2022</td> <th>  AIC                </th>  <td>322.136</td>\n",
       "</tr>\n",
       "<tr>\n",
       "  <th>Time:</th>              <td>23:43:14</td>     <th>  BIC                </th>  <td>334.230</td>\n",
       "</tr>\n",
       "<tr>\n",
       "  <th>Sample:</th>           <td>03-31-2001</td>    <th>  HQIC               </th>  <td>326.995</td>\n",
       "</tr>\n",
       "<tr>\n",
       "  <th></th>                 <td>- 09-30-2021</td>   <th>                     </th>     <td> </td>   \n",
       "</tr>\n",
       "</table>\n",
       "<table class=\"simpletable\">\n",
       "<tr>\n",
       "      <td></td>         <th>coef</th>     <th>std err</th>      <th>z</th>      <th>P>|z|</th>  <th>[0.025</th>    <th>0.975]</th>  \n",
       "</tr>\n",
       "<tr>\n",
       "  <th>const</th>     <td>    0.9633</td> <td>    0.158</td> <td>    6.087</td> <td> 0.000</td> <td>    0.653</td> <td>    1.273</td>\n",
       "</tr>\n",
       "<tr>\n",
       "  <th>ar.L1.GDP</th> <td>   -0.1354</td> <td>    0.110</td> <td>   -1.235</td> <td> 0.217</td> <td>   -0.350</td> <td>    0.080</td>\n",
       "</tr>\n",
       "<tr>\n",
       "  <th>ar.L2.GDP</th> <td>    0.0086</td> <td>    0.112</td> <td>    0.077</td> <td> 0.939</td> <td>   -0.211</td> <td>    0.228</td>\n",
       "</tr>\n",
       "<tr>\n",
       "  <th>ar.L3.GDP</th> <td>    0.0253</td> <td>    0.111</td> <td>    0.228</td> <td> 0.820</td> <td>   -0.192</td> <td>    0.243</td>\n",
       "</tr>\n",
       "</table>\n",
       "<table class=\"simpletable\">\n",
       "<caption>Roots</caption>\n",
       "<tr>\n",
       "    <td></td>   <th>            Real</th>  <th>         Imaginary</th> <th>         Modulus</th>  <th>        Frequency</th>\n",
       "</tr>\n",
       "<tr>\n",
       "  <th>AR.1</th> <td>          -2.0722</td> <td>          -2.4724j</td> <td>           3.2260</td> <td>          -0.3610</td>\n",
       "</tr>\n",
       "<tr>\n",
       "  <th>AR.2</th> <td>          -2.0722</td> <td>          +2.4724j</td> <td>           3.2260</td> <td>           0.3610</td>\n",
       "</tr>\n",
       "<tr>\n",
       "  <th>AR.3</th> <td>           3.8040</td> <td>          -0.0000j</td> <td>           3.8040</td> <td>          -0.0000</td>\n",
       "</tr>\n",
       "</table>"
      ],
      "text/plain": [
       "<class 'statsmodels.iolib.summary.Summary'>\n",
       "\"\"\"\n",
       "                              ARMA Model Results                              \n",
       "==============================================================================\n",
       "Dep. Variable:                    GDP   No. Observations:                   83\n",
       "Model:                     ARMA(3, 0)   Log Likelihood                -156.068\n",
       "Method:                       css-mle   S.D. of innovations              1.586\n",
       "Date:                Wed, 11 May 2022   AIC                            322.136\n",
       "Time:                        23:43:14   BIC                            334.230\n",
       "Sample:                    03-31-2001   HQIC                           326.995\n",
       "                         - 09-30-2021                                         \n",
       "==============================================================================\n",
       "                 coef    std err          z      P>|z|      [0.025      0.975]\n",
       "------------------------------------------------------------------------------\n",
       "const          0.9633      0.158      6.087      0.000       0.653       1.273\n",
       "ar.L1.GDP     -0.1354      0.110     -1.235      0.217      -0.350       0.080\n",
       "ar.L2.GDP      0.0086      0.112      0.077      0.939      -0.211       0.228\n",
       "ar.L3.GDP      0.0253      0.111      0.228      0.820      -0.192       0.243\n",
       "                                    Roots                                    \n",
       "=============================================================================\n",
       "                  Real          Imaginary           Modulus         Frequency\n",
       "-----------------------------------------------------------------------------\n",
       "AR.1           -2.0722           -2.4724j            3.2260           -0.3610\n",
       "AR.2           -2.0722           +2.4724j            3.2260            0.3610\n",
       "AR.3            3.8040           -0.0000j            3.8040           -0.0000\n",
       "-----------------------------------------------------------------------------\n",
       "\"\"\""
      ]
     },
     "execution_count": 13,
     "metadata": {},
     "output_type": "execute_result"
    }
   ],
   "source": [
    "# Set Model\n",
    "arima_model = ARIMA(quarterly_all[\"GDP\"], order=(3,0,0))\n",
    "arima_fit = arima_model.fit()\n",
    "arima_fit.summary()"
   ]
  },
  {
   "cell_type": "code",
   "execution_count": 14,
   "id": "5906a34f-92e8-4cfe-874f-adcfe12a8b43",
   "metadata": {},
   "outputs": [
    {
     "data": {
      "text/html": [
       "<table class=\"simpletable\">\n",
       "<caption>ARMA Model Results</caption>\n",
       "<tr>\n",
       "  <th>Dep. Variable:</th>        <td>GDP</td>       <th>  No. Observations:  </th>   <td>40</td>   \n",
       "</tr>\n",
       "<tr>\n",
       "  <th>Model:</th>            <td>ARMA(3, 0)</td>    <th>  Log Likelihood     </th> <td>-38.105</td>\n",
       "</tr>\n",
       "<tr>\n",
       "  <th>Method:</th>             <td>css-mle</td>     <th>  S.D. of innovations</th>  <td>0.623</td> \n",
       "</tr>\n",
       "<tr>\n",
       "  <th>Date:</th>          <td>Wed, 11 May 2022</td> <th>  AIC                </th> <td>86.210</td> \n",
       "</tr>\n",
       "<tr>\n",
       "  <th>Time:</th>              <td>23:43:14</td>     <th>  BIC                </th> <td>94.654</td> \n",
       "</tr>\n",
       "<tr>\n",
       "  <th>Sample:</th>           <td>03-31-2001</td>    <th>  HQIC               </th> <td>89.263</td> \n",
       "</tr>\n",
       "<tr>\n",
       "  <th></th>                 <td>- 12-31-2010</td>   <th>                     </th>    <td> </td>   \n",
       "</tr>\n",
       "</table>\n",
       "<table class=\"simpletable\">\n",
       "<tr>\n",
       "      <td></td>         <th>coef</th>     <th>std err</th>      <th>z</th>      <th>P>|z|</th>  <th>[0.025</th>    <th>0.975]</th>  \n",
       "</tr>\n",
       "<tr>\n",
       "  <th>const</th>     <td>    0.9374</td> <td>    0.270</td> <td>    3.469</td> <td> 0.001</td> <td>    0.408</td> <td>    1.467</td>\n",
       "</tr>\n",
       "<tr>\n",
       "  <th>ar.L1.GDP</th> <td>    0.5970</td> <td>    0.158</td> <td>    3.767</td> <td> 0.000</td> <td>    0.286</td> <td>    0.908</td>\n",
       "</tr>\n",
       "<tr>\n",
       "  <th>ar.L2.GDP</th> <td>    0.0062</td> <td>    0.193</td> <td>    0.032</td> <td> 0.974</td> <td>   -0.371</td> <td>    0.384</td>\n",
       "</tr>\n",
       "<tr>\n",
       "  <th>ar.L3.GDP</th> <td>    0.0502</td> <td>    0.163</td> <td>    0.307</td> <td> 0.758</td> <td>   -0.270</td> <td>    0.370</td>\n",
       "</tr>\n",
       "</table>\n",
       "<table class=\"simpletable\">\n",
       "<caption>Roots</caption>\n",
       "<tr>\n",
       "    <td></td>   <th>            Real</th>  <th>         Imaginary</th> <th>         Modulus</th>  <th>        Frequency</th>\n",
       "</tr>\n",
       "<tr>\n",
       "  <th>AR.1</th> <td>           1.4157</td> <td>          -0.0000j</td> <td>           1.4157</td> <td>          -0.0000</td>\n",
       "</tr>\n",
       "<tr>\n",
       "  <th>AR.2</th> <td>          -0.7696</td> <td>          -3.6716j</td> <td>           3.7514</td> <td>          -0.2829</td>\n",
       "</tr>\n",
       "<tr>\n",
       "  <th>AR.3</th> <td>          -0.7696</td> <td>          +3.6716j</td> <td>           3.7514</td> <td>           0.2829</td>\n",
       "</tr>\n",
       "</table>"
      ],
      "text/plain": [
       "<class 'statsmodels.iolib.summary.Summary'>\n",
       "\"\"\"\n",
       "                              ARMA Model Results                              \n",
       "==============================================================================\n",
       "Dep. Variable:                    GDP   No. Observations:                   40\n",
       "Model:                     ARMA(3, 0)   Log Likelihood                 -38.105\n",
       "Method:                       css-mle   S.D. of innovations              0.623\n",
       "Date:                Wed, 11 May 2022   AIC                             86.210\n",
       "Time:                        23:43:14   BIC                             94.654\n",
       "Sample:                    03-31-2001   HQIC                            89.263\n",
       "                         - 12-31-2010                                         \n",
       "==============================================================================\n",
       "                 coef    std err          z      P>|z|      [0.025      0.975]\n",
       "------------------------------------------------------------------------------\n",
       "const          0.9374      0.270      3.469      0.001       0.408       1.467\n",
       "ar.L1.GDP      0.5970      0.158      3.767      0.000       0.286       0.908\n",
       "ar.L2.GDP      0.0062      0.193      0.032      0.974      -0.371       0.384\n",
       "ar.L3.GDP      0.0502      0.163      0.307      0.758      -0.270       0.370\n",
       "                                    Roots                                    \n",
       "=============================================================================\n",
       "                  Real          Imaginary           Modulus         Frequency\n",
       "-----------------------------------------------------------------------------\n",
       "AR.1            1.4157           -0.0000j            1.4157           -0.0000\n",
       "AR.2           -0.7696           -3.6716j            3.7514           -0.2829\n",
       "AR.3           -0.7696           +3.6716j            3.7514            0.2829\n",
       "-----------------------------------------------------------------------------\n",
       "\"\"\""
      ]
     },
     "execution_count": 14,
     "metadata": {},
     "output_type": "execute_result"
    }
   ],
   "source": [
    "# Separate test and train\n",
    "X_arima=sm.add_constant(quarterly_all.drop([\"GDP\"], axis=1))\n",
    "y_arima=quarterly_all['GDP']\n",
    "\n",
    "# Create test and train\n",
    "X_train_arima, X_test_arima, y_train_arima, y_test_arima = train_test_split(X_arima, y_arima, shuffle=False, train_size=40)\n",
    "\n",
    "# Fit model\n",
    "arima_model_out = ARIMA(y_train_arima, order=(3,0,0)).fit()\n",
    "arima_model_out.summary()"
   ]
  },
  {
   "cell_type": "code",
   "execution_count": 15,
   "id": "873ae6df-d0a3-4de2-83cd-fd07c861d4f6",
   "metadata": {},
   "outputs": [
    {
     "data": {
      "image/png": "[encoded data removed]",
      "text/plain": [
       "<Figure size 432x288 with 1 Axes>"
      ]
     },
     "metadata": {
      "needs_background": "light"
     },
     "output_type": "display_data"
    }
   ],
   "source": [
    "# Set Model\n",
    "arima_model = ARIMA(quarterly_all[\"GDP\"], order=(3,0,0))\n",
    "arima_fit = arima_model.fit()\n",
    "\n",
    "# Separate test and train\n",
    "X_arima=sm.add_constant(quarterly_all.drop([\"GDP\"], axis=1))\n",
    "y_arima=quarterly_all['GDP']\n",
    "\n",
    "# Create test and train\n",
    "X_train_arima, X_test_arima, y_train_arima, y_test_arima = train_test_split(X_arima, y_arima, shuffle=False, train_size=40)\n",
    "\n",
    "# Fit model\n",
    "arima_model_out = ARIMA(y_train_arima, order=(3,0,0)).fit()\n",
    "\n",
    "# Get data\n",
    "quarterly_constant = sm.add_constant(quarterly_all)\n",
    "\n",
    "# Create Series\n",
    "arima_fitted = pd.DataFrame(arima_fit.fittedvalues, columns = ['ARIMA In-Sample'])\n",
    "quarterly_arima = pd.concat([quarterly_constant.reset_index(), arima_fitted.reset_index().drop(\"index\", axis=1)], axis=1).set_index('index')\n",
    "\n",
    "### in plot method we set the label and color of the curve.\n",
    "quarterly_all['GDP'][40:].plot(label='GDP', color='blue')\n",
    "quarterly_arima['ARIMA In-Sample'][40:].plot(label='ARIMA (in-sample)', color='orange')\n",
    "out_of_sample_arima = 0.9374 + \t0.5970*quarterly_all['GDP'].shift(1) + 0.0062*quarterly_all['GDP'].shift(2) + 0.0502*quarterly_all['GDP'].shift(3)\n",
    "out_of_sample_arima[40:].plot(label='ARIMA (out-of-sample)', color='red')\n",
    "\n",
    "# adding title to the plot\n",
    "plt.title('GDP growth and ARIMA')\n",
    "  \n",
    "# adding Label to the x-axis\n",
    "plt.xlabel('Years')\n",
    "  \n",
    "# adding legend to the curve\n",
    "plt.legend()\n",
    "\n",
    "plt.show()"
   ]
  },
  {
   "cell_type": "code",
   "execution_count": 16,
   "id": "a30b3a3c-2ba6-4df2-b7be-ac8bf4a3da4b",
   "metadata": {},
   "outputs": [],
   "source": [
    "#errors\n",
    "arima_rmse_out_sample = math.sqrt(sklearn.metrics.mean_squared_error(quarterly_all['GDP'][40:], out_of_sample_arima[40:] ))\n",
    "arima_rmse_in_sample = math.sqrt(sklearn.metrics.mean_squared_error(quarterly_all['GDP'][40:], quarterly_arima['ARIMA In-Sample'][40:]))"
   ]
  },
  {
   "cell_type": "markdown",
   "id": "e3827160-859a-4a72-842f-60cff02fc72f",
   "metadata": {},
   "source": [
    "#### 5.4 OLS models (application):"
   ]
  },
  {
   "cell_type": "markdown",
   "id": "8a941419-3b8f-4067-a003-10fe3e546158",
   "metadata": {},
   "source": [
    "OLS models are also very primary and traditional models. They are primarily used when the data is cross-sectional. Their use in time series is more limited because of potential violations of standard OLS assumptions. However, they still are widely used and serve as the benchmark models and can be used to compare the forecasts across models.\n",
    "\n",
    "In this initial step, we show how the in-sample regression looks like. The adjusted r-squared is relatively high with payrolls, IP, retail sales showing the highest predictive powers to GDP. Other variables, such as Vehicle Sales and Housing starts enter with the wrong signal, which would recommend their removal. We keep them for the exercise, particularly as we add Elastic Net models that are intended to reduce problems such as these.\n",
    "\n",
    "When we run the regression only for the sample 2000-2010, the r-squared is similar, but the importance of variables change somewhat. For example, payrolls show lower correlation in that period than in the whole sale, whereas variables such as wholesale inventories and construction spending gain importance."
   ]
  },
  {
   "cell_type": "code",
   "execution_count": 17,
   "id": "48211717-7b82-41ff-af3a-e5a3aa2adbda",
   "metadata": {},
   "outputs": [
    {
     "data": {
      "text/html": [
       "<table class=\"simpletable\">\n",
       "<caption>OLS Regression Results</caption>\n",
       "<tr>\n",
       "  <th>Dep. Variable:</th>           <td>GDP</td>       <th>  R-squared:         </th> <td>   0.861</td>\n",
       "</tr>\n",
       "<tr>\n",
       "  <th>Model:</th>                   <td>OLS</td>       <th>  Adj. R-squared:    </th> <td>   0.840</td>\n",
       "</tr>\n",
       "<tr>\n",
       "  <th>Method:</th>             <td>Least Squares</td>  <th>  F-statistic:       </th> <td>   138.1</td>\n",
       "</tr>\n",
       "<tr>\n",
       "  <th>Date:</th>             <td>Wed, 11 May 2022</td> <th>  Prob (F-statistic):</th> <td>2.43e-43</td>\n",
       "</tr>\n",
       "<tr>\n",
       "  <th>Time:</th>                 <td>23:43:15</td>     <th>  Log-Likelihood:    </th> <td> -74.847</td>\n",
       "</tr>\n",
       "<tr>\n",
       "  <th>No. Observations:</th>      <td>    83</td>      <th>  AIC:               </th> <td>   173.7</td>\n",
       "</tr>\n",
       "<tr>\n",
       "  <th>Df Residuals:</th>          <td>    71</td>      <th>  BIC:               </th> <td>   202.7</td>\n",
       "</tr>\n",
       "<tr>\n",
       "  <th>Df Model:</th>              <td>    11</td>      <th>                     </th>     <td> </td>   \n",
       "</tr>\n",
       "<tr>\n",
       "  <th>Covariance Type:</th>         <td>HAC</td>       <th>                     </th>     <td> </td>   \n",
       "</tr>\n",
       "</table>\n",
       "<table class=\"simpletable\">\n",
       "<tr>\n",
       "            <td></td>               <th>coef</th>     <th>std err</th>      <th>t</th>      <th>P>|t|</th>  <th>[0.025</th>    <th>0.975]</th>  \n",
       "</tr>\n",
       "<tr>\n",
       "  <th>Intercept</th>             <td>    0.7831</td> <td>    0.105</td> <td>    7.485</td> <td> 0.000</td> <td>    0.574</td> <td>    0.992</td>\n",
       "</tr>\n",
       "<tr>\n",
       "  <th>payroll</th>               <td>    3.2475</td> <td>    0.350</td> <td>    9.269</td> <td> 0.000</td> <td>    2.549</td> <td>    3.946</td>\n",
       "</tr>\n",
       "<tr>\n",
       "  <th>job_openings</th>          <td>   -0.0778</td> <td>    0.037</td> <td>   -2.082</td> <td> 0.041</td> <td>   -0.152</td> <td>   -0.003</td>\n",
       "</tr>\n",
       "<tr>\n",
       "  <th>ip</th>                    <td>    0.4823</td> <td>    0.190</td> <td>    2.538</td> <td> 0.013</td> <td>    0.103</td> <td>    0.861</td>\n",
       "</tr>\n",
       "<tr>\n",
       "  <th>vehicle_sales</th>         <td>   -0.0002</td> <td>    0.051</td> <td>   -0.004</td> <td> 0.997</td> <td>   -0.102</td> <td>    0.102</td>\n",
       "</tr>\n",
       "<tr>\n",
       "  <th>quits</th>                 <td>    0.0945</td> <td>    0.038</td> <td>    2.502</td> <td> 0.015</td> <td>    0.019</td> <td>    0.170</td>\n",
       "</tr>\n",
       "<tr>\n",
       "  <th>retail</th>                <td>    0.1745</td> <td>    0.090</td> <td>    1.948</td> <td> 0.055</td> <td>   -0.004</td> <td>    0.353</td>\n",
       "</tr>\n",
       "<tr>\n",
       "  <th>wholesale_inventories</th> <td>   -0.0400</td> <td>    0.180</td> <td>   -0.222</td> <td> 0.825</td> <td>   -0.399</td> <td>    0.319</td>\n",
       "</tr>\n",
       "<tr>\n",
       "  <th>consumer_sentiment</th>    <td>    0.0122</td> <td>    0.025</td> <td>    0.497</td> <td> 0.620</td> <td>   -0.037</td> <td>    0.061</td>\n",
       "</tr>\n",
       "<tr>\n",
       "  <th>construction_spending</th> <td>    0.0055</td> <td>    0.081</td> <td>    0.068</td> <td> 0.946</td> <td>   -0.157</td> <td>    0.168</td>\n",
       "</tr>\n",
       "<tr>\n",
       "  <th>new_orders</th>            <td>    0.0019</td> <td>    0.041</td> <td>    0.046</td> <td> 0.964</td> <td>   -0.080</td> <td>    0.083</td>\n",
       "</tr>\n",
       "<tr>\n",
       "  <th>housing_starts</th>        <td>   -0.0067</td> <td>    0.020</td> <td>   -0.330</td> <td> 0.742</td> <td>   -0.047</td> <td>    0.034</td>\n",
       "</tr>\n",
       "</table>\n",
       "<table class=\"simpletable\">\n",
       "<tr>\n",
       "  <th>Omnibus:</th>       <td>45.662</td> <th>  Durbin-Watson:     </th> <td>   1.745</td>\n",
       "</tr>\n",
       "<tr>\n",
       "  <th>Prob(Omnibus):</th> <td> 0.000</td> <th>  Jarque-Bera (JB):  </th> <td> 207.746</td>\n",
       "</tr>\n",
       "<tr>\n",
       "  <th>Skew:</th>          <td> 1.613</td> <th>  Prob(JB):          </th> <td>7.73e-46</td>\n",
       "</tr>\n",
       "<tr>\n",
       "  <th>Kurtosis:</th>      <td>10.047</td> <th>  Cond. No.          </th> <td>    20.2</td>\n",
       "</tr>\n",
       "</table><br/><br/>Notes:<br/>[1] Standard Errors are heteroscedasticity and autocorrelation robust (HAC) using 1 lags and without small sample correction"
      ],
      "text/plain": [
       "<class 'statsmodels.iolib.summary.Summary'>\n",
       "\"\"\"\n",
       "                            OLS Regression Results                            \n",
       "==============================================================================\n",
       "Dep. Variable:                    GDP   R-squared:                       0.861\n",
       "Model:                            OLS   Adj. R-squared:                  0.840\n",
       "Method:                 Least Squares   F-statistic:                     138.1\n",
       "Date:                Wed, 11 May 2022   Prob (F-statistic):           2.43e-43\n",
       "Time:                        23:43:15   Log-Likelihood:                -74.847\n",
       "No. Observations:                  83   AIC:                             173.7\n",
       "Df Residuals:                      71   BIC:                             202.7\n",
       "Df Model:                          11                                         \n",
       "Covariance Type:                  HAC                                         \n",
       "=========================================================================================\n",
       "                            coef    std err          t      P>|t|      [0.025      0.975]\n",
       "-----------------------------------------------------------------------------------------\n",
       "Intercept                 0.7831      0.105      7.485      0.000       0.574       0.992\n",
       "payroll                   3.2475      0.350      9.269      0.000       2.549       3.946\n",
       "job_openings             -0.0778      0.037     -2.082      0.041      -0.152      -0.003\n",
       "ip                        0.4823      0.190      2.538      0.013       0.103       0.861\n",
       "vehicle_sales            -0.0002      0.051     -0.004      0.997      -0.102       0.102\n",
       "quits                     0.0945      0.038      2.502      0.015       0.019       0.170\n",
       "retail                    0.1745      0.090      1.948      0.055      -0.004       0.353\n",
       "wholesale_inventories    -0.0400      0.180     -0.222      0.825      -0.399       0.319\n",
       "consumer_sentiment        0.0122      0.025      0.497      0.620      -0.037       0.061\n",
       "construction_spending     0.0055      0.081      0.068      0.946      -0.157       0.168\n",
       "new_orders                0.0019      0.041      0.046      0.964      -0.080       0.083\n",
       "housing_starts           -0.0067      0.020     -0.330      0.742      -0.047       0.034\n",
       "==============================================================================\n",
       "Omnibus:                       45.662   Durbin-Watson:                   1.745\n",
       "Prob(Omnibus):                  0.000   Jarque-Bera (JB):              207.746\n",
       "Skew:                           1.613   Prob(JB):                     7.73e-46\n",
       "Kurtosis:                      10.047   Cond. No.                         20.2\n",
       "==============================================================================\n",
       "\n",
       "Notes:\n",
       "[1] Standard Errors are heteroscedasticity and autocorrelation robust (HAC) using 1 lags and without small sample correction\n",
       "\"\"\""
      ]
     },
     "execution_count": 17,
     "metadata": {},
     "output_type": "execute_result"
    }
   ],
   "source": [
    "# Run regression\n",
    "ols_model = smf.ols(formula='GDP ~ payroll + job_openings + ip + vehicle_sales + quits + retail + wholesale_inventories + consumer_sentiment + construction_spending + new_orders + housing_starts', data = quarterly_constant).fit()\n",
    "ols_results = ols_model.get_robustcov_results(cov_type='HAC',maxlags=1)\n",
    "ols_results.summary()"
   ]
  },
  {
   "cell_type": "markdown",
   "id": "57f5d5e7-736e-4b5b-b7f4-a2c7e98c84dc",
   "metadata": {},
   "source": [
    "Note that the in-sample regression does a very good job in tracking the GDP behavior. However, when estimated for a train sample and forecasted into the future, its predictive power falls significantly, particularly during the COVID-19 period."
   ]
  },
  {
   "cell_type": "code",
   "execution_count": 18,
   "id": "fad69d4a-0a31-459b-b765-1f26c1320050",
   "metadata": {},
   "outputs": [
    {
     "data": {
      "text/html": [
       "<table class=\"simpletable\">\n",
       "<caption>OLS Regression Results</caption>\n",
       "<tr>\n",
       "  <th>Dep. Variable:</th>           <td>GDP</td>       <th>  R-squared:         </th> <td>   0.853</td>\n",
       "</tr>\n",
       "<tr>\n",
       "  <th>Model:</th>                   <td>OLS</td>       <th>  Adj. R-squared:    </th> <td>   0.796</td>\n",
       "</tr>\n",
       "<tr>\n",
       "  <th>Method:</th>             <td>Least Squares</td>  <th>  F-statistic:       </th> <td>   42.65</td>\n",
       "</tr>\n",
       "<tr>\n",
       "  <th>Date:</th>             <td>Wed, 11 May 2022</td> <th>  Prob (F-statistic):</th> <td>1.54e-14</td>\n",
       "</tr>\n",
       "<tr>\n",
       "  <th>Time:</th>                 <td>23:43:15</td>     <th>  Log-Likelihood:    </th> <td> -9.7532</td>\n",
       "</tr>\n",
       "<tr>\n",
       "  <th>No. Observations:</th>      <td>    40</td>      <th>  AIC:               </th> <td>   43.51</td>\n",
       "</tr>\n",
       "<tr>\n",
       "  <th>Df Residuals:</th>          <td>    28</td>      <th>  BIC:               </th> <td>   63.77</td>\n",
       "</tr>\n",
       "<tr>\n",
       "  <th>Df Model:</th>              <td>    11</td>      <th>                     </th>     <td> </td>   \n",
       "</tr>\n",
       "<tr>\n",
       "  <th>Covariance Type:</th>         <td>HAC</td>       <th>                     </th>     <td> </td>   \n",
       "</tr>\n",
       "</table>\n",
       "<table class=\"simpletable\">\n",
       "<tr>\n",
       "            <td></td>               <th>coef</th>     <th>std err</th>      <th>t</th>      <th>P>|t|</th>  <th>[0.025</th>    <th>0.975]</th>  \n",
       "</tr>\n",
       "<tr>\n",
       "  <th>Intercept</th>             <td>    0.8303</td> <td>    0.080</td> <td>   10.366</td> <td> 0.000</td> <td>    0.666</td> <td>    0.994</td>\n",
       "</tr>\n",
       "<tr>\n",
       "  <th>payroll</th>               <td>   -0.0451</td> <td>    0.778</td> <td>   -0.058</td> <td> 0.954</td> <td>   -1.640</td> <td>    1.549</td>\n",
       "</tr>\n",
       "<tr>\n",
       "  <th>job_openings</th>          <td>    0.0057</td> <td>    0.028</td> <td>    0.204</td> <td> 0.840</td> <td>   -0.052</td> <td>    0.063</td>\n",
       "</tr>\n",
       "<tr>\n",
       "  <th>ip</th>                    <td>    0.3213</td> <td>    0.122</td> <td>    2.626</td> <td> 0.014</td> <td>    0.071</td> <td>    0.572</td>\n",
       "</tr>\n",
       "<tr>\n",
       "  <th>vehicle_sales</th>         <td>   -0.0471</td> <td>    0.049</td> <td>   -0.952</td> <td> 0.349</td> <td>   -0.148</td> <td>    0.054</td>\n",
       "</tr>\n",
       "<tr>\n",
       "  <th>quits</th>                 <td>    0.1144</td> <td>    0.034</td> <td>    3.356</td> <td> 0.002</td> <td>    0.045</td> <td>    0.184</td>\n",
       "</tr>\n",
       "<tr>\n",
       "  <th>retail</th>                <td>    0.2695</td> <td>    0.139</td> <td>    1.933</td> <td> 0.063</td> <td>   -0.016</td> <td>    0.555</td>\n",
       "</tr>\n",
       "<tr>\n",
       "  <th>wholesale_inventories</th> <td>    0.2607</td> <td>    0.106</td> <td>    2.457</td> <td> 0.020</td> <td>    0.043</td> <td>    0.478</td>\n",
       "</tr>\n",
       "<tr>\n",
       "  <th>consumer_sentiment</th>    <td>    0.0128</td> <td>    0.016</td> <td>    0.805</td> <td> 0.427</td> <td>   -0.020</td> <td>    0.045</td>\n",
       "</tr>\n",
       "<tr>\n",
       "  <th>construction_spending</th> <td>    0.3316</td> <td>    0.079</td> <td>    4.202</td> <td> 0.000</td> <td>    0.170</td> <td>    0.493</td>\n",
       "</tr>\n",
       "<tr>\n",
       "  <th>new_orders</th>            <td>    0.0405</td> <td>    0.036</td> <td>    1.121</td> <td> 0.272</td> <td>   -0.033</td> <td>    0.114</td>\n",
       "</tr>\n",
       "<tr>\n",
       "  <th>housing_starts</th>        <td>   -0.0271</td> <td>    0.025</td> <td>   -1.075</td> <td> 0.292</td> <td>   -0.079</td> <td>    0.025</td>\n",
       "</tr>\n",
       "</table>\n",
       "<table class=\"simpletable\">\n",
       "<tr>\n",
       "  <th>Omnibus:</th>       <td> 0.100</td> <th>  Durbin-Watson:     </th> <td>   2.300</td>\n",
       "</tr>\n",
       "<tr>\n",
       "  <th>Prob(Omnibus):</th> <td> 0.951</td> <th>  Jarque-Bera (JB):  </th> <td>   0.154</td>\n",
       "</tr>\n",
       "<tr>\n",
       "  <th>Skew:</th>          <td>-0.103</td> <th>  Prob(JB):          </th> <td>   0.926</td>\n",
       "</tr>\n",
       "<tr>\n",
       "  <th>Kurtosis:</th>      <td> 2.777</td> <th>  Cond. No.          </th> <td>    75.6</td>\n",
       "</tr>\n",
       "</table><br/><br/>Notes:<br/>[1] Standard Errors are heteroscedasticity and autocorrelation robust (HAC) using 1 lags and without small sample correction"
      ],
      "text/plain": [
       "<class 'statsmodels.iolib.summary.Summary'>\n",
       "\"\"\"\n",
       "                            OLS Regression Results                            \n",
       "==============================================================================\n",
       "Dep. Variable:                    GDP   R-squared:                       0.853\n",
       "Model:                            OLS   Adj. R-squared:                  0.796\n",
       "Method:                 Least Squares   F-statistic:                     42.65\n",
       "Date:                Wed, 11 May 2022   Prob (F-statistic):           1.54e-14\n",
       "Time:                        23:43:15   Log-Likelihood:                -9.7532\n",
       "No. Observations:                  40   AIC:                             43.51\n",
       "Df Residuals:                      28   BIC:                             63.77\n",
       "Df Model:                          11                                         \n",
       "Covariance Type:                  HAC                                         \n",
       "=========================================================================================\n",
       "                            coef    std err          t      P>|t|      [0.025      0.975]\n",
       "-----------------------------------------------------------------------------------------\n",
       "Intercept                 0.8303      0.080     10.366      0.000       0.666       0.994\n",
       "payroll                  -0.0451      0.778     -0.058      0.954      -1.640       1.549\n",
       "job_openings              0.0057      0.028      0.204      0.840      -0.052       0.063\n",
       "ip                        0.3213      0.122      2.626      0.014       0.071       0.572\n",
       "vehicle_sales            -0.0471      0.049     -0.952      0.349      -0.148       0.054\n",
       "quits                     0.1144      0.034      3.356      0.002       0.045       0.184\n",
       "retail                    0.2695      0.139      1.933      0.063      -0.016       0.555\n",
       "wholesale_inventories     0.2607      0.106      2.457      0.020       0.043       0.478\n",
       "consumer_sentiment        0.0128      0.016      0.805      0.427      -0.020       0.045\n",
       "construction_spending     0.3316      0.079      4.202      0.000       0.170       0.493\n",
       "new_orders                0.0405      0.036      1.121      0.272      -0.033       0.114\n",
       "housing_starts           -0.0271      0.025     -1.075      0.292      -0.079       0.025\n",
       "==============================================================================\n",
       "Omnibus:                        0.100   Durbin-Watson:                   2.300\n",
       "Prob(Omnibus):                  0.951   Jarque-Bera (JB):                0.154\n",
       "Skew:                          -0.103   Prob(JB):                        0.926\n",
       "Kurtosis:                       2.777   Cond. No.                         75.6\n",
       "==============================================================================\n",
       "\n",
       "Notes:\n",
       "[1] Standard Errors are heteroscedasticity and autocorrelation robust (HAC) using 1 lags and without small sample correction\n",
       "\"\"\""
      ]
     },
     "execution_count": 18,
     "metadata": {},
     "output_type": "execute_result"
    }
   ],
   "source": [
    "# Create Series\n",
    "ols_fitted = pd.DataFrame(ols_results.fittedvalues, columns = ['OLS In-Sample'])\n",
    "quarterly_ols = pd.concat([quarterly_constant.reset_index(), ols_fitted], axis=1).set_index('index')\n",
    "\n",
    "# Create out of sample\n",
    "ols_restrict = smf.ols(formula='GDP ~ payroll + job_openings + ip + vehicle_sales + quits + retail + wholesale_inventories + consumer_sentiment + construction_spending + new_orders + housing_starts', data = quarterly_constant[:-43]).fit()\n",
    "ols_restrict_results = ols_restrict.get_robustcov_results(cov_type='HAC',maxlags=1)\n",
    "\n",
    "ols_restrict_results.summary()"
   ]
  },
  {
   "cell_type": "markdown",
   "id": "b21e5e48-0cc0-4539-a826-1faa212fa083",
   "metadata": {},
   "source": [
    "The results of this model are more intuitive. The COVID-19 shock generate significant impact on the coefficients, as one would expect. In this sense, the in-sample model performs significantly better than the out-of-sample one. This fact puts in evidence the Lucas critique problem of trusting into aggregate coefficients, when shocks can behavior."
   ]
  },
  {
   "cell_type": "code",
   "execution_count": 19,
   "id": "bcb31da7-e5ee-4870-bb32-05666c18f2eb",
   "metadata": {},
   "outputs": [
    {
     "data": {
      "image/png": "[encoded data removed]",
      "text/plain": [
       "<Figure size 432x288 with 1 Axes>"
      ]
     },
     "metadata": {
      "needs_background": "light"
     },
     "output_type": "display_data"
    },
    {
     "name": "stdout",
     "output_type": "stream",
     "text": [
      "Wall time: 281 ms\n"
     ]
    }
   ],
   "source": [
    "%%time\n",
    "\n",
    "# Run regression\n",
    "ols_model = smf.ols(formula='GDP ~ payroll + job_openings + ip + vehicle_sales + quits + retail + wholesale_inventories + consumer_sentiment + construction_spending + new_orders + housing_starts', data = quarterly_constant).fit()\n",
    "ols_results = ols_model.get_robustcov_results(cov_type='HAC',maxlags=1)\n",
    "\n",
    "# Create Series\n",
    "ols_fitted = pd.DataFrame(ols_results.fittedvalues, columns = ['OLS In-Sample'])\n",
    "quarterly_ols = pd.concat([quarterly_constant.reset_index(), ols_fitted], axis=1).set_index('index')\n",
    "\n",
    "# Create out of sample\n",
    "ols_restrict = smf.ols(formula='GDP ~ payroll + job_openings + ip + vehicle_sales + quits + retail + wholesale_inventories + consumer_sentiment + construction_spending + new_orders + housing_starts', data = quarterly_constant[:-43]).fit()\n",
    "ols_restrict_results = ols_restrict.get_robustcov_results(cov_type='HAC',maxlags=1)\n",
    "\n",
    "### in plot method we set the label and color of the curve.\n",
    "quarterly_ols['GDP'][40:].plot(label='GDP', color='blue')\n",
    "quarterly_ols['OLS In-Sample'][40:].plot(label='OLS (in-sample)', color='orange')\n",
    "\n",
    "out_of_sample_ols = 0.8303 + -0.0451*quarterly_constant['payroll'] + 0.0057*quarterly_constant['job_openings'] + 0.3213*quarterly_constant['ip'] + -0.0471*quarterly_constant['vehicle_sales'] + 0.1144*quarterly_constant['quits'] + 0.2695*quarterly_constant['retail'] + 0.2607*quarterly_constant['wholesale_inventories'] + 0.0128*quarterly_constant['consumer_sentiment'] + 0.3316*quarterly_constant['construction_spending'] + 0.0405*quarterly_constant['new_orders'] + -0.0271*quarterly_constant['housing_starts'] \n",
    "out_of_sample_ols[40:].plot(label='OLS (out-of-sample)', color='red')\n",
    "\n",
    "# adding title to the plot\n",
    "plt.title('GDP growth and OLS model')\n",
    "  \n",
    "# adding Label to the x-axis\n",
    "plt.xlabel('Years')\n",
    "  \n",
    "# adding legend to the curve\n",
    "plt.legend()\n",
    "\n",
    "plt.show()"
   ]
  },
  {
   "cell_type": "code",
   "execution_count": 20,
   "id": "0735c237-86c3-4975-9846-983c850b5f95",
   "metadata": {},
   "outputs": [],
   "source": [
    "#errors\n",
    "ols_rmse_out_sample = math.sqrt(sklearn.metrics.mean_squared_error(quarterly_ols['GDP'][40:], out_of_sample_ols[40:] ))\n",
    "ols_rmse_in_sample = math.sqrt(sklearn.metrics.mean_squared_error(quarterly_ols['GDP'][40:], quarterly_ols['OLS In-Sample'][40:]))"
   ]
  },
  {
   "cell_type": "markdown",
   "id": "81f2c5f4-7bb2-428b-b6e2-f0ffea711fb1",
   "metadata": {},
   "source": [
    "#### 5.5 Elastic Net models (application):"
   ]
  },
  {
   "cell_type": "markdown",
   "id": "459e1dc8-dacc-4a73-9927-10078b550d40",
   "metadata": {},
   "source": [
    "Elastic net models are penalized linear regression models. They are validated by use of L1 and L2 penalties during the training. The L1 penalty basically refers to inclusion of absolute value of coefficient as a bias. A model with just L1 is also referred to as the lasso regression. On the other hand, the L2 regularization adds the \"squared magnitude\" of coefficients as penalty term to the cost function. This is also referred to as ridge regression. The Elastic net models use both L1 and L2 penalties.\n",
    "\n",
    "In this case, it will solve the problems we had before of including coefficients with the wrong signal or giving too much importance to one variable. As we learned from the OLS model, the degree of relevance of these variables can change meaningfully depending on the sample used. In any case, again, the in-sample results show a better accuracy than out-of-sample, similarly to the OLS model.\n"
   ]
  },
  {
   "cell_type": "code",
   "execution_count": 21,
   "id": "2553c353-ca99-470d-93f7-9c5c2a32b0bc",
   "metadata": {},
   "outputs": [
    {
     "data": {
      "image/png": "[encoded data removed]",
      "text/plain": [
       "<Figure size 432x288 with 1 Axes>"
      ]
     },
     "metadata": {
      "needs_background": "light"
     },
     "output_type": "display_data"
    },
    {
     "name": "stdout",
     "output_type": "stream",
     "text": [
      "Wall time: 403 ms\n"
     ]
    }
   ],
   "source": [
    "%%time\n",
    "\n",
    "# Run regression\n",
    "elastic_model = smf.ols(formula='GDP ~ payroll + job_openings + ip + vehicle_sales + quits + retail + wholesale_inventories + consumer_sentiment + construction_spending + new_orders + housing_starts', data = quarterly_constant).fit_regularized(method='elastic_net')\n",
    "\n",
    "# Create Series\n",
    "elastic_fitted = pd.DataFrame(elastic_model.fittedvalues, columns = ['Elastic Net In-Sample'])\n",
    "quarterly_elastic = pd.concat([quarterly_constant.reset_index(), elastic_fitted.reset_index().drop([\"index\"], axis=1)], axis=1).set_index('index')\n",
    "\n",
    "# Separate test and train\n",
    "X_elastic=sm.add_constant(quarterly_all.drop([\"GDP\"], axis=1))\n",
    "y_elastic=quarterly_all['GDP']\n",
    "\n",
    "# Create test and train\n",
    "X_train_elastic, X_test_elastic, y_train_elastic, y_test_elastic = train_test_split(X_elastic, y_elastic, shuffle=False, train_size=40)\n",
    "\n",
    "# Fit model\n",
    "elastic_model_out = sm.OLS(y_train_elastic, X_train_elastic).fit_regularized(method='elastic_net')\n",
    "\n",
    "# Define series\n",
    "train_preds_elastic = elastic_model_out.predict(X_train_elastic)\n",
    "test_preds_elastic = elastic_model_out.predict(X_test_elastic)\n",
    "\n",
    "# Results\n",
    "test_results_elastic=pd.DataFrame(test_preds_elastic, y_test_elastic.index).rename(columns = {0 : \"Predict Elastic\"})\n",
    "\n",
    "# Append GDP\n",
    "test_results_elastic[\"GDP\"] = quarterly_all['GDP'][40:]\n",
    "\n",
    "### in plot method we set the label and color of the curve.\n",
    "test_results_elastic['GDP'].plot(label='GDP', color='blue')\n",
    "test_results_elastic[\"Predict Elastic\"].plot(label='Elastic Net (out-of-sample)', color='red')\n",
    "quarterly_elastic['Elastic Net In-Sample'][40:].plot(label='Elastic Net (in-sample)', color='orange')\n",
    "    \n",
    "# adding title to the plot\n",
    "plt.title('GDP growth and Elastic Net')\n",
    "  \n",
    "# adding Label to the x-axis\n",
    "plt.xlabel('Years')\n",
    "  \n",
    "# adding legend to the curve\n",
    "plt.legend()\n",
    "\n",
    "plt.show()"
   ]
  },
  {
   "cell_type": "code",
   "execution_count": 22,
   "id": "3b78c464-df23-4b29-a081-da3a32a1498a",
   "metadata": {},
   "outputs": [],
   "source": [
    "#errors\n",
    "elastic_rmse_out_sample = math.sqrt(sklearn.metrics.mean_squared_error(test_results_elastic['GDP'], test_results_elastic[\"Predict Elastic\"] ))\n",
    "elastic_rmse_in_sample = math.sqrt(sklearn.metrics.mean_squared_error(test_results_elastic['GDP'], quarterly_elastic['Elastic Net In-Sample'][40:]))"
   ]
  },
  {
   "cell_type": "markdown",
   "id": "ef333054-1ef9-4470-a272-c7d2816e6d80",
   "metadata": {
    "tags": []
   },
   "source": [
    "#### 5.6 VAR models (application):"
   ]
  },
  {
   "cell_type": "markdown",
   "id": "e6e0e3db-6731-43a1-a23f-39bd9167d806",
   "metadata": {
    "tags": []
   },
   "source": [
    "Vector Autoregressive Models (VAR) used for the multivariate time series forecasting. The way they are structured is that each variable is the linear function of its own past lags and the lags of other variables, a multivariate version of the AR models. VAR models are gold standards for the time series forecasting and are used widely to forecast macroeconomic variables.\n",
    "\n",
    "The first step in this model is to try to came up with the lags to be used. There are many different option of tests, four of which we present in the table below. Three out of four of those tests suggest that five lags is the most appropriate ordering. In this sense, our model will have five lags. For the restricted sample, the tests (not shown) suggest that two lags are enough. "
   ]
  },
  {
   "cell_type": "code",
   "execution_count": 23,
   "id": "8484d524-07d5-4fe2-bcb0-b7ea973f02e3",
   "metadata": {
    "tags": []
   },
   "outputs": [
    {
     "data": {
      "text/html": [
       "<table class=\"simpletable\">\n",
       "<caption>VAR Order Selection (* highlights the minimums)</caption>\n",
       "<tr>\n",
       "  <td></td>      <th>AIC</th>         <th>BIC</th>         <th>FPE</th>        <th>HQIC</th>    \n",
       "</tr>\n",
       "<tr>\n",
       "  <th>0</th> <td>     1.780</td>  <td>     2.143*</td> <td>     5.931</td>  <td>     1.925</td> \n",
       "</tr>\n",
       "<tr>\n",
       "  <th>1</th> <td>    -1.327</td>  <td>     3.386</td>  <td>    0.2753</td>  <td>    0.5594</td> \n",
       "</tr>\n",
       "<tr>\n",
       "  <th>2</th> <td>    -1.390</td>  <td>     7.674</td>  <td>    0.3298</td>  <td>     2.238</td> \n",
       "</tr>\n",
       "<tr>\n",
       "  <th>3</th> <td>    -1.881</td>  <td>     11.53</td>  <td>    0.4109</td>  <td>     3.489</td> \n",
       "</tr>\n",
       "<tr>\n",
       "  <th>4</th> <td>    -3.414</td>  <td>     14.35</td>  <td>    0.4637</td>  <td>     3.698</td> \n",
       "</tr>\n",
       "<tr>\n",
       "  <th>5</th> <td>    -9.967*</td> <td>     12.15</td>  <td>   0.02956*</td> <td>    -1.113*</td>\n",
       "</tr>\n",
       "</table>"
      ],
      "text/plain": [
       "<class 'statsmodels.iolib.table.SimpleTable'>"
      ]
     },
     "execution_count": 23,
     "metadata": {},
     "output_type": "execute_result"
    }
   ],
   "source": [
    "# Select numbers of lags\n",
    "var = VAR(quarterly_all)\n",
    "x = var.select_order()\n",
    "x.summary()"
   ]
  },
  {
   "cell_type": "markdown",
   "id": "8b41bfa5-55a9-40cb-81d5-9a541b46c3e2",
   "metadata": {},
   "source": [
    "One of the distinct advantages of this model is its ability to deliver impulse response functions in an easy and intuitive way. The main disadvantage is that models like these usually require a large dataset to avoid losing too many degrees of freedom in estimating the impacts. For the sake of space, we won't provide the summary table of this method."
   ]
  },
  {
   "cell_type": "code",
   "execution_count": 24,
   "id": "e2c08e64-6e7a-4884-989d-482dd058c604",
   "metadata": {
    "tags": []
   },
   "outputs": [],
   "source": [
    "#5 lags\n",
    "model_fitted = var.fit(5)\n",
    "# We can check the summary of the model by\n",
    "#model_fitted.summary()"
   ]
  },
  {
   "cell_type": "code",
   "execution_count": 25,
   "id": "7869d444-14f0-4b12-a68e-b384f805eec4",
   "metadata": {
    "tags": []
   },
   "outputs": [
    {
     "data": {
      "image/png": "[encoded data removed]",
      "text/plain": [
       "<Figure size 432x288 with 1 Axes>"
      ]
     },
     "metadata": {
      "needs_background": "light"
     },
     "output_type": "display_data"
    }
   ],
   "source": [
    "# Select numbers of lags\n",
    "var = VAR(quarterly_all)\n",
    "x = var.select_order()\n",
    "\n",
    "#5 lags\n",
    "model_fitted = var.fit(5)\n",
    "\n",
    "# Fitted values in sample\n",
    "var_quarterly = model_fitted.fittedvalues\n",
    "\n",
    "# Create out of sample\n",
    "var_restrict = VAR(quarterly_all[:-39])\n",
    "\n",
    "# 5 lags\n",
    "model_fitted_restrict = var_restrict.fit(2)\n",
    "\n",
    "# Out of sample part of out of sample model\n",
    "lag_order2 = model_fitted_restrict.k_ar\n",
    "\n",
    "# Input data for forecasting\n",
    "forecast_input2 = quarterly_all[40:].values\n",
    "\n",
    "fc2 = model_fitted_restrict.forecast(y=forecast_input2, steps=41)\n",
    "\n",
    "var_quarterly_restrict_out = pd.DataFrame(fc2, index=quarterly_all.index[-41:], columns=quarterly_all.columns)\n",
    "\n",
    "# Generate out of sample\n",
    "out_of_sample_var = 0.418126 + 0.240518*quarterly_constant['GDP'].shift(1) + 0.790462*quarterly_constant['payroll'].shift(1)  + 0.056202*quarterly_constant['job_openings'].shift(1)  + 0.475409*quarterly_constant['ip'].shift(1)  + -0.070602*quarterly_constant['vehicle_sales'].shift(1)  + -0.047144*quarterly_constant['quits'].shift(1)  + 0.396602*quarterly_constant['retail'].shift(1)  + -0.591680*quarterly_constant['wholesale_inventories'].shift(1)  + -0.045527*quarterly_constant['consumer_sentiment'].shift(1)  + 0.113163*quarterly_constant['construction_spending'].shift(1)  + 0.020122*quarterly_constant['new_orders'].shift(1)  + 0.049108*quarterly_constant['housing_starts'].shift(1) + 0.359352*quarterly_constant['GDP'].shift(2) + -0.438201*quarterly_constant['payroll'].shift(2)  + 0.059443*quarterly_constant['job_openings'].shift(2)  + -0.195710*quarterly_constant['ip'].shift(2)  + -0.096451*quarterly_constant['vehicle_sales'].shift(2)  + 0.024686*quarterly_constant['quits'].shift(2)  + 0.079930*quarterly_constant['retail'].shift(2)  + -0.026733*quarterly_constant['wholesale_inventories'].shift(2)  + -0.032929*quarterly_constant['consumer_sentiment'].shift(2)  + -0.124101 *quarterly_constant['construction_spending'].shift(2)  + 0.077249*quarterly_constant['new_orders'].shift(2)  + -0.042827*quarterly_constant['housing_starts'].shift(2)\n",
    "\n",
    "### in plot method we set the label and color of the curve.\n",
    "quarterly_all['GDP'][40:].plot(label='GDP', color='blue')\n",
    "out_of_sample_var[40:].plot(label='VAR (out-of-sample)', color='red')\n",
    "var_quarterly['GDP'][35:].plot(label='VAR (in-sample)', color='orange')\n",
    "  \n",
    "# adding title to the plot\n",
    "plt.title('GDP growth and VAR model')\n",
    "  \n",
    "# adding Label to the x-axis\n",
    "plt.xlabel('Years')\n",
    "  \n",
    "# adding legend to the curve\n",
    "plt.legend()\n",
    "\n",
    "plt.show()"
   ]
  },
  {
   "cell_type": "code",
   "execution_count": 26,
   "id": "b05a137a-b382-4cca-a5c3-a9c46b89583e",
   "metadata": {
    "tags": []
   },
   "outputs": [],
   "source": [
    "#errors\n",
    "var_rmse_out_sample = math.sqrt(sklearn.metrics.mean_squared_error(quarterly_all['GDP'][40:], out_of_sample_var[40:]))\n",
    "var_rmse_in_sample = math.sqrt(sklearn.metrics.mean_squared_error(quarterly_all['GDP'][40:], var_quarterly['GDP'][35:]))"
   ]
  },
  {
   "cell_type": "markdown",
   "id": "999e21be-15a8-4f70-bcb4-c4fcb65d8a03",
   "metadata": {
    "tags": []
   },
   "source": [
    "#### 5.4 Dynamic Factor Model (application):"
   ]
  },
  {
   "cell_type": "markdown",
   "id": "c7d1e667-adc8-4900-b08e-7d849be1491d",
   "metadata": {
    "tags": []
   },
   "source": [
    "Dynamic Factor Model is an advanced machine learning algorithm used for time series forecasting. Dynamic-factor models are flexible models for multivariate time series in which the observed endogenous variables are linear functions of exogenous covariates and unobserved factors, which have a vector autoregressive structure. The unobserved factors may also be a function of exogenous covariates.\n",
    "\n",
    "The main advantage of this method is that it does not need the full updated dataset to make a prediction. For example, for a prediction of GDP in 1Q22, one needs all the covariates for 1Q22 in an OLS model. In the Dynamic Factor Model, the Kalman Filter generates a prediction for each variable for the period of forecasting. In this sense, the Dynamic Factor model generates a prediction within a prediction to be able to forecast even when the full data set is unavailable."
   ]
  },
  {
   "cell_type": "markdown",
   "id": "148c44bc-b07b-4ffa-957a-9d7058b94f2a",
   "metadata": {},
   "source": [
    "This first table summarizes the result of the dynamic factor with three orders of lags. All variables enter with the same signal, which suggest that all of them \"work\" on the same direction (e.g. payrolls and vehicle_sales move together, and so does all variables).  "
   ]
  },
  {
   "cell_type": "code",
   "execution_count": 27,
   "id": "1ed5ae2e-f72c-4fdd-8c6c-eef01a06f1cd",
   "metadata": {
    "tags": []
   },
   "outputs": [
    {
     "name": "stdout",
     "output_type": "stream",
     "text": [
      "EM start iterations, llf=-3530.5\n",
      "EM iteration 10, llf=-3450.3, convergence criterion=3.8119e-05\n",
      "EM iteration 20, llf=-3449.7, convergence criterion=1.0243e-05\n",
      "EM iteration 30, llf=-3449.4, convergence criterion=4.5627e-06\n",
      "EM iteration 40, llf=-3449.3, convergence criterion=2.581e-06\n",
      "EM iteration 50, llf=-3449.3, convergence criterion=1.687e-06\n",
      "EM iteration 60, llf=-3449.2, convergence criterion=1.2151e-06\n",
      "EM converged at iteration 68, llf=-3449.2, convergence criterion=9.8307e-07 < tolerance=1e-06\n"
     ]
    }
   ],
   "source": [
    "# Remove the index to run the algorithm\n",
    "normalized_monthly_adjust = normalized_monthly.set_index('index')\n",
    "normalized_data = normalized_monthly_adjust.reset_index(drop=True)\n",
    "\n",
    "# Build and fit dynamic factor model using an EM algorithm\n",
    "mod = sm.tsa.DynamicFactorMQ(normalized_data, factors=1, factor_orders=3)\n",
    "\n",
    "res = mod.fit(disp=10)"
   ]
  },
  {
   "cell_type": "code",
   "execution_count": 28,
   "id": "e2231d45-de2c-4a80-b9de-4b7a57458db1",
   "metadata": {
    "tags": []
   },
   "outputs": [
    {
     "data": {
      "text/html": [
       "<table class=\"simpletable\">\n",
       "<caption>Dynamic Factor Results</caption>\n",
       "<tr>\n",
       "  <th>Dep. Variable:</th>   <td>\"payroll\", and 10 more</td>  <th>  No. Observations:  </th>    <td>255</td>   \n",
       "</tr>\n",
       "<tr>\n",
       "  <th>Model:</th>            <td>Dynamic Factor Model</td>   <th>  Log Likelihood     </th> <td>-3449.177</td>\n",
       "</tr>\n",
       "<tr>\n",
       "  <th></th>                 <td>+ 1 factors in 1 blocks</td> <th>  AIC                </th> <td>6972.354</td> \n",
       "</tr>\n",
       "<tr>\n",
       "  <th></th>                  <td>+ AR(1) idiosyncratic</td>  <th>  BIC                </th> <td>7103.381</td> \n",
       "</tr>\n",
       "<tr>\n",
       "  <th>Date:</th>               <td>Wed, 11 May 2022</td>     <th>  HQIC               </th> <td>7025.058</td> \n",
       "</tr>\n",
       "<tr>\n",
       "  <th>Time:</th>                   <td>23:43:16</td>         <th>  EM Iterations      </th>    <td>68</td>    \n",
       "</tr>\n",
       "<tr>\n",
       "  <th>Sample:</th>                     <td>0</td>            <th>                     </th>     <td> </td>    \n",
       "</tr>\n",
       "<tr>\n",
       "  <th></th>                         <td> - 255</td>          <th>                     </th>     <td> </td>    \n",
       "</tr>\n",
       "<tr>\n",
       "  <th>Covariance Type:</th>      <td>Not computed</td>       <th>                     </th>     <td> </td>    \n",
       "</tr>\n",
       "</table>\n",
       "<table class=\"simpletable\">\n",
       "<caption>Observation equation:</caption>\n",
       "<tr>\n",
       "    <th>Factor loadings:</th>      <th>0</th>   <th>   idiosyncratic: AR(1)</th> <th>var.</th>\n",
       "</tr>\n",
       "<tr>\n",
       "         <td>payroll</td>        <td>-0.43</td>          <td>-0.11</td>          <td>0.31</td>\n",
       "</tr>\n",
       "<tr>\n",
       "      <td>job_openings</td>      <td>-0.25</td>          <td>-0.46</td>          <td>0.64</td>\n",
       "</tr>\n",
       "<tr>\n",
       "           <td>ip</td>           <td>-0.44</td>          <td>0.01</td>           <td>0.24</td>\n",
       "</tr>\n",
       "<tr>\n",
       "      <td>vehicle_sales</td>     <td>-0.31</td>          <td>-0.29</td>          <td>0.67</td>\n",
       "</tr>\n",
       "<tr>\n",
       "          <td>quits</td>         <td>-0.24</td>          <td>-0.45</td>          <td>0.66</td>\n",
       "</tr>\n",
       "<tr>\n",
       "         <td>retail</td>         <td>-0.43</td>          <td>-0.05</td>          <td>0.44</td>\n",
       "</tr>\n",
       "<tr>\n",
       "  <td>wholesale_inventories</td> <td>-0.08</td>          <td>0.60</td>           <td>0.64</td>\n",
       "</tr>\n",
       "<tr>\n",
       "   <td>consumer_sentiment</td>   <td>-0.14</td>          <td>-0.04</td>          <td>0.94</td>\n",
       "</tr>\n",
       "<tr>\n",
       "  <td>construction_spending</td> <td>-0.19</td>          <td>0.40</td>           <td>0.76</td>\n",
       "</tr>\n",
       "<tr>\n",
       "       <td>new_orders</td>       <td>-0.26</td>          <td>-0.42</td>          <td>0.68</td>\n",
       "</tr>\n",
       "<tr>\n",
       "     <td>housing_starts</td>     <td>-0.28</td>          <td>-0.43</td>          <td>0.66</td>\n",
       "</tr>\n",
       "</table>\n",
       "<table class=\"simpletable\">\n",
       "<caption>Transition: Factor block 0</caption>\n",
       "<tr>\n",
       "  <th></th>  <th>L1.0</th> <th>L2.0</th>  <th>L3.0</th>  <th>   error variance</th>\n",
       "</tr>\n",
       "<tr>\n",
       "  <td>0</td> <td>0.21</td> <td>-0.17</td> <td>-0.02</td>       <td>3.15</td>       \n",
       "</tr>\n",
       "</table><br/><br/>Warnings:<br/>[1] Covariance matrix not calculated."
      ],
      "text/plain": [
       "<class 'statsmodels.iolib.summary.Summary'>\n",
       "\"\"\"\n",
       "                               Dynamic Factor Results                              \n",
       "===================================================================================\n",
       "Dep. Variable:      \"payroll\", and 10 more   No. Observations:                  255\n",
       "Model:                Dynamic Factor Model   Log Likelihood               -3449.177\n",
       "                   + 1 factors in 1 blocks   AIC                           6972.354\n",
       "                     + AR(1) idiosyncratic   BIC                           7103.381\n",
       "Date:                     Wed, 11 May 2022   HQIC                          7025.058\n",
       "Time:                             23:43:16   EM Iterations                       68\n",
       "Sample:                                  0                                         \n",
       "                                     - 255                                         \n",
       "Covariance Type:              Not computed                                         \n",
       "                       Observation equation:                       \n",
       "===================================================================\n",
       "     Factor loadings:          0    idiosyncratic: AR(1)       var.\n",
       "-------------------------------------------------------------------\n",
       "              payroll      -0.43                   -0.11       0.31\n",
       "         job_openings      -0.25                   -0.46       0.64\n",
       "                   ip      -0.44                    0.01       0.24\n",
       "        vehicle_sales      -0.31                   -0.29       0.67\n",
       "                quits      -0.24                   -0.45       0.66\n",
       "               retail      -0.43                   -0.05       0.44\n",
       "wholesale_inventories      -0.08                    0.60       0.64\n",
       "   consumer_sentiment      -0.14                   -0.04       0.94\n",
       "construction_spending      -0.19                    0.40       0.76\n",
       "           new_orders      -0.26                   -0.42       0.68\n",
       "       housing_starts      -0.28                   -0.43       0.66\n",
       "                  Transition: Factor block 0                 \n",
       "=============================================================\n",
       "                 L1.0       L2.0       L3.0    error variance\n",
       "-------------------------------------------------------------\n",
       "         0       0.21      -0.17      -0.02              3.15\n",
       "=============================================================\n",
       "\n",
       "Warnings:\n",
       "[1] Covariance matrix not calculated.\n",
       "\"\"\""
      ]
     },
     "execution_count": 28,
     "metadata": {},
     "output_type": "execute_result"
    }
   ],
   "source": [
    "# Summary of the model with factor loadings\n",
    "res.summary()"
   ]
  },
  {
   "cell_type": "markdown",
   "id": "566e4fb1-8be1-41cb-9047-95727bde5979",
   "metadata": {},
   "source": [
    "The first principal component using the dynamic part (AR(3)) is generate as a Dynamic Factor Model (DFM) variable without taking into consideration their effects on GDP. That's where this model mainly differs from OLS: OLS builds a weighted average (coefficients) of the variables to predict GDP. The Dynamic Factor Model first aggregates the set of variables in only one (the principal factor) and only then we run a OLS with the DFM vs. the GDP to predict GDP growth."
   ]
  },
  {
   "cell_type": "code",
   "execution_count": 29,
   "id": "2dc1ed2b-7e0d-4561-9ad6-3e7a3025aa3f",
   "metadata": {
    "tags": []
   },
   "outputs": [],
   "source": [
    "# Add factor to the dataframe of all series\n",
    "factor = res.factors[\"smoothed\"].rename({\"0\": \"dfm\"}, axis='columns')\n",
    "\n",
    "normalized_with_factors = pd.concat([normalized_monthly.reset_index(), factor], axis=1).set_index('index')\n",
    "\n",
    "#Adjusting index\n",
    "normalized_with_factors = normalized_with_factors.reset_index()\n",
    "normalized_with_factors.set_index('index')\n",
    "\n",
    "# Put data on a quarterly basis\n",
    "quarterly = normalized_with_factors.groupby(pd.PeriodIndex(normalized_with_factors['index'], freq='Q')).mean().reset_index()\n",
    "\n",
    "# Adjust the gdp data series\n",
    "df_gdp = pd.DataFrame(gdp).loc[(pd.DataFrame(gdp).index >= '2000-10-01') & (pd.DataFrame(gdp).index <= '2021-10-01')].reset_index().rename(columns={\"index\": \"old_index\"})\n",
    "\n",
    "df_gdp['GDP'] = np.log(df_gdp['GDP']).diff()*100\n",
    "\n",
    "# Add on a single dataframe\n",
    "quarterly_all_factor = pd.concat([df_gdp, quarterly], axis=1).drop('old_index', axis=1).set_index('index')\n",
    "quarterly_all_factor = quarterly_all_factor.dropna()[:-1]\n"
   ]
  },
  {
   "cell_type": "markdown",
   "id": "0e538dd2-3d61-47e2-b9e2-09d300721daa",
   "metadata": {},
   "source": [
    "Comparing the models using the periods of 2000 to 2022 (first table below) and 2000 to 2010 (second table below), we see that in both cases the dfm enters with a negative coefficient. Indeed, we saw before that the principal components of activity data had all negative coefficients. Now, with the regression coefficient as negative, it means that each of those variables together has a positive effect on GDP (minus times minus). This is true for both samples. Note, however, that the coefficient with the larger sample is around -1.5 whereas in the restricted sample it is around -0.9."
   ]
  },
  {
   "cell_type": "code",
   "execution_count": 30,
   "id": "5be94e38-167f-4a31-8ea1-7447c1beb328",
   "metadata": {
    "tags": []
   },
   "outputs": [
    {
     "data": {
      "text/html": [
       "<table class=\"simpletable\">\n",
       "<caption>OLS Regression Results</caption>\n",
       "<tr>\n",
       "  <th>Dep. Variable:</th>           <td>GDP</td>       <th>  R-squared:         </th> <td>   0.476</td>\n",
       "</tr>\n",
       "<tr>\n",
       "  <th>Model:</th>                   <td>OLS</td>       <th>  Adj. R-squared:    </th> <td>   0.469</td>\n",
       "</tr>\n",
       "<tr>\n",
       "  <th>Method:</th>             <td>Least Squares</td>  <th>  F-statistic:       </th> <td>   73.53</td>\n",
       "</tr>\n",
       "<tr>\n",
       "  <th>Date:</th>             <td>Wed, 11 May 2022</td> <th>  Prob (F-statistic):</th> <td>5.50e-13</td>\n",
       "</tr>\n",
       "<tr>\n",
       "  <th>Time:</th>                 <td>23:43:16</td>     <th>  Log-Likelihood:    </th> <td> -130.07</td>\n",
       "</tr>\n",
       "<tr>\n",
       "  <th>No. Observations:</th>      <td>    83</td>      <th>  AIC:               </th> <td>   264.1</td>\n",
       "</tr>\n",
       "<tr>\n",
       "  <th>Df Residuals:</th>          <td>    81</td>      <th>  BIC:               </th> <td>   269.0</td>\n",
       "</tr>\n",
       "<tr>\n",
       "  <th>Df Model:</th>              <td>     1</td>      <th>                     </th>     <td> </td>   \n",
       "</tr>\n",
       "<tr>\n",
       "  <th>Covariance Type:</th>      <td>nonrobust</td>    <th>                     </th>     <td> </td>   \n",
       "</tr>\n",
       "</table>\n",
       "<table class=\"simpletable\">\n",
       "<tr>\n",
       "    <td></td>       <th>coef</th>     <th>std err</th>      <th>t</th>      <th>P>|t|</th>  <th>[0.025</th>    <th>0.975]</th>  \n",
       "</tr>\n",
       "<tr>\n",
       "  <th>dfm</th>   <td>   -1.5685</td> <td>    0.183</td> <td>   -8.575</td> <td> 0.000</td> <td>   -1.932</td> <td>   -1.205</td>\n",
       "</tr>\n",
       "<tr>\n",
       "  <th>const</th> <td>    0.9935</td> <td>    0.129</td> <td>    7.707</td> <td> 0.000</td> <td>    0.737</td> <td>    1.250</td>\n",
       "</tr>\n",
       "</table>\n",
       "<table class=\"simpletable\">\n",
       "<tr>\n",
       "  <th>Omnibus:</th>       <td>82.444</td> <th>  Durbin-Watson:     </th> <td>   2.653</td>\n",
       "</tr>\n",
       "<tr>\n",
       "  <th>Prob(Omnibus):</th> <td> 0.000</td> <th>  Jarque-Bera (JB):  </th> <td>1593.869</td>\n",
       "</tr>\n",
       "<tr>\n",
       "  <th>Skew:</th>          <td>-2.668</td> <th>  Prob(JB):          </th> <td>    0.00</td>\n",
       "</tr>\n",
       "<tr>\n",
       "  <th>Kurtosis:</th>      <td>23.794</td> <th>  Cond. No.          </th> <td>    1.42</td>\n",
       "</tr>\n",
       "</table><br/><br/>Notes:<br/>[1] Standard Errors assume that the covariance matrix of the errors is correctly specified."
      ],
      "text/plain": [
       "<class 'statsmodels.iolib.summary.Summary'>\n",
       "\"\"\"\n",
       "                            OLS Regression Results                            \n",
       "==============================================================================\n",
       "Dep. Variable:                    GDP   R-squared:                       0.476\n",
       "Model:                            OLS   Adj. R-squared:                  0.469\n",
       "Method:                 Least Squares   F-statistic:                     73.53\n",
       "Date:                Wed, 11 May 2022   Prob (F-statistic):           5.50e-13\n",
       "Time:                        23:43:16   Log-Likelihood:                -130.07\n",
       "No. Observations:                  83   AIC:                             264.1\n",
       "Df Residuals:                      81   BIC:                             269.0\n",
       "Df Model:                           1                                         \n",
       "Covariance Type:            nonrobust                                         \n",
       "==============================================================================\n",
       "                 coef    std err          t      P>|t|      [0.025      0.975]\n",
       "------------------------------------------------------------------------------\n",
       "dfm           -1.5685      0.183     -8.575      0.000      -1.932      -1.205\n",
       "const          0.9935      0.129      7.707      0.000       0.737       1.250\n",
       "==============================================================================\n",
       "Omnibus:                       82.444   Durbin-Watson:                   2.653\n",
       "Prob(Omnibus):                  0.000   Jarque-Bera (JB):             1593.869\n",
       "Skew:                          -2.668   Prob(JB):                         0.00\n",
       "Kurtosis:                      23.794   Cond. No.                         1.42\n",
       "==============================================================================\n",
       "\n",
       "Notes:\n",
       "[1] Standard Errors assume that the covariance matrix of the errors is correctly specified.\n",
       "\"\"\""
      ]
     },
     "execution_count": 30,
     "metadata": {},
     "output_type": "execute_result"
    }
   ],
   "source": [
    "# Regression of factor model\n",
    "quarterly_all_factor = sm.add_constant(quarterly_all_factor)\n",
    "regression_factor = sm.OLS(quarterly_all_factor['GDP'],quarterly_all_factor[['dfm', 'const']], missing='drop').fit()\n",
    "regression_factor.summary()"
   ]
  },
  {
   "cell_type": "code",
   "execution_count": 31,
   "id": "8e45cc5d-7c72-4201-8681-56fe664134f8",
   "metadata": {
    "tags": []
   },
   "outputs": [],
   "source": [
    "# Merge with predict series\n",
    "quarterly_predict = quarterly_all_factor.reset_index()\n",
    "regression_fit = pd.DataFrame(regression_factor.predict(), columns = ['Predict'])\n",
    "quarterly_predict = pd.concat([quarterly_predict, regression_fit], axis=1).set_index('index')"
   ]
  },
  {
   "cell_type": "code",
   "execution_count": 32,
   "id": "903a51a1-bc6b-4730-8032-53954f57d9e2",
   "metadata": {
    "tags": []
   },
   "outputs": [
    {
     "data": {
      "text/html": [
       "<table class=\"simpletable\">\n",
       "<caption>OLS Regression Results</caption>\n",
       "<tr>\n",
       "  <th>Dep. Variable:</th>           <td>GDP</td>       <th>  R-squared:         </th> <td>   0.632</td>\n",
       "</tr>\n",
       "<tr>\n",
       "  <th>Model:</th>                   <td>OLS</td>       <th>  Adj. R-squared:    </th> <td>   0.623</td>\n",
       "</tr>\n",
       "<tr>\n",
       "  <th>Method:</th>             <td>Least Squares</td>  <th>  F-statistic:       </th> <td>   65.33</td>\n",
       "</tr>\n",
       "<tr>\n",
       "  <th>Date:</th>             <td>Wed, 11 May 2022</td> <th>  Prob (F-statistic):</th> <td>8.87e-10</td>\n",
       "</tr>\n",
       "<tr>\n",
       "  <th>Time:</th>                 <td>23:43:16</td>     <th>  Log-Likelihood:    </th> <td> -28.157</td>\n",
       "</tr>\n",
       "<tr>\n",
       "  <th>No. Observations:</th>      <td>    40</td>      <th>  AIC:               </th> <td>   60.31</td>\n",
       "</tr>\n",
       "<tr>\n",
       "  <th>Df Residuals:</th>          <td>    38</td>      <th>  BIC:               </th> <td>   63.69</td>\n",
       "</tr>\n",
       "<tr>\n",
       "  <th>Df Model:</th>              <td>     1</td>      <th>                     </th>     <td> </td>   \n",
       "</tr>\n",
       "<tr>\n",
       "  <th>Covariance Type:</th>      <td>nonrobust</td>    <th>                     </th>     <td> </td>   \n",
       "</tr>\n",
       "</table>\n",
       "<table class=\"simpletable\">\n",
       "<tr>\n",
       "    <td></td>       <th>coef</th>     <th>std err</th>      <th>t</th>      <th>P>|t|</th>  <th>[0.025</th>    <th>0.975]</th>  \n",
       "</tr>\n",
       "<tr>\n",
       "  <th>dfm</th>   <td>   -0.9063</td> <td>    0.112</td> <td>   -8.083</td> <td> 0.000</td> <td>   -1.133</td> <td>   -0.679</td>\n",
       "</tr>\n",
       "<tr>\n",
       "  <th>const</th> <td>    1.1064</td> <td>    0.081</td> <td>   13.584</td> <td> 0.000</td> <td>    0.942</td> <td>    1.271</td>\n",
       "</tr>\n",
       "</table>\n",
       "<table class=\"simpletable\">\n",
       "<tr>\n",
       "  <th>Omnibus:</th>       <td> 0.029</td> <th>  Durbin-Watson:     </th> <td>   1.807</td>\n",
       "</tr>\n",
       "<tr>\n",
       "  <th>Prob(Omnibus):</th> <td> 0.986</td> <th>  Jarque-Bera (JB):  </th> <td>   0.178</td>\n",
       "</tr>\n",
       "<tr>\n",
       "  <th>Skew:</th>          <td> 0.054</td> <th>  Prob(JB):          </th> <td>   0.915</td>\n",
       "</tr>\n",
       "<tr>\n",
       "  <th>Kurtosis:</th>      <td> 2.691</td> <th>  Cond. No.          </th> <td>    1.49</td>\n",
       "</tr>\n",
       "</table><br/><br/>Notes:<br/>[1] Standard Errors assume that the covariance matrix of the errors is correctly specified."
      ],
      "text/plain": [
       "<class 'statsmodels.iolib.summary.Summary'>\n",
       "\"\"\"\n",
       "                            OLS Regression Results                            \n",
       "==============================================================================\n",
       "Dep. Variable:                    GDP   R-squared:                       0.632\n",
       "Model:                            OLS   Adj. R-squared:                  0.623\n",
       "Method:                 Least Squares   F-statistic:                     65.33\n",
       "Date:                Wed, 11 May 2022   Prob (F-statistic):           8.87e-10\n",
       "Time:                        23:43:16   Log-Likelihood:                -28.157\n",
       "No. Observations:                  40   AIC:                             60.31\n",
       "Df Residuals:                      38   BIC:                             63.69\n",
       "Df Model:                           1                                         \n",
       "Covariance Type:            nonrobust                                         \n",
       "==============================================================================\n",
       "                 coef    std err          t      P>|t|      [0.025      0.975]\n",
       "------------------------------------------------------------------------------\n",
       "dfm           -0.9063      0.112     -8.083      0.000      -1.133      -0.679\n",
       "const          1.1064      0.081     13.584      0.000       0.942       1.271\n",
       "==============================================================================\n",
       "Omnibus:                        0.029   Durbin-Watson:                   1.807\n",
       "Prob(Omnibus):                  0.986   Jarque-Bera (JB):                0.178\n",
       "Skew:                           0.054   Prob(JB):                        0.915\n",
       "Kurtosis:                       2.691   Cond. No.                         1.49\n",
       "==============================================================================\n",
       "\n",
       "Notes:\n",
       "[1] Standard Errors assume that the covariance matrix of the errors is correctly specified.\n",
       "\"\"\""
      ]
     },
     "execution_count": 32,
     "metadata": {},
     "output_type": "execute_result"
    }
   ],
   "source": [
    "# Now, we run with the train sample from 2000 to 2010\n",
    "quarterly_restrict = quarterly_all_factor[:-43]\n",
    "regression_factor_train = sm.OLS(quarterly_restrict['GDP'], quarterly_restrict[['dfm', 'const']]).fit()\n",
    "regression_factor_train.summary()"
   ]
  },
  {
   "cell_type": "markdown",
   "id": "5f41b1be-3617-4dfc-a23f-c03ffcb43cd3",
   "metadata": {},
   "source": [
    "The main feature here is the following. Differently from other models, the improvement between in and out-of-sample versions is not as large as in other cases. However, it is notable how this mode performs better than most out-of-sample, something which we will discuss in more details when we put all those models together."
   ]
  },
  {
   "cell_type": "code",
   "execution_count": 33,
   "id": "8583bfbd-06db-4614-bcf1-df53931be7cf",
   "metadata": {
    "tags": []
   },
   "outputs": [
    {
     "name": "stdout",
     "output_type": "stream",
     "text": [
      "EM start iterations, llf=-3530.5\n",
      "EM iteration 10, llf=-3450.3, convergence criterion=3.8119e-05\n",
      "EM iteration 20, llf=-3449.7, convergence criterion=1.0243e-05\n",
      "EM iteration 30, llf=-3449.4, convergence criterion=4.5627e-06\n",
      "EM iteration 40, llf=-3449.3, convergence criterion=2.581e-06\n",
      "EM iteration 50, llf=-3449.3, convergence criterion=1.687e-06\n",
      "EM iteration 60, llf=-3449.2, convergence criterion=1.2151e-06\n",
      "EM converged at iteration 68, llf=-3449.2, convergence criterion=9.8307e-07 < tolerance=1e-06\n"
     ]
    },
    {
     "data": {
      "image/png": "[encoded data removed]",
      "text/plain": [
       "<Figure size 432x288 with 1 Axes>"
      ]
     },
     "metadata": {
      "needs_background": "light"
     },
     "output_type": "display_data"
    }
   ],
   "source": [
    "\n",
    "\n",
    "# Remove the index to run the algorithm\n",
    "normalized_monthly_adjust = normalized_monthly.set_index('index')\n",
    "normalized_data = normalized_monthly_adjust.reset_index(drop=True)\n",
    "\n",
    "# Build and fit dynamic factor model using an EM algorithm\n",
    "mod = sm.tsa.DynamicFactorMQ(normalized_data, factors=1, factor_orders=3)\n",
    "\n",
    "res = mod.fit(disp=10)\n",
    "\n",
    "# Add factor to the dataframe of all series\n",
    "factor = res.factors[\"smoothed\"].rename({\"0\": \"dfm\"}, axis='columns')\n",
    "\n",
    "normalized_with_factors = pd.concat([normalized_monthly.reset_index(), factor], axis=1).set_index('index')\n",
    "\n",
    "#Adjusting index\n",
    "normalized_with_factors = normalized_with_factors.reset_index()\n",
    "normalized_with_factors.set_index('index')\n",
    "\n",
    "# Put data on a quarterly basis\n",
    "quarterly = normalized_with_factors.groupby(pd.PeriodIndex(normalized_with_factors['index'], freq='Q')).mean().reset_index()\n",
    "\n",
    "# Adjust the gdp data series\n",
    "df_gdp = pd.DataFrame(gdp).loc[(pd.DataFrame(gdp).index >= '2000-10-01') & (pd.DataFrame(gdp).index <= '2021-10-01')].reset_index().rename(columns={\"index\": \"old_index\"})\n",
    "\n",
    "df_gdp['GDP'] = np.log(df_gdp['GDP']).diff()*100\n",
    "\n",
    "# Add on a single dataframe\n",
    "quarterly_all_factor = pd.concat([df_gdp, quarterly], axis=1).drop('old_index', axis=1).set_index('index')\n",
    "quarterly_all_factor = quarterly_all_factor.dropna()[:-1]\n",
    "\n",
    "# Regression of factor model\n",
    "quarterly_all_factor = sm.add_constant(quarterly_all_factor)\n",
    "regression_factor = sm.OLS(quarterly_all_factor['GDP'],quarterly_all_factor[['dfm', 'const']], missing='drop').fit()\n",
    "\n",
    "# Merge with predict series\n",
    "quarterly_predict = quarterly_all_factor.reset_index()\n",
    "regression_fit = pd.DataFrame(regression_factor.predict(), columns = ['Predict'])\n",
    "quarterly_predict = pd.concat([quarterly_predict, regression_fit], axis=1).set_index('index')\n",
    "\n",
    "# Now, we run with the train sample from 2000 to 2010\n",
    "quarterly_restrict = quarterly_all_factor[:-43]\n",
    "regression_factor_train = sm.OLS(quarterly_restrict['GDP'], quarterly_restrict[['dfm', 'const']]).fit()\n",
    "\n",
    "\n",
    "### in plot method we set the label and color of the curve.\n",
    "quarterly_predict['GDP'][40:].plot(label='GDP', color='blue')\n",
    "\n",
    "out_of_sample_dfm = -0.93*quarterly_predict['dfm'] + 1.1081\n",
    "out_of_sample_dfm[40:].plot(label='Nowcaster (out-of-sample)', color='red')\n",
    "\n",
    "quarterly_predict['Predict'][40:].plot(label='Nowcaster (in-sample)', color='orange')\n",
    "  \n",
    "# adding title to the plot\n",
    "plt.title('GDP growth and Nowcaster')\n",
    "  \n",
    "# adding Label to the x-axis\n",
    "plt.xlabel('Years')\n",
    "  \n",
    "# adding legend to the curve\n",
    "plt.legend()\n",
    "\n",
    "plt.show()"
   ]
  },
  {
   "cell_type": "code",
   "execution_count": 34,
   "id": "4fb3d09b-403f-4be3-b6b1-7f33f985f3e3",
   "metadata": {
    "tags": []
   },
   "outputs": [],
   "source": [
    "dfm_rmse_out_sample = math.sqrt(sklearn.metrics.mean_squared_error(quarterly_predict['GDP'][40:], out_of_sample_dfm[40:]))\n",
    "dfm_rmse_in_sample = math.sqrt(sklearn.metrics.mean_squared_error(quarterly_predict['GDP'][40:], quarterly_predict['Predict'][40:]))"
   ]
  },
  {
   "cell_type": "markdown",
   "id": "50749753-0668-449e-ae1c-7d4a494fb59a",
   "metadata": {},
   "source": [
    "#### 5.7 K-Nearest Neighbor (application):"
   ]
  },
  {
   "cell_type": "markdown",
   "id": "8d3c8b50-08c3-4b0b-b346-ceae90fc924a",
   "metadata": {},
   "source": [
    "K-Nearest Neighbor is a simple, east to implement, supervised machine learning algorithm and is widely used to solve regression and classification problem. This model assumes that the similar things exist in proximity and based on that make predictions."
   ]
  },
  {
   "cell_type": "code",
   "execution_count": 35,
   "id": "562315ee-dd7f-40ce-bbf6-798615740a19",
   "metadata": {
    "tags": []
   },
   "outputs": [
    {
     "data": {
      "image/png": "[encoded data removed]",
      "text/plain": [
       "<Figure size 432x288 with 1 Axes>"
      ]
     },
     "metadata": {
      "needs_background": "light"
     },
     "output_type": "display_data"
    }
   ],
   "source": [
    "\n",
    "# Separate test and train\n",
    "X1=quarterly_all.drop([\"GDP\"], axis=1)\n",
    "y1=quarterly_all['GDP']\n",
    "\n",
    "# Create test and train\n",
    "X_train1, X_test1, y_train1, y_test1 = train_test_split(X1, y1, shuffle=False, train_size=82)\n",
    "\n",
    "# Fit model\n",
    "knn_model1 = KNeighborsRegressor(n_neighbors=3)\n",
    "knn_model1.fit(X_train1, y_train1)\n",
    "\n",
    "# Define series\n",
    "train_preds1 = knn_model1.predict(X_train1)\n",
    "test_preds1 = knn_model1.predict(X_test1)\n",
    "\n",
    "# Results\n",
    "train_results1=pd.DataFrame(train_preds1, y_train1.index).rename(columns = {0 : \"In-Sample\"})\n",
    "\n",
    "# Append GDP\n",
    "train_results1[\"GDP\"] = quarterly_predict['GDP']\n",
    "train_results1[\"In-Sample\"] = train_results1[\"In-Sample\"]\n",
    "\n",
    "# Separate test and train\n",
    "X=quarterly_all.drop([\"GDP\"], axis=1)\n",
    "y=quarterly_all['GDP']\n",
    "\n",
    "# Create test and train\n",
    "X_train, X_test, y_train, y_test = train_test_split(X, y, shuffle=False, train_size=40)\n",
    "\n",
    "# Fit model\n",
    "knn_model = KNeighborsRegressor(n_neighbors=3)\n",
    "knn_model.fit(X_train, y_train)\n",
    "\n",
    "# Define series\n",
    "train_preds = knn_model.predict(X_train)\n",
    "test_preds = knn_model.predict(X_test)\n",
    "\n",
    "# Results\n",
    "test_results=pd.DataFrame(test_preds, y_test.index).rename(columns = {0 : \"Predict\"})\n",
    "\n",
    "# Append GDP\n",
    "test_results[\"GDP\"] = quarterly_predict['GDP'][40:]\n",
    "\n",
    "### in plot method we set the label and color of the curve.\n",
    "test_results['GDP'].plot(label='GDP', color='blue')\n",
    "test_results[\"Predict\"].plot(label='KNN (out-of-sample)', color='red')\n",
    "train_results1[\"In-Sample\"][39:].plot(label='KNN (in-sample)', color='orange') \n",
    "    \n",
    "# adding title to the plot\n",
    "plt.title('GDP growth and KNN')\n",
    "  \n",
    "# adding Label to the x-axis\n",
    "plt.xlabel('Years')\n",
    "  \n",
    "# adding legend to the curve\n",
    "plt.legend()\n",
    "\n",
    "plt.show()"
   ]
  },
  {
   "cell_type": "code",
   "execution_count": 36,
   "id": "d27275d9-09e4-4c65-ab3f-774c6281548d",
   "metadata": {
    "tags": []
   },
   "outputs": [],
   "source": [
    "knn_rmse_out_sample = math.sqrt(sklearn.metrics.mean_squared_error(test_results['GDP'], test_results[\"Predict\"]))\n",
    "knn_rmse_in_sample = math.sqrt(sklearn.metrics.mean_squared_error(test_results['GDP'][:-1], train_results1[\"In-Sample\"][40:]))"
   ]
  },
  {
   "cell_type": "markdown",
   "id": "a63cbaa2-9018-44e3-8a4e-800eaee0a9cb",
   "metadata": {},
   "source": [
    "#### 5.8 Random Forest (application):"
   ]
  },
  {
   "cell_type": "markdown",
   "id": "201fdac7-a851-4419-a03f-6bf4c6628394",
   "metadata": {},
   "source": [
    "Random Forest is another supervised machine learning algorithm that is widely used in classification and regression problems. The way it works is by building decision trees using different samples and then taking their average locally."
   ]
  },
  {
   "cell_type": "code",
   "execution_count": 37,
   "id": "846d68fe-0d14-4816-aad0-62969b676954",
   "metadata": {},
   "outputs": [
    {
     "data": {
      "image/png": "[encoded data removed]",
      "text/plain": [
       "<Figure size 432x288 with 1 Axes>"
      ]
     },
     "metadata": {
      "needs_background": "light"
     },
     "output_type": "display_data"
    }
   ],
   "source": [
    "# Separate variables for in-sample\n",
    "X_rf=quarterly_all.drop([\"GDP\"], axis=1)\n",
    "y_rf=quarterly_all['GDP']\n",
    "\n",
    "# Create test and train\n",
    "# Fit model\n",
    "RF_Model = RandomForestRegressor(n_estimators=100,\n",
    "                                 oob_score=True)\n",
    "RF_Model.fit(X_rf, y_rf)\n",
    "\n",
    "# Define series\n",
    "train_preds_rf = RF_Model.predict(X_rf)\n",
    "\n",
    "# Results\n",
    "train_results_rf=pd.DataFrame(train_preds_rf, y_rf.index).rename(columns = {0 : \"In-Sample\"})\n",
    "\n",
    "# Append GDP\n",
    "train_results_rf[\"GDP\"] = quarterly_predict['GDP']\n",
    "train_results_rf[\"In-Sample\"] = train_results_rf[\"In-Sample\"]\n",
    "\n",
    "# Separate test and train\n",
    "X_rf1=quarterly_all.drop([\"GDP\"], axis=1)\n",
    "y_rf1=quarterly_all['GDP']\n",
    "\n",
    "# Create test and train\n",
    "X_train_rf1, X_test_rf1, y_train_rf1, y_test_rf1 = train_test_split(X_rf1, y_rf1, shuffle=False, train_size=40)\n",
    "\n",
    "# Fit model\n",
    "RF_Model1 = RandomForestRegressor(n_estimators=100,\n",
    "                                 oob_score=True)\n",
    "RF_Model1.fit(X_train_rf1, y_train_rf1)\n",
    "\n",
    "# Define series\n",
    "train_preds1 = RF_Model1.predict(X_train_rf1)\n",
    "test_preds1 = RF_Model1.predict(X_test_rf1)\n",
    "\n",
    "# Results\n",
    "test_results_rf1=pd.DataFrame(test_preds1, y_test_rf1.index).rename(columns = {0 : \"Predict\"})\n",
    "\n",
    "# Append GDP\n",
    "test_results_rf1[\"GDP\"] = quarterly_predict['GDP'][40:]\n",
    "\n",
    "### in plot method we set the label and color of the curve.\n",
    "test_results_rf1['GDP'].plot(label='GDP', color='blue')\n",
    "test_results_rf1[\"Predict\"].plot(label='RF (out-of-sample)', color='red')\n",
    "train_results_rf[\"In-Sample\"][40:].plot(label='RF (in-sample)', color='orange') \n",
    "    \n",
    "# adding title to the plot\n",
    "plt.title('GDP growth and Random Forest')\n",
    "  \n",
    "# adding Label to the x-axis\n",
    "plt.xlabel('Years')\n",
    "  \n",
    "# adding legend to the curve\n",
    "plt.legend()\n",
    "\n",
    "plt.show()\n"
   ]
  },
  {
   "cell_type": "code",
   "execution_count": 38,
   "id": "ff3a6597-f6bf-467e-9f67-c66d862f26e2",
   "metadata": {},
   "outputs": [],
   "source": [
    "rf_rmse_out_sample = math.sqrt(sklearn.metrics.mean_squared_error(test_results_rf1['GDP'], test_results_rf1[\"Predict\"]))\n",
    "rf_rmse_in_sample = math.sqrt(sklearn.metrics.mean_squared_error(test_results_rf1['GDP'], train_results_rf[\"In-Sample\"][40:]))"
   ]
  },
  {
   "cell_type": "markdown",
   "id": "7c60b08d-bcc1-4400-b9ef-9a4774d5d1ce",
   "metadata": {},
   "source": [
    "#### 5.9 Support Vector Regression (application):"
   ]
  },
  {
   "cell_type": "markdown",
   "id": "91036ef6-46a9-4614-aaf1-4ffc770ea916",
   "metadata": {},
   "source": [
    "Support Vector Regression is an advanced supervised machine learning algorithm used to predict mainly the discrete values. It uses the same principles as the Support Vector Machines. It tries to find the line of best time and it does that in the hyperplane that has maximum number of points."
   ]
  },
  {
   "cell_type": "code",
   "execution_count": 39,
   "id": "cb7bbab9-1751-43f5-92f8-90046ac0d8fe",
   "metadata": {},
   "outputs": [
    {
     "data": {
      "image/png": "[encoded data removed]",
      "text/plain": [
       "<Figure size 432x288 with 1 Axes>"
      ]
     },
     "metadata": {
      "needs_background": "light"
     },
     "output_type": "display_data"
    }
   ],
   "source": [
    "# Separate variables for in-sample\n",
    "X_svr=quarterly_all.drop([\"GDP\"], axis=1)\n",
    "y_svr=quarterly_all['GDP']\n",
    "\n",
    "# create the model object\n",
    "regressor = SVR(kernel = 'rbf')\n",
    "# fit the model on the data\n",
    "regressor.fit(X_svr, y_svr)\n",
    "\n",
    "# Define series\n",
    "train_preds_svr = regressor.predict(X_svr)\n",
    "\n",
    "# Results\n",
    "train_results_svr=pd.DataFrame(train_preds_svr, y_svr.index).rename(columns = {0 : \"In-Sample\"})\n",
    "\n",
    "# Append GDP\n",
    "train_results_svr[\"GDP\"] = quarterly_predict['GDP']\n",
    "train_results_svr[\"In-Sample\"] = train_results_svr[\"In-Sample\"]\n",
    "\n",
    "# Separate test and train\n",
    "X_svr1=quarterly_all.drop([\"GDP\"], axis=1)\n",
    "y_svr1=quarterly_all['GDP']\n",
    "\n",
    "# Create test and train\n",
    "X_train_svr1, X_test_svr1, y_train_svr1, y_test_svr1 = train_test_split(X_svr1, y_svr1, shuffle=False, train_size=40)\n",
    "\n",
    "# create the model object\n",
    "regressor1 = SVR(kernel = 'rbf')\n",
    "# fit the model on the data\n",
    "regressor1.fit(X_train_svr1, y_train_svr1)\n",
    "\n",
    "# Define series\n",
    "train_preds_svr = regressor1.predict(X_train_svr1)\n",
    "test_preds_svr = regressor1.predict(X_test_svr1)\n",
    "\n",
    "# Results\n",
    "test_results_svr1=pd.DataFrame(test_preds_svr, y_test_svr1.index).rename(columns = {0 : \"Predict\"})\n",
    "\n",
    "# Append GDP\n",
    "test_results_svr1[\"GDP\"] = quarterly_predict['GDP'][40:]\n",
    "\n",
    "### in plot method we set the label and color of the curve.\n",
    "test_results_svr1['GDP'].plot(label='GDP', color='blue')\n",
    "test_results_svr1[\"Predict\"].plot(label='SVR (out-of-sample)', color='red')\n",
    "train_results_svr[\"In-Sample\"][40:].plot(label='SVR (in-sample)', color='orange') \n",
    "    \n",
    "# adding title to the plot\n",
    "plt.title('GDP growth and SVR')\n",
    "  \n",
    "# adding Label to the x-axis\n",
    "plt.xlabel('Years')\n",
    "  \n",
    "# adding legend to the curve\n",
    "plt.legend()\n",
    "\n",
    "plt.show()"
   ]
  },
  {
   "cell_type": "code",
   "execution_count": 40,
   "id": "e330d4fb-5a50-4c8a-800f-a65291ae6662",
   "metadata": {},
   "outputs": [],
   "source": [
    "svr_rmse_out_sample = math.sqrt(sklearn.metrics.mean_squared_error(test_results_svr1['GDP'], test_results_svr1[\"Predict\"]))\n",
    "svr_rmse_in_sample = math.sqrt(sklearn.metrics.mean_squared_error(test_results_svr1['GDP'], train_results_svr[\"In-Sample\"][40:]))\n"
   ]
  },
  {
   "cell_type": "markdown",
   "id": "5baa03c3-56c5-4847-af81-cc7d95420994",
   "metadata": {},
   "source": [
    "#### 5.10 Gradient Boosted Decision Trees (application):"
   ]
  },
  {
   "cell_type": "markdown",
   "id": "f3f6ccaf-6064-42cf-9afa-6f821071ea0c",
   "metadata": {},
   "source": [
    "Placeholder\n",
    "\n",
    "In this case, the in-sample model is meaningless as the decision trees can forecast precisely the behavior of GDP in-sample without errors. The out-of-sample performance is therefore more informative of the capacity of this model in forecasting economic information."
   ]
  },
  {
   "cell_type": "code",
   "execution_count": 41,
   "id": "58615602-b72c-428e-8cc6-eadea372c863",
   "metadata": {},
   "outputs": [
    {
     "data": {
      "image/png": "[encoded data removed]",
      "text/plain": [
       "<Figure size 432x288 with 1 Axes>"
      ]
     },
     "metadata": {
      "needs_background": "light"
     },
     "output_type": "display_data"
    }
   ],
   "source": [
    "\n",
    "# Separate variables for in-sample\n",
    "X_tree=quarterly_all.drop([\"GDP\"], axis=1)\n",
    "y_tree=quarterly_all['GDP']\n",
    "\n",
    "# Create test and train\n",
    "# Fit model\n",
    "# Create Decision Tree classifer object\n",
    "clf = DecisionTreeRegressor(random_state = 0)\n",
    "\n",
    "# Train Decision Tree Classifer\n",
    "clf = clf.fit(X_tree,y_tree)\n",
    "\n",
    "#Predict the response for test dataset\n",
    "train_preds_tree = clf.predict(X_tree)\n",
    "\n",
    "# Results\n",
    "train_results_tree=pd.DataFrame(train_preds_tree, y_tree.index).rename(columns = {0 : \"In-Sample\"})\n",
    "\n",
    "# Append GDP\n",
    "train_results_tree[\"GDP\"] = quarterly_predict['GDP']\n",
    "train_results_tree[\"In-Sample\"] = train_results_tree[\"In-Sample\"]\n",
    "\n",
    "# Separate test and train\n",
    "X_tree1=quarterly_all.drop([\"GDP\"], axis=1)\n",
    "y_tree1=quarterly_all['GDP']\n",
    "\n",
    "# Create test and train\n",
    "X_train_tree1, X_test_tree1, y_train_tree1, y_test_tree1 = train_test_split(X_tree1, y_tree1, shuffle=False, train_size=40)\n",
    "\n",
    "# Fit model\n",
    "clf1 = DecisionTreeRegressor(random_state = 0)\n",
    "clf1.fit(X_train_tree1, y_train_tree1)\n",
    "\n",
    "# Define series\n",
    "train_preds_tree1 = clf1.predict(X_train_tree1)\n",
    "test_preds_tree1 = clf1.predict(X_test_tree1)\n",
    "\n",
    "# Results\n",
    "test_results_tree1=pd.DataFrame(test_preds_tree1, y_test_tree1.index).rename(columns = {0 : \"Predict\"})\n",
    "\n",
    "# Append GDP\n",
    "test_results_tree1[\"GDP\"] = quarterly_predict['GDP'][40:]\n",
    "\n",
    "### in plot method we set the label and color of the curve.\n",
    "test_results_tree1['GDP'].plot(label='GDP', color='blue')\n",
    "test_results_tree1[\"Predict\"].plot(label='Decision Trees (out-of-sample)', color='red')\n",
    "train_results_tree[\"In-Sample\"][40:].plot(label='Decision Trees (in-sample)', color='orange') \n",
    "    \n",
    "# adding title to the plot\n",
    "plt.title('GDP growth and Decision Trees')\n",
    "  \n",
    "# adding Label to the x-axis\n",
    "plt.xlabel('Years')\n",
    "  \n",
    "# adding legend to the curve\n",
    "plt.legend()\n",
    "\n",
    "plt.show()\n"
   ]
  },
  {
   "cell_type": "code",
   "execution_count": 42,
   "id": "9ed28734-a35e-46ed-9c8a-bf654d655797",
   "metadata": {},
   "outputs": [],
   "source": [
    "tree_rmse_out_sample = math.sqrt(sklearn.metrics.mean_squared_error(test_results_tree1['GDP'], test_results_tree1[\"Predict\"]))\n",
    "tree_rmse_in_sample = math.sqrt(sklearn.metrics.mean_squared_error(test_results_tree1['GDP'], train_results_tree[\"In-Sample\"][40:]))"
   ]
  },
  {
   "cell_type": "markdown",
   "id": "32903714-b68e-4237-a108-c2568d3d18a9",
   "metadata": {},
   "source": [
    "#### 5.11 Dense Neural Networks (application):"
   ]
  },
  {
   "cell_type": "markdown",
   "id": "5214d5de-4e8e-42c0-b7c2-0e468c091f29",
   "metadata": {},
   "source": [
    "Placeholder"
   ]
  },
  {
   "cell_type": "code",
   "execution_count": null,
   "id": "293396fd-2d0c-4c0d-ab5b-022141ae611c",
   "metadata": {},
   "outputs": [],
   "source": [
    "\n",
    "\n",
    "\n",
    "\n"
   ]
  },
  {
   "cell_type": "code",
   "execution_count": null,
   "id": "68e6cad6-edbe-48a1-bb35-06ea16a80677",
   "metadata": {},
   "outputs": [],
   "source": []
  },
  {
   "cell_type": "code",
   "execution_count": null,
   "id": "477c9ebc-fab5-46c9-bac5-f5261319a011",
   "metadata": {},
   "outputs": [],
   "source": []
  },
  {
   "cell_type": "code",
   "execution_count": null,
   "id": "a4b05724-ebbf-4a5a-b561-c07259bc9477",
   "metadata": {},
   "outputs": [],
   "source": []
  },
  {
   "cell_type": "markdown",
   "id": "621f999b-fa4b-4bd0-b2ee-6cbf9644cce3",
   "metadata": {},
   "source": [
    "## 6. Putting all models together"
   ]
  },
  {
   "cell_type": "markdown",
   "id": "02563565-01db-46fe-b817-b8c7db651806",
   "metadata": {},
   "source": [
    "After all these models are working, we need to compare them in both out-of-sample accuracy and the time it takes to implement them. The analysis below shows that simple models such as the OLS do not perform much worse than other more complex models. In fact, the OLS performs better than many of the so-called \"machine learning\" models such as Random Forest, K-Nearest Neighbor or Support Vector Regression. It performs almost the same as the Decision Trees and only underperforms meaningfully the Dynamic Factor Model. This analysis suggests that for macroeconomics, when the number of variables and their length is quite limited, simpler models are as useful as more complex ones. The Dynamic Factor Model, which blends an OLS with PCA and Kalman Filter, is likely an advance on this field, but arguably not by a big margin.\n",
    "\n",
    "Then, we move to assess not only the accuracy but also how much time does it take for each of those models to run. What we find that even though the dynamic factor model is more accurate, it tends to take more time to run. In our analysis, the DFM took five times more than the OLS. In this sense, the best 'bang-for-the-buck' models are the OLS and Random Forest. This is not a problem for the models we built here - all modes take miliseconds to run. But in more complex macroeconomic models, the cost in terms of time may be higher. "
   ]
  },
  {
   "cell_type": "code",
   "execution_count": 43,
   "id": "57ccac65-f8db-46e1-a739-6099ec03af6d",
   "metadata": {},
   "outputs": [
    {
     "data": {
      "image/png": "[encoded data removed]",
      "text/plain": [
       "<Figure size 432x288 with 1 Axes>"
      ]
     },
     "metadata": {
      "needs_background": "light"
     },
     "output_type": "display_data"
    }
   ],
   "source": [
    "# DataFrame with all out of sample RMSEs\n",
    "names = [\"Trailing Average\", \"Exp. Smoothing\", \"ARIMA\", \"OLS\", \"Elastic Net\", \"VAR\", \"Dynamic Factor Model\", \"K-Nearest Neighbor\", \n",
    "                          \"Random Forest\", \"Support Vector Reg.\", \"Decision Trees\"]\n",
    "\n",
    "rmse_data = [trailing_rmse, exponential_rmse, arima_rmse_out_sample, ols_rmse_out_sample, elastic_rmse_out_sample, var_rmse_out_sample, \n",
    "                    dfm_rmse_out_sample, knn_rmse_out_sample, rf_rmse_out_sample, svr_rmse_out_sample, tree_rmse_out_sample]\n",
    "\n",
    "rmse_all = pd.DataFrame(rmse_data, index=names, columns={\"RMSE\"}).sort_values('RMSE', ascending=True)\n",
    "\n",
    "# Generate Chart\n",
    "plt.barh(rmse_all.index, rmse_all[\"RMSE\"])\n",
    "plt.title('RMSE of each model')\n",
    "plt.ylabel('Types of Models')\n",
    "plt.xlabel('RMSE')\n",
    "plt.show()\n"
   ]
  },
  {
   "cell_type": "code",
   "execution_count": 44,
   "id": "d95d70ae-01d2-4147-958d-0c041ff6f388",
   "metadata": {},
   "outputs": [
    {
     "data": {
      "image/png": "[encoded data removed]",
      "text/plain": [
       "<Figure size 432x288 with 1 Axes>"
      ]
     },
     "metadata": {
      "needs_background": "light"
     },
     "output_type": "display_data"
    }
   ],
   "source": [
    "# Time to run data\n",
    "trailing_time = 39.9\n",
    "exponential_time = 28.9\n",
    "arima_time = 156\n",
    "ols_time = 111\n",
    "elastic_time = 226\n",
    "var_time = 95.7\n",
    "dfm_time = 554\n",
    "knn_time = 81.8\n",
    "rf_time = 312\n",
    "svr_time = 74.8\n",
    "tree_time = 73.8\n",
    "\n",
    "# Put all times together\n",
    "time_data = [trailing_time, exponential_time, arima_time, ols_time, elastic_time, var_time, \n",
    "                    dfm_time, knn_time, rf_time, svr_time, tree_time]\n",
    "# Create a Data Frame\n",
    "time_all = pd.DataFrame(time_data, index=names, columns={\"Time\"}).sort_values('Time', ascending=True)\n",
    "\n",
    "# Concat both data sets\n",
    "time_rmse = pd.concat([time_all, rmse_all], axis=1)\n",
    "\n",
    "\n",
    "plt.scatter(time_rmse[\"RMSE\"], time_rmse[\"Time\"], c =\"blue\")\n",
    "plt.title('RMSE and time to run')\n",
    "plt.ylabel('RMSE')\n",
    "plt.xlabel('Time to run the model (in ms)')\n",
    "\n",
    "# Non-Automatic formula\n",
    "\n",
    "plt.annotate(time_rmse.index[0], (time_rmse[\"RMSE\"][0], time_rmse[\"Time\"][0] - 25))\n",
    "plt.annotate(time_rmse.index[1], (time_rmse[\"RMSE\"][1], time_rmse[\"Time\"][1] + 10))\n",
    "plt.annotate(time_rmse.index[2], (time_rmse[\"RMSE\"][2], time_rmse[\"Time\"][2] - 35), ha='center')\n",
    "plt.annotate(time_rmse.index[3], (time_rmse[\"RMSE\"][3], time_rmse[\"Time\"][3] - 35))\n",
    "plt.annotate(time_rmse.index[4], (time_rmse[\"RMSE\"][4], time_rmse[\"Time\"][4] + 20))\n",
    "plt.annotate(time_rmse.index[5], (time_rmse[\"RMSE\"][5], time_rmse[\"Time\"][5] + 20))\n",
    "plt.annotate(time_rmse.index[6], (time_rmse[\"RMSE\"][6], time_rmse[\"Time\"][6] + 15))\n",
    "plt.annotate(time_rmse.index[7], (time_rmse[\"RMSE\"][7], time_rmse[\"Time\"][7] + 15), ha='center')\n",
    "plt.annotate(time_rmse.index[8], (time_rmse[\"RMSE\"][8], time_rmse[\"Time\"][8] + 20))\n",
    "plt.annotate(time_rmse.index[9], (time_rmse[\"RMSE\"][9], time_rmse[\"Time\"][9] + 20))\n",
    "plt.annotate(time_rmse.index[10], (time_rmse[\"RMSE\"][10], time_rmse[\"Time\"][10] - 40))\n",
    "\n",
    "# Automatic formula\n",
    "#for i in range(len(time_rmse[\"RMSE\"])):\n",
    "#    plt.annotate(time_rmse.index[i], (time_rmse[\"RMSE\"][i], time_rmse[\"Time\"][i] - 30))\n",
    "           \n",
    "# To show the plot\n",
    "plt.show()\n"
   ]
  },
  {
   "cell_type": "markdown",
   "id": "a6514574-2d55-4fd5-bb4d-ae9fc9f17332",
   "metadata": {},
   "source": [
    "## 7. Conclusion"
   ]
  },
  {
   "cell_type": "markdown",
   "id": "872ae307-31d9-4f11-b61f-e587da9bc6b9",
   "metadata": {},
   "source": [
    "The aim of this study was to explore if the machine learning techniques were the future of macroeconomic forecasting. Decades of use of traditional time series models have proved that in times of unexpected turbalance, these models fail to provide useful forecasts and that is one reason we believed that the answer might lie in changing the methods for macroeconomic forecasting. However, based on our empirical research, we have reached the conclusion that the Machine Learning algorithms do not provide any substantial gain over the traditional time series models specially the OLS. This has implications in terms of what models should be used to forecast US GDP. While, the GDP in itself is a very dynamic and complex indicator and that makes its forecasting really hard, but, we believe that the answer to the problem does not lie in the Machine Learning algorithms. Some of them might be useful, but, in general, because of their lack of intrepretability, their use donot have significant gains over the regular models. However, the scope of this study is just limited to the forecasting of the US GDP. The results might be different when using high frequency macro variables."
   ]
  },
  {
   "cell_type": "markdown",
   "id": "1a41b0c9-3fea-48c2-8de3-1e3ab3bc1fe7",
   "metadata": {
    "tags": []
   },
   "source": [
    "## 8. References"
   ]
  },
  {
   "cell_type": "markdown",
   "id": "6f09f7d8-806f-40b8-9b64-88e53708dc9a",
   "metadata": {},
   "source": [
    "\n",
    "Ban, T., Zhang, R., Pang, S., Sarrafzadeh, A., and Inoue, D. (2013). “Referential Knn Regression for Financial Time Series Forecasting,” in International Conference on Neural Information Processing (Springer), 601–608. doi:10.1007/978-3-642-42054-2_75\n",
    "\n",
    "Biau, O. and D’Elia, A., (2011), ”Euro area GDP forecasting using large survey datasets”.\n",
    "\n",
    "Cook, Thomas R., and Aaron Smalter Hall. “Macroeconomic Indicator Forecasting with Deep Neural Networks.” Federal Reserve Bank of Kansas City, Research Working Paper 17-11, September. Available at External Link https://doi.org/10.18651/RWP2017-11\n",
    "\n",
    "Coulombe, Leroux, Stevanovic and Surprenant, \"How is Machine Learning Useful for Macroeconomic Forecasting\", 2019. https://economics.sas.upenn.edu/system/files/2019-03/GCLSS_MC_MacroFcst.pdf\n",
    "\n",
    "Diebold, F. X., and Nason, J. A. (1990). Nonparametric Exchange Rate Prediction? J. Int. Econ. 28, 315–332. doi:10.1016/0022-1996(90)90006-8\n",
    "\n",
    "FRED, federal reserve economic data. St. Louis, MO: Federal Reserve Bank of St. Louis, 1997. Software, E-Resource. https://lccn.loc.gov/98802805.\n",
    "\n",
    "Gonzalez, \"Neural Networks for Macroeconomic Forecasting: A Complementary Approach to Linear Regression Models\" 2000-20007. https://publications.gc.ca/Collection/F21-8-2000-7E.pdf\n",
    "\n",
    "Guo, G., Wang, H., Bell, D., Bi, Y., Greer, K. (2003). KNN Model-Based Approach in Classification. In: Meersman, R., Tari, Z., Schmidt, D.C. (eds) On The Move to Meaningful Internet Systems 2003: CoopIS, DOA, and ODBASE. OTM 2003. Lecture Notes in Computer Science, vol 2888. Springer, Berlin, Heidelberg. https://doi.org/10.1007/978-3-540-39964-3_62\n",
    "\n",
    "Lee, T. H., White, H., and Granger, C. W. J. (1993). \"Testing for neglected nonlinearity in time series models. A comparison of neural network methods and alternative tests\". Journal of Econometrics, 56(3):269–290.\n",
    "\n",
    "Maccarrone, Morelli and Spadaccini, \"GDP Forecasting: Machine Learning, Linear or Autoregression?\". 2021. https://www.frontiersin.org/articles/10.3389/frai.2021.757864/full#B5\n",
    "\n",
    "Rodríguez-Vargas, A. (2020). \"Forecasting Costa Rican Inflation With Machine Learning Methods\". Latin Am. J. Cent. Banking. 1, 100012. doi:10.1016/j.latcb.2020.100012\n",
    "\n",
    "Stone, C. J. (1977). \"Consistent Nonparametric Regression\". Ann. Stat. 5, 595–620. doi:10.1214/aos/1176343886\n",
    "\n",
    "Swanson, N. R. and White, H. (1997). \"A Model Selection Approach To Real-Time Macroeconomic Forecasting Using Linear Models And Artificial Neural Networks\". The Review of Economics and Statistics, 79(4):540–550.\n",
    "\n",
    "Tkacz and Hu, \"Forecasting GDP Growth Using Artificial Neural Networks\". Bank of Canada, 1999-2003. https://www.bankofcanada.ca/wp-content/uploads/2010/05/wp99-3.pdf"
   ]
  },
  {
   "cell_type": "markdown",
   "id": "8adb8db2-a0cf-44b3-b13b-2185488d5293",
   "metadata": {},
   "source": [
    "### Useful links"
   ]
  },
  {
   "cell_type": "markdown",
   "id": "fd55c3f9-c5d1-46b7-af06-90904d08bf93",
   "metadata": {},
   "source": [
    "https://machinelearningmastery.com/exponential-smoothing-for-time-series-forecasting-in-python/\n",
    "\n",
    "https://python-advanced.quantecon.org/arma.html\n",
    "\n",
    "https://www.bounteous.com/insights/2020/09/15/forecasting-time-series-model-using-python-part-two/\n",
    "\n",
    "Towards Science: A One-Stop Shop for Principal Component Analysis (https://towardsdatascience.com/a-one-stop-shop-for-principal-component-analysis-5582fb7e0a9c).\n",
    "\n",
    "In Depth: Principal Component Analysis (https://jakevdp.github.io/PythonDataScienceHandbook/05.09-principal-component-analysis.html).\n",
    "\n",
    "Advanced Data Analysis from an Elementary Point of View (https://www.stat.cmu.edu/~cshalizi/uADA/15/lectures/17.pdf).\n",
    "\n",
    "Applications of Principal Component Analysis (PCA) (https://iq.opengenus.org/applications-of-pca/).\n",
    "\n",
    "https://towardsdatascience.com/time-series-in-python-exponential-smoothing-and-arima-processes-2c67f2a52788\n",
    "\n",
    "https://www.machinelearningplus.com/time-series/vector-autoregression-examples-python/\n",
    "\n",
    "https://towardsdatascience.com/a-simple-introduction-to-k-nearest-neighbors-algorithm-b3519ed98e"
   ]
  }
 ],
 "metadata": {
  "kernelspec": {
   "display_name": "Python 3",
   "language": "python",
   "name": "python3"
  },
  "language_info": {
   "codemirror_mode": {
    "name": "ipython",
    "version": 3
   },
   "file_extension": ".py",
   "mimetype": "text/x-python",
   "name": "python",
   "nbconvert_exporter": "python",
   "pygments_lexer": "ipython3",
   "version": "3.8.8"
  }
 },
 "nbformat": 4,
 "nbformat_minor": 5
}
